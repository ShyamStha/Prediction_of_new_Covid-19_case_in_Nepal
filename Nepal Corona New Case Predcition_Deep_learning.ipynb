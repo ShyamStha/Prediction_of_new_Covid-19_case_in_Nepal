{
 "cells": [
  {
   "cell_type": "markdown",
   "metadata": {},
   "source": [
    "\n",
    "<img src=\"../covid19.jpg\" height=\"800px\" width=\"800px\">\n"
   ]
  },
  {
   "cell_type": "markdown",
   "metadata": {},
   "source": [
    "\n",
    "# Predicting the new cases of CORONA virus using machine learning"
   ]
  },
  {
   "cell_type": "markdown",
   "metadata": {},
   "source": [
    "This project main aim is to predict the chance of new COVID-19 case by exploring the dataset of COVID-19.\n",
    "> Since our aim is to predict a continous data it is a Regression problem and for that we will be using regression model and choose the best model that fits the model"
   ]
  },
  {
   "cell_type": "markdown",
   "metadata": {},
   "source": [
    "# What is Regression?"
   ]
  },
  {
   "cell_type": "markdown",
   "metadata": {},
   "source": [
    "### Regression analysis is a form of predictive modelling technique which investigates the relationships between dependent and independent variables.\n",
    "### In short, regression is used when the output or target variable is continous in which our case is the latest new case of Nepal"
   ]
  },
  {
   "cell_type": "markdown",
   "metadata": {},
   "source": [
    "# What we will be exploring throughout our project?"
   ]
  },
  {
   "cell_type": "markdown",
   "metadata": {},
   "source": [
    "We will be using following machine learning modelling framework:\n",
    "* Exploratory data analysis (EDA) - the process of going through a dataset and finding out more about it.\n",
    "* Model training - create model(s) to learn to predict a target variable based on other variables.\n",
    "* Model evaluation - evaluating a models predictions using problem-specific evaluation metrics.\n",
    "* Model comparison - comparing several different models to find the best one.\n",
    "* Model fine-tuning - once we've found a good model, how can we improve it?\n",
    "* Feature importance - since we're predicting the presence of covid cases, are there some things which are more important for prediction?\n",
    "* Cross-validation - if we do build a good model, can we be sure it will work on unseen data?\n",
    "* Reporting what we've found - if we had to present our work, what would we show someone?\n",
    "\n",
    "> For this project as a tool we will be using different libraries as Numpy, Pandas, Matplotlib, Seaborn and Scikitlearn\n",
    "\n",
    "#### We will also explore which parameters or feature labels are more important than others for example human development index may be less important than total_cases so we might prune that and we will do data scrubbing as well throughout our project."
   ]
  },
  {
   "cell_type": "markdown",
   "metadata": {},
   "source": [
    "\n",
    "# 1. Problem Definition\n",
    "\n",
    "The problem we are working on is regression problem where main objective is to predicting the accuracy level for new cases.\n",
    "In short, we can write as:\n",
    "> Given a dataset of COVID-19, how well our model will predict the new cases?\n"
   ]
  },
  {
   "cell_type": "markdown",
   "metadata": {},
   "source": [
    "# 2. Data\n",
    "We use our data to view it from different perspective as possible so that our problem is based on.\n",
    "Our original data came from https://ourworldindata.org/coronavirus-source-data` from Corona Virus source data.\n",
    "\n",
    "We have downloaded it in a csv format (Comma Separated Values) and imported into our project\n",
    "\n",
    "The data consists of 41 columns and total of 43283 rows and in total the datasize is 1774603 but this values may change as we clean the data and fill the missing data.\n",
    "\n",
    "In our project, we call independent variables(X) as feature varialbes or simply features and we call dependent variable(y) as target variable or simply target.\n",
    "\n",
    "In our case, the independent variables are different parameters used to predict the target and the target is new cases.\n"
   ]
  },
  {
   "cell_type": "markdown",
   "metadata": {},
   "source": [
    "# 3. Evaluation\n",
    "We know our machine learning learning project is experimental and thus we may say like:\n",
    "> If our model can predict with 85% accuracy, we will conclude that our project has reached its objective and until and unless it won't reach this level we shall be trying different models and tune the hyperparametrs\n",
    "\n"
   ]
  },
  {
   "cell_type": "markdown",
   "metadata": {},
   "source": [
    "# 4. Features\n",
    "Features are different parts of the data. During this step, we wiil want to start finding out what we can about the data.\n",
    "\n",
    "One of the most common ways to do this, is to create a data dictionary."
   ]
  },
  {
   "cell_type": "markdown",
   "metadata": {},
   "source": [
    "## Covid-19 data dictionary\n",
    " Data dictionary cleary explains the meaning of the attributes that we are using in our data. \n",
    "`The following are the features that are used in our project:\n",
    "\n",
    "* iso_code -\tISO 3166-1 alpha-3 – three-letter country codes\tInternational Organization for Standardization\n",
    "* continent -\tContinent of the geographical location\tOur World in Data\n",
    "* location -\tGeographical location\tOur World in Data\n",
    "* date -\tDate of observation\tOur World in Data\n",
    "* total_cases -\tTotal confirmed cases of COVID-19\tEuropean Centre for Disease Prevention and Control\n",
    "* new_cases -\tNew confirmed cases of COVID-19\tEuropean Centre for Disease Prevention and Control\n",
    "* new_cases_smoothed -\tNew confirmed cases of COVID-19 (7-day smoothed)\tEuropean Centre for Disease Prevention and Control\n",
    "* total_deaths -\tTotal deaths attributed to COVID-19\tEuropean Centre for Disease Prevention and Control\n",
    "* new_deaths -\tNew deaths attributed to COVID-19\tEuropean Centre for Disease Prevention and Control\n",
    "* new_deaths_smoothed -\tNew deaths attributed to COVID-19 (7-day smoothed)\tEuropean Centre for Disease Prevention and Control\n",
    "* total_cases_per_million -\tTotal confirmed cases of COVID-19 per 1,000,000 people\tEuropean Centre for Disease Prevention and Control\n",
    "* new_cases_per_million -\tNew confirmed cases of COVID-19 per 1,000,000 people\tEuropean Centre for Disease Prevention and Control\n",
    "* new_cases_smoothed_per_million -\tNew confirmed cases of COVID-19 (7-day smoothed) per 1,000,000 people\tEuropean Centre for Disease Prevention and Control\n",
    "* total_deaths_per_million -\tTotal deaths attributed to COVID-19 per 1,000,000 people\tEuropean Centre for Disease Prevention and Control\n",
    "* new_deaths_per_million -\tNew deaths attributed to COVID-19 per 1,000,000 people\tEuropean Centre for Disease Prevention and Control\n",
    "* new_deaths_smoothed_per_million -\tNew deaths attributed to COVID-19 (7-day smoothed) per 1,000,000 people\tEuropean Centre for Disease Prevention and Control\n",
    "* total_tests -\tTotal tests for COVID-19\tNational government reports\n",
    "* new_tests -\tNew tests for COVID-19\tNational government reports\n",
    "* new_tests_smoothed -\tNew tests for COVID-19 (7-day smoothed). For countries that don't report testing data on a daily basis, we assume that testing changed equally on a daily basis over any periods in which no data was reported. This produces a complete series of daily figures, which is then averaged over a rolling 7-day window\tNational government reports\n",
    "* total_tests_per_thousand -\tTotal tests for COVID-19 per 1,000 people\tNational government reports\n",
    "* new_tests_per_thousand -\tNew tests for COVID-19 per 1,000 people\tNational government reports\n",
    "* new_tests_smoothed_per_thousand -\tNew tests for COVID-19 (7-day smoothed) per 1,000 people\tNational government reports\n",
    "* tests_per_case -\tTests conducted per new confirmed case of COVID-19, given as a rolling 7-day average (this is the inverse of positive_rate)\tNational government reports\n",
    "* positive_rate -\tThe share of COVID-19 tests that are positive, given as a rolling 7-day average (this is the inverse of tests_per_case)\tNational government reports\n",
    "* tests_units -\tUnits used by the location to report its testing data\tNational government reports\n",
    "* stringency_index -\tGovernment Response Stringency Index: composite measure based on 9 response indicators including school closures, workplace closures, and travel bans, rescaled to a value from 0 to 100 (100 = strictest response)\tOxford COVID-19 Government Response Tracker, Blavatnik School of Government\n",
    "* population -\tPopulation in 2020\tUnited Nations, Department of Economic and Social Affairs, Population Division, World Population Prospects: The 2019 Revision\n",
    "* population_density -\tNumber of people divided by land area, measured in square kilometers, most recent year available\tWorld Bank – World Development Indicators, sourced from Food and Agriculture Organization and World Bank estimates\n",
    "* median_age -\tMedian age of the population, UN projection for 2020\tUN Population Division, World Population Prospects, 2017 Revision\n",
    "* aged_65_older -\tShare of the population that is 65 years and older, most recent year available\tWorld Bank – World Development Indicators, based on age/sex distributions of United Nations Population Division's World Population Prospects: 2017 Revision\n",
    "* aged_70_older -\tShare of the population that is 70 years and older in 2015\tUnited Nations, Department of Economic and Social Affairs, Population Division (2017), World Population Prospects: The 2017 Revision\n",
    "* gdp_per_capita -\tGross domestic product at purchasing power parity (constant 2011 international dollars), most recent year available\tWorld Bank – World Development Indicators, source from World Bank, International Comparison Program database\n",
    "* extreme_poverty -\tShare of the population living in extreme poverty, most recent year available since 2010\tWorld Bank – World Development Indicators, sourced from World Bank Development Research Group\n",
    "* cardiovasc_death_rate -\tDeath rate from cardiovascular disease in 2017 (annual number of deaths per 100,000 people)\tGlobal Burden of Disease Collaborative Network, Global Burden of Disease Study 2017 Results\n",
    "* diabetes_prevalence -\tDiabetes prevalence (% of population aged 20 to 79) in 2017\tWorld Bank – World Development Indicators, sourced from International Diabetes Federation, Diabetes Atlas\n",
    "* female_smokers -\tShare of women who smoke, most recent year available\tWorld Bank – World Development Indicators, sourced from World Health Organization, Global Health Observatory Data Repository\n",
    "* male_smokers -\tShare of men who smoke, most recent year available\tWorld Bank – World Development Indicators, sourced from World Health Organization, Global Health Observatory Data Repository\n",
    "* handwashing_facilities -\tShare of the population with basic handwashing facilities on premises, most recent year available\tUnited Nations Statistics Division\n",
    "* hospital_beds_per_thousand -\tHospital beds per 1,000 people, most recent year available since 2010\tOECD, Eurostat, World Bank, national government records and other sources\n",
    "* life_expectancy -\tLife expectancy at birth in 2019\tJames C. Riley, Clio Infra, United Nations Population Division\n",
    "* human_development_index -\tSummary measure of average achievement in key dimensions of human development: a long and healthy life, being knowledgeable and have a decent standard of living\n",
    "\n"
   ]
  },
  {
   "cell_type": "markdown",
   "metadata": {},
   "source": [
    "# Preparing the tools"
   ]
  },
  {
   "cell_type": "markdown",
   "metadata": {},
   "source": [
    "Following are the libraries which we will be using throoughout our project.\n",
    "* Numpy - for numerical operations\n",
    "* Pandas - for data analysis\n",
    "* Matplotlib - for data visualization\n",
    "* Seaborn - same use as Matplotlib with additional features\n",
    "* Scikit-Learn(Sklearn) - for machine learning modelling"
   ]
  },
  {
   "cell_type": "markdown",
   "metadata": {},
   "source": [
    "# Importing all the necessary libraries for data analysis, modelling, data visualization and so on\n",
    "\n"
   ]
  },
  {
   "cell_type": "code",
   "execution_count": 701,
   "metadata": {},
   "outputs": [],
   "source": [
    "import pandas as pd\n",
    "import numpy as np\n",
    "import seaborn as sns\n",
    "import matplotlib.pyplot as plt\n",
    "#To remove warnings\n",
    "import warnings\n",
    "warnings.filterwarnings('ignore')\n",
    "%matplotlib inline"
   ]
  },
  {
   "cell_type": "code",
   "execution_count": 702,
   "metadata": {},
   "outputs": [],
   "source": [
    "from sklearn.linear_model import Ridge\n",
    "from sklearn.ensemble import RandomForestRegressor"
   ]
  },
  {
   "cell_type": "code",
   "execution_count": 703,
   "metadata": {},
   "outputs": [],
   "source": [
    "from sklearn.model_selection import train_test_split, cross_val_score\n",
    "from sklearn.model_selection import RandomizedSearchCV, GridSearchCV\n",
    "from sklearn.metrics import r2_score,mean_absolute_error,mean_squared_error"
   ]
  },
  {
   "cell_type": "markdown",
   "metadata": {},
   "source": [
    "# Loading the data"
   ]
  },
  {
   "cell_type": "markdown",
   "metadata": {},
   "source": [
    "Data comes in different format as excel,csv or txt. For our case our data is in csv format and we will use Pandas for it since it has a built in function to read csv file (read_csv())"
   ]
  },
  {
   "cell_type": "code",
   "execution_count": 704,
   "metadata": {},
   "outputs": [],
   "source": [
    "# all of our data is stored in this variable corona in tabular format\n",
    "corona = pd.read_csv('covid.csv')"
   ]
  },
  {
   "cell_type": "code",
   "execution_count": 705,
   "metadata": {},
   "outputs": [
    {
     "data": {
      "text/html": [
       "<div>\n",
       "<style scoped>\n",
       "    .dataframe tbody tr th:only-of-type {\n",
       "        vertical-align: middle;\n",
       "    }\n",
       "\n",
       "    .dataframe tbody tr th {\n",
       "        vertical-align: top;\n",
       "    }\n",
       "\n",
       "    .dataframe thead th {\n",
       "        text-align: right;\n",
       "    }\n",
       "</style>\n",
       "<table border=\"1\" class=\"dataframe\">\n",
       "  <thead>\n",
       "    <tr style=\"text-align: right;\">\n",
       "      <th></th>\n",
       "      <th>iso_code</th>\n",
       "      <th>continent</th>\n",
       "      <th>location</th>\n",
       "      <th>date</th>\n",
       "      <th>total_cases</th>\n",
       "      <th>new_cases</th>\n",
       "      <th>new_cases_smoothed</th>\n",
       "      <th>total_deaths</th>\n",
       "      <th>new_deaths</th>\n",
       "      <th>new_deaths_smoothed</th>\n",
       "      <th>...</th>\n",
       "      <th>gdp_per_capita</th>\n",
       "      <th>extreme_poverty</th>\n",
       "      <th>cardiovasc_death_rate</th>\n",
       "      <th>diabetes_prevalence</th>\n",
       "      <th>female_smokers</th>\n",
       "      <th>male_smokers</th>\n",
       "      <th>handwashing_facilities</th>\n",
       "      <th>hospital_beds_per_thousand</th>\n",
       "      <th>life_expectancy</th>\n",
       "      <th>human_development_index</th>\n",
       "    </tr>\n",
       "  </thead>\n",
       "  <tbody>\n",
       "    <tr>\n",
       "      <th>0</th>\n",
       "      <td>AFG</td>\n",
       "      <td>Asia</td>\n",
       "      <td>Afghanistan</td>\n",
       "      <td>2019-12-31</td>\n",
       "      <td>0.0</td>\n",
       "      <td>0.0</td>\n",
       "      <td>NaN</td>\n",
       "      <td>0.0</td>\n",
       "      <td>0.0</td>\n",
       "      <td>NaN</td>\n",
       "      <td>...</td>\n",
       "      <td>1803.987</td>\n",
       "      <td>NaN</td>\n",
       "      <td>597.029</td>\n",
       "      <td>9.59</td>\n",
       "      <td>NaN</td>\n",
       "      <td>NaN</td>\n",
       "      <td>37.746</td>\n",
       "      <td>0.5</td>\n",
       "      <td>64.83</td>\n",
       "      <td>0.498</td>\n",
       "    </tr>\n",
       "    <tr>\n",
       "      <th>1</th>\n",
       "      <td>AFG</td>\n",
       "      <td>Asia</td>\n",
       "      <td>Afghanistan</td>\n",
       "      <td>2020-01-01</td>\n",
       "      <td>0.0</td>\n",
       "      <td>0.0</td>\n",
       "      <td>NaN</td>\n",
       "      <td>0.0</td>\n",
       "      <td>0.0</td>\n",
       "      <td>NaN</td>\n",
       "      <td>...</td>\n",
       "      <td>1803.987</td>\n",
       "      <td>NaN</td>\n",
       "      <td>597.029</td>\n",
       "      <td>9.59</td>\n",
       "      <td>NaN</td>\n",
       "      <td>NaN</td>\n",
       "      <td>37.746</td>\n",
       "      <td>0.5</td>\n",
       "      <td>64.83</td>\n",
       "      <td>0.498</td>\n",
       "    </tr>\n",
       "    <tr>\n",
       "      <th>2</th>\n",
       "      <td>AFG</td>\n",
       "      <td>Asia</td>\n",
       "      <td>Afghanistan</td>\n",
       "      <td>2020-01-02</td>\n",
       "      <td>0.0</td>\n",
       "      <td>0.0</td>\n",
       "      <td>NaN</td>\n",
       "      <td>0.0</td>\n",
       "      <td>0.0</td>\n",
       "      <td>NaN</td>\n",
       "      <td>...</td>\n",
       "      <td>1803.987</td>\n",
       "      <td>NaN</td>\n",
       "      <td>597.029</td>\n",
       "      <td>9.59</td>\n",
       "      <td>NaN</td>\n",
       "      <td>NaN</td>\n",
       "      <td>37.746</td>\n",
       "      <td>0.5</td>\n",
       "      <td>64.83</td>\n",
       "      <td>0.498</td>\n",
       "    </tr>\n",
       "    <tr>\n",
       "      <th>3</th>\n",
       "      <td>AFG</td>\n",
       "      <td>Asia</td>\n",
       "      <td>Afghanistan</td>\n",
       "      <td>2020-01-03</td>\n",
       "      <td>0.0</td>\n",
       "      <td>0.0</td>\n",
       "      <td>NaN</td>\n",
       "      <td>0.0</td>\n",
       "      <td>0.0</td>\n",
       "      <td>NaN</td>\n",
       "      <td>...</td>\n",
       "      <td>1803.987</td>\n",
       "      <td>NaN</td>\n",
       "      <td>597.029</td>\n",
       "      <td>9.59</td>\n",
       "      <td>NaN</td>\n",
       "      <td>NaN</td>\n",
       "      <td>37.746</td>\n",
       "      <td>0.5</td>\n",
       "      <td>64.83</td>\n",
       "      <td>0.498</td>\n",
       "    </tr>\n",
       "    <tr>\n",
       "      <th>4</th>\n",
       "      <td>AFG</td>\n",
       "      <td>Asia</td>\n",
       "      <td>Afghanistan</td>\n",
       "      <td>2020-01-04</td>\n",
       "      <td>0.0</td>\n",
       "      <td>0.0</td>\n",
       "      <td>NaN</td>\n",
       "      <td>0.0</td>\n",
       "      <td>0.0</td>\n",
       "      <td>NaN</td>\n",
       "      <td>...</td>\n",
       "      <td>1803.987</td>\n",
       "      <td>NaN</td>\n",
       "      <td>597.029</td>\n",
       "      <td>9.59</td>\n",
       "      <td>NaN</td>\n",
       "      <td>NaN</td>\n",
       "      <td>37.746</td>\n",
       "      <td>0.5</td>\n",
       "      <td>64.83</td>\n",
       "      <td>0.498</td>\n",
       "    </tr>\n",
       "  </tbody>\n",
       "</table>\n",
       "<p>5 rows × 41 columns</p>\n",
       "</div>"
      ],
      "text/plain": [
       "  iso_code continent     location        date  total_cases  new_cases  \\\n",
       "0      AFG      Asia  Afghanistan  2019-12-31          0.0        0.0   \n",
       "1      AFG      Asia  Afghanistan  2020-01-01          0.0        0.0   \n",
       "2      AFG      Asia  Afghanistan  2020-01-02          0.0        0.0   \n",
       "3      AFG      Asia  Afghanistan  2020-01-03          0.0        0.0   \n",
       "4      AFG      Asia  Afghanistan  2020-01-04          0.0        0.0   \n",
       "\n",
       "   new_cases_smoothed  total_deaths  new_deaths  new_deaths_smoothed  ...  \\\n",
       "0                 NaN           0.0         0.0                  NaN  ...   \n",
       "1                 NaN           0.0         0.0                  NaN  ...   \n",
       "2                 NaN           0.0         0.0                  NaN  ...   \n",
       "3                 NaN           0.0         0.0                  NaN  ...   \n",
       "4                 NaN           0.0         0.0                  NaN  ...   \n",
       "\n",
       "   gdp_per_capita  extreme_poverty  cardiovasc_death_rate  \\\n",
       "0        1803.987              NaN                597.029   \n",
       "1        1803.987              NaN                597.029   \n",
       "2        1803.987              NaN                597.029   \n",
       "3        1803.987              NaN                597.029   \n",
       "4        1803.987              NaN                597.029   \n",
       "\n",
       "   diabetes_prevalence  female_smokers  male_smokers  handwashing_facilities  \\\n",
       "0                 9.59             NaN           NaN                  37.746   \n",
       "1                 9.59             NaN           NaN                  37.746   \n",
       "2                 9.59             NaN           NaN                  37.746   \n",
       "3                 9.59             NaN           NaN                  37.746   \n",
       "4                 9.59             NaN           NaN                  37.746   \n",
       "\n",
       "   hospital_beds_per_thousand  life_expectancy  human_development_index  \n",
       "0                         0.5            64.83                    0.498  \n",
       "1                         0.5            64.83                    0.498  \n",
       "2                         0.5            64.83                    0.498  \n",
       "3                         0.5            64.83                    0.498  \n",
       "4                         0.5            64.83                    0.498  \n",
       "\n",
       "[5 rows x 41 columns]"
      ]
     },
     "execution_count": 705,
     "metadata": {},
     "output_type": "execute_result"
    }
   ],
   "source": [
    "# Reading the first five rows along with attributes associated with it\n",
    "corona.head()"
   ]
  },
  {
   "cell_type": "code",
   "execution_count": 706,
   "metadata": {},
   "outputs": [
    {
     "data": {
      "text/plain": [
       "(43283, 41)"
      ]
     },
     "execution_count": 706,
     "metadata": {},
     "output_type": "execute_result"
    }
   ],
   "source": [
    "# Observing the total numbers of horizontal rows and vertical columns\n",
    "corona.shape"
   ]
  },
  {
   "cell_type": "code",
   "execution_count": 707,
   "metadata": {},
   "outputs": [
    {
     "data": {
      "text/plain": [
       "1774603"
      ]
     },
     "execution_count": 707,
     "metadata": {},
     "output_type": "execute_result"
    }
   ],
   "source": [
    "# Total data size\n",
    "corona.size"
   ]
  },
  {
   "cell_type": "code",
   "execution_count": 708,
   "metadata": {},
   "outputs": [
    {
     "data": {
      "text/plain": [
       "1774603"
      ]
     },
     "execution_count": 708,
     "metadata": {},
     "output_type": "execute_result"
    }
   ],
   "source": [
    "43283*41"
   ]
  },
  {
   "cell_type": "markdown",
   "metadata": {},
   "source": [
    "## Our main aim is to train our model and analyse the data for Nepal only as we have different countries dataset, we will filter out Nepal only as our aim is to analyze the data of Nepal only. So we will only select the Nepal data and prune others"
   ]
  },
  {
   "cell_type": "code",
   "execution_count": 709,
   "metadata": {},
   "outputs": [],
   "source": [
    "nepal_case = corona[corona['location']=='Nepal']"
   ]
  },
  {
   "cell_type": "code",
   "execution_count": 710,
   "metadata": {},
   "outputs": [
    {
     "data": {
      "text/plain": [
       "(257, 41)"
      ]
     },
     "execution_count": 710,
     "metadata": {},
     "output_type": "execute_result"
    }
   ],
   "source": [
    "nepal_case.shape"
   ]
  },
  {
   "cell_type": "markdown",
   "metadata": {},
   "source": [
    "# Exploratory Data Analysis(EDA)\n",
    "EDA means simply exploring the dataset as possible as we can. We will observe our data from different angles so that we can view how each dependent variables and independent variables are asscociated and affecting each other\n",
    "\n",
    "We shall be using various data visualization techniques to analyze our data.\n",
    "\n",
    "\n"
   ]
  },
  {
   "cell_type": "code",
   "execution_count": 711,
   "metadata": {},
   "outputs": [
    {
     "data": {
      "text/html": [
       "<div>\n",
       "<style scoped>\n",
       "    .dataframe tbody tr th:only-of-type {\n",
       "        vertical-align: middle;\n",
       "    }\n",
       "\n",
       "    .dataframe tbody tr th {\n",
       "        vertical-align: top;\n",
       "    }\n",
       "\n",
       "    .dataframe thead th {\n",
       "        text-align: right;\n",
       "    }\n",
       "</style>\n",
       "<table border=\"1\" class=\"dataframe\">\n",
       "  <thead>\n",
       "    <tr style=\"text-align: right;\">\n",
       "      <th></th>\n",
       "      <th>iso_code</th>\n",
       "      <th>continent</th>\n",
       "      <th>location</th>\n",
       "      <th>date</th>\n",
       "      <th>total_cases</th>\n",
       "      <th>new_cases</th>\n",
       "      <th>new_cases_smoothed</th>\n",
       "      <th>total_deaths</th>\n",
       "      <th>new_deaths</th>\n",
       "      <th>new_deaths_smoothed</th>\n",
       "      <th>...</th>\n",
       "      <th>gdp_per_capita</th>\n",
       "      <th>extreme_poverty</th>\n",
       "      <th>cardiovasc_death_rate</th>\n",
       "      <th>diabetes_prevalence</th>\n",
       "      <th>female_smokers</th>\n",
       "      <th>male_smokers</th>\n",
       "      <th>handwashing_facilities</th>\n",
       "      <th>hospital_beds_per_thousand</th>\n",
       "      <th>life_expectancy</th>\n",
       "      <th>human_development_index</th>\n",
       "    </tr>\n",
       "  </thead>\n",
       "  <tbody>\n",
       "    <tr>\n",
       "      <th>27433</th>\n",
       "      <td>NPL</td>\n",
       "      <td>Asia</td>\n",
       "      <td>Nepal</td>\n",
       "      <td>2019-12-31</td>\n",
       "      <td>0.0</td>\n",
       "      <td>0.0</td>\n",
       "      <td>NaN</td>\n",
       "      <td>0.0</td>\n",
       "      <td>0.0</td>\n",
       "      <td>NaN</td>\n",
       "      <td>...</td>\n",
       "      <td>2442.804</td>\n",
       "      <td>15.0</td>\n",
       "      <td>260.797</td>\n",
       "      <td>7.26</td>\n",
       "      <td>9.5</td>\n",
       "      <td>37.8</td>\n",
       "      <td>47.782</td>\n",
       "      <td>0.3</td>\n",
       "      <td>70.78</td>\n",
       "      <td>0.574</td>\n",
       "    </tr>\n",
       "    <tr>\n",
       "      <th>27434</th>\n",
       "      <td>NPL</td>\n",
       "      <td>Asia</td>\n",
       "      <td>Nepal</td>\n",
       "      <td>2020-01-01</td>\n",
       "      <td>0.0</td>\n",
       "      <td>0.0</td>\n",
       "      <td>NaN</td>\n",
       "      <td>0.0</td>\n",
       "      <td>0.0</td>\n",
       "      <td>NaN</td>\n",
       "      <td>...</td>\n",
       "      <td>2442.804</td>\n",
       "      <td>15.0</td>\n",
       "      <td>260.797</td>\n",
       "      <td>7.26</td>\n",
       "      <td>9.5</td>\n",
       "      <td>37.8</td>\n",
       "      <td>47.782</td>\n",
       "      <td>0.3</td>\n",
       "      <td>70.78</td>\n",
       "      <td>0.574</td>\n",
       "    </tr>\n",
       "    <tr>\n",
       "      <th>27435</th>\n",
       "      <td>NPL</td>\n",
       "      <td>Asia</td>\n",
       "      <td>Nepal</td>\n",
       "      <td>2020-01-02</td>\n",
       "      <td>0.0</td>\n",
       "      <td>0.0</td>\n",
       "      <td>NaN</td>\n",
       "      <td>0.0</td>\n",
       "      <td>0.0</td>\n",
       "      <td>NaN</td>\n",
       "      <td>...</td>\n",
       "      <td>2442.804</td>\n",
       "      <td>15.0</td>\n",
       "      <td>260.797</td>\n",
       "      <td>7.26</td>\n",
       "      <td>9.5</td>\n",
       "      <td>37.8</td>\n",
       "      <td>47.782</td>\n",
       "      <td>0.3</td>\n",
       "      <td>70.78</td>\n",
       "      <td>0.574</td>\n",
       "    </tr>\n",
       "    <tr>\n",
       "      <th>27436</th>\n",
       "      <td>NPL</td>\n",
       "      <td>Asia</td>\n",
       "      <td>Nepal</td>\n",
       "      <td>2020-01-03</td>\n",
       "      <td>0.0</td>\n",
       "      <td>0.0</td>\n",
       "      <td>NaN</td>\n",
       "      <td>0.0</td>\n",
       "      <td>0.0</td>\n",
       "      <td>NaN</td>\n",
       "      <td>...</td>\n",
       "      <td>2442.804</td>\n",
       "      <td>15.0</td>\n",
       "      <td>260.797</td>\n",
       "      <td>7.26</td>\n",
       "      <td>9.5</td>\n",
       "      <td>37.8</td>\n",
       "      <td>47.782</td>\n",
       "      <td>0.3</td>\n",
       "      <td>70.78</td>\n",
       "      <td>0.574</td>\n",
       "    </tr>\n",
       "    <tr>\n",
       "      <th>27437</th>\n",
       "      <td>NPL</td>\n",
       "      <td>Asia</td>\n",
       "      <td>Nepal</td>\n",
       "      <td>2020-01-04</td>\n",
       "      <td>0.0</td>\n",
       "      <td>0.0</td>\n",
       "      <td>NaN</td>\n",
       "      <td>0.0</td>\n",
       "      <td>0.0</td>\n",
       "      <td>NaN</td>\n",
       "      <td>...</td>\n",
       "      <td>2442.804</td>\n",
       "      <td>15.0</td>\n",
       "      <td>260.797</td>\n",
       "      <td>7.26</td>\n",
       "      <td>9.5</td>\n",
       "      <td>37.8</td>\n",
       "      <td>47.782</td>\n",
       "      <td>0.3</td>\n",
       "      <td>70.78</td>\n",
       "      <td>0.574</td>\n",
       "    </tr>\n",
       "  </tbody>\n",
       "</table>\n",
       "<p>5 rows × 41 columns</p>\n",
       "</div>"
      ],
      "text/plain": [
       "      iso_code continent location        date  total_cases  new_cases  \\\n",
       "27433      NPL      Asia    Nepal  2019-12-31          0.0        0.0   \n",
       "27434      NPL      Asia    Nepal  2020-01-01          0.0        0.0   \n",
       "27435      NPL      Asia    Nepal  2020-01-02          0.0        0.0   \n",
       "27436      NPL      Asia    Nepal  2020-01-03          0.0        0.0   \n",
       "27437      NPL      Asia    Nepal  2020-01-04          0.0        0.0   \n",
       "\n",
       "       new_cases_smoothed  total_deaths  new_deaths  new_deaths_smoothed  ...  \\\n",
       "27433                 NaN           0.0         0.0                  NaN  ...   \n",
       "27434                 NaN           0.0         0.0                  NaN  ...   \n",
       "27435                 NaN           0.0         0.0                  NaN  ...   \n",
       "27436                 NaN           0.0         0.0                  NaN  ...   \n",
       "27437                 NaN           0.0         0.0                  NaN  ...   \n",
       "\n",
       "       gdp_per_capita  extreme_poverty  cardiovasc_death_rate  \\\n",
       "27433        2442.804             15.0                260.797   \n",
       "27434        2442.804             15.0                260.797   \n",
       "27435        2442.804             15.0                260.797   \n",
       "27436        2442.804             15.0                260.797   \n",
       "27437        2442.804             15.0                260.797   \n",
       "\n",
       "       diabetes_prevalence  female_smokers  male_smokers  \\\n",
       "27433                 7.26             9.5          37.8   \n",
       "27434                 7.26             9.5          37.8   \n",
       "27435                 7.26             9.5          37.8   \n",
       "27436                 7.26             9.5          37.8   \n",
       "27437                 7.26             9.5          37.8   \n",
       "\n",
       "       handwashing_facilities  hospital_beds_per_thousand  life_expectancy  \\\n",
       "27433                  47.782                         0.3            70.78   \n",
       "27434                  47.782                         0.3            70.78   \n",
       "27435                  47.782                         0.3            70.78   \n",
       "27436                  47.782                         0.3            70.78   \n",
       "27437                  47.782                         0.3            70.78   \n",
       "\n",
       "       human_development_index  \n",
       "27433                    0.574  \n",
       "27434                    0.574  \n",
       "27435                    0.574  \n",
       "27436                    0.574  \n",
       "27437                    0.574  \n",
       "\n",
       "[5 rows x 41 columns]"
      ]
     },
     "execution_count": 711,
     "metadata": {},
     "output_type": "execute_result"
    }
   ],
   "source": [
    "nepal_case.head()"
   ]
  },
  {
   "cell_type": "markdown",
   "metadata": {},
   "source": [
    "## We have to cheack is there any null values present in our data because null values must be removed or filled with some data which is also known as imputation in Machine learning term"
   ]
  },
  {
   "cell_type": "code",
   "execution_count": 712,
   "metadata": {},
   "outputs": [
    {
     "data": {
      "text/plain": [
       "iso_code                            0\n",
       "continent                           0\n",
       "location                            0\n",
       "date                                0\n",
       "total_cases                        13\n",
       "new_cases                          13\n",
       "new_cases_smoothed                  6\n",
       "total_deaths                       13\n",
       "new_deaths                         13\n",
       "new_deaths_smoothed                 6\n",
       "total_cases_per_million            13\n",
       "new_cases_per_million              13\n",
       "new_cases_smoothed_per_million      6\n",
       "total_deaths_per_million           13\n",
       "new_deaths_per_million             13\n",
       "new_deaths_smoothed_per_million     6\n",
       "new_tests                          68\n",
       "total_tests                        55\n",
       "total_tests_per_thousand           55\n",
       "new_tests_per_thousand             68\n",
       "new_tests_smoothed                 38\n",
       "new_tests_smoothed_per_thousand    38\n",
       "tests_per_case                     87\n",
       "positive_rate                      38\n",
       "tests_units                        31\n",
       "stringency_index                    8\n",
       "population                          0\n",
       "population_density                  0\n",
       "median_age                          0\n",
       "aged_65_older                       0\n",
       "aged_70_older                       0\n",
       "gdp_per_capita                      0\n",
       "extreme_poverty                     0\n",
       "cardiovasc_death_rate               0\n",
       "diabetes_prevalence                 0\n",
       "female_smokers                      0\n",
       "male_smokers                        0\n",
       "handwashing_facilities              0\n",
       "hospital_beds_per_thousand          0\n",
       "life_expectancy                     0\n",
       "human_development_index             0\n",
       "dtype: int64"
      ]
     },
     "execution_count": 712,
     "metadata": {},
     "output_type": "execute_result"
    }
   ],
   "source": [
    "nepal_case.isna().sum()"
   ]
  },
  {
   "cell_type": "code",
   "execution_count": 713,
   "metadata": {},
   "outputs": [
    {
     "data": {
      "text/plain": [
       "<matplotlib.axes._subplots.AxesSubplot at 0x21b2b5d7eb0>"
      ]
     },
     "execution_count": 713,
     "metadata": {},
     "output_type": "execute_result"
    },
    {
     "data": {
      "image/png": "[encoded data removed]",
      "text/plain": [
       "<Figure size 720x360 with 1 Axes>"
      ]
     },
     "metadata": {
      "needs_background": "light"
     },
     "output_type": "display_data"
    }
   ],
   "source": [
    "fig, ax = plt.subplots(figsize=(10,5))\n",
    "sns.heatmap(nepal_case.isna(),yticklabels=False,cmap='nipy_spectral',cbar=False)"
   ]
  },
  {
   "cell_type": "code",
   "execution_count": 714,
   "metadata": {},
   "outputs": [],
   "source": [
    "fig.savefig('denseheatmap.png')"
   ]
  },
  {
   "cell_type": "code",
   "execution_count": 715,
   "metadata": {},
   "outputs": [
    {
     "data": {
      "text/html": [
       "<div>\n",
       "<style scoped>\n",
       "    .dataframe tbody tr th:only-of-type {\n",
       "        vertical-align: middle;\n",
       "    }\n",
       "\n",
       "    .dataframe tbody tr th {\n",
       "        vertical-align: top;\n",
       "    }\n",
       "\n",
       "    .dataframe thead th {\n",
       "        text-align: right;\n",
       "    }\n",
       "</style>\n",
       "<table border=\"1\" class=\"dataframe\">\n",
       "  <thead>\n",
       "    <tr style=\"text-align: right;\">\n",
       "      <th></th>\n",
       "      <th>iso_code</th>\n",
       "      <th>continent</th>\n",
       "      <th>location</th>\n",
       "      <th>date</th>\n",
       "      <th>total_cases</th>\n",
       "      <th>new_cases</th>\n",
       "      <th>new_cases_smoothed</th>\n",
       "      <th>total_deaths</th>\n",
       "      <th>new_deaths</th>\n",
       "      <th>new_deaths_smoothed</th>\n",
       "      <th>...</th>\n",
       "      <th>gdp_per_capita</th>\n",
       "      <th>extreme_poverty</th>\n",
       "      <th>cardiovasc_death_rate</th>\n",
       "      <th>diabetes_prevalence</th>\n",
       "      <th>female_smokers</th>\n",
       "      <th>male_smokers</th>\n",
       "      <th>handwashing_facilities</th>\n",
       "      <th>hospital_beds_per_thousand</th>\n",
       "      <th>life_expectancy</th>\n",
       "      <th>human_development_index</th>\n",
       "    </tr>\n",
       "  </thead>\n",
       "  <tbody>\n",
       "    <tr>\n",
       "      <th>27433</th>\n",
       "      <td>NPL</td>\n",
       "      <td>Asia</td>\n",
       "      <td>Nepal</td>\n",
       "      <td>2019-12-31</td>\n",
       "      <td>0.0</td>\n",
       "      <td>0.0</td>\n",
       "      <td>NaN</td>\n",
       "      <td>0.0</td>\n",
       "      <td>0.0</td>\n",
       "      <td>NaN</td>\n",
       "      <td>...</td>\n",
       "      <td>2442.804</td>\n",
       "      <td>15.0</td>\n",
       "      <td>260.797</td>\n",
       "      <td>7.26</td>\n",
       "      <td>9.5</td>\n",
       "      <td>37.8</td>\n",
       "      <td>47.782</td>\n",
       "      <td>0.3</td>\n",
       "      <td>70.78</td>\n",
       "      <td>0.574</td>\n",
       "    </tr>\n",
       "    <tr>\n",
       "      <th>27434</th>\n",
       "      <td>NPL</td>\n",
       "      <td>Asia</td>\n",
       "      <td>Nepal</td>\n",
       "      <td>2020-01-01</td>\n",
       "      <td>0.0</td>\n",
       "      <td>0.0</td>\n",
       "      <td>NaN</td>\n",
       "      <td>0.0</td>\n",
       "      <td>0.0</td>\n",
       "      <td>NaN</td>\n",
       "      <td>...</td>\n",
       "      <td>2442.804</td>\n",
       "      <td>15.0</td>\n",
       "      <td>260.797</td>\n",
       "      <td>7.26</td>\n",
       "      <td>9.5</td>\n",
       "      <td>37.8</td>\n",
       "      <td>47.782</td>\n",
       "      <td>0.3</td>\n",
       "      <td>70.78</td>\n",
       "      <td>0.574</td>\n",
       "    </tr>\n",
       "    <tr>\n",
       "      <th>27435</th>\n",
       "      <td>NPL</td>\n",
       "      <td>Asia</td>\n",
       "      <td>Nepal</td>\n",
       "      <td>2020-01-02</td>\n",
       "      <td>0.0</td>\n",
       "      <td>0.0</td>\n",
       "      <td>NaN</td>\n",
       "      <td>0.0</td>\n",
       "      <td>0.0</td>\n",
       "      <td>NaN</td>\n",
       "      <td>...</td>\n",
       "      <td>2442.804</td>\n",
       "      <td>15.0</td>\n",
       "      <td>260.797</td>\n",
       "      <td>7.26</td>\n",
       "      <td>9.5</td>\n",
       "      <td>37.8</td>\n",
       "      <td>47.782</td>\n",
       "      <td>0.3</td>\n",
       "      <td>70.78</td>\n",
       "      <td>0.574</td>\n",
       "    </tr>\n",
       "    <tr>\n",
       "      <th>27436</th>\n",
       "      <td>NPL</td>\n",
       "      <td>Asia</td>\n",
       "      <td>Nepal</td>\n",
       "      <td>2020-01-03</td>\n",
       "      <td>0.0</td>\n",
       "      <td>0.0</td>\n",
       "      <td>NaN</td>\n",
       "      <td>0.0</td>\n",
       "      <td>0.0</td>\n",
       "      <td>NaN</td>\n",
       "      <td>...</td>\n",
       "      <td>2442.804</td>\n",
       "      <td>15.0</td>\n",
       "      <td>260.797</td>\n",
       "      <td>7.26</td>\n",
       "      <td>9.5</td>\n",
       "      <td>37.8</td>\n",
       "      <td>47.782</td>\n",
       "      <td>0.3</td>\n",
       "      <td>70.78</td>\n",
       "      <td>0.574</td>\n",
       "    </tr>\n",
       "    <tr>\n",
       "      <th>27437</th>\n",
       "      <td>NPL</td>\n",
       "      <td>Asia</td>\n",
       "      <td>Nepal</td>\n",
       "      <td>2020-01-04</td>\n",
       "      <td>0.0</td>\n",
       "      <td>0.0</td>\n",
       "      <td>NaN</td>\n",
       "      <td>0.0</td>\n",
       "      <td>0.0</td>\n",
       "      <td>NaN</td>\n",
       "      <td>...</td>\n",
       "      <td>2442.804</td>\n",
       "      <td>15.0</td>\n",
       "      <td>260.797</td>\n",
       "      <td>7.26</td>\n",
       "      <td>9.5</td>\n",
       "      <td>37.8</td>\n",
       "      <td>47.782</td>\n",
       "      <td>0.3</td>\n",
       "      <td>70.78</td>\n",
       "      <td>0.574</td>\n",
       "    </tr>\n",
       "  </tbody>\n",
       "</table>\n",
       "<p>5 rows × 41 columns</p>\n",
       "</div>"
      ],
      "text/plain": [
       "      iso_code continent location        date  total_cases  new_cases  \\\n",
       "27433      NPL      Asia    Nepal  2019-12-31          0.0        0.0   \n",
       "27434      NPL      Asia    Nepal  2020-01-01          0.0        0.0   \n",
       "27435      NPL      Asia    Nepal  2020-01-02          0.0        0.0   \n",
       "27436      NPL      Asia    Nepal  2020-01-03          0.0        0.0   \n",
       "27437      NPL      Asia    Nepal  2020-01-04          0.0        0.0   \n",
       "\n",
       "       new_cases_smoothed  total_deaths  new_deaths  new_deaths_smoothed  ...  \\\n",
       "27433                 NaN           0.0         0.0                  NaN  ...   \n",
       "27434                 NaN           0.0         0.0                  NaN  ...   \n",
       "27435                 NaN           0.0         0.0                  NaN  ...   \n",
       "27436                 NaN           0.0         0.0                  NaN  ...   \n",
       "27437                 NaN           0.0         0.0                  NaN  ...   \n",
       "\n",
       "       gdp_per_capita  extreme_poverty  cardiovasc_death_rate  \\\n",
       "27433        2442.804             15.0                260.797   \n",
       "27434        2442.804             15.0                260.797   \n",
       "27435        2442.804             15.0                260.797   \n",
       "27436        2442.804             15.0                260.797   \n",
       "27437        2442.804             15.0                260.797   \n",
       "\n",
       "       diabetes_prevalence  female_smokers  male_smokers  \\\n",
       "27433                 7.26             9.5          37.8   \n",
       "27434                 7.26             9.5          37.8   \n",
       "27435                 7.26             9.5          37.8   \n",
       "27436                 7.26             9.5          37.8   \n",
       "27437                 7.26             9.5          37.8   \n",
       "\n",
       "       handwashing_facilities  hospital_beds_per_thousand  life_expectancy  \\\n",
       "27433                  47.782                         0.3            70.78   \n",
       "27434                  47.782                         0.3            70.78   \n",
       "27435                  47.782                         0.3            70.78   \n",
       "27436                  47.782                         0.3            70.78   \n",
       "27437                  47.782                         0.3            70.78   \n",
       "\n",
       "       human_development_index  \n",
       "27433                    0.574  \n",
       "27434                    0.574  \n",
       "27435                    0.574  \n",
       "27436                    0.574  \n",
       "27437                    0.574  \n",
       "\n",
       "[5 rows x 41 columns]"
      ]
     },
     "execution_count": 715,
     "metadata": {},
     "output_type": "execute_result"
    }
   ],
   "source": [
    "nepal_case.head()"
   ]
  },
  {
   "cell_type": "code",
   "execution_count": 716,
   "metadata": {},
   "outputs": [
    {
     "data": {
      "image/png": "[encoded data removed]",
      "text/plain": [
       "<Figure size 576x576 with 1 Axes>"
      ]
     },
     "metadata": {
      "needs_background": "light"
     },
     "output_type": "display_data"
    }
   ],
   "source": [
    "#Since, our dataset is very long let's take the latest recent 5 days case and analyse it\n",
    "nepal_last5days = nepal_case.tail()\n",
    "nepal_last5days.plot(x=\"date\",y=\"total_cases\",figsize=(8,8),color=\"red\")\n",
    "plt.xlabel(\"Date\")\n",
    "plt.ylabel(\"Recent 5 days cases\")\n",
    "plt.title(\"Total cases for latest 5 days\")\n",
    "plt.show()\n",
    "\n"
   ]
  },
  {
   "cell_type": "code",
   "execution_count": 717,
   "metadata": {},
   "outputs": [
    {
     "data": {
      "image/png": "[encoded data removed]",
      "text/plain": [
       "<Figure size 720x720 with 1 Axes>"
      ]
     },
     "metadata": {
      "needs_background": "light"
     },
     "output_type": "display_data"
    }
   ],
   "source": [
    "nepal_last5days.plot(x=\"date\",y=\"total_deaths\",figsize=(10,10),color=\"purple\")\n",
    "plt.xlabel(\"Date\")\n",
    "plt.ylabel(\"Recent 5 days cases\")\n",
    "plt.title(\"New Deaths case for latest 5 days\")\n",
    "plt.show()"
   ]
  },
  {
   "cell_type": "code",
   "execution_count": 718,
   "metadata": {},
   "outputs": [
    {
     "data": {
      "image/png": "[encoded data removed]",
      "text/plain": [
       "<Figure size 432x288 with 1 Axes>"
      ]
     },
     "metadata": {
      "needs_background": "light"
     },
     "output_type": "display_data"
    }
   ],
   "source": [
    "sns.barplot(x=\"date\",y=\"total_cases\",data=nepal_last5days);"
   ]
  },
  {
   "cell_type": "code",
   "execution_count": 719,
   "metadata": {},
   "outputs": [
    {
     "data": {
      "image/png": "[encoded data removed]",
      "text/plain": [
       "<Figure size 360x360 with 1 Axes>"
      ]
     },
     "metadata": {
      "needs_background": "light"
     },
     "output_type": "display_data"
    }
   ],
   "source": [
    "sns.catplot(x=\"date\",y=\"total_cases\",data=nepal_last5days);"
   ]
  },
  {
   "cell_type": "code",
   "execution_count": 720,
   "metadata": {},
   "outputs": [
    {
     "data": {
      "text/html": [
       "<div>\n",
       "<style scoped>\n",
       "    .dataframe tbody tr th:only-of-type {\n",
       "        vertical-align: middle;\n",
       "    }\n",
       "\n",
       "    .dataframe tbody tr th {\n",
       "        vertical-align: top;\n",
       "    }\n",
       "\n",
       "    .dataframe thead th {\n",
       "        text-align: right;\n",
       "    }\n",
       "</style>\n",
       "<table border=\"1\" class=\"dataframe\">\n",
       "  <thead>\n",
       "    <tr style=\"text-align: right;\">\n",
       "      <th></th>\n",
       "      <th>iso_code</th>\n",
       "      <th>continent</th>\n",
       "      <th>location</th>\n",
       "      <th>date</th>\n",
       "      <th>total_cases</th>\n",
       "      <th>new_cases</th>\n",
       "      <th>new_cases_smoothed</th>\n",
       "      <th>total_deaths</th>\n",
       "      <th>new_deaths</th>\n",
       "      <th>new_deaths_smoothed</th>\n",
       "      <th>...</th>\n",
       "      <th>gdp_per_capita</th>\n",
       "      <th>extreme_poverty</th>\n",
       "      <th>cardiovasc_death_rate</th>\n",
       "      <th>diabetes_prevalence</th>\n",
       "      <th>female_smokers</th>\n",
       "      <th>male_smokers</th>\n",
       "      <th>handwashing_facilities</th>\n",
       "      <th>hospital_beds_per_thousand</th>\n",
       "      <th>life_expectancy</th>\n",
       "      <th>human_development_index</th>\n",
       "    </tr>\n",
       "  </thead>\n",
       "  <tbody>\n",
       "    <tr>\n",
       "      <th>27433</th>\n",
       "      <td>NPL</td>\n",
       "      <td>Asia</td>\n",
       "      <td>Nepal</td>\n",
       "      <td>2019-12-31</td>\n",
       "      <td>0.0</td>\n",
       "      <td>0.0</td>\n",
       "      <td>NaN</td>\n",
       "      <td>0.0</td>\n",
       "      <td>0.0</td>\n",
       "      <td>NaN</td>\n",
       "      <td>...</td>\n",
       "      <td>2442.804</td>\n",
       "      <td>15.0</td>\n",
       "      <td>260.797</td>\n",
       "      <td>7.26</td>\n",
       "      <td>9.5</td>\n",
       "      <td>37.8</td>\n",
       "      <td>47.782</td>\n",
       "      <td>0.3</td>\n",
       "      <td>70.78</td>\n",
       "      <td>0.574</td>\n",
       "    </tr>\n",
       "    <tr>\n",
       "      <th>27434</th>\n",
       "      <td>NPL</td>\n",
       "      <td>Asia</td>\n",
       "      <td>Nepal</td>\n",
       "      <td>2020-01-01</td>\n",
       "      <td>0.0</td>\n",
       "      <td>0.0</td>\n",
       "      <td>NaN</td>\n",
       "      <td>0.0</td>\n",
       "      <td>0.0</td>\n",
       "      <td>NaN</td>\n",
       "      <td>...</td>\n",
       "      <td>2442.804</td>\n",
       "      <td>15.0</td>\n",
       "      <td>260.797</td>\n",
       "      <td>7.26</td>\n",
       "      <td>9.5</td>\n",
       "      <td>37.8</td>\n",
       "      <td>47.782</td>\n",
       "      <td>0.3</td>\n",
       "      <td>70.78</td>\n",
       "      <td>0.574</td>\n",
       "    </tr>\n",
       "    <tr>\n",
       "      <th>27435</th>\n",
       "      <td>NPL</td>\n",
       "      <td>Asia</td>\n",
       "      <td>Nepal</td>\n",
       "      <td>2020-01-02</td>\n",
       "      <td>0.0</td>\n",
       "      <td>0.0</td>\n",
       "      <td>NaN</td>\n",
       "      <td>0.0</td>\n",
       "      <td>0.0</td>\n",
       "      <td>NaN</td>\n",
       "      <td>...</td>\n",
       "      <td>2442.804</td>\n",
       "      <td>15.0</td>\n",
       "      <td>260.797</td>\n",
       "      <td>7.26</td>\n",
       "      <td>9.5</td>\n",
       "      <td>37.8</td>\n",
       "      <td>47.782</td>\n",
       "      <td>0.3</td>\n",
       "      <td>70.78</td>\n",
       "      <td>0.574</td>\n",
       "    </tr>\n",
       "    <tr>\n",
       "      <th>27436</th>\n",
       "      <td>NPL</td>\n",
       "      <td>Asia</td>\n",
       "      <td>Nepal</td>\n",
       "      <td>2020-01-03</td>\n",
       "      <td>0.0</td>\n",
       "      <td>0.0</td>\n",
       "      <td>NaN</td>\n",
       "      <td>0.0</td>\n",
       "      <td>0.0</td>\n",
       "      <td>NaN</td>\n",
       "      <td>...</td>\n",
       "      <td>2442.804</td>\n",
       "      <td>15.0</td>\n",
       "      <td>260.797</td>\n",
       "      <td>7.26</td>\n",
       "      <td>9.5</td>\n",
       "      <td>37.8</td>\n",
       "      <td>47.782</td>\n",
       "      <td>0.3</td>\n",
       "      <td>70.78</td>\n",
       "      <td>0.574</td>\n",
       "    </tr>\n",
       "    <tr>\n",
       "      <th>27437</th>\n",
       "      <td>NPL</td>\n",
       "      <td>Asia</td>\n",
       "      <td>Nepal</td>\n",
       "      <td>2020-01-04</td>\n",
       "      <td>0.0</td>\n",
       "      <td>0.0</td>\n",
       "      <td>NaN</td>\n",
       "      <td>0.0</td>\n",
       "      <td>0.0</td>\n",
       "      <td>NaN</td>\n",
       "      <td>...</td>\n",
       "      <td>2442.804</td>\n",
       "      <td>15.0</td>\n",
       "      <td>260.797</td>\n",
       "      <td>7.26</td>\n",
       "      <td>9.5</td>\n",
       "      <td>37.8</td>\n",
       "      <td>47.782</td>\n",
       "      <td>0.3</td>\n",
       "      <td>70.78</td>\n",
       "      <td>0.574</td>\n",
       "    </tr>\n",
       "  </tbody>\n",
       "</table>\n",
       "<p>5 rows × 41 columns</p>\n",
       "</div>"
      ],
      "text/plain": [
       "      iso_code continent location        date  total_cases  new_cases  \\\n",
       "27433      NPL      Asia    Nepal  2019-12-31          0.0        0.0   \n",
       "27434      NPL      Asia    Nepal  2020-01-01          0.0        0.0   \n",
       "27435      NPL      Asia    Nepal  2020-01-02          0.0        0.0   \n",
       "27436      NPL      Asia    Nepal  2020-01-03          0.0        0.0   \n",
       "27437      NPL      Asia    Nepal  2020-01-04          0.0        0.0   \n",
       "\n",
       "       new_cases_smoothed  total_deaths  new_deaths  new_deaths_smoothed  ...  \\\n",
       "27433                 NaN           0.0         0.0                  NaN  ...   \n",
       "27434                 NaN           0.0         0.0                  NaN  ...   \n",
       "27435                 NaN           0.0         0.0                  NaN  ...   \n",
       "27436                 NaN           0.0         0.0                  NaN  ...   \n",
       "27437                 NaN           0.0         0.0                  NaN  ...   \n",
       "\n",
       "       gdp_per_capita  extreme_poverty  cardiovasc_death_rate  \\\n",
       "27433        2442.804             15.0                260.797   \n",
       "27434        2442.804             15.0                260.797   \n",
       "27435        2442.804             15.0                260.797   \n",
       "27436        2442.804             15.0                260.797   \n",
       "27437        2442.804             15.0                260.797   \n",
       "\n",
       "       diabetes_prevalence  female_smokers  male_smokers  \\\n",
       "27433                 7.26             9.5          37.8   \n",
       "27434                 7.26             9.5          37.8   \n",
       "27435                 7.26             9.5          37.8   \n",
       "27436                 7.26             9.5          37.8   \n",
       "27437                 7.26             9.5          37.8   \n",
       "\n",
       "       handwashing_facilities  hospital_beds_per_thousand  life_expectancy  \\\n",
       "27433                  47.782                         0.3            70.78   \n",
       "27434                  47.782                         0.3            70.78   \n",
       "27435                  47.782                         0.3            70.78   \n",
       "27436                  47.782                         0.3            70.78   \n",
       "27437                  47.782                         0.3            70.78   \n",
       "\n",
       "       human_development_index  \n",
       "27433                    0.574  \n",
       "27434                    0.574  \n",
       "27435                    0.574  \n",
       "27436                    0.574  \n",
       "27437                    0.574  \n",
       "\n",
       "[5 rows x 41 columns]"
      ]
     },
     "execution_count": 720,
     "metadata": {},
     "output_type": "execute_result"
    }
   ],
   "source": [
    "nepal_case.head()"
   ]
  },
  {
   "cell_type": "markdown",
   "metadata": {},
   "source": [
    "## Now lets observe the first five days cases of Nepal I think must of we know that the first five days we did not see any cases. Lets prove this by using data visualization."
   ]
  },
  {
   "cell_type": "code",
   "execution_count": 721,
   "metadata": {},
   "outputs": [],
   "source": [
    "nepal_first5days = nepal_case.head()"
   ]
  },
  {
   "cell_type": "code",
   "execution_count": 722,
   "metadata": {
    "scrolled": true
   },
   "outputs": [
    {
     "data": {
      "image/png": "[encoded data removed]",
      "text/plain": [
       "<Figure size 432x360 with 1 Axes>"
      ]
     },
     "metadata": {
      "needs_background": "light"
     },
     "output_type": "display_data"
    }
   ],
   "source": [
    "\n",
    "nepal_first5days.plot(x=\"date\",y=\"total_cases\",figsize=(6,5),color=\"orange\")\n",
    "plt.xlabel(\"Date\")\n",
    "plt.ylabel(\"Recent 5 days cases\")\n",
    "plt.title(\"Total cases for first 5 days\")\n",
    "plt.show()"
   ]
  },
  {
   "cell_type": "code",
   "execution_count": 723,
   "metadata": {},
   "outputs": [
    {
     "data": {
      "image/png": "[encoded data removed]",
      "text/plain": [
       "<Figure size 432x288 with 1 Axes>"
      ]
     },
     "metadata": {
      "needs_background": "light"
     },
     "output_type": "display_data"
    }
   ],
   "source": [
    "sns.barplot(x=\"date\",y=\"total_cases\",data=nepal_first5days);"
   ]
  },
  {
   "cell_type": "markdown",
   "metadata": {},
   "source": [
    "## Hence, we concluded from figure that there was no any cases during earlier first five days of study"
   ]
  },
  {
   "cell_type": "code",
   "execution_count": 724,
   "metadata": {},
   "outputs": [
    {
     "data": {
      "text/html": [
       "<div>\n",
       "<style scoped>\n",
       "    .dataframe tbody tr th:only-of-type {\n",
       "        vertical-align: middle;\n",
       "    }\n",
       "\n",
       "    .dataframe tbody tr th {\n",
       "        vertical-align: top;\n",
       "    }\n",
       "\n",
       "    .dataframe thead th {\n",
       "        text-align: right;\n",
       "    }\n",
       "</style>\n",
       "<table border=\"1\" class=\"dataframe\">\n",
       "  <thead>\n",
       "    <tr style=\"text-align: right;\">\n",
       "      <th></th>\n",
       "      <th>iso_code</th>\n",
       "      <th>continent</th>\n",
       "      <th>location</th>\n",
       "      <th>date</th>\n",
       "      <th>total_cases</th>\n",
       "      <th>new_cases</th>\n",
       "      <th>new_cases_smoothed</th>\n",
       "      <th>total_deaths</th>\n",
       "      <th>new_deaths</th>\n",
       "      <th>new_deaths_smoothed</th>\n",
       "      <th>...</th>\n",
       "      <th>gdp_per_capita</th>\n",
       "      <th>extreme_poverty</th>\n",
       "      <th>cardiovasc_death_rate</th>\n",
       "      <th>diabetes_prevalence</th>\n",
       "      <th>female_smokers</th>\n",
       "      <th>male_smokers</th>\n",
       "      <th>handwashing_facilities</th>\n",
       "      <th>hospital_beds_per_thousand</th>\n",
       "      <th>life_expectancy</th>\n",
       "      <th>human_development_index</th>\n",
       "    </tr>\n",
       "  </thead>\n",
       "  <tbody>\n",
       "    <tr>\n",
       "      <th>27685</th>\n",
       "      <td>NPL</td>\n",
       "      <td>Asia</td>\n",
       "      <td>Nepal</td>\n",
       "      <td>2020-09-08</td>\n",
       "      <td>47236.0</td>\n",
       "      <td>979.0</td>\n",
       "      <td>1110.857</td>\n",
       "      <td>300.0</td>\n",
       "      <td>11.0</td>\n",
       "      <td>10.286</td>\n",
       "      <td>...</td>\n",
       "      <td>2442.804</td>\n",
       "      <td>15.0</td>\n",
       "      <td>260.797</td>\n",
       "      <td>7.26</td>\n",
       "      <td>9.5</td>\n",
       "      <td>37.8</td>\n",
       "      <td>47.782</td>\n",
       "      <td>0.3</td>\n",
       "      <td>70.78</td>\n",
       "      <td>0.574</td>\n",
       "    </tr>\n",
       "    <tr>\n",
       "      <th>27686</th>\n",
       "      <td>NPL</td>\n",
       "      <td>Asia</td>\n",
       "      <td>Nepal</td>\n",
       "      <td>2020-09-09</td>\n",
       "      <td>48138.0</td>\n",
       "      <td>902.0</td>\n",
       "      <td>1087.000</td>\n",
       "      <td>306.0</td>\n",
       "      <td>6.0</td>\n",
       "      <td>9.571</td>\n",
       "      <td>...</td>\n",
       "      <td>2442.804</td>\n",
       "      <td>15.0</td>\n",
       "      <td>260.797</td>\n",
       "      <td>7.26</td>\n",
       "      <td>9.5</td>\n",
       "      <td>37.8</td>\n",
       "      <td>47.782</td>\n",
       "      <td>0.3</td>\n",
       "      <td>70.78</td>\n",
       "      <td>0.574</td>\n",
       "    </tr>\n",
       "    <tr>\n",
       "      <th>27687</th>\n",
       "      <td>NPL</td>\n",
       "      <td>Asia</td>\n",
       "      <td>Nepal</td>\n",
       "      <td>2020-09-10</td>\n",
       "      <td>49219.0</td>\n",
       "      <td>1081.0</td>\n",
       "      <td>1081.429</td>\n",
       "      <td>312.0</td>\n",
       "      <td>6.0</td>\n",
       "      <td>8.714</td>\n",
       "      <td>...</td>\n",
       "      <td>2442.804</td>\n",
       "      <td>15.0</td>\n",
       "      <td>260.797</td>\n",
       "      <td>7.26</td>\n",
       "      <td>9.5</td>\n",
       "      <td>37.8</td>\n",
       "      <td>47.782</td>\n",
       "      <td>0.3</td>\n",
       "      <td>70.78</td>\n",
       "      <td>0.574</td>\n",
       "    </tr>\n",
       "    <tr>\n",
       "      <th>27688</th>\n",
       "      <td>NPL</td>\n",
       "      <td>Asia</td>\n",
       "      <td>Nepal</td>\n",
       "      <td>2020-09-11</td>\n",
       "      <td>50465.0</td>\n",
       "      <td>1246.0</td>\n",
       "      <td>1084.000</td>\n",
       "      <td>317.0</td>\n",
       "      <td>5.0</td>\n",
       "      <td>8.571</td>\n",
       "      <td>...</td>\n",
       "      <td>2442.804</td>\n",
       "      <td>15.0</td>\n",
       "      <td>260.797</td>\n",
       "      <td>7.26</td>\n",
       "      <td>9.5</td>\n",
       "      <td>37.8</td>\n",
       "      <td>47.782</td>\n",
       "      <td>0.3</td>\n",
       "      <td>70.78</td>\n",
       "      <td>0.574</td>\n",
       "    </tr>\n",
       "    <tr>\n",
       "      <th>27689</th>\n",
       "      <td>NPL</td>\n",
       "      <td>Asia</td>\n",
       "      <td>Nepal</td>\n",
       "      <td>2020-09-12</td>\n",
       "      <td>51919.0</td>\n",
       "      <td>1454.0</td>\n",
       "      <td>1097.571</td>\n",
       "      <td>322.0</td>\n",
       "      <td>5.0</td>\n",
       "      <td>7.286</td>\n",
       "      <td>...</td>\n",
       "      <td>2442.804</td>\n",
       "      <td>15.0</td>\n",
       "      <td>260.797</td>\n",
       "      <td>7.26</td>\n",
       "      <td>9.5</td>\n",
       "      <td>37.8</td>\n",
       "      <td>47.782</td>\n",
       "      <td>0.3</td>\n",
       "      <td>70.78</td>\n",
       "      <td>0.574</td>\n",
       "    </tr>\n",
       "  </tbody>\n",
       "</table>\n",
       "<p>5 rows × 41 columns</p>\n",
       "</div>"
      ],
      "text/plain": [
       "      iso_code continent location        date  total_cases  new_cases  \\\n",
       "27685      NPL      Asia    Nepal  2020-09-08      47236.0      979.0   \n",
       "27686      NPL      Asia    Nepal  2020-09-09      48138.0      902.0   \n",
       "27687      NPL      Asia    Nepal  2020-09-10      49219.0     1081.0   \n",
       "27688      NPL      Asia    Nepal  2020-09-11      50465.0     1246.0   \n",
       "27689      NPL      Asia    Nepal  2020-09-12      51919.0     1454.0   \n",
       "\n",
       "       new_cases_smoothed  total_deaths  new_deaths  new_deaths_smoothed  ...  \\\n",
       "27685            1110.857         300.0        11.0               10.286  ...   \n",
       "27686            1087.000         306.0         6.0                9.571  ...   \n",
       "27687            1081.429         312.0         6.0                8.714  ...   \n",
       "27688            1084.000         317.0         5.0                8.571  ...   \n",
       "27689            1097.571         322.0         5.0                7.286  ...   \n",
       "\n",
       "       gdp_per_capita  extreme_poverty  cardiovasc_death_rate  \\\n",
       "27685        2442.804             15.0                260.797   \n",
       "27686        2442.804             15.0                260.797   \n",
       "27687        2442.804             15.0                260.797   \n",
       "27688        2442.804             15.0                260.797   \n",
       "27689        2442.804             15.0                260.797   \n",
       "\n",
       "       diabetes_prevalence  female_smokers  male_smokers  \\\n",
       "27685                 7.26             9.5          37.8   \n",
       "27686                 7.26             9.5          37.8   \n",
       "27687                 7.26             9.5          37.8   \n",
       "27688                 7.26             9.5          37.8   \n",
       "27689                 7.26             9.5          37.8   \n",
       "\n",
       "       handwashing_facilities  hospital_beds_per_thousand  life_expectancy  \\\n",
       "27685                  47.782                         0.3            70.78   \n",
       "27686                  47.782                         0.3            70.78   \n",
       "27687                  47.782                         0.3            70.78   \n",
       "27688                  47.782                         0.3            70.78   \n",
       "27689                  47.782                         0.3            70.78   \n",
       "\n",
       "       human_development_index  \n",
       "27685                    0.574  \n",
       "27686                    0.574  \n",
       "27687                    0.574  \n",
       "27688                    0.574  \n",
       "27689                    0.574  \n",
       "\n",
       "[5 rows x 41 columns]"
      ]
     },
     "execution_count": 724,
     "metadata": {},
     "output_type": "execute_result"
    }
   ],
   "source": [
    "nepal_case.tail()"
   ]
  },
  {
   "cell_type": "code",
   "execution_count": 725,
   "metadata": {},
   "outputs": [
    {
     "data": {
      "text/html": [
       "<div>\n",
       "<style scoped>\n",
       "    .dataframe tbody tr th:only-of-type {\n",
       "        vertical-align: middle;\n",
       "    }\n",
       "\n",
       "    .dataframe tbody tr th {\n",
       "        vertical-align: top;\n",
       "    }\n",
       "\n",
       "    .dataframe thead th {\n",
       "        text-align: right;\n",
       "    }\n",
       "</style>\n",
       "<table border=\"1\" class=\"dataframe\">\n",
       "  <thead>\n",
       "    <tr style=\"text-align: right;\">\n",
       "      <th></th>\n",
       "      <th>iso_code</th>\n",
       "      <th>continent</th>\n",
       "      <th>location</th>\n",
       "      <th>date</th>\n",
       "      <th>total_cases</th>\n",
       "      <th>new_cases</th>\n",
       "      <th>new_cases_smoothed</th>\n",
       "      <th>total_deaths</th>\n",
       "      <th>new_deaths</th>\n",
       "      <th>new_deaths_smoothed</th>\n",
       "      <th>...</th>\n",
       "      <th>gdp_per_capita</th>\n",
       "      <th>extreme_poverty</th>\n",
       "      <th>cardiovasc_death_rate</th>\n",
       "      <th>diabetes_prevalence</th>\n",
       "      <th>female_smokers</th>\n",
       "      <th>male_smokers</th>\n",
       "      <th>handwashing_facilities</th>\n",
       "      <th>hospital_beds_per_thousand</th>\n",
       "      <th>life_expectancy</th>\n",
       "      <th>human_development_index</th>\n",
       "    </tr>\n",
       "  </thead>\n",
       "  <tbody>\n",
       "    <tr>\n",
       "      <th>27433</th>\n",
       "      <td>NPL</td>\n",
       "      <td>Asia</td>\n",
       "      <td>Nepal</td>\n",
       "      <td>2019-12-31</td>\n",
       "      <td>0.0</td>\n",
       "      <td>0.0</td>\n",
       "      <td>NaN</td>\n",
       "      <td>0.0</td>\n",
       "      <td>0.0</td>\n",
       "      <td>NaN</td>\n",
       "      <td>...</td>\n",
       "      <td>2442.804</td>\n",
       "      <td>15.0</td>\n",
       "      <td>260.797</td>\n",
       "      <td>7.26</td>\n",
       "      <td>9.5</td>\n",
       "      <td>37.8</td>\n",
       "      <td>47.782</td>\n",
       "      <td>0.3</td>\n",
       "      <td>70.78</td>\n",
       "      <td>0.574</td>\n",
       "    </tr>\n",
       "    <tr>\n",
       "      <th>27434</th>\n",
       "      <td>NPL</td>\n",
       "      <td>Asia</td>\n",
       "      <td>Nepal</td>\n",
       "      <td>2020-01-01</td>\n",
       "      <td>0.0</td>\n",
       "      <td>0.0</td>\n",
       "      <td>NaN</td>\n",
       "      <td>0.0</td>\n",
       "      <td>0.0</td>\n",
       "      <td>NaN</td>\n",
       "      <td>...</td>\n",
       "      <td>2442.804</td>\n",
       "      <td>15.0</td>\n",
       "      <td>260.797</td>\n",
       "      <td>7.26</td>\n",
       "      <td>9.5</td>\n",
       "      <td>37.8</td>\n",
       "      <td>47.782</td>\n",
       "      <td>0.3</td>\n",
       "      <td>70.78</td>\n",
       "      <td>0.574</td>\n",
       "    </tr>\n",
       "    <tr>\n",
       "      <th>27435</th>\n",
       "      <td>NPL</td>\n",
       "      <td>Asia</td>\n",
       "      <td>Nepal</td>\n",
       "      <td>2020-01-02</td>\n",
       "      <td>0.0</td>\n",
       "      <td>0.0</td>\n",
       "      <td>NaN</td>\n",
       "      <td>0.0</td>\n",
       "      <td>0.0</td>\n",
       "      <td>NaN</td>\n",
       "      <td>...</td>\n",
       "      <td>2442.804</td>\n",
       "      <td>15.0</td>\n",
       "      <td>260.797</td>\n",
       "      <td>7.26</td>\n",
       "      <td>9.5</td>\n",
       "      <td>37.8</td>\n",
       "      <td>47.782</td>\n",
       "      <td>0.3</td>\n",
       "      <td>70.78</td>\n",
       "      <td>0.574</td>\n",
       "    </tr>\n",
       "    <tr>\n",
       "      <th>27436</th>\n",
       "      <td>NPL</td>\n",
       "      <td>Asia</td>\n",
       "      <td>Nepal</td>\n",
       "      <td>2020-01-03</td>\n",
       "      <td>0.0</td>\n",
       "      <td>0.0</td>\n",
       "      <td>NaN</td>\n",
       "      <td>0.0</td>\n",
       "      <td>0.0</td>\n",
       "      <td>NaN</td>\n",
       "      <td>...</td>\n",
       "      <td>2442.804</td>\n",
       "      <td>15.0</td>\n",
       "      <td>260.797</td>\n",
       "      <td>7.26</td>\n",
       "      <td>9.5</td>\n",
       "      <td>37.8</td>\n",
       "      <td>47.782</td>\n",
       "      <td>0.3</td>\n",
       "      <td>70.78</td>\n",
       "      <td>0.574</td>\n",
       "    </tr>\n",
       "    <tr>\n",
       "      <th>27437</th>\n",
       "      <td>NPL</td>\n",
       "      <td>Asia</td>\n",
       "      <td>Nepal</td>\n",
       "      <td>2020-01-04</td>\n",
       "      <td>0.0</td>\n",
       "      <td>0.0</td>\n",
       "      <td>NaN</td>\n",
       "      <td>0.0</td>\n",
       "      <td>0.0</td>\n",
       "      <td>NaN</td>\n",
       "      <td>...</td>\n",
       "      <td>2442.804</td>\n",
       "      <td>15.0</td>\n",
       "      <td>260.797</td>\n",
       "      <td>7.26</td>\n",
       "      <td>9.5</td>\n",
       "      <td>37.8</td>\n",
       "      <td>47.782</td>\n",
       "      <td>0.3</td>\n",
       "      <td>70.78</td>\n",
       "      <td>0.574</td>\n",
       "    </tr>\n",
       "  </tbody>\n",
       "</table>\n",
       "<p>5 rows × 41 columns</p>\n",
       "</div>"
      ],
      "text/plain": [
       "      iso_code continent location        date  total_cases  new_cases  \\\n",
       "27433      NPL      Asia    Nepal  2019-12-31          0.0        0.0   \n",
       "27434      NPL      Asia    Nepal  2020-01-01          0.0        0.0   \n",
       "27435      NPL      Asia    Nepal  2020-01-02          0.0        0.0   \n",
       "27436      NPL      Asia    Nepal  2020-01-03          0.0        0.0   \n",
       "27437      NPL      Asia    Nepal  2020-01-04          0.0        0.0   \n",
       "\n",
       "       new_cases_smoothed  total_deaths  new_deaths  new_deaths_smoothed  ...  \\\n",
       "27433                 NaN           0.0         0.0                  NaN  ...   \n",
       "27434                 NaN           0.0         0.0                  NaN  ...   \n",
       "27435                 NaN           0.0         0.0                  NaN  ...   \n",
       "27436                 NaN           0.0         0.0                  NaN  ...   \n",
       "27437                 NaN           0.0         0.0                  NaN  ...   \n",
       "\n",
       "       gdp_per_capita  extreme_poverty  cardiovasc_death_rate  \\\n",
       "27433        2442.804             15.0                260.797   \n",
       "27434        2442.804             15.0                260.797   \n",
       "27435        2442.804             15.0                260.797   \n",
       "27436        2442.804             15.0                260.797   \n",
       "27437        2442.804             15.0                260.797   \n",
       "\n",
       "       diabetes_prevalence  female_smokers  male_smokers  \\\n",
       "27433                 7.26             9.5          37.8   \n",
       "27434                 7.26             9.5          37.8   \n",
       "27435                 7.26             9.5          37.8   \n",
       "27436                 7.26             9.5          37.8   \n",
       "27437                 7.26             9.5          37.8   \n",
       "\n",
       "       handwashing_facilities  hospital_beds_per_thousand  life_expectancy  \\\n",
       "27433                  47.782                         0.3            70.78   \n",
       "27434                  47.782                         0.3            70.78   \n",
       "27435                  47.782                         0.3            70.78   \n",
       "27436                  47.782                         0.3            70.78   \n",
       "27437                  47.782                         0.3            70.78   \n",
       "\n",
       "       human_development_index  \n",
       "27433                    0.574  \n",
       "27434                    0.574  \n",
       "27435                    0.574  \n",
       "27436                    0.574  \n",
       "27437                    0.574  \n",
       "\n",
       "[5 rows x 41 columns]"
      ]
     },
     "execution_count": 725,
     "metadata": {},
     "output_type": "execute_result"
    }
   ],
   "source": [
    "nepal_case.head()"
   ]
  },
  {
   "cell_type": "code",
   "execution_count": 726,
   "metadata": {},
   "outputs": [
    {
     "data": {
      "text/html": [
       "<div>\n",
       "<style scoped>\n",
       "    .dataframe tbody tr th:only-of-type {\n",
       "        vertical-align: middle;\n",
       "    }\n",
       "\n",
       "    .dataframe tbody tr th {\n",
       "        vertical-align: top;\n",
       "    }\n",
       "\n",
       "    .dataframe thead th {\n",
       "        text-align: right;\n",
       "    }\n",
       "</style>\n",
       "<table border=\"1\" class=\"dataframe\">\n",
       "  <thead>\n",
       "    <tr style=\"text-align: right;\">\n",
       "      <th></th>\n",
       "      <th>iso_code</th>\n",
       "      <th>continent</th>\n",
       "      <th>location</th>\n",
       "      <th>date</th>\n",
       "      <th>total_cases</th>\n",
       "      <th>new_cases</th>\n",
       "      <th>new_cases_smoothed</th>\n",
       "      <th>total_deaths</th>\n",
       "      <th>new_deaths</th>\n",
       "      <th>new_deaths_smoothed</th>\n",
       "      <th>...</th>\n",
       "      <th>gdp_per_capita</th>\n",
       "      <th>extreme_poverty</th>\n",
       "      <th>cardiovasc_death_rate</th>\n",
       "      <th>diabetes_prevalence</th>\n",
       "      <th>female_smokers</th>\n",
       "      <th>male_smokers</th>\n",
       "      <th>handwashing_facilities</th>\n",
       "      <th>hospital_beds_per_thousand</th>\n",
       "      <th>life_expectancy</th>\n",
       "      <th>human_development_index</th>\n",
       "    </tr>\n",
       "  </thead>\n",
       "  <tbody>\n",
       "    <tr>\n",
       "      <th>27685</th>\n",
       "      <td>NPL</td>\n",
       "      <td>Asia</td>\n",
       "      <td>Nepal</td>\n",
       "      <td>2020-09-08</td>\n",
       "      <td>47236.0</td>\n",
       "      <td>979.0</td>\n",
       "      <td>1110.857</td>\n",
       "      <td>300.0</td>\n",
       "      <td>11.0</td>\n",
       "      <td>10.286</td>\n",
       "      <td>...</td>\n",
       "      <td>2442.804</td>\n",
       "      <td>15.0</td>\n",
       "      <td>260.797</td>\n",
       "      <td>7.26</td>\n",
       "      <td>9.5</td>\n",
       "      <td>37.8</td>\n",
       "      <td>47.782</td>\n",
       "      <td>0.3</td>\n",
       "      <td>70.78</td>\n",
       "      <td>0.574</td>\n",
       "    </tr>\n",
       "    <tr>\n",
       "      <th>27686</th>\n",
       "      <td>NPL</td>\n",
       "      <td>Asia</td>\n",
       "      <td>Nepal</td>\n",
       "      <td>2020-09-09</td>\n",
       "      <td>48138.0</td>\n",
       "      <td>902.0</td>\n",
       "      <td>1087.000</td>\n",
       "      <td>306.0</td>\n",
       "      <td>6.0</td>\n",
       "      <td>9.571</td>\n",
       "      <td>...</td>\n",
       "      <td>2442.804</td>\n",
       "      <td>15.0</td>\n",
       "      <td>260.797</td>\n",
       "      <td>7.26</td>\n",
       "      <td>9.5</td>\n",
       "      <td>37.8</td>\n",
       "      <td>47.782</td>\n",
       "      <td>0.3</td>\n",
       "      <td>70.78</td>\n",
       "      <td>0.574</td>\n",
       "    </tr>\n",
       "    <tr>\n",
       "      <th>27687</th>\n",
       "      <td>NPL</td>\n",
       "      <td>Asia</td>\n",
       "      <td>Nepal</td>\n",
       "      <td>2020-09-10</td>\n",
       "      <td>49219.0</td>\n",
       "      <td>1081.0</td>\n",
       "      <td>1081.429</td>\n",
       "      <td>312.0</td>\n",
       "      <td>6.0</td>\n",
       "      <td>8.714</td>\n",
       "      <td>...</td>\n",
       "      <td>2442.804</td>\n",
       "      <td>15.0</td>\n",
       "      <td>260.797</td>\n",
       "      <td>7.26</td>\n",
       "      <td>9.5</td>\n",
       "      <td>37.8</td>\n",
       "      <td>47.782</td>\n",
       "      <td>0.3</td>\n",
       "      <td>70.78</td>\n",
       "      <td>0.574</td>\n",
       "    </tr>\n",
       "    <tr>\n",
       "      <th>27688</th>\n",
       "      <td>NPL</td>\n",
       "      <td>Asia</td>\n",
       "      <td>Nepal</td>\n",
       "      <td>2020-09-11</td>\n",
       "      <td>50465.0</td>\n",
       "      <td>1246.0</td>\n",
       "      <td>1084.000</td>\n",
       "      <td>317.0</td>\n",
       "      <td>5.0</td>\n",
       "      <td>8.571</td>\n",
       "      <td>...</td>\n",
       "      <td>2442.804</td>\n",
       "      <td>15.0</td>\n",
       "      <td>260.797</td>\n",
       "      <td>7.26</td>\n",
       "      <td>9.5</td>\n",
       "      <td>37.8</td>\n",
       "      <td>47.782</td>\n",
       "      <td>0.3</td>\n",
       "      <td>70.78</td>\n",
       "      <td>0.574</td>\n",
       "    </tr>\n",
       "    <tr>\n",
       "      <th>27689</th>\n",
       "      <td>NPL</td>\n",
       "      <td>Asia</td>\n",
       "      <td>Nepal</td>\n",
       "      <td>2020-09-12</td>\n",
       "      <td>51919.0</td>\n",
       "      <td>1454.0</td>\n",
       "      <td>1097.571</td>\n",
       "      <td>322.0</td>\n",
       "      <td>5.0</td>\n",
       "      <td>7.286</td>\n",
       "      <td>...</td>\n",
       "      <td>2442.804</td>\n",
       "      <td>15.0</td>\n",
       "      <td>260.797</td>\n",
       "      <td>7.26</td>\n",
       "      <td>9.5</td>\n",
       "      <td>37.8</td>\n",
       "      <td>47.782</td>\n",
       "      <td>0.3</td>\n",
       "      <td>70.78</td>\n",
       "      <td>0.574</td>\n",
       "    </tr>\n",
       "  </tbody>\n",
       "</table>\n",
       "<p>5 rows × 41 columns</p>\n",
       "</div>"
      ],
      "text/plain": [
       "      iso_code continent location        date  total_cases  new_cases  \\\n",
       "27685      NPL      Asia    Nepal  2020-09-08      47236.0      979.0   \n",
       "27686      NPL      Asia    Nepal  2020-09-09      48138.0      902.0   \n",
       "27687      NPL      Asia    Nepal  2020-09-10      49219.0     1081.0   \n",
       "27688      NPL      Asia    Nepal  2020-09-11      50465.0     1246.0   \n",
       "27689      NPL      Asia    Nepal  2020-09-12      51919.0     1454.0   \n",
       "\n",
       "       new_cases_smoothed  total_deaths  new_deaths  new_deaths_smoothed  ...  \\\n",
       "27685            1110.857         300.0        11.0               10.286  ...   \n",
       "27686            1087.000         306.0         6.0                9.571  ...   \n",
       "27687            1081.429         312.0         6.0                8.714  ...   \n",
       "27688            1084.000         317.0         5.0                8.571  ...   \n",
       "27689            1097.571         322.0         5.0                7.286  ...   \n",
       "\n",
       "       gdp_per_capita  extreme_poverty  cardiovasc_death_rate  \\\n",
       "27685        2442.804             15.0                260.797   \n",
       "27686        2442.804             15.0                260.797   \n",
       "27687        2442.804             15.0                260.797   \n",
       "27688        2442.804             15.0                260.797   \n",
       "27689        2442.804             15.0                260.797   \n",
       "\n",
       "       diabetes_prevalence  female_smokers  male_smokers  \\\n",
       "27685                 7.26             9.5          37.8   \n",
       "27686                 7.26             9.5          37.8   \n",
       "27687                 7.26             9.5          37.8   \n",
       "27688                 7.26             9.5          37.8   \n",
       "27689                 7.26             9.5          37.8   \n",
       "\n",
       "       handwashing_facilities  hospital_beds_per_thousand  life_expectancy  \\\n",
       "27685                  47.782                         0.3            70.78   \n",
       "27686                  47.782                         0.3            70.78   \n",
       "27687                  47.782                         0.3            70.78   \n",
       "27688                  47.782                         0.3            70.78   \n",
       "27689                  47.782                         0.3            70.78   \n",
       "\n",
       "       human_development_index  \n",
       "27685                    0.574  \n",
       "27686                    0.574  \n",
       "27687                    0.574  \n",
       "27688                    0.574  \n",
       "27689                    0.574  \n",
       "\n",
       "[5 rows x 41 columns]"
      ]
     },
     "execution_count": 726,
     "metadata": {},
     "output_type": "execute_result"
    }
   ],
   "source": [
    "nepal_case.tail()"
   ]
  },
  {
   "cell_type": "code",
   "execution_count": 727,
   "metadata": {},
   "outputs": [],
   "source": [
    "# Lets drop some of the attributes that are not much relevant\n",
    "nepal_case.drop(labels=['new_cases_smoothed','new_deaths_smoothed'],axis=1,inplace=True)"
   ]
  },
  {
   "cell_type": "code",
   "execution_count": 728,
   "metadata": {
    "scrolled": true
   },
   "outputs": [
    {
     "data": {
      "text/html": [
       "<div>\n",
       "<style scoped>\n",
       "    .dataframe tbody tr th:only-of-type {\n",
       "        vertical-align: middle;\n",
       "    }\n",
       "\n",
       "    .dataframe tbody tr th {\n",
       "        vertical-align: top;\n",
       "    }\n",
       "\n",
       "    .dataframe thead th {\n",
       "        text-align: right;\n",
       "    }\n",
       "</style>\n",
       "<table border=\"1\" class=\"dataframe\">\n",
       "  <thead>\n",
       "    <tr style=\"text-align: right;\">\n",
       "      <th></th>\n",
       "      <th>iso_code</th>\n",
       "      <th>continent</th>\n",
       "      <th>location</th>\n",
       "      <th>date</th>\n",
       "      <th>total_cases</th>\n",
       "      <th>new_cases</th>\n",
       "      <th>total_deaths</th>\n",
       "      <th>new_deaths</th>\n",
       "      <th>total_cases_per_million</th>\n",
       "      <th>new_cases_per_million</th>\n",
       "      <th>...</th>\n",
       "      <th>gdp_per_capita</th>\n",
       "      <th>extreme_poverty</th>\n",
       "      <th>cardiovasc_death_rate</th>\n",
       "      <th>diabetes_prevalence</th>\n",
       "      <th>female_smokers</th>\n",
       "      <th>male_smokers</th>\n",
       "      <th>handwashing_facilities</th>\n",
       "      <th>hospital_beds_per_thousand</th>\n",
       "      <th>life_expectancy</th>\n",
       "      <th>human_development_index</th>\n",
       "    </tr>\n",
       "  </thead>\n",
       "  <tbody>\n",
       "    <tr>\n",
       "      <th>27433</th>\n",
       "      <td>NPL</td>\n",
       "      <td>Asia</td>\n",
       "      <td>Nepal</td>\n",
       "      <td>2019-12-31</td>\n",
       "      <td>0.0</td>\n",
       "      <td>0.0</td>\n",
       "      <td>0.0</td>\n",
       "      <td>0.0</td>\n",
       "      <td>0.0</td>\n",
       "      <td>0.0</td>\n",
       "      <td>...</td>\n",
       "      <td>2442.804</td>\n",
       "      <td>15.0</td>\n",
       "      <td>260.797</td>\n",
       "      <td>7.26</td>\n",
       "      <td>9.5</td>\n",
       "      <td>37.8</td>\n",
       "      <td>47.782</td>\n",
       "      <td>0.3</td>\n",
       "      <td>70.78</td>\n",
       "      <td>0.574</td>\n",
       "    </tr>\n",
       "    <tr>\n",
       "      <th>27434</th>\n",
       "      <td>NPL</td>\n",
       "      <td>Asia</td>\n",
       "      <td>Nepal</td>\n",
       "      <td>2020-01-01</td>\n",
       "      <td>0.0</td>\n",
       "      <td>0.0</td>\n",
       "      <td>0.0</td>\n",
       "      <td>0.0</td>\n",
       "      <td>0.0</td>\n",
       "      <td>0.0</td>\n",
       "      <td>...</td>\n",
       "      <td>2442.804</td>\n",
       "      <td>15.0</td>\n",
       "      <td>260.797</td>\n",
       "      <td>7.26</td>\n",
       "      <td>9.5</td>\n",
       "      <td>37.8</td>\n",
       "      <td>47.782</td>\n",
       "      <td>0.3</td>\n",
       "      <td>70.78</td>\n",
       "      <td>0.574</td>\n",
       "    </tr>\n",
       "    <tr>\n",
       "      <th>27435</th>\n",
       "      <td>NPL</td>\n",
       "      <td>Asia</td>\n",
       "      <td>Nepal</td>\n",
       "      <td>2020-01-02</td>\n",
       "      <td>0.0</td>\n",
       "      <td>0.0</td>\n",
       "      <td>0.0</td>\n",
       "      <td>0.0</td>\n",
       "      <td>0.0</td>\n",
       "      <td>0.0</td>\n",
       "      <td>...</td>\n",
       "      <td>2442.804</td>\n",
       "      <td>15.0</td>\n",
       "      <td>260.797</td>\n",
       "      <td>7.26</td>\n",
       "      <td>9.5</td>\n",
       "      <td>37.8</td>\n",
       "      <td>47.782</td>\n",
       "      <td>0.3</td>\n",
       "      <td>70.78</td>\n",
       "      <td>0.574</td>\n",
       "    </tr>\n",
       "    <tr>\n",
       "      <th>27436</th>\n",
       "      <td>NPL</td>\n",
       "      <td>Asia</td>\n",
       "      <td>Nepal</td>\n",
       "      <td>2020-01-03</td>\n",
       "      <td>0.0</td>\n",
       "      <td>0.0</td>\n",
       "      <td>0.0</td>\n",
       "      <td>0.0</td>\n",
       "      <td>0.0</td>\n",
       "      <td>0.0</td>\n",
       "      <td>...</td>\n",
       "      <td>2442.804</td>\n",
       "      <td>15.0</td>\n",
       "      <td>260.797</td>\n",
       "      <td>7.26</td>\n",
       "      <td>9.5</td>\n",
       "      <td>37.8</td>\n",
       "      <td>47.782</td>\n",
       "      <td>0.3</td>\n",
       "      <td>70.78</td>\n",
       "      <td>0.574</td>\n",
       "    </tr>\n",
       "    <tr>\n",
       "      <th>27437</th>\n",
       "      <td>NPL</td>\n",
       "      <td>Asia</td>\n",
       "      <td>Nepal</td>\n",
       "      <td>2020-01-04</td>\n",
       "      <td>0.0</td>\n",
       "      <td>0.0</td>\n",
       "      <td>0.0</td>\n",
       "      <td>0.0</td>\n",
       "      <td>0.0</td>\n",
       "      <td>0.0</td>\n",
       "      <td>...</td>\n",
       "      <td>2442.804</td>\n",
       "      <td>15.0</td>\n",
       "      <td>260.797</td>\n",
       "      <td>7.26</td>\n",
       "      <td>9.5</td>\n",
       "      <td>37.8</td>\n",
       "      <td>47.782</td>\n",
       "      <td>0.3</td>\n",
       "      <td>70.78</td>\n",
       "      <td>0.574</td>\n",
       "    </tr>\n",
       "  </tbody>\n",
       "</table>\n",
       "<p>5 rows × 39 columns</p>\n",
       "</div>"
      ],
      "text/plain": [
       "      iso_code continent location        date  total_cases  new_cases  \\\n",
       "27433      NPL      Asia    Nepal  2019-12-31          0.0        0.0   \n",
       "27434      NPL      Asia    Nepal  2020-01-01          0.0        0.0   \n",
       "27435      NPL      Asia    Nepal  2020-01-02          0.0        0.0   \n",
       "27436      NPL      Asia    Nepal  2020-01-03          0.0        0.0   \n",
       "27437      NPL      Asia    Nepal  2020-01-04          0.0        0.0   \n",
       "\n",
       "       total_deaths  new_deaths  total_cases_per_million  \\\n",
       "27433           0.0         0.0                      0.0   \n",
       "27434           0.0         0.0                      0.0   \n",
       "27435           0.0         0.0                      0.0   \n",
       "27436           0.0         0.0                      0.0   \n",
       "27437           0.0         0.0                      0.0   \n",
       "\n",
       "       new_cases_per_million  ...  gdp_per_capita  extreme_poverty  \\\n",
       "27433                    0.0  ...        2442.804             15.0   \n",
       "27434                    0.0  ...        2442.804             15.0   \n",
       "27435                    0.0  ...        2442.804             15.0   \n",
       "27436                    0.0  ...        2442.804             15.0   \n",
       "27437                    0.0  ...        2442.804             15.0   \n",
       "\n",
       "       cardiovasc_death_rate  diabetes_prevalence  female_smokers  \\\n",
       "27433                260.797                 7.26             9.5   \n",
       "27434                260.797                 7.26             9.5   \n",
       "27435                260.797                 7.26             9.5   \n",
       "27436                260.797                 7.26             9.5   \n",
       "27437                260.797                 7.26             9.5   \n",
       "\n",
       "       male_smokers  handwashing_facilities  hospital_beds_per_thousand  \\\n",
       "27433          37.8                  47.782                         0.3   \n",
       "27434          37.8                  47.782                         0.3   \n",
       "27435          37.8                  47.782                         0.3   \n",
       "27436          37.8                  47.782                         0.3   \n",
       "27437          37.8                  47.782                         0.3   \n",
       "\n",
       "       life_expectancy  human_development_index  \n",
       "27433            70.78                    0.574  \n",
       "27434            70.78                    0.574  \n",
       "27435            70.78                    0.574  \n",
       "27436            70.78                    0.574  \n",
       "27437            70.78                    0.574  \n",
       "\n",
       "[5 rows x 39 columns]"
      ]
     },
     "execution_count": 728,
     "metadata": {},
     "output_type": "execute_result"
    }
   ],
   "source": [
    "nepal_case.head()"
   ]
  },
  {
   "cell_type": "code",
   "execution_count": 729,
   "metadata": {},
   "outputs": [],
   "source": [
    "nepal_case.drop(labels=['total_cases_per_million','new_cases_per_million','new_cases_smoothed_per_million','total_deaths_per_million','new_deaths_per_million'],axis=1,inplace=True)"
   ]
  },
  {
   "cell_type": "code",
   "execution_count": 730,
   "metadata": {},
   "outputs": [
    {
     "data": {
      "text/html": [
       "<div>\n",
       "<style scoped>\n",
       "    .dataframe tbody tr th:only-of-type {\n",
       "        vertical-align: middle;\n",
       "    }\n",
       "\n",
       "    .dataframe tbody tr th {\n",
       "        vertical-align: top;\n",
       "    }\n",
       "\n",
       "    .dataframe thead th {\n",
       "        text-align: right;\n",
       "    }\n",
       "</style>\n",
       "<table border=\"1\" class=\"dataframe\">\n",
       "  <thead>\n",
       "    <tr style=\"text-align: right;\">\n",
       "      <th></th>\n",
       "      <th>iso_code</th>\n",
       "      <th>continent</th>\n",
       "      <th>location</th>\n",
       "      <th>date</th>\n",
       "      <th>total_cases</th>\n",
       "      <th>new_cases</th>\n",
       "      <th>total_deaths</th>\n",
       "      <th>new_deaths</th>\n",
       "      <th>new_deaths_smoothed_per_million</th>\n",
       "      <th>new_tests</th>\n",
       "      <th>...</th>\n",
       "      <th>gdp_per_capita</th>\n",
       "      <th>extreme_poverty</th>\n",
       "      <th>cardiovasc_death_rate</th>\n",
       "      <th>diabetes_prevalence</th>\n",
       "      <th>female_smokers</th>\n",
       "      <th>male_smokers</th>\n",
       "      <th>handwashing_facilities</th>\n",
       "      <th>hospital_beds_per_thousand</th>\n",
       "      <th>life_expectancy</th>\n",
       "      <th>human_development_index</th>\n",
       "    </tr>\n",
       "  </thead>\n",
       "  <tbody>\n",
       "    <tr>\n",
       "      <th>27433</th>\n",
       "      <td>NPL</td>\n",
       "      <td>Asia</td>\n",
       "      <td>Nepal</td>\n",
       "      <td>2019-12-31</td>\n",
       "      <td>0.0</td>\n",
       "      <td>0.0</td>\n",
       "      <td>0.0</td>\n",
       "      <td>0.0</td>\n",
       "      <td>NaN</td>\n",
       "      <td>NaN</td>\n",
       "      <td>...</td>\n",
       "      <td>2442.804</td>\n",
       "      <td>15.0</td>\n",
       "      <td>260.797</td>\n",
       "      <td>7.26</td>\n",
       "      <td>9.5</td>\n",
       "      <td>37.8</td>\n",
       "      <td>47.782</td>\n",
       "      <td>0.3</td>\n",
       "      <td>70.78</td>\n",
       "      <td>0.574</td>\n",
       "    </tr>\n",
       "    <tr>\n",
       "      <th>27434</th>\n",
       "      <td>NPL</td>\n",
       "      <td>Asia</td>\n",
       "      <td>Nepal</td>\n",
       "      <td>2020-01-01</td>\n",
       "      <td>0.0</td>\n",
       "      <td>0.0</td>\n",
       "      <td>0.0</td>\n",
       "      <td>0.0</td>\n",
       "      <td>NaN</td>\n",
       "      <td>NaN</td>\n",
       "      <td>...</td>\n",
       "      <td>2442.804</td>\n",
       "      <td>15.0</td>\n",
       "      <td>260.797</td>\n",
       "      <td>7.26</td>\n",
       "      <td>9.5</td>\n",
       "      <td>37.8</td>\n",
       "      <td>47.782</td>\n",
       "      <td>0.3</td>\n",
       "      <td>70.78</td>\n",
       "      <td>0.574</td>\n",
       "    </tr>\n",
       "    <tr>\n",
       "      <th>27435</th>\n",
       "      <td>NPL</td>\n",
       "      <td>Asia</td>\n",
       "      <td>Nepal</td>\n",
       "      <td>2020-01-02</td>\n",
       "      <td>0.0</td>\n",
       "      <td>0.0</td>\n",
       "      <td>0.0</td>\n",
       "      <td>0.0</td>\n",
       "      <td>NaN</td>\n",
       "      <td>NaN</td>\n",
       "      <td>...</td>\n",
       "      <td>2442.804</td>\n",
       "      <td>15.0</td>\n",
       "      <td>260.797</td>\n",
       "      <td>7.26</td>\n",
       "      <td>9.5</td>\n",
       "      <td>37.8</td>\n",
       "      <td>47.782</td>\n",
       "      <td>0.3</td>\n",
       "      <td>70.78</td>\n",
       "      <td>0.574</td>\n",
       "    </tr>\n",
       "    <tr>\n",
       "      <th>27436</th>\n",
       "      <td>NPL</td>\n",
       "      <td>Asia</td>\n",
       "      <td>Nepal</td>\n",
       "      <td>2020-01-03</td>\n",
       "      <td>0.0</td>\n",
       "      <td>0.0</td>\n",
       "      <td>0.0</td>\n",
       "      <td>0.0</td>\n",
       "      <td>NaN</td>\n",
       "      <td>NaN</td>\n",
       "      <td>...</td>\n",
       "      <td>2442.804</td>\n",
       "      <td>15.0</td>\n",
       "      <td>260.797</td>\n",
       "      <td>7.26</td>\n",
       "      <td>9.5</td>\n",
       "      <td>37.8</td>\n",
       "      <td>47.782</td>\n",
       "      <td>0.3</td>\n",
       "      <td>70.78</td>\n",
       "      <td>0.574</td>\n",
       "    </tr>\n",
       "    <tr>\n",
       "      <th>27437</th>\n",
       "      <td>NPL</td>\n",
       "      <td>Asia</td>\n",
       "      <td>Nepal</td>\n",
       "      <td>2020-01-04</td>\n",
       "      <td>0.0</td>\n",
       "      <td>0.0</td>\n",
       "      <td>0.0</td>\n",
       "      <td>0.0</td>\n",
       "      <td>NaN</td>\n",
       "      <td>NaN</td>\n",
       "      <td>...</td>\n",
       "      <td>2442.804</td>\n",
       "      <td>15.0</td>\n",
       "      <td>260.797</td>\n",
       "      <td>7.26</td>\n",
       "      <td>9.5</td>\n",
       "      <td>37.8</td>\n",
       "      <td>47.782</td>\n",
       "      <td>0.3</td>\n",
       "      <td>70.78</td>\n",
       "      <td>0.574</td>\n",
       "    </tr>\n",
       "  </tbody>\n",
       "</table>\n",
       "<p>5 rows × 34 columns</p>\n",
       "</div>"
      ],
      "text/plain": [
       "      iso_code continent location        date  total_cases  new_cases  \\\n",
       "27433      NPL      Asia    Nepal  2019-12-31          0.0        0.0   \n",
       "27434      NPL      Asia    Nepal  2020-01-01          0.0        0.0   \n",
       "27435      NPL      Asia    Nepal  2020-01-02          0.0        0.0   \n",
       "27436      NPL      Asia    Nepal  2020-01-03          0.0        0.0   \n",
       "27437      NPL      Asia    Nepal  2020-01-04          0.0        0.0   \n",
       "\n",
       "       total_deaths  new_deaths  new_deaths_smoothed_per_million  new_tests  \\\n",
       "27433           0.0         0.0                              NaN        NaN   \n",
       "27434           0.0         0.0                              NaN        NaN   \n",
       "27435           0.0         0.0                              NaN        NaN   \n",
       "27436           0.0         0.0                              NaN        NaN   \n",
       "27437           0.0         0.0                              NaN        NaN   \n",
       "\n",
       "       ...  gdp_per_capita  extreme_poverty  cardiovasc_death_rate  \\\n",
       "27433  ...        2442.804             15.0                260.797   \n",
       "27434  ...        2442.804             15.0                260.797   \n",
       "27435  ...        2442.804             15.0                260.797   \n",
       "27436  ...        2442.804             15.0                260.797   \n",
       "27437  ...        2442.804             15.0                260.797   \n",
       "\n",
       "       diabetes_prevalence  female_smokers  male_smokers  \\\n",
       "27433                 7.26             9.5          37.8   \n",
       "27434                 7.26             9.5          37.8   \n",
       "27435                 7.26             9.5          37.8   \n",
       "27436                 7.26             9.5          37.8   \n",
       "27437                 7.26             9.5          37.8   \n",
       "\n",
       "       handwashing_facilities hospital_beds_per_thousand  life_expectancy  \\\n",
       "27433                  47.782                        0.3            70.78   \n",
       "27434                  47.782                        0.3            70.78   \n",
       "27435                  47.782                        0.3            70.78   \n",
       "27436                  47.782                        0.3            70.78   \n",
       "27437                  47.782                        0.3            70.78   \n",
       "\n",
       "       human_development_index  \n",
       "27433                    0.574  \n",
       "27434                    0.574  \n",
       "27435                    0.574  \n",
       "27436                    0.574  \n",
       "27437                    0.574  \n",
       "\n",
       "[5 rows x 34 columns]"
      ]
     },
     "execution_count": 730,
     "metadata": {},
     "output_type": "execute_result"
    }
   ],
   "source": [
    "nepal_case.head()"
   ]
  },
  {
   "cell_type": "code",
   "execution_count": 731,
   "metadata": {},
   "outputs": [],
   "source": [
    "nepal_case.drop(['new_deaths_smoothed_per_million','total_tests_per_thousand','new_tests_per_thousand'],axis=1,inplace=True)"
   ]
  },
  {
   "cell_type": "code",
   "execution_count": 732,
   "metadata": {},
   "outputs": [
    {
     "data": {
      "text/html": [
       "<div>\n",
       "<style scoped>\n",
       "    .dataframe tbody tr th:only-of-type {\n",
       "        vertical-align: middle;\n",
       "    }\n",
       "\n",
       "    .dataframe tbody tr th {\n",
       "        vertical-align: top;\n",
       "    }\n",
       "\n",
       "    .dataframe thead th {\n",
       "        text-align: right;\n",
       "    }\n",
       "</style>\n",
       "<table border=\"1\" class=\"dataframe\">\n",
       "  <thead>\n",
       "    <tr style=\"text-align: right;\">\n",
       "      <th></th>\n",
       "      <th>iso_code</th>\n",
       "      <th>continent</th>\n",
       "      <th>location</th>\n",
       "      <th>date</th>\n",
       "      <th>total_cases</th>\n",
       "      <th>new_cases</th>\n",
       "      <th>total_deaths</th>\n",
       "      <th>new_deaths</th>\n",
       "      <th>new_tests</th>\n",
       "      <th>total_tests</th>\n",
       "      <th>...</th>\n",
       "      <th>gdp_per_capita</th>\n",
       "      <th>extreme_poverty</th>\n",
       "      <th>cardiovasc_death_rate</th>\n",
       "      <th>diabetes_prevalence</th>\n",
       "      <th>female_smokers</th>\n",
       "      <th>male_smokers</th>\n",
       "      <th>handwashing_facilities</th>\n",
       "      <th>hospital_beds_per_thousand</th>\n",
       "      <th>life_expectancy</th>\n",
       "      <th>human_development_index</th>\n",
       "    </tr>\n",
       "  </thead>\n",
       "  <tbody>\n",
       "    <tr>\n",
       "      <th>27433</th>\n",
       "      <td>NPL</td>\n",
       "      <td>Asia</td>\n",
       "      <td>Nepal</td>\n",
       "      <td>2019-12-31</td>\n",
       "      <td>0.0</td>\n",
       "      <td>0.0</td>\n",
       "      <td>0.0</td>\n",
       "      <td>0.0</td>\n",
       "      <td>NaN</td>\n",
       "      <td>NaN</td>\n",
       "      <td>...</td>\n",
       "      <td>2442.804</td>\n",
       "      <td>15.0</td>\n",
       "      <td>260.797</td>\n",
       "      <td>7.26</td>\n",
       "      <td>9.5</td>\n",
       "      <td>37.8</td>\n",
       "      <td>47.782</td>\n",
       "      <td>0.3</td>\n",
       "      <td>70.78</td>\n",
       "      <td>0.574</td>\n",
       "    </tr>\n",
       "    <tr>\n",
       "      <th>27434</th>\n",
       "      <td>NPL</td>\n",
       "      <td>Asia</td>\n",
       "      <td>Nepal</td>\n",
       "      <td>2020-01-01</td>\n",
       "      <td>0.0</td>\n",
       "      <td>0.0</td>\n",
       "      <td>0.0</td>\n",
       "      <td>0.0</td>\n",
       "      <td>NaN</td>\n",
       "      <td>NaN</td>\n",
       "      <td>...</td>\n",
       "      <td>2442.804</td>\n",
       "      <td>15.0</td>\n",
       "      <td>260.797</td>\n",
       "      <td>7.26</td>\n",
       "      <td>9.5</td>\n",
       "      <td>37.8</td>\n",
       "      <td>47.782</td>\n",
       "      <td>0.3</td>\n",
       "      <td>70.78</td>\n",
       "      <td>0.574</td>\n",
       "    </tr>\n",
       "    <tr>\n",
       "      <th>27435</th>\n",
       "      <td>NPL</td>\n",
       "      <td>Asia</td>\n",
       "      <td>Nepal</td>\n",
       "      <td>2020-01-02</td>\n",
       "      <td>0.0</td>\n",
       "      <td>0.0</td>\n",
       "      <td>0.0</td>\n",
       "      <td>0.0</td>\n",
       "      <td>NaN</td>\n",
       "      <td>NaN</td>\n",
       "      <td>...</td>\n",
       "      <td>2442.804</td>\n",
       "      <td>15.0</td>\n",
       "      <td>260.797</td>\n",
       "      <td>7.26</td>\n",
       "      <td>9.5</td>\n",
       "      <td>37.8</td>\n",
       "      <td>47.782</td>\n",
       "      <td>0.3</td>\n",
       "      <td>70.78</td>\n",
       "      <td>0.574</td>\n",
       "    </tr>\n",
       "    <tr>\n",
       "      <th>27436</th>\n",
       "      <td>NPL</td>\n",
       "      <td>Asia</td>\n",
       "      <td>Nepal</td>\n",
       "      <td>2020-01-03</td>\n",
       "      <td>0.0</td>\n",
       "      <td>0.0</td>\n",
       "      <td>0.0</td>\n",
       "      <td>0.0</td>\n",
       "      <td>NaN</td>\n",
       "      <td>NaN</td>\n",
       "      <td>...</td>\n",
       "      <td>2442.804</td>\n",
       "      <td>15.0</td>\n",
       "      <td>260.797</td>\n",
       "      <td>7.26</td>\n",
       "      <td>9.5</td>\n",
       "      <td>37.8</td>\n",
       "      <td>47.782</td>\n",
       "      <td>0.3</td>\n",
       "      <td>70.78</td>\n",
       "      <td>0.574</td>\n",
       "    </tr>\n",
       "    <tr>\n",
       "      <th>27437</th>\n",
       "      <td>NPL</td>\n",
       "      <td>Asia</td>\n",
       "      <td>Nepal</td>\n",
       "      <td>2020-01-04</td>\n",
       "      <td>0.0</td>\n",
       "      <td>0.0</td>\n",
       "      <td>0.0</td>\n",
       "      <td>0.0</td>\n",
       "      <td>NaN</td>\n",
       "      <td>NaN</td>\n",
       "      <td>...</td>\n",
       "      <td>2442.804</td>\n",
       "      <td>15.0</td>\n",
       "      <td>260.797</td>\n",
       "      <td>7.26</td>\n",
       "      <td>9.5</td>\n",
       "      <td>37.8</td>\n",
       "      <td>47.782</td>\n",
       "      <td>0.3</td>\n",
       "      <td>70.78</td>\n",
       "      <td>0.574</td>\n",
       "    </tr>\n",
       "  </tbody>\n",
       "</table>\n",
       "<p>5 rows × 31 columns</p>\n",
       "</div>"
      ],
      "text/plain": [
       "      iso_code continent location        date  total_cases  new_cases  \\\n",
       "27433      NPL      Asia    Nepal  2019-12-31          0.0        0.0   \n",
       "27434      NPL      Asia    Nepal  2020-01-01          0.0        0.0   \n",
       "27435      NPL      Asia    Nepal  2020-01-02          0.0        0.0   \n",
       "27436      NPL      Asia    Nepal  2020-01-03          0.0        0.0   \n",
       "27437      NPL      Asia    Nepal  2020-01-04          0.0        0.0   \n",
       "\n",
       "       total_deaths  new_deaths  new_tests  total_tests  ...  gdp_per_capita  \\\n",
       "27433           0.0         0.0        NaN          NaN  ...        2442.804   \n",
       "27434           0.0         0.0        NaN          NaN  ...        2442.804   \n",
       "27435           0.0         0.0        NaN          NaN  ...        2442.804   \n",
       "27436           0.0         0.0        NaN          NaN  ...        2442.804   \n",
       "27437           0.0         0.0        NaN          NaN  ...        2442.804   \n",
       "\n",
       "       extreme_poverty  cardiovasc_death_rate  diabetes_prevalence  \\\n",
       "27433             15.0                260.797                 7.26   \n",
       "27434             15.0                260.797                 7.26   \n",
       "27435             15.0                260.797                 7.26   \n",
       "27436             15.0                260.797                 7.26   \n",
       "27437             15.0                260.797                 7.26   \n",
       "\n",
       "      female_smokers  male_smokers  handwashing_facilities  \\\n",
       "27433            9.5          37.8                  47.782   \n",
       "27434            9.5          37.8                  47.782   \n",
       "27435            9.5          37.8                  47.782   \n",
       "27436            9.5          37.8                  47.782   \n",
       "27437            9.5          37.8                  47.782   \n",
       "\n",
       "       hospital_beds_per_thousand  life_expectancy  human_development_index  \n",
       "27433                         0.3            70.78                    0.574  \n",
       "27434                         0.3            70.78                    0.574  \n",
       "27435                         0.3            70.78                    0.574  \n",
       "27436                         0.3            70.78                    0.574  \n",
       "27437                         0.3            70.78                    0.574  \n",
       "\n",
       "[5 rows x 31 columns]"
      ]
     },
     "execution_count": 732,
     "metadata": {},
     "output_type": "execute_result"
    }
   ],
   "source": [
    "nepal_case.head()"
   ]
  },
  {
   "cell_type": "code",
   "execution_count": 733,
   "metadata": {},
   "outputs": [
    {
     "data": {
      "text/plain": [
       "iso_code                            0\n",
       "continent                           0\n",
       "location                            0\n",
       "date                                0\n",
       "total_cases                        13\n",
       "new_cases                          13\n",
       "total_deaths                       13\n",
       "new_deaths                         13\n",
       "new_tests                          68\n",
       "total_tests                        55\n",
       "new_tests_smoothed                 38\n",
       "new_tests_smoothed_per_thousand    38\n",
       "tests_per_case                     87\n",
       "positive_rate                      38\n",
       "tests_units                        31\n",
       "stringency_index                    8\n",
       "population                          0\n",
       "population_density                  0\n",
       "median_age                          0\n",
       "aged_65_older                       0\n",
       "aged_70_older                       0\n",
       "gdp_per_capita                      0\n",
       "extreme_poverty                     0\n",
       "cardiovasc_death_rate               0\n",
       "diabetes_prevalence                 0\n",
       "female_smokers                      0\n",
       "male_smokers                        0\n",
       "handwashing_facilities              0\n",
       "hospital_beds_per_thousand          0\n",
       "life_expectancy                     0\n",
       "human_development_index             0\n",
       "dtype: int64"
      ]
     },
     "execution_count": 733,
     "metadata": {},
     "output_type": "execute_result"
    }
   ],
   "source": [
    "# Again lets check is there any null values inside our scrubbed data\n",
    "nepal_case.isna().sum()"
   ]
  },
  {
   "cell_type": "markdown",
   "metadata": {},
   "source": [
    "## Another important thing in Machine Learning is that machine learning algorithm can only read the numbers. In fact, machine can learn only numbers and find the pattern from that numeric data, any string data must be converted to numerical data before proceding forward.\n",
    "> Lets check the data types of our data"
   ]
  },
  {
   "cell_type": "code",
   "execution_count": 734,
   "metadata": {},
   "outputs": [
    {
     "data": {
      "text/plain": [
       "iso_code                            object\n",
       "continent                           object\n",
       "location                            object\n",
       "date                                object\n",
       "total_cases                        float64\n",
       "new_cases                          float64\n",
       "total_deaths                       float64\n",
       "new_deaths                         float64\n",
       "new_tests                          float64\n",
       "total_tests                        float64\n",
       "new_tests_smoothed                 float64\n",
       "new_tests_smoothed_per_thousand    float64\n",
       "tests_per_case                     float64\n",
       "positive_rate                      float64\n",
       "tests_units                         object\n",
       "stringency_index                   float64\n",
       "population                         float64\n",
       "population_density                 float64\n",
       "median_age                         float64\n",
       "aged_65_older                      float64\n",
       "aged_70_older                      float64\n",
       "gdp_per_capita                     float64\n",
       "extreme_poverty                    float64\n",
       "cardiovasc_death_rate              float64\n",
       "diabetes_prevalence                float64\n",
       "female_smokers                     float64\n",
       "male_smokers                       float64\n",
       "handwashing_facilities             float64\n",
       "hospital_beds_per_thousand         float64\n",
       "life_expectancy                    float64\n",
       "human_development_index            float64\n",
       "dtype: object"
      ]
     },
     "execution_count": 734,
     "metadata": {},
     "output_type": "execute_result"
    }
   ],
   "source": [
    "nepal_case.dtypes"
   ]
  },
  {
   "cell_type": "code",
   "execution_count": 735,
   "metadata": {},
   "outputs": [
    {
     "data": {
      "text/plain": [
       "27433                NaN\n",
       "27434                NaN\n",
       "27435                NaN\n",
       "27436                NaN\n",
       "27437                NaN\n",
       "              ...       \n",
       "27685    tests performed\n",
       "27686    tests performed\n",
       "27687                NaN\n",
       "27688                NaN\n",
       "27689                NaN\n",
       "Name: tests_units, Length: 257, dtype: object"
      ]
     },
     "execution_count": 735,
     "metadata": {},
     "output_type": "execute_result"
    }
   ],
   "source": [
    "nepal_case['tests_units']"
   ]
  },
  {
   "cell_type": "code",
   "execution_count": 736,
   "metadata": {},
   "outputs": [
    {
     "data": {
      "text/plain": [
       "dtype('O')"
      ]
     },
     "execution_count": 736,
     "metadata": {},
     "output_type": "execute_result"
    }
   ],
   "source": [
    "nepal_case['date'].dtypes"
   ]
  },
  {
   "cell_type": "code",
   "execution_count": 737,
   "metadata": {},
   "outputs": [
    {
     "data": {
      "text/html": [
       "<div>\n",
       "<style scoped>\n",
       "    .dataframe tbody tr th:only-of-type {\n",
       "        vertical-align: middle;\n",
       "    }\n",
       "\n",
       "    .dataframe tbody tr th {\n",
       "        vertical-align: top;\n",
       "    }\n",
       "\n",
       "    .dataframe thead th {\n",
       "        text-align: right;\n",
       "    }\n",
       "</style>\n",
       "<table border=\"1\" class=\"dataframe\">\n",
       "  <thead>\n",
       "    <tr style=\"text-align: right;\">\n",
       "      <th></th>\n",
       "      <th>iso_code</th>\n",
       "      <th>continent</th>\n",
       "      <th>location</th>\n",
       "      <th>date</th>\n",
       "      <th>total_cases</th>\n",
       "      <th>new_cases</th>\n",
       "      <th>total_deaths</th>\n",
       "      <th>new_deaths</th>\n",
       "      <th>new_tests</th>\n",
       "      <th>total_tests</th>\n",
       "      <th>...</th>\n",
       "      <th>gdp_per_capita</th>\n",
       "      <th>extreme_poverty</th>\n",
       "      <th>cardiovasc_death_rate</th>\n",
       "      <th>diabetes_prevalence</th>\n",
       "      <th>female_smokers</th>\n",
       "      <th>male_smokers</th>\n",
       "      <th>handwashing_facilities</th>\n",
       "      <th>hospital_beds_per_thousand</th>\n",
       "      <th>life_expectancy</th>\n",
       "      <th>human_development_index</th>\n",
       "    </tr>\n",
       "  </thead>\n",
       "  <tbody>\n",
       "    <tr>\n",
       "      <th>27433</th>\n",
       "      <td>NPL</td>\n",
       "      <td>Asia</td>\n",
       "      <td>Nepal</td>\n",
       "      <td>2019-12-31</td>\n",
       "      <td>0.0</td>\n",
       "      <td>0.0</td>\n",
       "      <td>0.0</td>\n",
       "      <td>0.0</td>\n",
       "      <td>NaN</td>\n",
       "      <td>NaN</td>\n",
       "      <td>...</td>\n",
       "      <td>2442.804</td>\n",
       "      <td>15.0</td>\n",
       "      <td>260.797</td>\n",
       "      <td>7.26</td>\n",
       "      <td>9.5</td>\n",
       "      <td>37.8</td>\n",
       "      <td>47.782</td>\n",
       "      <td>0.3</td>\n",
       "      <td>70.78</td>\n",
       "      <td>0.574</td>\n",
       "    </tr>\n",
       "    <tr>\n",
       "      <th>27434</th>\n",
       "      <td>NPL</td>\n",
       "      <td>Asia</td>\n",
       "      <td>Nepal</td>\n",
       "      <td>2020-01-01</td>\n",
       "      <td>0.0</td>\n",
       "      <td>0.0</td>\n",
       "      <td>0.0</td>\n",
       "      <td>0.0</td>\n",
       "      <td>NaN</td>\n",
       "      <td>NaN</td>\n",
       "      <td>...</td>\n",
       "      <td>2442.804</td>\n",
       "      <td>15.0</td>\n",
       "      <td>260.797</td>\n",
       "      <td>7.26</td>\n",
       "      <td>9.5</td>\n",
       "      <td>37.8</td>\n",
       "      <td>47.782</td>\n",
       "      <td>0.3</td>\n",
       "      <td>70.78</td>\n",
       "      <td>0.574</td>\n",
       "    </tr>\n",
       "    <tr>\n",
       "      <th>27435</th>\n",
       "      <td>NPL</td>\n",
       "      <td>Asia</td>\n",
       "      <td>Nepal</td>\n",
       "      <td>2020-01-02</td>\n",
       "      <td>0.0</td>\n",
       "      <td>0.0</td>\n",
       "      <td>0.0</td>\n",
       "      <td>0.0</td>\n",
       "      <td>NaN</td>\n",
       "      <td>NaN</td>\n",
       "      <td>...</td>\n",
       "      <td>2442.804</td>\n",
       "      <td>15.0</td>\n",
       "      <td>260.797</td>\n",
       "      <td>7.26</td>\n",
       "      <td>9.5</td>\n",
       "      <td>37.8</td>\n",
       "      <td>47.782</td>\n",
       "      <td>0.3</td>\n",
       "      <td>70.78</td>\n",
       "      <td>0.574</td>\n",
       "    </tr>\n",
       "    <tr>\n",
       "      <th>27436</th>\n",
       "      <td>NPL</td>\n",
       "      <td>Asia</td>\n",
       "      <td>Nepal</td>\n",
       "      <td>2020-01-03</td>\n",
       "      <td>0.0</td>\n",
       "      <td>0.0</td>\n",
       "      <td>0.0</td>\n",
       "      <td>0.0</td>\n",
       "      <td>NaN</td>\n",
       "      <td>NaN</td>\n",
       "      <td>...</td>\n",
       "      <td>2442.804</td>\n",
       "      <td>15.0</td>\n",
       "      <td>260.797</td>\n",
       "      <td>7.26</td>\n",
       "      <td>9.5</td>\n",
       "      <td>37.8</td>\n",
       "      <td>47.782</td>\n",
       "      <td>0.3</td>\n",
       "      <td>70.78</td>\n",
       "      <td>0.574</td>\n",
       "    </tr>\n",
       "    <tr>\n",
       "      <th>27437</th>\n",
       "      <td>NPL</td>\n",
       "      <td>Asia</td>\n",
       "      <td>Nepal</td>\n",
       "      <td>2020-01-04</td>\n",
       "      <td>0.0</td>\n",
       "      <td>0.0</td>\n",
       "      <td>0.0</td>\n",
       "      <td>0.0</td>\n",
       "      <td>NaN</td>\n",
       "      <td>NaN</td>\n",
       "      <td>...</td>\n",
       "      <td>2442.804</td>\n",
       "      <td>15.0</td>\n",
       "      <td>260.797</td>\n",
       "      <td>7.26</td>\n",
       "      <td>9.5</td>\n",
       "      <td>37.8</td>\n",
       "      <td>47.782</td>\n",
       "      <td>0.3</td>\n",
       "      <td>70.78</td>\n",
       "      <td>0.574</td>\n",
       "    </tr>\n",
       "  </tbody>\n",
       "</table>\n",
       "<p>5 rows × 31 columns</p>\n",
       "</div>"
      ],
      "text/plain": [
       "      iso_code continent location        date  total_cases  new_cases  \\\n",
       "27433      NPL      Asia    Nepal  2019-12-31          0.0        0.0   \n",
       "27434      NPL      Asia    Nepal  2020-01-01          0.0        0.0   \n",
       "27435      NPL      Asia    Nepal  2020-01-02          0.0        0.0   \n",
       "27436      NPL      Asia    Nepal  2020-01-03          0.0        0.0   \n",
       "27437      NPL      Asia    Nepal  2020-01-04          0.0        0.0   \n",
       "\n",
       "       total_deaths  new_deaths  new_tests  total_tests  ...  gdp_per_capita  \\\n",
       "27433           0.0         0.0        NaN          NaN  ...        2442.804   \n",
       "27434           0.0         0.0        NaN          NaN  ...        2442.804   \n",
       "27435           0.0         0.0        NaN          NaN  ...        2442.804   \n",
       "27436           0.0         0.0        NaN          NaN  ...        2442.804   \n",
       "27437           0.0         0.0        NaN          NaN  ...        2442.804   \n",
       "\n",
       "       extreme_poverty  cardiovasc_death_rate  diabetes_prevalence  \\\n",
       "27433             15.0                260.797                 7.26   \n",
       "27434             15.0                260.797                 7.26   \n",
       "27435             15.0                260.797                 7.26   \n",
       "27436             15.0                260.797                 7.26   \n",
       "27437             15.0                260.797                 7.26   \n",
       "\n",
       "      female_smokers  male_smokers  handwashing_facilities  \\\n",
       "27433            9.5          37.8                  47.782   \n",
       "27434            9.5          37.8                  47.782   \n",
       "27435            9.5          37.8                  47.782   \n",
       "27436            9.5          37.8                  47.782   \n",
       "27437            9.5          37.8                  47.782   \n",
       "\n",
       "       hospital_beds_per_thousand  life_expectancy  human_development_index  \n",
       "27433                         0.3            70.78                    0.574  \n",
       "27434                         0.3            70.78                    0.574  \n",
       "27435                         0.3            70.78                    0.574  \n",
       "27436                         0.3            70.78                    0.574  \n",
       "27437                         0.3            70.78                    0.574  \n",
       "\n",
       "[5 rows x 31 columns]"
      ]
     },
     "execution_count": 737,
     "metadata": {},
     "output_type": "execute_result"
    }
   ],
   "source": [
    "nepal_case.head()"
   ]
  },
  {
   "cell_type": "code",
   "execution_count": 738,
   "metadata": {},
   "outputs": [],
   "source": [
    "nepal_case['date'] = pd.to_datetime(nepal_case['date'])"
   ]
  },
  {
   "cell_type": "code",
   "execution_count": 739,
   "metadata": {},
   "outputs": [],
   "source": [
    "nepal_case['month'] = nepal_case.date.dt.month"
   ]
  },
  {
   "cell_type": "code",
   "execution_count": 740,
   "metadata": {},
   "outputs": [],
   "source": [
    "nepal_case['date'] = pd.to_datetime(nepal_case['date'])"
   ]
  },
  {
   "cell_type": "code",
   "execution_count": 741,
   "metadata": {},
   "outputs": [
    {
     "data": {
      "text/html": [
       "<div>\n",
       "<style scoped>\n",
       "    .dataframe tbody tr th:only-of-type {\n",
       "        vertical-align: middle;\n",
       "    }\n",
       "\n",
       "    .dataframe tbody tr th {\n",
       "        vertical-align: top;\n",
       "    }\n",
       "\n",
       "    .dataframe thead th {\n",
       "        text-align: right;\n",
       "    }\n",
       "</style>\n",
       "<table border=\"1\" class=\"dataframe\">\n",
       "  <thead>\n",
       "    <tr style=\"text-align: right;\">\n",
       "      <th></th>\n",
       "      <th>iso_code</th>\n",
       "      <th>continent</th>\n",
       "      <th>location</th>\n",
       "      <th>date</th>\n",
       "      <th>total_cases</th>\n",
       "      <th>new_cases</th>\n",
       "      <th>total_deaths</th>\n",
       "      <th>new_deaths</th>\n",
       "      <th>new_tests</th>\n",
       "      <th>total_tests</th>\n",
       "      <th>...</th>\n",
       "      <th>extreme_poverty</th>\n",
       "      <th>cardiovasc_death_rate</th>\n",
       "      <th>diabetes_prevalence</th>\n",
       "      <th>female_smokers</th>\n",
       "      <th>male_smokers</th>\n",
       "      <th>handwashing_facilities</th>\n",
       "      <th>hospital_beds_per_thousand</th>\n",
       "      <th>life_expectancy</th>\n",
       "      <th>human_development_index</th>\n",
       "      <th>month</th>\n",
       "    </tr>\n",
       "  </thead>\n",
       "  <tbody>\n",
       "    <tr>\n",
       "      <th>27433</th>\n",
       "      <td>NPL</td>\n",
       "      <td>Asia</td>\n",
       "      <td>Nepal</td>\n",
       "      <td>2019-12-31</td>\n",
       "      <td>0.0</td>\n",
       "      <td>0.0</td>\n",
       "      <td>0.0</td>\n",
       "      <td>0.0</td>\n",
       "      <td>NaN</td>\n",
       "      <td>NaN</td>\n",
       "      <td>...</td>\n",
       "      <td>15.0</td>\n",
       "      <td>260.797</td>\n",
       "      <td>7.26</td>\n",
       "      <td>9.5</td>\n",
       "      <td>37.8</td>\n",
       "      <td>47.782</td>\n",
       "      <td>0.3</td>\n",
       "      <td>70.78</td>\n",
       "      <td>0.574</td>\n",
       "      <td>12</td>\n",
       "    </tr>\n",
       "    <tr>\n",
       "      <th>27434</th>\n",
       "      <td>NPL</td>\n",
       "      <td>Asia</td>\n",
       "      <td>Nepal</td>\n",
       "      <td>2020-01-01</td>\n",
       "      <td>0.0</td>\n",
       "      <td>0.0</td>\n",
       "      <td>0.0</td>\n",
       "      <td>0.0</td>\n",
       "      <td>NaN</td>\n",
       "      <td>NaN</td>\n",
       "      <td>...</td>\n",
       "      <td>15.0</td>\n",
       "      <td>260.797</td>\n",
       "      <td>7.26</td>\n",
       "      <td>9.5</td>\n",
       "      <td>37.8</td>\n",
       "      <td>47.782</td>\n",
       "      <td>0.3</td>\n",
       "      <td>70.78</td>\n",
       "      <td>0.574</td>\n",
       "      <td>1</td>\n",
       "    </tr>\n",
       "    <tr>\n",
       "      <th>27435</th>\n",
       "      <td>NPL</td>\n",
       "      <td>Asia</td>\n",
       "      <td>Nepal</td>\n",
       "      <td>2020-01-02</td>\n",
       "      <td>0.0</td>\n",
       "      <td>0.0</td>\n",
       "      <td>0.0</td>\n",
       "      <td>0.0</td>\n",
       "      <td>NaN</td>\n",
       "      <td>NaN</td>\n",
       "      <td>...</td>\n",
       "      <td>15.0</td>\n",
       "      <td>260.797</td>\n",
       "      <td>7.26</td>\n",
       "      <td>9.5</td>\n",
       "      <td>37.8</td>\n",
       "      <td>47.782</td>\n",
       "      <td>0.3</td>\n",
       "      <td>70.78</td>\n",
       "      <td>0.574</td>\n",
       "      <td>1</td>\n",
       "    </tr>\n",
       "    <tr>\n",
       "      <th>27436</th>\n",
       "      <td>NPL</td>\n",
       "      <td>Asia</td>\n",
       "      <td>Nepal</td>\n",
       "      <td>2020-01-03</td>\n",
       "      <td>0.0</td>\n",
       "      <td>0.0</td>\n",
       "      <td>0.0</td>\n",
       "      <td>0.0</td>\n",
       "      <td>NaN</td>\n",
       "      <td>NaN</td>\n",
       "      <td>...</td>\n",
       "      <td>15.0</td>\n",
       "      <td>260.797</td>\n",
       "      <td>7.26</td>\n",
       "      <td>9.5</td>\n",
       "      <td>37.8</td>\n",
       "      <td>47.782</td>\n",
       "      <td>0.3</td>\n",
       "      <td>70.78</td>\n",
       "      <td>0.574</td>\n",
       "      <td>1</td>\n",
       "    </tr>\n",
       "    <tr>\n",
       "      <th>27437</th>\n",
       "      <td>NPL</td>\n",
       "      <td>Asia</td>\n",
       "      <td>Nepal</td>\n",
       "      <td>2020-01-04</td>\n",
       "      <td>0.0</td>\n",
       "      <td>0.0</td>\n",
       "      <td>0.0</td>\n",
       "      <td>0.0</td>\n",
       "      <td>NaN</td>\n",
       "      <td>NaN</td>\n",
       "      <td>...</td>\n",
       "      <td>15.0</td>\n",
       "      <td>260.797</td>\n",
       "      <td>7.26</td>\n",
       "      <td>9.5</td>\n",
       "      <td>37.8</td>\n",
       "      <td>47.782</td>\n",
       "      <td>0.3</td>\n",
       "      <td>70.78</td>\n",
       "      <td>0.574</td>\n",
       "      <td>1</td>\n",
       "    </tr>\n",
       "  </tbody>\n",
       "</table>\n",
       "<p>5 rows × 32 columns</p>\n",
       "</div>"
      ],
      "text/plain": [
       "      iso_code continent location       date  total_cases  new_cases  \\\n",
       "27433      NPL      Asia    Nepal 2019-12-31          0.0        0.0   \n",
       "27434      NPL      Asia    Nepal 2020-01-01          0.0        0.0   \n",
       "27435      NPL      Asia    Nepal 2020-01-02          0.0        0.0   \n",
       "27436      NPL      Asia    Nepal 2020-01-03          0.0        0.0   \n",
       "27437      NPL      Asia    Nepal 2020-01-04          0.0        0.0   \n",
       "\n",
       "       total_deaths  new_deaths  new_tests  total_tests  ...  extreme_poverty  \\\n",
       "27433           0.0         0.0        NaN          NaN  ...             15.0   \n",
       "27434           0.0         0.0        NaN          NaN  ...             15.0   \n",
       "27435           0.0         0.0        NaN          NaN  ...             15.0   \n",
       "27436           0.0         0.0        NaN          NaN  ...             15.0   \n",
       "27437           0.0         0.0        NaN          NaN  ...             15.0   \n",
       "\n",
       "       cardiovasc_death_rate  diabetes_prevalence  female_smokers  \\\n",
       "27433                260.797                 7.26             9.5   \n",
       "27434                260.797                 7.26             9.5   \n",
       "27435                260.797                 7.26             9.5   \n",
       "27436                260.797                 7.26             9.5   \n",
       "27437                260.797                 7.26             9.5   \n",
       "\n",
       "      male_smokers  handwashing_facilities  hospital_beds_per_thousand  \\\n",
       "27433         37.8                  47.782                         0.3   \n",
       "27434         37.8                  47.782                         0.3   \n",
       "27435         37.8                  47.782                         0.3   \n",
       "27436         37.8                  47.782                         0.3   \n",
       "27437         37.8                  47.782                         0.3   \n",
       "\n",
       "       life_expectancy  human_development_index  month  \n",
       "27433            70.78                    0.574     12  \n",
       "27434            70.78                    0.574      1  \n",
       "27435            70.78                    0.574      1  \n",
       "27436            70.78                    0.574      1  \n",
       "27437            70.78                    0.574      1  \n",
       "\n",
       "[5 rows x 32 columns]"
      ]
     },
     "execution_count": 741,
     "metadata": {},
     "output_type": "execute_result"
    }
   ],
   "source": [
    "nepal_case.head()"
   ]
  },
  {
   "cell_type": "code",
   "execution_count": 742,
   "metadata": {},
   "outputs": [
    {
     "data": {
      "text/plain": [
       "iso_code                                   object\n",
       "continent                                  object\n",
       "location                                   object\n",
       "date                               datetime64[ns]\n",
       "total_cases                               float64\n",
       "new_cases                                 float64\n",
       "total_deaths                              float64\n",
       "new_deaths                                float64\n",
       "new_tests                                 float64\n",
       "total_tests                               float64\n",
       "new_tests_smoothed                        float64\n",
       "new_tests_smoothed_per_thousand           float64\n",
       "tests_per_case                            float64\n",
       "positive_rate                             float64\n",
       "tests_units                                object\n",
       "stringency_index                          float64\n",
       "population                                float64\n",
       "population_density                        float64\n",
       "median_age                                float64\n",
       "aged_65_older                             float64\n",
       "aged_70_older                             float64\n",
       "gdp_per_capita                            float64\n",
       "extreme_poverty                           float64\n",
       "cardiovasc_death_rate                     float64\n",
       "diabetes_prevalence                       float64\n",
       "female_smokers                            float64\n",
       "male_smokers                              float64\n",
       "handwashing_facilities                    float64\n",
       "hospital_beds_per_thousand                float64\n",
       "life_expectancy                           float64\n",
       "human_development_index                   float64\n",
       "month                                       int64\n",
       "dtype: object"
      ]
     },
     "execution_count": 742,
     "metadata": {},
     "output_type": "execute_result"
    }
   ],
   "source": [
    "nepal_case.dtypes"
   ]
  },
  {
   "cell_type": "code",
   "execution_count": 743,
   "metadata": {},
   "outputs": [],
   "source": [
    "nepal_case['month'] = nepal_case['date'].dt.month"
   ]
  },
  {
   "cell_type": "code",
   "execution_count": 744,
   "metadata": {},
   "outputs": [
    {
     "data": {
      "text/html": [
       "<div>\n",
       "<style scoped>\n",
       "    .dataframe tbody tr th:only-of-type {\n",
       "        vertical-align: middle;\n",
       "    }\n",
       "\n",
       "    .dataframe tbody tr th {\n",
       "        vertical-align: top;\n",
       "    }\n",
       "\n",
       "    .dataframe thead th {\n",
       "        text-align: right;\n",
       "    }\n",
       "</style>\n",
       "<table border=\"1\" class=\"dataframe\">\n",
       "  <thead>\n",
       "    <tr style=\"text-align: right;\">\n",
       "      <th></th>\n",
       "      <th>iso_code</th>\n",
       "      <th>continent</th>\n",
       "      <th>location</th>\n",
       "      <th>date</th>\n",
       "      <th>total_cases</th>\n",
       "      <th>new_cases</th>\n",
       "      <th>total_deaths</th>\n",
       "      <th>new_deaths</th>\n",
       "      <th>new_tests</th>\n",
       "      <th>total_tests</th>\n",
       "      <th>...</th>\n",
       "      <th>extreme_poverty</th>\n",
       "      <th>cardiovasc_death_rate</th>\n",
       "      <th>diabetes_prevalence</th>\n",
       "      <th>female_smokers</th>\n",
       "      <th>male_smokers</th>\n",
       "      <th>handwashing_facilities</th>\n",
       "      <th>hospital_beds_per_thousand</th>\n",
       "      <th>life_expectancy</th>\n",
       "      <th>human_development_index</th>\n",
       "      <th>month</th>\n",
       "    </tr>\n",
       "  </thead>\n",
       "  <tbody>\n",
       "    <tr>\n",
       "      <th>27433</th>\n",
       "      <td>NPL</td>\n",
       "      <td>Asia</td>\n",
       "      <td>Nepal</td>\n",
       "      <td>2019-12-31</td>\n",
       "      <td>0.0</td>\n",
       "      <td>0.0</td>\n",
       "      <td>0.0</td>\n",
       "      <td>0.0</td>\n",
       "      <td>NaN</td>\n",
       "      <td>NaN</td>\n",
       "      <td>...</td>\n",
       "      <td>15.0</td>\n",
       "      <td>260.797</td>\n",
       "      <td>7.26</td>\n",
       "      <td>9.5</td>\n",
       "      <td>37.8</td>\n",
       "      <td>47.782</td>\n",
       "      <td>0.3</td>\n",
       "      <td>70.78</td>\n",
       "      <td>0.574</td>\n",
       "      <td>12</td>\n",
       "    </tr>\n",
       "    <tr>\n",
       "      <th>27434</th>\n",
       "      <td>NPL</td>\n",
       "      <td>Asia</td>\n",
       "      <td>Nepal</td>\n",
       "      <td>2020-01-01</td>\n",
       "      <td>0.0</td>\n",
       "      <td>0.0</td>\n",
       "      <td>0.0</td>\n",
       "      <td>0.0</td>\n",
       "      <td>NaN</td>\n",
       "      <td>NaN</td>\n",
       "      <td>...</td>\n",
       "      <td>15.0</td>\n",
       "      <td>260.797</td>\n",
       "      <td>7.26</td>\n",
       "      <td>9.5</td>\n",
       "      <td>37.8</td>\n",
       "      <td>47.782</td>\n",
       "      <td>0.3</td>\n",
       "      <td>70.78</td>\n",
       "      <td>0.574</td>\n",
       "      <td>1</td>\n",
       "    </tr>\n",
       "    <tr>\n",
       "      <th>27435</th>\n",
       "      <td>NPL</td>\n",
       "      <td>Asia</td>\n",
       "      <td>Nepal</td>\n",
       "      <td>2020-01-02</td>\n",
       "      <td>0.0</td>\n",
       "      <td>0.0</td>\n",
       "      <td>0.0</td>\n",
       "      <td>0.0</td>\n",
       "      <td>NaN</td>\n",
       "      <td>NaN</td>\n",
       "      <td>...</td>\n",
       "      <td>15.0</td>\n",
       "      <td>260.797</td>\n",
       "      <td>7.26</td>\n",
       "      <td>9.5</td>\n",
       "      <td>37.8</td>\n",
       "      <td>47.782</td>\n",
       "      <td>0.3</td>\n",
       "      <td>70.78</td>\n",
       "      <td>0.574</td>\n",
       "      <td>1</td>\n",
       "    </tr>\n",
       "    <tr>\n",
       "      <th>27436</th>\n",
       "      <td>NPL</td>\n",
       "      <td>Asia</td>\n",
       "      <td>Nepal</td>\n",
       "      <td>2020-01-03</td>\n",
       "      <td>0.0</td>\n",
       "      <td>0.0</td>\n",
       "      <td>0.0</td>\n",
       "      <td>0.0</td>\n",
       "      <td>NaN</td>\n",
       "      <td>NaN</td>\n",
       "      <td>...</td>\n",
       "      <td>15.0</td>\n",
       "      <td>260.797</td>\n",
       "      <td>7.26</td>\n",
       "      <td>9.5</td>\n",
       "      <td>37.8</td>\n",
       "      <td>47.782</td>\n",
       "      <td>0.3</td>\n",
       "      <td>70.78</td>\n",
       "      <td>0.574</td>\n",
       "      <td>1</td>\n",
       "    </tr>\n",
       "    <tr>\n",
       "      <th>27437</th>\n",
       "      <td>NPL</td>\n",
       "      <td>Asia</td>\n",
       "      <td>Nepal</td>\n",
       "      <td>2020-01-04</td>\n",
       "      <td>0.0</td>\n",
       "      <td>0.0</td>\n",
       "      <td>0.0</td>\n",
       "      <td>0.0</td>\n",
       "      <td>NaN</td>\n",
       "      <td>NaN</td>\n",
       "      <td>...</td>\n",
       "      <td>15.0</td>\n",
       "      <td>260.797</td>\n",
       "      <td>7.26</td>\n",
       "      <td>9.5</td>\n",
       "      <td>37.8</td>\n",
       "      <td>47.782</td>\n",
       "      <td>0.3</td>\n",
       "      <td>70.78</td>\n",
       "      <td>0.574</td>\n",
       "      <td>1</td>\n",
       "    </tr>\n",
       "  </tbody>\n",
       "</table>\n",
       "<p>5 rows × 32 columns</p>\n",
       "</div>"
      ],
      "text/plain": [
       "      iso_code continent location       date  total_cases  new_cases  \\\n",
       "27433      NPL      Asia    Nepal 2019-12-31          0.0        0.0   \n",
       "27434      NPL      Asia    Nepal 2020-01-01          0.0        0.0   \n",
       "27435      NPL      Asia    Nepal 2020-01-02          0.0        0.0   \n",
       "27436      NPL      Asia    Nepal 2020-01-03          0.0        0.0   \n",
       "27437      NPL      Asia    Nepal 2020-01-04          0.0        0.0   \n",
       "\n",
       "       total_deaths  new_deaths  new_tests  total_tests  ...  extreme_poverty  \\\n",
       "27433           0.0         0.0        NaN          NaN  ...             15.0   \n",
       "27434           0.0         0.0        NaN          NaN  ...             15.0   \n",
       "27435           0.0         0.0        NaN          NaN  ...             15.0   \n",
       "27436           0.0         0.0        NaN          NaN  ...             15.0   \n",
       "27437           0.0         0.0        NaN          NaN  ...             15.0   \n",
       "\n",
       "       cardiovasc_death_rate  diabetes_prevalence  female_smokers  \\\n",
       "27433                260.797                 7.26             9.5   \n",
       "27434                260.797                 7.26             9.5   \n",
       "27435                260.797                 7.26             9.5   \n",
       "27436                260.797                 7.26             9.5   \n",
       "27437                260.797                 7.26             9.5   \n",
       "\n",
       "      male_smokers  handwashing_facilities  hospital_beds_per_thousand  \\\n",
       "27433         37.8                  47.782                         0.3   \n",
       "27434         37.8                  47.782                         0.3   \n",
       "27435         37.8                  47.782                         0.3   \n",
       "27436         37.8                  47.782                         0.3   \n",
       "27437         37.8                  47.782                         0.3   \n",
       "\n",
       "       life_expectancy  human_development_index  month  \n",
       "27433            70.78                    0.574     12  \n",
       "27434            70.78                    0.574      1  \n",
       "27435            70.78                    0.574      1  \n",
       "27436            70.78                    0.574      1  \n",
       "27437            70.78                    0.574      1  \n",
       "\n",
       "[5 rows x 32 columns]"
      ]
     },
     "execution_count": 744,
     "metadata": {},
     "output_type": "execute_result"
    }
   ],
   "source": [
    "nepal_case.head()"
   ]
  },
  {
   "cell_type": "code",
   "execution_count": 745,
   "metadata": {},
   "outputs": [],
   "source": [
    "nepal_case['day'] = nepal_case['date'].dt.day"
   ]
  },
  {
   "cell_type": "code",
   "execution_count": 746,
   "metadata": {},
   "outputs": [
    {
     "data": {
      "text/html": [
       "<div>\n",
       "<style scoped>\n",
       "    .dataframe tbody tr th:only-of-type {\n",
       "        vertical-align: middle;\n",
       "    }\n",
       "\n",
       "    .dataframe tbody tr th {\n",
       "        vertical-align: top;\n",
       "    }\n",
       "\n",
       "    .dataframe thead th {\n",
       "        text-align: right;\n",
       "    }\n",
       "</style>\n",
       "<table border=\"1\" class=\"dataframe\">\n",
       "  <thead>\n",
       "    <tr style=\"text-align: right;\">\n",
       "      <th></th>\n",
       "      <th>iso_code</th>\n",
       "      <th>continent</th>\n",
       "      <th>location</th>\n",
       "      <th>date</th>\n",
       "      <th>total_cases</th>\n",
       "      <th>new_cases</th>\n",
       "      <th>total_deaths</th>\n",
       "      <th>new_deaths</th>\n",
       "      <th>new_tests</th>\n",
       "      <th>total_tests</th>\n",
       "      <th>...</th>\n",
       "      <th>cardiovasc_death_rate</th>\n",
       "      <th>diabetes_prevalence</th>\n",
       "      <th>female_smokers</th>\n",
       "      <th>male_smokers</th>\n",
       "      <th>handwashing_facilities</th>\n",
       "      <th>hospital_beds_per_thousand</th>\n",
       "      <th>life_expectancy</th>\n",
       "      <th>human_development_index</th>\n",
       "      <th>month</th>\n",
       "      <th>day</th>\n",
       "    </tr>\n",
       "  </thead>\n",
       "  <tbody>\n",
       "    <tr>\n",
       "      <th>27433</th>\n",
       "      <td>NPL</td>\n",
       "      <td>Asia</td>\n",
       "      <td>Nepal</td>\n",
       "      <td>2019-12-31</td>\n",
       "      <td>0.0</td>\n",
       "      <td>0.0</td>\n",
       "      <td>0.0</td>\n",
       "      <td>0.0</td>\n",
       "      <td>NaN</td>\n",
       "      <td>NaN</td>\n",
       "      <td>...</td>\n",
       "      <td>260.797</td>\n",
       "      <td>7.26</td>\n",
       "      <td>9.5</td>\n",
       "      <td>37.8</td>\n",
       "      <td>47.782</td>\n",
       "      <td>0.3</td>\n",
       "      <td>70.78</td>\n",
       "      <td>0.574</td>\n",
       "      <td>12</td>\n",
       "      <td>31</td>\n",
       "    </tr>\n",
       "    <tr>\n",
       "      <th>27434</th>\n",
       "      <td>NPL</td>\n",
       "      <td>Asia</td>\n",
       "      <td>Nepal</td>\n",
       "      <td>2020-01-01</td>\n",
       "      <td>0.0</td>\n",
       "      <td>0.0</td>\n",
       "      <td>0.0</td>\n",
       "      <td>0.0</td>\n",
       "      <td>NaN</td>\n",
       "      <td>NaN</td>\n",
       "      <td>...</td>\n",
       "      <td>260.797</td>\n",
       "      <td>7.26</td>\n",
       "      <td>9.5</td>\n",
       "      <td>37.8</td>\n",
       "      <td>47.782</td>\n",
       "      <td>0.3</td>\n",
       "      <td>70.78</td>\n",
       "      <td>0.574</td>\n",
       "      <td>1</td>\n",
       "      <td>1</td>\n",
       "    </tr>\n",
       "    <tr>\n",
       "      <th>27435</th>\n",
       "      <td>NPL</td>\n",
       "      <td>Asia</td>\n",
       "      <td>Nepal</td>\n",
       "      <td>2020-01-02</td>\n",
       "      <td>0.0</td>\n",
       "      <td>0.0</td>\n",
       "      <td>0.0</td>\n",
       "      <td>0.0</td>\n",
       "      <td>NaN</td>\n",
       "      <td>NaN</td>\n",
       "      <td>...</td>\n",
       "      <td>260.797</td>\n",
       "      <td>7.26</td>\n",
       "      <td>9.5</td>\n",
       "      <td>37.8</td>\n",
       "      <td>47.782</td>\n",
       "      <td>0.3</td>\n",
       "      <td>70.78</td>\n",
       "      <td>0.574</td>\n",
       "      <td>1</td>\n",
       "      <td>2</td>\n",
       "    </tr>\n",
       "    <tr>\n",
       "      <th>27436</th>\n",
       "      <td>NPL</td>\n",
       "      <td>Asia</td>\n",
       "      <td>Nepal</td>\n",
       "      <td>2020-01-03</td>\n",
       "      <td>0.0</td>\n",
       "      <td>0.0</td>\n",
       "      <td>0.0</td>\n",
       "      <td>0.0</td>\n",
       "      <td>NaN</td>\n",
       "      <td>NaN</td>\n",
       "      <td>...</td>\n",
       "      <td>260.797</td>\n",
       "      <td>7.26</td>\n",
       "      <td>9.5</td>\n",
       "      <td>37.8</td>\n",
       "      <td>47.782</td>\n",
       "      <td>0.3</td>\n",
       "      <td>70.78</td>\n",
       "      <td>0.574</td>\n",
       "      <td>1</td>\n",
       "      <td>3</td>\n",
       "    </tr>\n",
       "    <tr>\n",
       "      <th>27437</th>\n",
       "      <td>NPL</td>\n",
       "      <td>Asia</td>\n",
       "      <td>Nepal</td>\n",
       "      <td>2020-01-04</td>\n",
       "      <td>0.0</td>\n",
       "      <td>0.0</td>\n",
       "      <td>0.0</td>\n",
       "      <td>0.0</td>\n",
       "      <td>NaN</td>\n",
       "      <td>NaN</td>\n",
       "      <td>...</td>\n",
       "      <td>260.797</td>\n",
       "      <td>7.26</td>\n",
       "      <td>9.5</td>\n",
       "      <td>37.8</td>\n",
       "      <td>47.782</td>\n",
       "      <td>0.3</td>\n",
       "      <td>70.78</td>\n",
       "      <td>0.574</td>\n",
       "      <td>1</td>\n",
       "      <td>4</td>\n",
       "    </tr>\n",
       "  </tbody>\n",
       "</table>\n",
       "<p>5 rows × 33 columns</p>\n",
       "</div>"
      ],
      "text/plain": [
       "      iso_code continent location       date  total_cases  new_cases  \\\n",
       "27433      NPL      Asia    Nepal 2019-12-31          0.0        0.0   \n",
       "27434      NPL      Asia    Nepal 2020-01-01          0.0        0.0   \n",
       "27435      NPL      Asia    Nepal 2020-01-02          0.0        0.0   \n",
       "27436      NPL      Asia    Nepal 2020-01-03          0.0        0.0   \n",
       "27437      NPL      Asia    Nepal 2020-01-04          0.0        0.0   \n",
       "\n",
       "       total_deaths  new_deaths  new_tests  total_tests  ...  \\\n",
       "27433           0.0         0.0        NaN          NaN  ...   \n",
       "27434           0.0         0.0        NaN          NaN  ...   \n",
       "27435           0.0         0.0        NaN          NaN  ...   \n",
       "27436           0.0         0.0        NaN          NaN  ...   \n",
       "27437           0.0         0.0        NaN          NaN  ...   \n",
       "\n",
       "       cardiovasc_death_rate  diabetes_prevalence  female_smokers  \\\n",
       "27433                260.797                 7.26             9.5   \n",
       "27434                260.797                 7.26             9.5   \n",
       "27435                260.797                 7.26             9.5   \n",
       "27436                260.797                 7.26             9.5   \n",
       "27437                260.797                 7.26             9.5   \n",
       "\n",
       "       male_smokers handwashing_facilities  hospital_beds_per_thousand  \\\n",
       "27433          37.8                 47.782                         0.3   \n",
       "27434          37.8                 47.782                         0.3   \n",
       "27435          37.8                 47.782                         0.3   \n",
       "27436          37.8                 47.782                         0.3   \n",
       "27437          37.8                 47.782                         0.3   \n",
       "\n",
       "       life_expectancy  human_development_index  month  day  \n",
       "27433            70.78                    0.574     12   31  \n",
       "27434            70.78                    0.574      1    1  \n",
       "27435            70.78                    0.574      1    2  \n",
       "27436            70.78                    0.574      1    3  \n",
       "27437            70.78                    0.574      1    4  \n",
       "\n",
       "[5 rows x 33 columns]"
      ]
     },
     "execution_count": 746,
     "metadata": {},
     "output_type": "execute_result"
    }
   ],
   "source": [
    "nepal_case.head()"
   ]
  },
  {
   "cell_type": "code",
   "execution_count": 747,
   "metadata": {},
   "outputs": [],
   "source": [
    "nepal_case['year'] = nepal_case['date'].dt.year"
   ]
  },
  {
   "cell_type": "code",
   "execution_count": 748,
   "metadata": {},
   "outputs": [
    {
     "data": {
      "text/html": [
       "<div>\n",
       "<style scoped>\n",
       "    .dataframe tbody tr th:only-of-type {\n",
       "        vertical-align: middle;\n",
       "    }\n",
       "\n",
       "    .dataframe tbody tr th {\n",
       "        vertical-align: top;\n",
       "    }\n",
       "\n",
       "    .dataframe thead th {\n",
       "        text-align: right;\n",
       "    }\n",
       "</style>\n",
       "<table border=\"1\" class=\"dataframe\">\n",
       "  <thead>\n",
       "    <tr style=\"text-align: right;\">\n",
       "      <th></th>\n",
       "      <th>iso_code</th>\n",
       "      <th>continent</th>\n",
       "      <th>location</th>\n",
       "      <th>date</th>\n",
       "      <th>total_cases</th>\n",
       "      <th>new_cases</th>\n",
       "      <th>total_deaths</th>\n",
       "      <th>new_deaths</th>\n",
       "      <th>new_tests</th>\n",
       "      <th>total_tests</th>\n",
       "      <th>...</th>\n",
       "      <th>diabetes_prevalence</th>\n",
       "      <th>female_smokers</th>\n",
       "      <th>male_smokers</th>\n",
       "      <th>handwashing_facilities</th>\n",
       "      <th>hospital_beds_per_thousand</th>\n",
       "      <th>life_expectancy</th>\n",
       "      <th>human_development_index</th>\n",
       "      <th>month</th>\n",
       "      <th>day</th>\n",
       "      <th>year</th>\n",
       "    </tr>\n",
       "  </thead>\n",
       "  <tbody>\n",
       "    <tr>\n",
       "      <th>27433</th>\n",
       "      <td>NPL</td>\n",
       "      <td>Asia</td>\n",
       "      <td>Nepal</td>\n",
       "      <td>2019-12-31</td>\n",
       "      <td>0.0</td>\n",
       "      <td>0.0</td>\n",
       "      <td>0.0</td>\n",
       "      <td>0.0</td>\n",
       "      <td>NaN</td>\n",
       "      <td>NaN</td>\n",
       "      <td>...</td>\n",
       "      <td>7.26</td>\n",
       "      <td>9.5</td>\n",
       "      <td>37.8</td>\n",
       "      <td>47.782</td>\n",
       "      <td>0.3</td>\n",
       "      <td>70.78</td>\n",
       "      <td>0.574</td>\n",
       "      <td>12</td>\n",
       "      <td>31</td>\n",
       "      <td>2019</td>\n",
       "    </tr>\n",
       "    <tr>\n",
       "      <th>27434</th>\n",
       "      <td>NPL</td>\n",
       "      <td>Asia</td>\n",
       "      <td>Nepal</td>\n",
       "      <td>2020-01-01</td>\n",
       "      <td>0.0</td>\n",
       "      <td>0.0</td>\n",
       "      <td>0.0</td>\n",
       "      <td>0.0</td>\n",
       "      <td>NaN</td>\n",
       "      <td>NaN</td>\n",
       "      <td>...</td>\n",
       "      <td>7.26</td>\n",
       "      <td>9.5</td>\n",
       "      <td>37.8</td>\n",
       "      <td>47.782</td>\n",
       "      <td>0.3</td>\n",
       "      <td>70.78</td>\n",
       "      <td>0.574</td>\n",
       "      <td>1</td>\n",
       "      <td>1</td>\n",
       "      <td>2020</td>\n",
       "    </tr>\n",
       "    <tr>\n",
       "      <th>27435</th>\n",
       "      <td>NPL</td>\n",
       "      <td>Asia</td>\n",
       "      <td>Nepal</td>\n",
       "      <td>2020-01-02</td>\n",
       "      <td>0.0</td>\n",
       "      <td>0.0</td>\n",
       "      <td>0.0</td>\n",
       "      <td>0.0</td>\n",
       "      <td>NaN</td>\n",
       "      <td>NaN</td>\n",
       "      <td>...</td>\n",
       "      <td>7.26</td>\n",
       "      <td>9.5</td>\n",
       "      <td>37.8</td>\n",
       "      <td>47.782</td>\n",
       "      <td>0.3</td>\n",
       "      <td>70.78</td>\n",
       "      <td>0.574</td>\n",
       "      <td>1</td>\n",
       "      <td>2</td>\n",
       "      <td>2020</td>\n",
       "    </tr>\n",
       "    <tr>\n",
       "      <th>27436</th>\n",
       "      <td>NPL</td>\n",
       "      <td>Asia</td>\n",
       "      <td>Nepal</td>\n",
       "      <td>2020-01-03</td>\n",
       "      <td>0.0</td>\n",
       "      <td>0.0</td>\n",
       "      <td>0.0</td>\n",
       "      <td>0.0</td>\n",
       "      <td>NaN</td>\n",
       "      <td>NaN</td>\n",
       "      <td>...</td>\n",
       "      <td>7.26</td>\n",
       "      <td>9.5</td>\n",
       "      <td>37.8</td>\n",
       "      <td>47.782</td>\n",
       "      <td>0.3</td>\n",
       "      <td>70.78</td>\n",
       "      <td>0.574</td>\n",
       "      <td>1</td>\n",
       "      <td>3</td>\n",
       "      <td>2020</td>\n",
       "    </tr>\n",
       "    <tr>\n",
       "      <th>27437</th>\n",
       "      <td>NPL</td>\n",
       "      <td>Asia</td>\n",
       "      <td>Nepal</td>\n",
       "      <td>2020-01-04</td>\n",
       "      <td>0.0</td>\n",
       "      <td>0.0</td>\n",
       "      <td>0.0</td>\n",
       "      <td>0.0</td>\n",
       "      <td>NaN</td>\n",
       "      <td>NaN</td>\n",
       "      <td>...</td>\n",
       "      <td>7.26</td>\n",
       "      <td>9.5</td>\n",
       "      <td>37.8</td>\n",
       "      <td>47.782</td>\n",
       "      <td>0.3</td>\n",
       "      <td>70.78</td>\n",
       "      <td>0.574</td>\n",
       "      <td>1</td>\n",
       "      <td>4</td>\n",
       "      <td>2020</td>\n",
       "    </tr>\n",
       "  </tbody>\n",
       "</table>\n",
       "<p>5 rows × 34 columns</p>\n",
       "</div>"
      ],
      "text/plain": [
       "      iso_code continent location       date  total_cases  new_cases  \\\n",
       "27433      NPL      Asia    Nepal 2019-12-31          0.0        0.0   \n",
       "27434      NPL      Asia    Nepal 2020-01-01          0.0        0.0   \n",
       "27435      NPL      Asia    Nepal 2020-01-02          0.0        0.0   \n",
       "27436      NPL      Asia    Nepal 2020-01-03          0.0        0.0   \n",
       "27437      NPL      Asia    Nepal 2020-01-04          0.0        0.0   \n",
       "\n",
       "       total_deaths  new_deaths  new_tests  total_tests  ...  \\\n",
       "27433           0.0         0.0        NaN          NaN  ...   \n",
       "27434           0.0         0.0        NaN          NaN  ...   \n",
       "27435           0.0         0.0        NaN          NaN  ...   \n",
       "27436           0.0         0.0        NaN          NaN  ...   \n",
       "27437           0.0         0.0        NaN          NaN  ...   \n",
       "\n",
       "       diabetes_prevalence  female_smokers  male_smokers  \\\n",
       "27433                 7.26             9.5          37.8   \n",
       "27434                 7.26             9.5          37.8   \n",
       "27435                 7.26             9.5          37.8   \n",
       "27436                 7.26             9.5          37.8   \n",
       "27437                 7.26             9.5          37.8   \n",
       "\n",
       "       handwashing_facilities hospital_beds_per_thousand  life_expectancy  \\\n",
       "27433                  47.782                        0.3            70.78   \n",
       "27434                  47.782                        0.3            70.78   \n",
       "27435                  47.782                        0.3            70.78   \n",
       "27436                  47.782                        0.3            70.78   \n",
       "27437                  47.782                        0.3            70.78   \n",
       "\n",
       "       human_development_index  month  day  year  \n",
       "27433                    0.574     12   31  2019  \n",
       "27434                    0.574      1    1  2020  \n",
       "27435                    0.574      1    2  2020  \n",
       "27436                    0.574      1    3  2020  \n",
       "27437                    0.574      1    4  2020  \n",
       "\n",
       "[5 rows x 34 columns]"
      ]
     },
     "execution_count": 748,
     "metadata": {},
     "output_type": "execute_result"
    }
   ],
   "source": [
    "nepal_case.head()"
   ]
  },
  {
   "cell_type": "code",
   "execution_count": 749,
   "metadata": {},
   "outputs": [],
   "source": [
    "nepal_case.drop(labels=['date'],axis=1,inplace=True)"
   ]
  },
  {
   "cell_type": "code",
   "execution_count": 750,
   "metadata": {},
   "outputs": [
    {
     "data": {
      "text/plain": [
       "iso_code                            0\n",
       "continent                           0\n",
       "location                            0\n",
       "total_cases                        13\n",
       "new_cases                          13\n",
       "total_deaths                       13\n",
       "new_deaths                         13\n",
       "new_tests                          68\n",
       "total_tests                        55\n",
       "new_tests_smoothed                 38\n",
       "new_tests_smoothed_per_thousand    38\n",
       "tests_per_case                     87\n",
       "positive_rate                      38\n",
       "tests_units                        31\n",
       "stringency_index                    8\n",
       "population                          0\n",
       "population_density                  0\n",
       "median_age                          0\n",
       "aged_65_older                       0\n",
       "aged_70_older                       0\n",
       "gdp_per_capita                      0\n",
       "extreme_poverty                     0\n",
       "cardiovasc_death_rate               0\n",
       "diabetes_prevalence                 0\n",
       "female_smokers                      0\n",
       "male_smokers                        0\n",
       "handwashing_facilities              0\n",
       "hospital_beds_per_thousand          0\n",
       "life_expectancy                     0\n",
       "human_development_index             0\n",
       "month                               0\n",
       "day                                 0\n",
       "year                                0\n",
       "dtype: int64"
      ]
     },
     "execution_count": 750,
     "metadata": {},
     "output_type": "execute_result"
    }
   ],
   "source": [
    "nepal_case.isna().sum()"
   ]
  },
  {
   "cell_type": "code",
   "execution_count": 751,
   "metadata": {},
   "outputs": [
    {
     "data": {
      "text/plain": [
       "iso_code                            object\n",
       "continent                           object\n",
       "location                            object\n",
       "total_cases                        float64\n",
       "new_cases                          float64\n",
       "total_deaths                       float64\n",
       "new_deaths                         float64\n",
       "new_tests                          float64\n",
       "total_tests                        float64\n",
       "new_tests_smoothed                 float64\n",
       "new_tests_smoothed_per_thousand    float64\n",
       "tests_per_case                     float64\n",
       "positive_rate                      float64\n",
       "tests_units                         object\n",
       "stringency_index                   float64\n",
       "population                         float64\n",
       "population_density                 float64\n",
       "median_age                         float64\n",
       "aged_65_older                      float64\n",
       "aged_70_older                      float64\n",
       "gdp_per_capita                     float64\n",
       "extreme_poverty                    float64\n",
       "cardiovasc_death_rate              float64\n",
       "diabetes_prevalence                float64\n",
       "female_smokers                     float64\n",
       "male_smokers                       float64\n",
       "handwashing_facilities             float64\n",
       "hospital_beds_per_thousand         float64\n",
       "life_expectancy                    float64\n",
       "human_development_index            float64\n",
       "month                                int64\n",
       "day                                  int64\n",
       "year                                 int64\n",
       "dtype: object"
      ]
     },
     "execution_count": 751,
     "metadata": {},
     "output_type": "execute_result"
    }
   ],
   "source": [
    "nepal_case.dtypes"
   ]
  },
  {
   "cell_type": "code",
   "execution_count": 752,
   "metadata": {},
   "outputs": [],
   "source": [
    "nepal_case.drop(labels=['iso_code','continent','location','new_tests_smoothed_per_thousand'],axis=1,inplace=True)"
   ]
  },
  {
   "cell_type": "code",
   "execution_count": 753,
   "metadata": {},
   "outputs": [
    {
     "data": {
      "text/html": [
       "<div>\n",
       "<style scoped>\n",
       "    .dataframe tbody tr th:only-of-type {\n",
       "        vertical-align: middle;\n",
       "    }\n",
       "\n",
       "    .dataframe tbody tr th {\n",
       "        vertical-align: top;\n",
       "    }\n",
       "\n",
       "    .dataframe thead th {\n",
       "        text-align: right;\n",
       "    }\n",
       "</style>\n",
       "<table border=\"1\" class=\"dataframe\">\n",
       "  <thead>\n",
       "    <tr style=\"text-align: right;\">\n",
       "      <th></th>\n",
       "      <th>total_cases</th>\n",
       "      <th>new_cases</th>\n",
       "      <th>total_deaths</th>\n",
       "      <th>new_deaths</th>\n",
       "      <th>new_tests</th>\n",
       "      <th>total_tests</th>\n",
       "      <th>new_tests_smoothed</th>\n",
       "      <th>tests_per_case</th>\n",
       "      <th>positive_rate</th>\n",
       "      <th>tests_units</th>\n",
       "      <th>...</th>\n",
       "      <th>diabetes_prevalence</th>\n",
       "      <th>female_smokers</th>\n",
       "      <th>male_smokers</th>\n",
       "      <th>handwashing_facilities</th>\n",
       "      <th>hospital_beds_per_thousand</th>\n",
       "      <th>life_expectancy</th>\n",
       "      <th>human_development_index</th>\n",
       "      <th>month</th>\n",
       "      <th>day</th>\n",
       "      <th>year</th>\n",
       "    </tr>\n",
       "  </thead>\n",
       "  <tbody>\n",
       "    <tr>\n",
       "      <th>27433</th>\n",
       "      <td>0.0</td>\n",
       "      <td>0.0</td>\n",
       "      <td>0.0</td>\n",
       "      <td>0.0</td>\n",
       "      <td>NaN</td>\n",
       "      <td>NaN</td>\n",
       "      <td>NaN</td>\n",
       "      <td>NaN</td>\n",
       "      <td>NaN</td>\n",
       "      <td>NaN</td>\n",
       "      <td>...</td>\n",
       "      <td>7.26</td>\n",
       "      <td>9.5</td>\n",
       "      <td>37.8</td>\n",
       "      <td>47.782</td>\n",
       "      <td>0.3</td>\n",
       "      <td>70.78</td>\n",
       "      <td>0.574</td>\n",
       "      <td>12</td>\n",
       "      <td>31</td>\n",
       "      <td>2019</td>\n",
       "    </tr>\n",
       "    <tr>\n",
       "      <th>27434</th>\n",
       "      <td>0.0</td>\n",
       "      <td>0.0</td>\n",
       "      <td>0.0</td>\n",
       "      <td>0.0</td>\n",
       "      <td>NaN</td>\n",
       "      <td>NaN</td>\n",
       "      <td>NaN</td>\n",
       "      <td>NaN</td>\n",
       "      <td>NaN</td>\n",
       "      <td>NaN</td>\n",
       "      <td>...</td>\n",
       "      <td>7.26</td>\n",
       "      <td>9.5</td>\n",
       "      <td>37.8</td>\n",
       "      <td>47.782</td>\n",
       "      <td>0.3</td>\n",
       "      <td>70.78</td>\n",
       "      <td>0.574</td>\n",
       "      <td>1</td>\n",
       "      <td>1</td>\n",
       "      <td>2020</td>\n",
       "    </tr>\n",
       "    <tr>\n",
       "      <th>27435</th>\n",
       "      <td>0.0</td>\n",
       "      <td>0.0</td>\n",
       "      <td>0.0</td>\n",
       "      <td>0.0</td>\n",
       "      <td>NaN</td>\n",
       "      <td>NaN</td>\n",
       "      <td>NaN</td>\n",
       "      <td>NaN</td>\n",
       "      <td>NaN</td>\n",
       "      <td>NaN</td>\n",
       "      <td>...</td>\n",
       "      <td>7.26</td>\n",
       "      <td>9.5</td>\n",
       "      <td>37.8</td>\n",
       "      <td>47.782</td>\n",
       "      <td>0.3</td>\n",
       "      <td>70.78</td>\n",
       "      <td>0.574</td>\n",
       "      <td>1</td>\n",
       "      <td>2</td>\n",
       "      <td>2020</td>\n",
       "    </tr>\n",
       "    <tr>\n",
       "      <th>27436</th>\n",
       "      <td>0.0</td>\n",
       "      <td>0.0</td>\n",
       "      <td>0.0</td>\n",
       "      <td>0.0</td>\n",
       "      <td>NaN</td>\n",
       "      <td>NaN</td>\n",
       "      <td>NaN</td>\n",
       "      <td>NaN</td>\n",
       "      <td>NaN</td>\n",
       "      <td>NaN</td>\n",
       "      <td>...</td>\n",
       "      <td>7.26</td>\n",
       "      <td>9.5</td>\n",
       "      <td>37.8</td>\n",
       "      <td>47.782</td>\n",
       "      <td>0.3</td>\n",
       "      <td>70.78</td>\n",
       "      <td>0.574</td>\n",
       "      <td>1</td>\n",
       "      <td>3</td>\n",
       "      <td>2020</td>\n",
       "    </tr>\n",
       "    <tr>\n",
       "      <th>27437</th>\n",
       "      <td>0.0</td>\n",
       "      <td>0.0</td>\n",
       "      <td>0.0</td>\n",
       "      <td>0.0</td>\n",
       "      <td>NaN</td>\n",
       "      <td>NaN</td>\n",
       "      <td>NaN</td>\n",
       "      <td>NaN</td>\n",
       "      <td>NaN</td>\n",
       "      <td>NaN</td>\n",
       "      <td>...</td>\n",
       "      <td>7.26</td>\n",
       "      <td>9.5</td>\n",
       "      <td>37.8</td>\n",
       "      <td>47.782</td>\n",
       "      <td>0.3</td>\n",
       "      <td>70.78</td>\n",
       "      <td>0.574</td>\n",
       "      <td>1</td>\n",
       "      <td>4</td>\n",
       "      <td>2020</td>\n",
       "    </tr>\n",
       "  </tbody>\n",
       "</table>\n",
       "<p>5 rows × 29 columns</p>\n",
       "</div>"
      ],
      "text/plain": [
       "       total_cases  new_cases  total_deaths  new_deaths  new_tests  \\\n",
       "27433          0.0        0.0           0.0         0.0        NaN   \n",
       "27434          0.0        0.0           0.0         0.0        NaN   \n",
       "27435          0.0        0.0           0.0         0.0        NaN   \n",
       "27436          0.0        0.0           0.0         0.0        NaN   \n",
       "27437          0.0        0.0           0.0         0.0        NaN   \n",
       "\n",
       "       total_tests  new_tests_smoothed  tests_per_case  positive_rate  \\\n",
       "27433          NaN                 NaN             NaN            NaN   \n",
       "27434          NaN                 NaN             NaN            NaN   \n",
       "27435          NaN                 NaN             NaN            NaN   \n",
       "27436          NaN                 NaN             NaN            NaN   \n",
       "27437          NaN                 NaN             NaN            NaN   \n",
       "\n",
       "      tests_units  ...  diabetes_prevalence  female_smokers  male_smokers  \\\n",
       "27433         NaN  ...                 7.26             9.5          37.8   \n",
       "27434         NaN  ...                 7.26             9.5          37.8   \n",
       "27435         NaN  ...                 7.26             9.5          37.8   \n",
       "27436         NaN  ...                 7.26             9.5          37.8   \n",
       "27437         NaN  ...                 7.26             9.5          37.8   \n",
       "\n",
       "       handwashing_facilities  hospital_beds_per_thousand  life_expectancy  \\\n",
       "27433                  47.782                         0.3            70.78   \n",
       "27434                  47.782                         0.3            70.78   \n",
       "27435                  47.782                         0.3            70.78   \n",
       "27436                  47.782                         0.3            70.78   \n",
       "27437                  47.782                         0.3            70.78   \n",
       "\n",
       "       human_development_index  month  day  year  \n",
       "27433                    0.574     12   31  2019  \n",
       "27434                    0.574      1    1  2020  \n",
       "27435                    0.574      1    2  2020  \n",
       "27436                    0.574      1    3  2020  \n",
       "27437                    0.574      1    4  2020  \n",
       "\n",
       "[5 rows x 29 columns]"
      ]
     },
     "execution_count": 753,
     "metadata": {},
     "output_type": "execute_result"
    }
   ],
   "source": [
    "nepal_case.head()"
   ]
  },
  {
   "cell_type": "code",
   "execution_count": 754,
   "metadata": {
    "scrolled": true
   },
   "outputs": [
    {
     "data": {
      "text/plain": [
       "total_cases                   13\n",
       "new_cases                     13\n",
       "total_deaths                  13\n",
       "new_deaths                    13\n",
       "new_tests                     68\n",
       "total_tests                   55\n",
       "new_tests_smoothed            38\n",
       "tests_per_case                87\n",
       "positive_rate                 38\n",
       "tests_units                   31\n",
       "stringency_index               8\n",
       "population                     0\n",
       "population_density             0\n",
       "median_age                     0\n",
       "aged_65_older                  0\n",
       "aged_70_older                  0\n",
       "gdp_per_capita                 0\n",
       "extreme_poverty                0\n",
       "cardiovasc_death_rate          0\n",
       "diabetes_prevalence            0\n",
       "female_smokers                 0\n",
       "male_smokers                   0\n",
       "handwashing_facilities         0\n",
       "hospital_beds_per_thousand     0\n",
       "life_expectancy                0\n",
       "human_development_index        0\n",
       "month                          0\n",
       "day                            0\n",
       "year                           0\n",
       "dtype: int64"
      ]
     },
     "execution_count": 754,
     "metadata": {},
     "output_type": "execute_result"
    }
   ],
   "source": [
    "nepal_case.isna().sum()"
   ]
  },
  {
   "cell_type": "code",
   "execution_count": 755,
   "metadata": {},
   "outputs": [],
   "source": [
    "nepal_case['total_cases'].fillna(nepal_case['total_cases'].mean(),inplace=True)"
   ]
  },
  {
   "cell_type": "code",
   "execution_count": 756,
   "metadata": {},
   "outputs": [],
   "source": [
    "nepal_case['new_cases'].fillna(nepal_case['new_cases'].mean(),inplace=True)\n",
    "\n"
   ]
  },
  {
   "cell_type": "code",
   "execution_count": 757,
   "metadata": {},
   "outputs": [],
   "source": [
    "nepal_case['total_deaths'].fillna(nepal_case['total_deaths'].mean(),inplace=True)"
   ]
  },
  {
   "cell_type": "code",
   "execution_count": 758,
   "metadata": {},
   "outputs": [],
   "source": [
    "nepal_case['new_deaths'].fillna(nepal_case['new_deaths'].mean(),inplace=True)"
   ]
  },
  {
   "cell_type": "code",
   "execution_count": 759,
   "metadata": {},
   "outputs": [],
   "source": [
    "nepal_case['total_tests'].fillna(nepal_case['total_tests'].mean(),inplace=True)"
   ]
  },
  {
   "cell_type": "code",
   "execution_count": 760,
   "metadata": {},
   "outputs": [],
   "source": [
    "nepal_case['new_tests'].fillna(nepal_case['new_tests'].mean(),inplace=True)"
   ]
  },
  {
   "cell_type": "code",
   "execution_count": 761,
   "metadata": {},
   "outputs": [],
   "source": [
    "\n",
    "nepal_case['tests_per_case'].fillna(nepal_case['tests_per_case'].mean(),inplace=True)\n"
   ]
  },
  {
   "cell_type": "code",
   "execution_count": 762,
   "metadata": {},
   "outputs": [],
   "source": [
    "nepal_case['positive_rate'].fillna(nepal_case['positive_rate'].mean(),inplace=True)\n"
   ]
  },
  {
   "cell_type": "code",
   "execution_count": 763,
   "metadata": {},
   "outputs": [],
   "source": [
    "nepal_case['stringency_index'].fillna(nepal_case['stringency_index'].mean(),inplace=True)\n"
   ]
  },
  {
   "cell_type": "code",
   "execution_count": 764,
   "metadata": {},
   "outputs": [
    {
     "data": {
      "text/plain": [
       "total_cases                    0\n",
       "new_cases                      0\n",
       "total_deaths                   0\n",
       "new_deaths                     0\n",
       "new_tests                      0\n",
       "total_tests                    0\n",
       "new_tests_smoothed            38\n",
       "tests_per_case                 0\n",
       "positive_rate                  0\n",
       "tests_units                   31\n",
       "stringency_index               0\n",
       "population                     0\n",
       "population_density             0\n",
       "median_age                     0\n",
       "aged_65_older                  0\n",
       "aged_70_older                  0\n",
       "gdp_per_capita                 0\n",
       "extreme_poverty                0\n",
       "cardiovasc_death_rate          0\n",
       "diabetes_prevalence            0\n",
       "female_smokers                 0\n",
       "male_smokers                   0\n",
       "handwashing_facilities         0\n",
       "hospital_beds_per_thousand     0\n",
       "life_expectancy                0\n",
       "human_development_index        0\n",
       "month                          0\n",
       "day                            0\n",
       "year                           0\n",
       "dtype: int64"
      ]
     },
     "execution_count": 764,
     "metadata": {},
     "output_type": "execute_result"
    }
   ],
   "source": [
    "nepal_case.isna().sum()"
   ]
  },
  {
   "cell_type": "code",
   "execution_count": 765,
   "metadata": {},
   "outputs": [
    {
     "data": {
      "text/plain": [
       "total_cases                   float64\n",
       "new_cases                     float64\n",
       "total_deaths                  float64\n",
       "new_deaths                    float64\n",
       "new_tests                     float64\n",
       "total_tests                   float64\n",
       "new_tests_smoothed            float64\n",
       "tests_per_case                float64\n",
       "positive_rate                 float64\n",
       "tests_units                    object\n",
       "stringency_index              float64\n",
       "population                    float64\n",
       "population_density            float64\n",
       "median_age                    float64\n",
       "aged_65_older                 float64\n",
       "aged_70_older                 float64\n",
       "gdp_per_capita                float64\n",
       "extreme_poverty               float64\n",
       "cardiovasc_death_rate         float64\n",
       "diabetes_prevalence           float64\n",
       "female_smokers                float64\n",
       "male_smokers                  float64\n",
       "handwashing_facilities        float64\n",
       "hospital_beds_per_thousand    float64\n",
       "life_expectancy               float64\n",
       "human_development_index       float64\n",
       "month                           int64\n",
       "day                             int64\n",
       "year                            int64\n",
       "dtype: object"
      ]
     },
     "execution_count": 765,
     "metadata": {},
     "output_type": "execute_result"
    }
   ],
   "source": [
    "nepal_case.dtypes"
   ]
  },
  {
   "cell_type": "code",
   "execution_count": 766,
   "metadata": {},
   "outputs": [],
   "source": [
    "nepal_case.drop(labels=['new_tests_smoothed'],axis=1,inplace=True)"
   ]
  },
  {
   "cell_type": "code",
   "execution_count": 767,
   "metadata": {},
   "outputs": [
    {
     "data": {
      "text/plain": [
       "total_cases                    0\n",
       "new_cases                      0\n",
       "total_deaths                   0\n",
       "new_deaths                     0\n",
       "new_tests                      0\n",
       "total_tests                    0\n",
       "tests_per_case                 0\n",
       "positive_rate                  0\n",
       "tests_units                   31\n",
       "stringency_index               0\n",
       "population                     0\n",
       "population_density             0\n",
       "median_age                     0\n",
       "aged_65_older                  0\n",
       "aged_70_older                  0\n",
       "gdp_per_capita                 0\n",
       "extreme_poverty                0\n",
       "cardiovasc_death_rate          0\n",
       "diabetes_prevalence            0\n",
       "female_smokers                 0\n",
       "male_smokers                   0\n",
       "handwashing_facilities         0\n",
       "hospital_beds_per_thousand     0\n",
       "life_expectancy                0\n",
       "human_development_index        0\n",
       "month                          0\n",
       "day                            0\n",
       "year                           0\n",
       "dtype: int64"
      ]
     },
     "execution_count": 767,
     "metadata": {},
     "output_type": "execute_result"
    }
   ],
   "source": [
    "nepal_case.isna().sum()"
   ]
  },
  {
   "cell_type": "code",
   "execution_count": 768,
   "metadata": {},
   "outputs": [],
   "source": [
    "nepal_case.drop(labels=['tests_units'],axis=1,inplace=True)"
   ]
  },
  {
   "cell_type": "code",
   "execution_count": 769,
   "metadata": {},
   "outputs": [
    {
     "data": {
      "text/plain": [
       "total_cases                   0\n",
       "new_cases                     0\n",
       "total_deaths                  0\n",
       "new_deaths                    0\n",
       "new_tests                     0\n",
       "total_tests                   0\n",
       "tests_per_case                0\n",
       "positive_rate                 0\n",
       "stringency_index              0\n",
       "population                    0\n",
       "population_density            0\n",
       "median_age                    0\n",
       "aged_65_older                 0\n",
       "aged_70_older                 0\n",
       "gdp_per_capita                0\n",
       "extreme_poverty               0\n",
       "cardiovasc_death_rate         0\n",
       "diabetes_prevalence           0\n",
       "female_smokers                0\n",
       "male_smokers                  0\n",
       "handwashing_facilities        0\n",
       "hospital_beds_per_thousand    0\n",
       "life_expectancy               0\n",
       "human_development_index       0\n",
       "month                         0\n",
       "day                           0\n",
       "year                          0\n",
       "dtype: int64"
      ]
     },
     "execution_count": 769,
     "metadata": {},
     "output_type": "execute_result"
    }
   ],
   "source": [
    "nepal_case.isna().sum()"
   ]
  },
  {
   "cell_type": "code",
   "execution_count": 770,
   "metadata": {},
   "outputs": [
    {
     "data": {
      "text/plain": [
       "<matplotlib.axes._subplots.AxesSubplot at 0x21b2b89ecd0>"
      ]
     },
     "execution_count": 770,
     "metadata": {},
     "output_type": "execute_result"
    },
    {
     "data": {
      "image/png": "[encoded data removed]",
      "text/plain": [
       "<Figure size 720x360 with 1 Axes>"
      ]
     },
     "metadata": {
      "needs_background": "light"
     },
     "output_type": "display_data"
    }
   ],
   "source": [
    "fig, ax = plt.subplots(figsize=(10,5))\n",
    "sns.heatmap(nepal_case.isna(),yticklabels=False,cmap='nipy_spectral',cbar=False)"
   ]
  },
  {
   "cell_type": "code",
   "execution_count": 771,
   "metadata": {},
   "outputs": [],
   "source": [
    "fig.savefig('blankheatmap.png')"
   ]
  },
  {
   "cell_type": "markdown",
   "metadata": {},
   "source": [
    "## Wow, finally we all converted and cleaned our data and our data is ready to fed into the machine learning model :)"
   ]
  },
  {
   "cell_type": "code",
   "execution_count": 772,
   "metadata": {},
   "outputs": [
    {
     "data": {
      "text/plain": [
       "total_cases                   float64\n",
       "new_cases                     float64\n",
       "total_deaths                  float64\n",
       "new_deaths                    float64\n",
       "new_tests                     float64\n",
       "total_tests                   float64\n",
       "tests_per_case                float64\n",
       "positive_rate                 float64\n",
       "stringency_index              float64\n",
       "population                    float64\n",
       "population_density            float64\n",
       "median_age                    float64\n",
       "aged_65_older                 float64\n",
       "aged_70_older                 float64\n",
       "gdp_per_capita                float64\n",
       "extreme_poverty               float64\n",
       "cardiovasc_death_rate         float64\n",
       "diabetes_prevalence           float64\n",
       "female_smokers                float64\n",
       "male_smokers                  float64\n",
       "handwashing_facilities        float64\n",
       "hospital_beds_per_thousand    float64\n",
       "life_expectancy               float64\n",
       "human_development_index       float64\n",
       "month                           int64\n",
       "day                             int64\n",
       "year                            int64\n",
       "dtype: object"
      ]
     },
     "execution_count": 772,
     "metadata": {},
     "output_type": "execute_result"
    }
   ],
   "source": [
    "nepal_case.dtypes"
   ]
  },
  {
   "cell_type": "code",
   "execution_count": 773,
   "metadata": {},
   "outputs": [
    {
     "data": {
      "text/html": [
       "<div>\n",
       "<style scoped>\n",
       "    .dataframe tbody tr th:only-of-type {\n",
       "        vertical-align: middle;\n",
       "    }\n",
       "\n",
       "    .dataframe tbody tr th {\n",
       "        vertical-align: top;\n",
       "    }\n",
       "\n",
       "    .dataframe thead th {\n",
       "        text-align: right;\n",
       "    }\n",
       "</style>\n",
       "<table border=\"1\" class=\"dataframe\">\n",
       "  <thead>\n",
       "    <tr style=\"text-align: right;\">\n",
       "      <th></th>\n",
       "      <th>total_cases</th>\n",
       "      <th>new_cases</th>\n",
       "      <th>total_deaths</th>\n",
       "      <th>new_deaths</th>\n",
       "      <th>new_tests</th>\n",
       "      <th>total_tests</th>\n",
       "      <th>tests_per_case</th>\n",
       "      <th>positive_rate</th>\n",
       "      <th>stringency_index</th>\n",
       "      <th>population</th>\n",
       "      <th>...</th>\n",
       "      <th>diabetes_prevalence</th>\n",
       "      <th>female_smokers</th>\n",
       "      <th>male_smokers</th>\n",
       "      <th>handwashing_facilities</th>\n",
       "      <th>hospital_beds_per_thousand</th>\n",
       "      <th>life_expectancy</th>\n",
       "      <th>human_development_index</th>\n",
       "      <th>month</th>\n",
       "      <th>day</th>\n",
       "      <th>year</th>\n",
       "    </tr>\n",
       "  </thead>\n",
       "  <tbody>\n",
       "    <tr>\n",
       "      <th>27433</th>\n",
       "      <td>0.0</td>\n",
       "      <td>0.0</td>\n",
       "      <td>0.0</td>\n",
       "      <td>0.0</td>\n",
       "      <td>4228.772487</td>\n",
       "      <td>188029.044554</td>\n",
       "      <td>100.054624</td>\n",
       "      <td>0.030717</td>\n",
       "      <td>65.800281</td>\n",
       "      <td>29136808.0</td>\n",
       "      <td>...</td>\n",
       "      <td>7.26</td>\n",
       "      <td>9.5</td>\n",
       "      <td>37.8</td>\n",
       "      <td>47.782</td>\n",
       "      <td>0.3</td>\n",
       "      <td>70.78</td>\n",
       "      <td>0.574</td>\n",
       "      <td>12</td>\n",
       "      <td>31</td>\n",
       "      <td>2019</td>\n",
       "    </tr>\n",
       "    <tr>\n",
       "      <th>27434</th>\n",
       "      <td>0.0</td>\n",
       "      <td>0.0</td>\n",
       "      <td>0.0</td>\n",
       "      <td>0.0</td>\n",
       "      <td>4228.772487</td>\n",
       "      <td>188029.044554</td>\n",
       "      <td>100.054624</td>\n",
       "      <td>0.030717</td>\n",
       "      <td>0.000000</td>\n",
       "      <td>29136808.0</td>\n",
       "      <td>...</td>\n",
       "      <td>7.26</td>\n",
       "      <td>9.5</td>\n",
       "      <td>37.8</td>\n",
       "      <td>47.782</td>\n",
       "      <td>0.3</td>\n",
       "      <td>70.78</td>\n",
       "      <td>0.574</td>\n",
       "      <td>1</td>\n",
       "      <td>1</td>\n",
       "      <td>2020</td>\n",
       "    </tr>\n",
       "    <tr>\n",
       "      <th>27435</th>\n",
       "      <td>0.0</td>\n",
       "      <td>0.0</td>\n",
       "      <td>0.0</td>\n",
       "      <td>0.0</td>\n",
       "      <td>4228.772487</td>\n",
       "      <td>188029.044554</td>\n",
       "      <td>100.054624</td>\n",
       "      <td>0.030717</td>\n",
       "      <td>0.000000</td>\n",
       "      <td>29136808.0</td>\n",
       "      <td>...</td>\n",
       "      <td>7.26</td>\n",
       "      <td>9.5</td>\n",
       "      <td>37.8</td>\n",
       "      <td>47.782</td>\n",
       "      <td>0.3</td>\n",
       "      <td>70.78</td>\n",
       "      <td>0.574</td>\n",
       "      <td>1</td>\n",
       "      <td>2</td>\n",
       "      <td>2020</td>\n",
       "    </tr>\n",
       "    <tr>\n",
       "      <th>27436</th>\n",
       "      <td>0.0</td>\n",
       "      <td>0.0</td>\n",
       "      <td>0.0</td>\n",
       "      <td>0.0</td>\n",
       "      <td>4228.772487</td>\n",
       "      <td>188029.044554</td>\n",
       "      <td>100.054624</td>\n",
       "      <td>0.030717</td>\n",
       "      <td>0.000000</td>\n",
       "      <td>29136808.0</td>\n",
       "      <td>...</td>\n",
       "      <td>7.26</td>\n",
       "      <td>9.5</td>\n",
       "      <td>37.8</td>\n",
       "      <td>47.782</td>\n",
       "      <td>0.3</td>\n",
       "      <td>70.78</td>\n",
       "      <td>0.574</td>\n",
       "      <td>1</td>\n",
       "      <td>3</td>\n",
       "      <td>2020</td>\n",
       "    </tr>\n",
       "    <tr>\n",
       "      <th>27437</th>\n",
       "      <td>0.0</td>\n",
       "      <td>0.0</td>\n",
       "      <td>0.0</td>\n",
       "      <td>0.0</td>\n",
       "      <td>4228.772487</td>\n",
       "      <td>188029.044554</td>\n",
       "      <td>100.054624</td>\n",
       "      <td>0.030717</td>\n",
       "      <td>0.000000</td>\n",
       "      <td>29136808.0</td>\n",
       "      <td>...</td>\n",
       "      <td>7.26</td>\n",
       "      <td>9.5</td>\n",
       "      <td>37.8</td>\n",
       "      <td>47.782</td>\n",
       "      <td>0.3</td>\n",
       "      <td>70.78</td>\n",
       "      <td>0.574</td>\n",
       "      <td>1</td>\n",
       "      <td>4</td>\n",
       "      <td>2020</td>\n",
       "    </tr>\n",
       "  </tbody>\n",
       "</table>\n",
       "<p>5 rows × 27 columns</p>\n",
       "</div>"
      ],
      "text/plain": [
       "       total_cases  new_cases  total_deaths  new_deaths    new_tests  \\\n",
       "27433          0.0        0.0           0.0         0.0  4228.772487   \n",
       "27434          0.0        0.0           0.0         0.0  4228.772487   \n",
       "27435          0.0        0.0           0.0         0.0  4228.772487   \n",
       "27436          0.0        0.0           0.0         0.0  4228.772487   \n",
       "27437          0.0        0.0           0.0         0.0  4228.772487   \n",
       "\n",
       "         total_tests  tests_per_case  positive_rate  stringency_index  \\\n",
       "27433  188029.044554      100.054624       0.030717         65.800281   \n",
       "27434  188029.044554      100.054624       0.030717          0.000000   \n",
       "27435  188029.044554      100.054624       0.030717          0.000000   \n",
       "27436  188029.044554      100.054624       0.030717          0.000000   \n",
       "27437  188029.044554      100.054624       0.030717          0.000000   \n",
       "\n",
       "       population  ...  diabetes_prevalence  female_smokers  male_smokers  \\\n",
       "27433  29136808.0  ...                 7.26             9.5          37.8   \n",
       "27434  29136808.0  ...                 7.26             9.5          37.8   \n",
       "27435  29136808.0  ...                 7.26             9.5          37.8   \n",
       "27436  29136808.0  ...                 7.26             9.5          37.8   \n",
       "27437  29136808.0  ...                 7.26             9.5          37.8   \n",
       "\n",
       "       handwashing_facilities  hospital_beds_per_thousand  life_expectancy  \\\n",
       "27433                  47.782                         0.3            70.78   \n",
       "27434                  47.782                         0.3            70.78   \n",
       "27435                  47.782                         0.3            70.78   \n",
       "27436                  47.782                         0.3            70.78   \n",
       "27437                  47.782                         0.3            70.78   \n",
       "\n",
       "       human_development_index  month  day  year  \n",
       "27433                    0.574     12   31  2019  \n",
       "27434                    0.574      1    1  2020  \n",
       "27435                    0.574      1    2  2020  \n",
       "27436                    0.574      1    3  2020  \n",
       "27437                    0.574      1    4  2020  \n",
       "\n",
       "[5 rows x 27 columns]"
      ]
     },
     "execution_count": 773,
     "metadata": {},
     "output_type": "execute_result"
    }
   ],
   "source": [
    "nepal_case.head()"
   ]
  },
  {
   "cell_type": "code",
   "execution_count": 774,
   "metadata": {},
   "outputs": [
    {
     "data": {
      "text/plain": [
       "(257, 27)"
      ]
     },
     "execution_count": 774,
     "metadata": {},
     "output_type": "execute_result"
    }
   ],
   "source": [
    "nepal_case.shape"
   ]
  },
  {
   "cell_type": "markdown",
   "metadata": {},
   "source": [
    "## Lets visualize our new datasets"
   ]
  },
  {
   "cell_type": "code",
   "execution_count": 775,
   "metadata": {},
   "outputs": [
    {
     "data": {
      "image/png": "[encoded data removed]",
      "text/plain": [
       "<Figure size 432x288 with 1 Axes>"
      ]
     },
     "metadata": {
      "needs_background": "light"
     },
     "output_type": "display_data"
    }
   ],
   "source": [
    "fig, ax = plt.subplots()\n",
    "ax =sns.countplot(x='year',data=nepal_case);\n"
   ]
  },
  {
   "cell_type": "code",
   "execution_count": 776,
   "metadata": {},
   "outputs": [],
   "source": [
    "fig.savefig('COVID-19_year_comparison.png');"
   ]
  },
  {
   "cell_type": "code",
   "execution_count": 777,
   "metadata": {},
   "outputs": [],
   "source": [
    "nepal_latestdays_data = nepal_case.tail()"
   ]
  },
  {
   "cell_type": "code",
   "execution_count": 778,
   "metadata": {},
   "outputs": [
    {
     "data": {
      "image/png": "[encoded data removed]",
      "text/plain": [
       "<Figure size 432x288 with 1 Axes>"
      ]
     },
     "metadata": {
      "needs_background": "light"
     },
     "output_type": "display_data"
    }
   ],
   "source": [
    "sns.countplot(x='new_cases',data=nepal_latestdays_data);\n"
   ]
  },
  {
   "cell_type": "code",
   "execution_count": 779,
   "metadata": {},
   "outputs": [
    {
     "data": {
      "image/png": "[encoded data removed]",
      "text/plain": [
       "<Figure size 432x288 with 1 Axes>"
      ]
     },
     "metadata": {
      "needs_background": "light"
     },
     "output_type": "display_data"
    }
   ],
   "source": [
    "nepal_latestdays_data.plot(x=\"day\",y=\"new_cases\",color=['red'],label='New_Case');\n",
    "plt.xlabel(\"Day\")\n",
    "plt.ylabel('New_Cases');\n",
    "\n"
   ]
  },
  {
   "cell_type": "code",
   "execution_count": 780,
   "metadata": {},
   "outputs": [],
   "source": [
    "fig.savefig(\"latest_case_growth_with_days.png\")"
   ]
  },
  {
   "cell_type": "code",
   "execution_count": 781,
   "metadata": {},
   "outputs": [
    {
     "data": {
      "image/png": "[encoded data removed]",
      "text/plain": [
       "<Figure size 432x288 with 1 Axes>"
      ]
     },
     "metadata": {
      "needs_background": "light"
     },
     "output_type": "display_data"
    }
   ],
   "source": [
    "sns.barplot(x=\"month\",y=\"new_deaths\",data=nepal_case);"
   ]
  },
  {
   "cell_type": "markdown",
   "metadata": {},
   "source": [
    "# 5. Modelling\n",
    "We have explored our data and we can still explore more but I think this is enough to move forward to use the most important phase of machine learning, Modelling.\n",
    "\n",
    "We will be using our 26 independent variables to predict our target variables that is the the possibility of new cases.\n",
    "> If our model can predict with 90% accuacy we will assume that our model is good for predicting the new cases.That's our main aim.\n",
    "* Lets model our dataset`"
   ]
  },
  {
   "cell_type": "code",
   "execution_count": 782,
   "metadata": {},
   "outputs": [],
   "source": [
    "# Using random seed to make uniformity in our project\n",
    "np.random.seed(45)\n",
    "# X contains all the independent attributes except our target new_case\n",
    "X = nepal_case.drop('new_cases',axis=1)\n",
    "# y is our target variable which is new_case\n",
    "y = nepal_case['new_cases']"
   ]
  },
  {
   "cell_type": "code",
   "execution_count": 783,
   "metadata": {},
   "outputs": [],
   "source": [
    "from sklearn.ensemble import RandomForestRegressor\n",
    "from sklearn.model_selection import train_test_split\n",
    "from sklearn.metrics import accuracy_score"
   ]
  },
  {
   "cell_type": "markdown",
   "metadata": {},
   "source": [
    "# Train_test_split\n",
    "This is the most important phase of machine learning model as well. Training our model is very important since it will dicipher the pattern from our dataset and learn the pattern to use it for test set. Similarly, test set is used for evaluating our model to see that how much our model has learned during the traing session. Main key poin to remember in machine learning is we should never test the data that it has trained for otherwise there won't be any logic, it must be tested on test data. For that we will split our data into the ratio of 8:2 i.e. we will allocate 80% of our dataset for training data and remaining 20% for testing purpose."
   ]
  },
  {
   "cell_type": "markdown",
   "metadata": {},
   "source": [
    "### Lets begin with baseline model, baseline model mean a model used with its own defalt hyperparameters without tuning any of the parameters by ourselves. We will tune it later on so that we can compare the different prediction and choose the best model"
   ]
  },
  {
   "cell_type": "code",
   "execution_count": 784,
   "metadata": {},
   "outputs": [],
   "source": [
    "np.random.seed(42)\n",
    "X_train,X_test,y_train,y_test = train_test_split(X,y,test_size= 0.2,random_state=42)"
   ]
  },
  {
   "cell_type": "markdown",
   "metadata": {},
   "source": [
    "\n",
    "> The test_size parameter is used to tell the train_test_split() function how much of our data we want in the test set.\n",
    "\n",
    "> A rule of thumb is to use 80% of your data to train on and the other 20% to test on.\n",
    "\n",
    "> For our problem, a train and test set are enough. But for other problems, you could also use a validation (train/validation/test) set or cross-validation (we'll see this in a second)."
   ]
  },
  {
   "cell_type": "code",
   "execution_count": 785,
   "metadata": {},
   "outputs": [],
   "source": [
    " rg = RandomForestRegressor(n_estimators=40)"
   ]
  },
  {
   "cell_type": "code",
   "execution_count": 786,
   "metadata": {},
   "outputs": [
    {
     "data": {
      "text/plain": [
       "((205, 26), (205,))"
      ]
     },
     "execution_count": 786,
     "metadata": {},
     "output_type": "execute_result"
    }
   ],
   "source": [
    "X_train.shape, y_train.shape"
   ]
  },
  {
   "cell_type": "code",
   "execution_count": 787,
   "metadata": {},
   "outputs": [
    {
     "data": {
      "text/plain": [
       "RandomForestRegressor(n_estimators=40)"
      ]
     },
     "execution_count": 787,
     "metadata": {},
     "output_type": "execute_result"
    }
   ],
   "source": [
    "rg.fit(X_train,y_train)"
   ]
  },
  {
   "cell_type": "code",
   "execution_count": 788,
   "metadata": {},
   "outputs": [
    {
     "data": {
      "text/plain": [
       "0.8546305531304393"
      ]
     },
     "execution_count": 788,
     "metadata": {},
     "output_type": "execute_result"
    }
   ],
   "source": [
    "rg.score(X_test,y_test)"
   ]
  },
  {
   "cell_type": "code",
   "execution_count": 789,
   "metadata": {},
   "outputs": [
    {
     "data": {
      "text/plain": [
       "0.9681763973991845"
      ]
     },
     "execution_count": 789,
     "metadata": {},
     "output_type": "execute_result"
    }
   ],
   "source": [
    "rg.score(X_train,y_train)"
   ]
  },
  {
   "cell_type": "markdown",
   "metadata": {},
   "source": [
    "# Here we can see that our model is able to predict with an accuracy of around 82% which did not fulfilled our requirements as we satetd in the begining that if our model can predict above 85% then only we will consider it as valid model"
   ]
  },
  {
   "cell_type": "markdown",
   "metadata": {},
   "source": [
    "### Feature Importance(Lets check which how the features are contributing to the dataset)\n",
    "\n",
    "Feature importance is another way of asking, \"which features contributing most to the outcomes of the model?\"\n",
    "\n",
    "Or for our problem, trying to predict new covid cases using different parameters, which parameter contribute most to a model predicting about the new covid cases.\n",
    "\n",
    "Unlike some of the other functions we've seen, because how each model finds patterns in data is slightly different, how a model judges how important those patterns are is different as well. This means for each model, there's a slightly different way of finding which features were most important.\n",
    "\n",
    "We can usually find an example via the Scikit-Learn documentation or via searching for something like \"[MODEL TYPE] feature importance\", such as, \"random forest feature importance\".\n",
    "\n",
    "Since we're using RandomForest Regression, we'll look at one way we can calculate feature importance for it.\n",
    "\n",
    "To do so, we'll use the feature_importance. Looking at the Scikit-Learn documentation for Random Forest Regression, the feature importance attribute is the coefficient of the features in the decision function.\n",
    "\n",
    "We can access the feature_importance attribute after we've fit an instance of RandomForestRegression."
   ]
  },
  {
   "cell_type": "code",
   "execution_count": 790,
   "metadata": {
    "scrolled": false
   },
   "outputs": [
    {
     "data": {
      "text/plain": [
       "{'total_cases': 0.4008295426580961,\n",
       " 'new_cases': 0.2421810875790911,\n",
       " 'total_deaths': 0.026695943478213996,\n",
       " 'new_deaths': 0.12498800762251258,\n",
       " 'new_tests': 0.028558618572420733,\n",
       " 'total_tests': 0.0940032032756925,\n",
       " 'tests_per_case': 0.048902630175202084,\n",
       " 'positive_rate': 0.0071626362366022205,\n",
       " 'stringency_index': 0.0,\n",
       " 'population': 0.0,\n",
       " 'population_density': 0.0,\n",
       " 'median_age': 0.0,\n",
       " 'aged_65_older': 0.0,\n",
       " 'aged_70_older': 0.0,\n",
       " 'gdp_per_capita': 0.0,\n",
       " 'extreme_poverty': 0.0,\n",
       " 'cardiovasc_death_rate': 0.0,\n",
       " 'diabetes_prevalence': 0.0,\n",
       " 'female_smokers': 0.0,\n",
       " 'male_smokers': 0.0,\n",
       " 'handwashing_facilities': 0.0,\n",
       " 'hospital_beds_per_thousand': 0.0,\n",
       " 'life_expectancy': 0.0,\n",
       " 'human_development_index': 0.0016077980355348727,\n",
       " 'month': 0.025070532366633647,\n",
       " 'day': 0.0}"
      ]
     },
     "execution_count": 790,
     "metadata": {},
     "output_type": "execute_result"
    }
   ],
   "source": [
    "feature_dict = dict(zip(nepal_case.columns, list(rg.feature_importances_)))\n",
    "feature_dict"
   ]
  },
  {
   "cell_type": "markdown",
   "metadata": {},
   "source": [
    "Looking at this it might not make much sense. But these values are how much each feature contributes to how a model makes a decision on whether patterns in a sample of data leans more towards predciting new covid cases or not.\n",
    "\n",
    "Even knowing this, in it's current form, this feature_importance still doesn't mean much. But it will if we combine it with the columns (features) of our dataframe."
   ]
  },
  {
   "cell_type": "code",
   "execution_count": 791,
   "metadata": {
    "scrolled": true
   },
   "outputs": [
    {
     "data": {
      "image/png": "[encoded data removed]",
      "text/plain": [
       "<Figure size 432x288 with 1 Axes>"
      ]
     },
     "metadata": {
      "needs_background": "light"
     },
     "output_type": "display_data"
    }
   ],
   "source": [
    "# Visualize feature importance\n",
    "feature_df = pd.DataFrame(feature_dict, index=[0])\n",
    "feature_df.T.plot.bar(title=\"Feature Importance\", legend=False);"
   ]
  },
  {
   "cell_type": "code",
   "execution_count": 792,
   "metadata": {},
   "outputs": [],
   "source": [
    "nepal_case.drop(labels=['stringency_index','population','population_density','median_age','aged_65_older','aged_70_older','gdp_per_capita','extreme_poverty','cardiovasc_death_rate','diabetes_prevalence','female_smokers','male_smokers','handwashing_facilities','hospital_beds_per_thousand','life_expectancy','day'],axis=1,inplace=True)"
   ]
  },
  {
   "cell_type": "code",
   "execution_count": 793,
   "metadata": {},
   "outputs": [
    {
     "data": {
      "text/plain": [
       "array([0.40082954, 0.24218109, 0.02669594, 0.12498801, 0.02855862,\n",
       "       0.0940032 , 0.04890263, 0.00716264, 0.        , 0.        ,\n",
       "       0.        , 0.        , 0.        , 0.        , 0.        ,\n",
       "       0.        , 0.        , 0.        , 0.        , 0.        ,\n",
       "       0.        , 0.        , 0.        , 0.0016078 , 0.02507053,\n",
       "       0.        ])"
      ]
     },
     "execution_count": 793,
     "metadata": {},
     "output_type": "execute_result"
    }
   ],
   "source": [
    "rg.feature_importances_"
   ]
  },
  {
   "cell_type": "code",
   "execution_count": 794,
   "metadata": {},
   "outputs": [
    {
     "data": {
      "text/html": [
       "<div>\n",
       "<style scoped>\n",
       "    .dataframe tbody tr th:only-of-type {\n",
       "        vertical-align: middle;\n",
       "    }\n",
       "\n",
       "    .dataframe tbody tr th {\n",
       "        vertical-align: top;\n",
       "    }\n",
       "\n",
       "    .dataframe thead th {\n",
       "        text-align: right;\n",
       "    }\n",
       "</style>\n",
       "<table border=\"1\" class=\"dataframe\">\n",
       "  <thead>\n",
       "    <tr style=\"text-align: right;\">\n",
       "      <th></th>\n",
       "      <th>total_cases</th>\n",
       "      <th>new_cases</th>\n",
       "      <th>total_deaths</th>\n",
       "      <th>new_deaths</th>\n",
       "      <th>new_tests</th>\n",
       "      <th>total_tests</th>\n",
       "      <th>tests_per_case</th>\n",
       "      <th>positive_rate</th>\n",
       "      <th>human_development_index</th>\n",
       "      <th>month</th>\n",
       "      <th>year</th>\n",
       "    </tr>\n",
       "  </thead>\n",
       "  <tbody>\n",
       "    <tr>\n",
       "      <th>27433</th>\n",
       "      <td>0.0</td>\n",
       "      <td>0.0</td>\n",
       "      <td>0.0</td>\n",
       "      <td>0.0</td>\n",
       "      <td>4228.772487</td>\n",
       "      <td>188029.044554</td>\n",
       "      <td>100.054624</td>\n",
       "      <td>0.030717</td>\n",
       "      <td>0.574</td>\n",
       "      <td>12</td>\n",
       "      <td>2019</td>\n",
       "    </tr>\n",
       "    <tr>\n",
       "      <th>27434</th>\n",
       "      <td>0.0</td>\n",
       "      <td>0.0</td>\n",
       "      <td>0.0</td>\n",
       "      <td>0.0</td>\n",
       "      <td>4228.772487</td>\n",
       "      <td>188029.044554</td>\n",
       "      <td>100.054624</td>\n",
       "      <td>0.030717</td>\n",
       "      <td>0.574</td>\n",
       "      <td>1</td>\n",
       "      <td>2020</td>\n",
       "    </tr>\n",
       "    <tr>\n",
       "      <th>27435</th>\n",
       "      <td>0.0</td>\n",
       "      <td>0.0</td>\n",
       "      <td>0.0</td>\n",
       "      <td>0.0</td>\n",
       "      <td>4228.772487</td>\n",
       "      <td>188029.044554</td>\n",
       "      <td>100.054624</td>\n",
       "      <td>0.030717</td>\n",
       "      <td>0.574</td>\n",
       "      <td>1</td>\n",
       "      <td>2020</td>\n",
       "    </tr>\n",
       "    <tr>\n",
       "      <th>27436</th>\n",
       "      <td>0.0</td>\n",
       "      <td>0.0</td>\n",
       "      <td>0.0</td>\n",
       "      <td>0.0</td>\n",
       "      <td>4228.772487</td>\n",
       "      <td>188029.044554</td>\n",
       "      <td>100.054624</td>\n",
       "      <td>0.030717</td>\n",
       "      <td>0.574</td>\n",
       "      <td>1</td>\n",
       "      <td>2020</td>\n",
       "    </tr>\n",
       "    <tr>\n",
       "      <th>27437</th>\n",
       "      <td>0.0</td>\n",
       "      <td>0.0</td>\n",
       "      <td>0.0</td>\n",
       "      <td>0.0</td>\n",
       "      <td>4228.772487</td>\n",
       "      <td>188029.044554</td>\n",
       "      <td>100.054624</td>\n",
       "      <td>0.030717</td>\n",
       "      <td>0.574</td>\n",
       "      <td>1</td>\n",
       "      <td>2020</td>\n",
       "    </tr>\n",
       "  </tbody>\n",
       "</table>\n",
       "</div>"
      ],
      "text/plain": [
       "       total_cases  new_cases  total_deaths  new_deaths    new_tests  \\\n",
       "27433          0.0        0.0           0.0         0.0  4228.772487   \n",
       "27434          0.0        0.0           0.0         0.0  4228.772487   \n",
       "27435          0.0        0.0           0.0         0.0  4228.772487   \n",
       "27436          0.0        0.0           0.0         0.0  4228.772487   \n",
       "27437          0.0        0.0           0.0         0.0  4228.772487   \n",
       "\n",
       "         total_tests  tests_per_case  positive_rate  human_development_index  \\\n",
       "27433  188029.044554      100.054624       0.030717                    0.574   \n",
       "27434  188029.044554      100.054624       0.030717                    0.574   \n",
       "27435  188029.044554      100.054624       0.030717                    0.574   \n",
       "27436  188029.044554      100.054624       0.030717                    0.574   \n",
       "27437  188029.044554      100.054624       0.030717                    0.574   \n",
       "\n",
       "       month  year  \n",
       "27433     12  2019  \n",
       "27434      1  2020  \n",
       "27435      1  2020  \n",
       "27436      1  2020  \n",
       "27437      1  2020  "
      ]
     },
     "execution_count": 794,
     "metadata": {},
     "output_type": "execute_result"
    }
   ],
   "source": [
    "nepal_case.head()"
   ]
  },
  {
   "cell_type": "code",
   "execution_count": 795,
   "metadata": {},
   "outputs": [],
   "source": [
    "X = nepal_case.drop('new_cases',axis=1)\n",
    "y = nepal_case['new_cases']"
   ]
  },
  {
   "cell_type": "code",
   "execution_count": 796,
   "metadata": {},
   "outputs": [],
   "source": [
    "np.random.seed(42)\n",
    "X_train,X_test,y_train,y_test = train_test_split(X,y,test_size=0.2,random_state=42)"
   ]
  },
  {
   "cell_type": "code",
   "execution_count": 797,
   "metadata": {},
   "outputs": [
    {
     "data": {
      "text/plain": [
       "RandomForestRegressor(n_estimators=40)"
      ]
     },
     "execution_count": 797,
     "metadata": {},
     "output_type": "execute_result"
    }
   ],
   "source": [
    "rg.fit(X_train,y_train)"
   ]
  },
  {
   "cell_type": "code",
   "execution_count": 798,
   "metadata": {},
   "outputs": [
    {
     "data": {
      "text/plain": [
       "0.857870166385709"
      ]
     },
     "execution_count": 798,
     "metadata": {},
     "output_type": "execute_result"
    }
   ],
   "source": [
    "rg.score(X_test,y_test)"
   ]
  },
  {
   "cell_type": "code",
   "execution_count": 799,
   "metadata": {},
   "outputs": [
    {
     "data": {
      "text/plain": [
       "0.9671947910906121"
      ]
     },
     "execution_count": 799,
     "metadata": {},
     "output_type": "execute_result"
    }
   ],
   "source": [
    "rg.score(X_train,y_train)"
   ]
  },
  {
   "cell_type": "code",
   "execution_count": 800,
   "metadata": {},
   "outputs": [
    {
     "data": {
      "text/plain": [
       "array([0.46383116, 0.20498427, 0.01406976, 0.12595279, 0.03564429,\n",
       "       0.10640676, 0.04639461, 0.        , 0.00271636, 0.        ])"
      ]
     },
     "execution_count": 800,
     "metadata": {},
     "output_type": "execute_result"
    }
   ],
   "source": [
    "rg.feature_importances_"
   ]
  },
  {
   "cell_type": "code",
   "execution_count": 801,
   "metadata": {},
   "outputs": [
    {
     "data": {
      "text/plain": [
       "-58.46005859679938"
      ]
     },
     "execution_count": 801,
     "metadata": {},
     "output_type": "execute_result"
    }
   ],
   "source": [
    "np.mean(cross_val_score(rg,X_train,y_train,cv=10,scoring='neg_mean_absolute_error'))"
   ]
  },
  {
   "cell_type": "code",
   "execution_count": 802,
   "metadata": {},
   "outputs": [
    {
     "data": {
      "text/plain": [
       "{'total_cases': 0.4638311568828807,\n",
       " 'new_cases': 0.20498427002509706,\n",
       " 'total_deaths': 0.014069762383131337,\n",
       " 'new_deaths': 0.12595278960095418,\n",
       " 'new_tests': 0.03564429123006195,\n",
       " 'total_tests': 0.10640675513783045,\n",
       " 'tests_per_case': 0.04639461124752915,\n",
       " 'positive_rate': 0.0,\n",
       " 'human_development_index': 0.0027163634925151344,\n",
       " 'month': 0.0}"
      ]
     },
     "execution_count": 802,
     "metadata": {},
     "output_type": "execute_result"
    }
   ],
   "source": [
    "feature_dict = dict(zip(nepal_case.columns, list(rg.feature_importances_)))\n",
    "feature_dict"
   ]
  },
  {
   "cell_type": "code",
   "execution_count": 803,
   "metadata": {},
   "outputs": [
    {
     "data": {
      "image/png": "[encoded data removed]",
      "text/plain": [
       "<Figure size 432x288 with 1 Axes>"
      ]
     },
     "metadata": {
      "needs_background": "light"
     },
     "output_type": "display_data"
    }
   ],
   "source": [
    "# Visualize feature importance\n",
    "feature_df = pd.DataFrame(feature_dict, index=[0])\n",
    "feature_df.T.plot.bar(title=\"Feature Importance\", legend=False);"
   ]
  },
  {
   "cell_type": "code",
   "execution_count": 804,
   "metadata": {},
   "outputs": [
    {
     "data": {
      "text/plain": [
       "array([0.46383116, 0.20498427, 0.01406976, 0.12595279, 0.03564429,\n",
       "       0.10640676, 0.04639461, 0.        , 0.00271636, 0.        ])"
      ]
     },
     "execution_count": 804,
     "metadata": {},
     "output_type": "execute_result"
    }
   ],
   "source": [
    "rg.feature_importances_"
   ]
  },
  {
   "cell_type": "code",
   "execution_count": 805,
   "metadata": {},
   "outputs": [
    {
     "data": {
      "text/html": [
       "<div>\n",
       "<style scoped>\n",
       "    .dataframe tbody tr th:only-of-type {\n",
       "        vertical-align: middle;\n",
       "    }\n",
       "\n",
       "    .dataframe tbody tr th {\n",
       "        vertical-align: top;\n",
       "    }\n",
       "\n",
       "    .dataframe thead th {\n",
       "        text-align: right;\n",
       "    }\n",
       "</style>\n",
       "<table border=\"1\" class=\"dataframe\">\n",
       "  <thead>\n",
       "    <tr style=\"text-align: right;\">\n",
       "      <th></th>\n",
       "      <th>total_cases</th>\n",
       "      <th>new_cases</th>\n",
       "      <th>total_deaths</th>\n",
       "      <th>new_deaths</th>\n",
       "      <th>new_tests</th>\n",
       "      <th>total_tests</th>\n",
       "      <th>tests_per_case</th>\n",
       "      <th>positive_rate</th>\n",
       "      <th>human_development_index</th>\n",
       "      <th>month</th>\n",
       "      <th>year</th>\n",
       "    </tr>\n",
       "  </thead>\n",
       "  <tbody>\n",
       "    <tr>\n",
       "      <th>27433</th>\n",
       "      <td>0.0</td>\n",
       "      <td>0.0</td>\n",
       "      <td>0.0</td>\n",
       "      <td>0.0</td>\n",
       "      <td>4228.772487</td>\n",
       "      <td>188029.044554</td>\n",
       "      <td>100.054624</td>\n",
       "      <td>0.030717</td>\n",
       "      <td>0.574</td>\n",
       "      <td>12</td>\n",
       "      <td>2019</td>\n",
       "    </tr>\n",
       "    <tr>\n",
       "      <th>27434</th>\n",
       "      <td>0.0</td>\n",
       "      <td>0.0</td>\n",
       "      <td>0.0</td>\n",
       "      <td>0.0</td>\n",
       "      <td>4228.772487</td>\n",
       "      <td>188029.044554</td>\n",
       "      <td>100.054624</td>\n",
       "      <td>0.030717</td>\n",
       "      <td>0.574</td>\n",
       "      <td>1</td>\n",
       "      <td>2020</td>\n",
       "    </tr>\n",
       "    <tr>\n",
       "      <th>27435</th>\n",
       "      <td>0.0</td>\n",
       "      <td>0.0</td>\n",
       "      <td>0.0</td>\n",
       "      <td>0.0</td>\n",
       "      <td>4228.772487</td>\n",
       "      <td>188029.044554</td>\n",
       "      <td>100.054624</td>\n",
       "      <td>0.030717</td>\n",
       "      <td>0.574</td>\n",
       "      <td>1</td>\n",
       "      <td>2020</td>\n",
       "    </tr>\n",
       "    <tr>\n",
       "      <th>27436</th>\n",
       "      <td>0.0</td>\n",
       "      <td>0.0</td>\n",
       "      <td>0.0</td>\n",
       "      <td>0.0</td>\n",
       "      <td>4228.772487</td>\n",
       "      <td>188029.044554</td>\n",
       "      <td>100.054624</td>\n",
       "      <td>0.030717</td>\n",
       "      <td>0.574</td>\n",
       "      <td>1</td>\n",
       "      <td>2020</td>\n",
       "    </tr>\n",
       "    <tr>\n",
       "      <th>27437</th>\n",
       "      <td>0.0</td>\n",
       "      <td>0.0</td>\n",
       "      <td>0.0</td>\n",
       "      <td>0.0</td>\n",
       "      <td>4228.772487</td>\n",
       "      <td>188029.044554</td>\n",
       "      <td>100.054624</td>\n",
       "      <td>0.030717</td>\n",
       "      <td>0.574</td>\n",
       "      <td>1</td>\n",
       "      <td>2020</td>\n",
       "    </tr>\n",
       "  </tbody>\n",
       "</table>\n",
       "</div>"
      ],
      "text/plain": [
       "       total_cases  new_cases  total_deaths  new_deaths    new_tests  \\\n",
       "27433          0.0        0.0           0.0         0.0  4228.772487   \n",
       "27434          0.0        0.0           0.0         0.0  4228.772487   \n",
       "27435          0.0        0.0           0.0         0.0  4228.772487   \n",
       "27436          0.0        0.0           0.0         0.0  4228.772487   \n",
       "27437          0.0        0.0           0.0         0.0  4228.772487   \n",
       "\n",
       "         total_tests  tests_per_case  positive_rate  human_development_index  \\\n",
       "27433  188029.044554      100.054624       0.030717                    0.574   \n",
       "27434  188029.044554      100.054624       0.030717                    0.574   \n",
       "27435  188029.044554      100.054624       0.030717                    0.574   \n",
       "27436  188029.044554      100.054624       0.030717                    0.574   \n",
       "27437  188029.044554      100.054624       0.030717                    0.574   \n",
       "\n",
       "       month  year  \n",
       "27433     12  2019  \n",
       "27434      1  2020  \n",
       "27435      1  2020  \n",
       "27436      1  2020  \n",
       "27437      1  2020  "
      ]
     },
     "execution_count": 805,
     "metadata": {},
     "output_type": "execute_result"
    }
   ],
   "source": [
    "nepal_case.head()"
   ]
  },
  {
   "cell_type": "code",
   "execution_count": 806,
   "metadata": {},
   "outputs": [],
   "source": [
    "df = nepal_case.copy()"
   ]
  },
  {
   "cell_type": "code",
   "execution_count": 807,
   "metadata": {},
   "outputs": [
    {
     "data": {
      "text/html": [
       "<div>\n",
       "<style scoped>\n",
       "    .dataframe tbody tr th:only-of-type {\n",
       "        vertical-align: middle;\n",
       "    }\n",
       "\n",
       "    .dataframe tbody tr th {\n",
       "        vertical-align: top;\n",
       "    }\n",
       "\n",
       "    .dataframe thead th {\n",
       "        text-align: right;\n",
       "    }\n",
       "</style>\n",
       "<table border=\"1\" class=\"dataframe\">\n",
       "  <thead>\n",
       "    <tr style=\"text-align: right;\">\n",
       "      <th></th>\n",
       "      <th>total_cases</th>\n",
       "      <th>new_cases</th>\n",
       "      <th>total_deaths</th>\n",
       "      <th>new_deaths</th>\n",
       "      <th>new_tests</th>\n",
       "      <th>total_tests</th>\n",
       "      <th>tests_per_case</th>\n",
       "      <th>positive_rate</th>\n",
       "      <th>human_development_index</th>\n",
       "      <th>month</th>\n",
       "      <th>year</th>\n",
       "    </tr>\n",
       "  </thead>\n",
       "  <tbody>\n",
       "    <tr>\n",
       "      <th>27433</th>\n",
       "      <td>0.0</td>\n",
       "      <td>0.0</td>\n",
       "      <td>0.0</td>\n",
       "      <td>0.0</td>\n",
       "      <td>4228.772487</td>\n",
       "      <td>188029.044554</td>\n",
       "      <td>100.054624</td>\n",
       "      <td>0.030717</td>\n",
       "      <td>0.574</td>\n",
       "      <td>12</td>\n",
       "      <td>2019</td>\n",
       "    </tr>\n",
       "    <tr>\n",
       "      <th>27434</th>\n",
       "      <td>0.0</td>\n",
       "      <td>0.0</td>\n",
       "      <td>0.0</td>\n",
       "      <td>0.0</td>\n",
       "      <td>4228.772487</td>\n",
       "      <td>188029.044554</td>\n",
       "      <td>100.054624</td>\n",
       "      <td>0.030717</td>\n",
       "      <td>0.574</td>\n",
       "      <td>1</td>\n",
       "      <td>2020</td>\n",
       "    </tr>\n",
       "    <tr>\n",
       "      <th>27435</th>\n",
       "      <td>0.0</td>\n",
       "      <td>0.0</td>\n",
       "      <td>0.0</td>\n",
       "      <td>0.0</td>\n",
       "      <td>4228.772487</td>\n",
       "      <td>188029.044554</td>\n",
       "      <td>100.054624</td>\n",
       "      <td>0.030717</td>\n",
       "      <td>0.574</td>\n",
       "      <td>1</td>\n",
       "      <td>2020</td>\n",
       "    </tr>\n",
       "    <tr>\n",
       "      <th>27436</th>\n",
       "      <td>0.0</td>\n",
       "      <td>0.0</td>\n",
       "      <td>0.0</td>\n",
       "      <td>0.0</td>\n",
       "      <td>4228.772487</td>\n",
       "      <td>188029.044554</td>\n",
       "      <td>100.054624</td>\n",
       "      <td>0.030717</td>\n",
       "      <td>0.574</td>\n",
       "      <td>1</td>\n",
       "      <td>2020</td>\n",
       "    </tr>\n",
       "    <tr>\n",
       "      <th>27437</th>\n",
       "      <td>0.0</td>\n",
       "      <td>0.0</td>\n",
       "      <td>0.0</td>\n",
       "      <td>0.0</td>\n",
       "      <td>4228.772487</td>\n",
       "      <td>188029.044554</td>\n",
       "      <td>100.054624</td>\n",
       "      <td>0.030717</td>\n",
       "      <td>0.574</td>\n",
       "      <td>1</td>\n",
       "      <td>2020</td>\n",
       "    </tr>\n",
       "  </tbody>\n",
       "</table>\n",
       "</div>"
      ],
      "text/plain": [
       "       total_cases  new_cases  total_deaths  new_deaths    new_tests  \\\n",
       "27433          0.0        0.0           0.0         0.0  4228.772487   \n",
       "27434          0.0        0.0           0.0         0.0  4228.772487   \n",
       "27435          0.0        0.0           0.0         0.0  4228.772487   \n",
       "27436          0.0        0.0           0.0         0.0  4228.772487   \n",
       "27437          0.0        0.0           0.0         0.0  4228.772487   \n",
       "\n",
       "         total_tests  tests_per_case  positive_rate  human_development_index  \\\n",
       "27433  188029.044554      100.054624       0.030717                    0.574   \n",
       "27434  188029.044554      100.054624       0.030717                    0.574   \n",
       "27435  188029.044554      100.054624       0.030717                    0.574   \n",
       "27436  188029.044554      100.054624       0.030717                    0.574   \n",
       "27437  188029.044554      100.054624       0.030717                    0.574   \n",
       "\n",
       "       month  year  \n",
       "27433     12  2019  \n",
       "27434      1  2020  \n",
       "27435      1  2020  \n",
       "27436      1  2020  \n",
       "27437      1  2020  "
      ]
     },
     "execution_count": 807,
     "metadata": {},
     "output_type": "execute_result"
    }
   ],
   "source": [
    "df.head()"
   ]
  },
  {
   "cell_type": "code",
   "execution_count": 808,
   "metadata": {},
   "outputs": [],
   "source": [
    "df.drop(labels=['positive_rate','month','human_development_index'],axis=1,inplace=True)"
   ]
  },
  {
   "cell_type": "code",
   "execution_count": 809,
   "metadata": {},
   "outputs": [
    {
     "data": {
      "text/html": [
       "<div>\n",
       "<style scoped>\n",
       "    .dataframe tbody tr th:only-of-type {\n",
       "        vertical-align: middle;\n",
       "    }\n",
       "\n",
       "    .dataframe tbody tr th {\n",
       "        vertical-align: top;\n",
       "    }\n",
       "\n",
       "    .dataframe thead th {\n",
       "        text-align: right;\n",
       "    }\n",
       "</style>\n",
       "<table border=\"1\" class=\"dataframe\">\n",
       "  <thead>\n",
       "    <tr style=\"text-align: right;\">\n",
       "      <th></th>\n",
       "      <th>total_cases</th>\n",
       "      <th>new_cases</th>\n",
       "      <th>total_deaths</th>\n",
       "      <th>new_deaths</th>\n",
       "      <th>new_tests</th>\n",
       "      <th>total_tests</th>\n",
       "      <th>tests_per_case</th>\n",
       "      <th>year</th>\n",
       "    </tr>\n",
       "  </thead>\n",
       "  <tbody>\n",
       "    <tr>\n",
       "      <th>27433</th>\n",
       "      <td>0.0</td>\n",
       "      <td>0.0</td>\n",
       "      <td>0.0</td>\n",
       "      <td>0.0</td>\n",
       "      <td>4228.772487</td>\n",
       "      <td>188029.044554</td>\n",
       "      <td>100.054624</td>\n",
       "      <td>2019</td>\n",
       "    </tr>\n",
       "    <tr>\n",
       "      <th>27434</th>\n",
       "      <td>0.0</td>\n",
       "      <td>0.0</td>\n",
       "      <td>0.0</td>\n",
       "      <td>0.0</td>\n",
       "      <td>4228.772487</td>\n",
       "      <td>188029.044554</td>\n",
       "      <td>100.054624</td>\n",
       "      <td>2020</td>\n",
       "    </tr>\n",
       "    <tr>\n",
       "      <th>27435</th>\n",
       "      <td>0.0</td>\n",
       "      <td>0.0</td>\n",
       "      <td>0.0</td>\n",
       "      <td>0.0</td>\n",
       "      <td>4228.772487</td>\n",
       "      <td>188029.044554</td>\n",
       "      <td>100.054624</td>\n",
       "      <td>2020</td>\n",
       "    </tr>\n",
       "    <tr>\n",
       "      <th>27436</th>\n",
       "      <td>0.0</td>\n",
       "      <td>0.0</td>\n",
       "      <td>0.0</td>\n",
       "      <td>0.0</td>\n",
       "      <td>4228.772487</td>\n",
       "      <td>188029.044554</td>\n",
       "      <td>100.054624</td>\n",
       "      <td>2020</td>\n",
       "    </tr>\n",
       "    <tr>\n",
       "      <th>27437</th>\n",
       "      <td>0.0</td>\n",
       "      <td>0.0</td>\n",
       "      <td>0.0</td>\n",
       "      <td>0.0</td>\n",
       "      <td>4228.772487</td>\n",
       "      <td>188029.044554</td>\n",
       "      <td>100.054624</td>\n",
       "      <td>2020</td>\n",
       "    </tr>\n",
       "  </tbody>\n",
       "</table>\n",
       "</div>"
      ],
      "text/plain": [
       "       total_cases  new_cases  total_deaths  new_deaths    new_tests  \\\n",
       "27433          0.0        0.0           0.0         0.0  4228.772487   \n",
       "27434          0.0        0.0           0.0         0.0  4228.772487   \n",
       "27435          0.0        0.0           0.0         0.0  4228.772487   \n",
       "27436          0.0        0.0           0.0         0.0  4228.772487   \n",
       "27437          0.0        0.0           0.0         0.0  4228.772487   \n",
       "\n",
       "         total_tests  tests_per_case  year  \n",
       "27433  188029.044554      100.054624  2019  \n",
       "27434  188029.044554      100.054624  2020  \n",
       "27435  188029.044554      100.054624  2020  \n",
       "27436  188029.044554      100.054624  2020  \n",
       "27437  188029.044554      100.054624  2020  "
      ]
     },
     "execution_count": 809,
     "metadata": {},
     "output_type": "execute_result"
    }
   ],
   "source": [
    "df.head()"
   ]
  },
  {
   "cell_type": "code",
   "execution_count": 810,
   "metadata": {},
   "outputs": [],
   "source": [
    "X = df.drop('new_cases',axis=1)\n",
    "y = df['new_cases']"
   ]
  },
  {
   "cell_type": "code",
   "execution_count": 811,
   "metadata": {},
   "outputs": [],
   "source": [
    "np.random.seed(42)\n",
    "X_train,X_test,y_train,y_test = train_test_split(X,y,test_size=0.2,random_state=42)"
   ]
  },
  {
   "cell_type": "code",
   "execution_count": 812,
   "metadata": {},
   "outputs": [],
   "source": [
    "rg_2 = RandomForestRegressor()"
   ]
  },
  {
   "cell_type": "code",
   "execution_count": 813,
   "metadata": {},
   "outputs": [
    {
     "data": {
      "text/plain": [
       "RandomForestRegressor()"
      ]
     },
     "execution_count": 813,
     "metadata": {},
     "output_type": "execute_result"
    }
   ],
   "source": [
    "rg_2.fit(X_train,y_train)"
   ]
  },
  {
   "cell_type": "code",
   "execution_count": 814,
   "metadata": {},
   "outputs": [
    {
     "data": {
      "text/plain": [
       "0.8654253040650021"
      ]
     },
     "execution_count": 814,
     "metadata": {},
     "output_type": "execute_result"
    }
   ],
   "source": [
    "rg_2.score(X_test,y_test)"
   ]
  },
  {
   "cell_type": "code",
   "execution_count": 815,
   "metadata": {},
   "outputs": [
    {
     "data": {
      "text/plain": [
       "0.9719752431574603"
      ]
     },
     "execution_count": 815,
     "metadata": {},
     "output_type": "execute_result"
    }
   ],
   "source": [
    "rg_2.score(X_train,y_train)"
   ]
  },
  {
   "cell_type": "code",
   "execution_count": 816,
   "metadata": {},
   "outputs": [],
   "source": [
    "y_predictor_1 = rg_2.predict(X_test)"
   ]
  },
  {
   "cell_type": "code",
   "execution_count": 817,
   "metadata": {},
   "outputs": [],
   "source": [
    "df_2 = df.copy()"
   ]
  },
  {
   "cell_type": "code",
   "execution_count": 818,
   "metadata": {},
   "outputs": [
    {
     "data": {
      "text/html": [
       "<div>\n",
       "<style scoped>\n",
       "    .dataframe tbody tr th:only-of-type {\n",
       "        vertical-align: middle;\n",
       "    }\n",
       "\n",
       "    .dataframe tbody tr th {\n",
       "        vertical-align: top;\n",
       "    }\n",
       "\n",
       "    .dataframe thead th {\n",
       "        text-align: right;\n",
       "    }\n",
       "</style>\n",
       "<table border=\"1\" class=\"dataframe\">\n",
       "  <thead>\n",
       "    <tr style=\"text-align: right;\">\n",
       "      <th></th>\n",
       "      <th>total_cases</th>\n",
       "      <th>new_cases</th>\n",
       "      <th>total_deaths</th>\n",
       "      <th>new_deaths</th>\n",
       "      <th>new_tests</th>\n",
       "      <th>total_tests</th>\n",
       "      <th>tests_per_case</th>\n",
       "      <th>year</th>\n",
       "    </tr>\n",
       "  </thead>\n",
       "  <tbody>\n",
       "    <tr>\n",
       "      <th>27433</th>\n",
       "      <td>0.0</td>\n",
       "      <td>0.0</td>\n",
       "      <td>0.0</td>\n",
       "      <td>0.0</td>\n",
       "      <td>4228.772487</td>\n",
       "      <td>188029.044554</td>\n",
       "      <td>100.054624</td>\n",
       "      <td>2019</td>\n",
       "    </tr>\n",
       "    <tr>\n",
       "      <th>27434</th>\n",
       "      <td>0.0</td>\n",
       "      <td>0.0</td>\n",
       "      <td>0.0</td>\n",
       "      <td>0.0</td>\n",
       "      <td>4228.772487</td>\n",
       "      <td>188029.044554</td>\n",
       "      <td>100.054624</td>\n",
       "      <td>2020</td>\n",
       "    </tr>\n",
       "    <tr>\n",
       "      <th>27435</th>\n",
       "      <td>0.0</td>\n",
       "      <td>0.0</td>\n",
       "      <td>0.0</td>\n",
       "      <td>0.0</td>\n",
       "      <td>4228.772487</td>\n",
       "      <td>188029.044554</td>\n",
       "      <td>100.054624</td>\n",
       "      <td>2020</td>\n",
       "    </tr>\n",
       "    <tr>\n",
       "      <th>27436</th>\n",
       "      <td>0.0</td>\n",
       "      <td>0.0</td>\n",
       "      <td>0.0</td>\n",
       "      <td>0.0</td>\n",
       "      <td>4228.772487</td>\n",
       "      <td>188029.044554</td>\n",
       "      <td>100.054624</td>\n",
       "      <td>2020</td>\n",
       "    </tr>\n",
       "    <tr>\n",
       "      <th>27437</th>\n",
       "      <td>0.0</td>\n",
       "      <td>0.0</td>\n",
       "      <td>0.0</td>\n",
       "      <td>0.0</td>\n",
       "      <td>4228.772487</td>\n",
       "      <td>188029.044554</td>\n",
       "      <td>100.054624</td>\n",
       "      <td>2020</td>\n",
       "    </tr>\n",
       "  </tbody>\n",
       "</table>\n",
       "</div>"
      ],
      "text/plain": [
       "       total_cases  new_cases  total_deaths  new_deaths    new_tests  \\\n",
       "27433          0.0        0.0           0.0         0.0  4228.772487   \n",
       "27434          0.0        0.0           0.0         0.0  4228.772487   \n",
       "27435          0.0        0.0           0.0         0.0  4228.772487   \n",
       "27436          0.0        0.0           0.0         0.0  4228.772487   \n",
       "27437          0.0        0.0           0.0         0.0  4228.772487   \n",
       "\n",
       "         total_tests  tests_per_case  year  \n",
       "27433  188029.044554      100.054624  2019  \n",
       "27434  188029.044554      100.054624  2020  \n",
       "27435  188029.044554      100.054624  2020  \n",
       "27436  188029.044554      100.054624  2020  \n",
       "27437  188029.044554      100.054624  2020  "
      ]
     },
     "execution_count": 818,
     "metadata": {},
     "output_type": "execute_result"
    }
   ],
   "source": [
    "df_2.head()"
   ]
  },
  {
   "cell_type": "code",
   "execution_count": 819,
   "metadata": {},
   "outputs": [
    {
     "data": {
      "text/plain": [
       "{'total_cases': 0.4638311568828807,\n",
       " 'new_cases': 0.20498427002509706,\n",
       " 'total_deaths': 0.014069762383131337,\n",
       " 'new_deaths': 0.12595278960095418,\n",
       " 'new_tests': 0.03564429123006195,\n",
       " 'total_tests': 0.10640675513783045,\n",
       " 'tests_per_case': 0.04639461124752915,\n",
       " 'year': 0.0}"
      ]
     },
     "execution_count": 819,
     "metadata": {},
     "output_type": "execute_result"
    }
   ],
   "source": [
    "feature_dict = dict(zip(df.columns, list(rg.feature_importances_)))\n",
    "feature_dict"
   ]
  },
  {
   "cell_type": "code",
   "execution_count": 820,
   "metadata": {},
   "outputs": [
    {
     "data": {
      "image/png": "[encoded data removed]",
      "text/plain": [
       "<Figure size 432x288 with 1 Axes>"
      ]
     },
     "metadata": {
      "needs_background": "light"
     },
     "output_type": "display_data"
    }
   ],
   "source": [
    "# Visualize feature importance\n",
    "feature_df = pd.DataFrame(feature_dict, index=[0])\n",
    "feature_df.T.plot.bar(title=\"Feature Importance\", legend=False);"
   ]
  },
  {
   "cell_type": "code",
   "execution_count": 821,
   "metadata": {},
   "outputs": [],
   "source": [
    "df_2.drop(labels=['tests_per_case'],axis=1,inplace=True)"
   ]
  },
  {
   "cell_type": "code",
   "execution_count": 822,
   "metadata": {},
   "outputs": [
    {
     "data": {
      "text/html": [
       "<div>\n",
       "<style scoped>\n",
       "    .dataframe tbody tr th:only-of-type {\n",
       "        vertical-align: middle;\n",
       "    }\n",
       "\n",
       "    .dataframe tbody tr th {\n",
       "        vertical-align: top;\n",
       "    }\n",
       "\n",
       "    .dataframe thead th {\n",
       "        text-align: right;\n",
       "    }\n",
       "</style>\n",
       "<table border=\"1\" class=\"dataframe\">\n",
       "  <thead>\n",
       "    <tr style=\"text-align: right;\">\n",
       "      <th></th>\n",
       "      <th>total_cases</th>\n",
       "      <th>new_cases</th>\n",
       "      <th>total_deaths</th>\n",
       "      <th>new_deaths</th>\n",
       "      <th>new_tests</th>\n",
       "      <th>total_tests</th>\n",
       "      <th>year</th>\n",
       "    </tr>\n",
       "  </thead>\n",
       "  <tbody>\n",
       "    <tr>\n",
       "      <th>27433</th>\n",
       "      <td>0.0</td>\n",
       "      <td>0.0</td>\n",
       "      <td>0.0</td>\n",
       "      <td>0.0</td>\n",
       "      <td>4228.772487</td>\n",
       "      <td>188029.044554</td>\n",
       "      <td>2019</td>\n",
       "    </tr>\n",
       "    <tr>\n",
       "      <th>27434</th>\n",
       "      <td>0.0</td>\n",
       "      <td>0.0</td>\n",
       "      <td>0.0</td>\n",
       "      <td>0.0</td>\n",
       "      <td>4228.772487</td>\n",
       "      <td>188029.044554</td>\n",
       "      <td>2020</td>\n",
       "    </tr>\n",
       "    <tr>\n",
       "      <th>27435</th>\n",
       "      <td>0.0</td>\n",
       "      <td>0.0</td>\n",
       "      <td>0.0</td>\n",
       "      <td>0.0</td>\n",
       "      <td>4228.772487</td>\n",
       "      <td>188029.044554</td>\n",
       "      <td>2020</td>\n",
       "    </tr>\n",
       "    <tr>\n",
       "      <th>27436</th>\n",
       "      <td>0.0</td>\n",
       "      <td>0.0</td>\n",
       "      <td>0.0</td>\n",
       "      <td>0.0</td>\n",
       "      <td>4228.772487</td>\n",
       "      <td>188029.044554</td>\n",
       "      <td>2020</td>\n",
       "    </tr>\n",
       "    <tr>\n",
       "      <th>27437</th>\n",
       "      <td>0.0</td>\n",
       "      <td>0.0</td>\n",
       "      <td>0.0</td>\n",
       "      <td>0.0</td>\n",
       "      <td>4228.772487</td>\n",
       "      <td>188029.044554</td>\n",
       "      <td>2020</td>\n",
       "    </tr>\n",
       "  </tbody>\n",
       "</table>\n",
       "</div>"
      ],
      "text/plain": [
       "       total_cases  new_cases  total_deaths  new_deaths    new_tests  \\\n",
       "27433          0.0        0.0           0.0         0.0  4228.772487   \n",
       "27434          0.0        0.0           0.0         0.0  4228.772487   \n",
       "27435          0.0        0.0           0.0         0.0  4228.772487   \n",
       "27436          0.0        0.0           0.0         0.0  4228.772487   \n",
       "27437          0.0        0.0           0.0         0.0  4228.772487   \n",
       "\n",
       "         total_tests  year  \n",
       "27433  188029.044554  2019  \n",
       "27434  188029.044554  2020  \n",
       "27435  188029.044554  2020  \n",
       "27436  188029.044554  2020  \n",
       "27437  188029.044554  2020  "
      ]
     },
     "execution_count": 822,
     "metadata": {},
     "output_type": "execute_result"
    }
   ],
   "source": [
    "df_2.head()"
   ]
  },
  {
   "cell_type": "code",
   "execution_count": 823,
   "metadata": {},
   "outputs": [],
   "source": [
    "X = df_2.drop('new_cases',axis=1)\n",
    "y = df_2['new_cases']"
   ]
  },
  {
   "cell_type": "code",
   "execution_count": 824,
   "metadata": {},
   "outputs": [],
   "source": [
    "np.random.seed(42)\n",
    "X_train,X_test,y_train,y_test = train_test_split(X,y,test_size=0.2)"
   ]
  },
  {
   "cell_type": "code",
   "execution_count": 825,
   "metadata": {},
   "outputs": [],
   "source": [
    "rg_3 = RandomForestRegressor()"
   ]
  },
  {
   "cell_type": "code",
   "execution_count": 826,
   "metadata": {},
   "outputs": [
    {
     "data": {
      "text/plain": [
       "RandomForestRegressor()"
      ]
     },
     "execution_count": 826,
     "metadata": {},
     "output_type": "execute_result"
    }
   ],
   "source": [
    "rg_3.fit(X_train,y_train)"
   ]
  },
  {
   "cell_type": "code",
   "execution_count": 827,
   "metadata": {},
   "outputs": [
    {
     "data": {
      "text/plain": [
       "0.8654167449869029"
      ]
     },
     "execution_count": 827,
     "metadata": {},
     "output_type": "execute_result"
    }
   ],
   "source": [
    "rg_3.score(X_test,y_test)"
   ]
  },
  {
   "cell_type": "code",
   "execution_count": 828,
   "metadata": {},
   "outputs": [
    {
     "data": {
      "text/html": [
       "<div>\n",
       "<style scoped>\n",
       "    .dataframe tbody tr th:only-of-type {\n",
       "        vertical-align: middle;\n",
       "    }\n",
       "\n",
       "    .dataframe tbody tr th {\n",
       "        vertical-align: top;\n",
       "    }\n",
       "\n",
       "    .dataframe thead th {\n",
       "        text-align: right;\n",
       "    }\n",
       "</style>\n",
       "<table border=\"1\" class=\"dataframe\">\n",
       "  <thead>\n",
       "    <tr style=\"text-align: right;\">\n",
       "      <th></th>\n",
       "      <th>total_cases</th>\n",
       "      <th>new_cases</th>\n",
       "      <th>total_deaths</th>\n",
       "      <th>new_deaths</th>\n",
       "      <th>new_tests</th>\n",
       "      <th>total_tests</th>\n",
       "      <th>year</th>\n",
       "    </tr>\n",
       "  </thead>\n",
       "  <tbody>\n",
       "    <tr>\n",
       "      <th>27433</th>\n",
       "      <td>0.0</td>\n",
       "      <td>0.0</td>\n",
       "      <td>0.0</td>\n",
       "      <td>0.0</td>\n",
       "      <td>4228.772487</td>\n",
       "      <td>188029.044554</td>\n",
       "      <td>2019</td>\n",
       "    </tr>\n",
       "    <tr>\n",
       "      <th>27434</th>\n",
       "      <td>0.0</td>\n",
       "      <td>0.0</td>\n",
       "      <td>0.0</td>\n",
       "      <td>0.0</td>\n",
       "      <td>4228.772487</td>\n",
       "      <td>188029.044554</td>\n",
       "      <td>2020</td>\n",
       "    </tr>\n",
       "    <tr>\n",
       "      <th>27435</th>\n",
       "      <td>0.0</td>\n",
       "      <td>0.0</td>\n",
       "      <td>0.0</td>\n",
       "      <td>0.0</td>\n",
       "      <td>4228.772487</td>\n",
       "      <td>188029.044554</td>\n",
       "      <td>2020</td>\n",
       "    </tr>\n",
       "    <tr>\n",
       "      <th>27436</th>\n",
       "      <td>0.0</td>\n",
       "      <td>0.0</td>\n",
       "      <td>0.0</td>\n",
       "      <td>0.0</td>\n",
       "      <td>4228.772487</td>\n",
       "      <td>188029.044554</td>\n",
       "      <td>2020</td>\n",
       "    </tr>\n",
       "    <tr>\n",
       "      <th>27437</th>\n",
       "      <td>0.0</td>\n",
       "      <td>0.0</td>\n",
       "      <td>0.0</td>\n",
       "      <td>0.0</td>\n",
       "      <td>4228.772487</td>\n",
       "      <td>188029.044554</td>\n",
       "      <td>2020</td>\n",
       "    </tr>\n",
       "  </tbody>\n",
       "</table>\n",
       "</div>"
      ],
      "text/plain": [
       "       total_cases  new_cases  total_deaths  new_deaths    new_tests  \\\n",
       "27433          0.0        0.0           0.0         0.0  4228.772487   \n",
       "27434          0.0        0.0           0.0         0.0  4228.772487   \n",
       "27435          0.0        0.0           0.0         0.0  4228.772487   \n",
       "27436          0.0        0.0           0.0         0.0  4228.772487   \n",
       "27437          0.0        0.0           0.0         0.0  4228.772487   \n",
       "\n",
       "         total_tests  year  \n",
       "27433  188029.044554  2019  \n",
       "27434  188029.044554  2020  \n",
       "27435  188029.044554  2020  \n",
       "27436  188029.044554  2020  \n",
       "27437  188029.044554  2020  "
      ]
     },
     "execution_count": 828,
     "metadata": {},
     "output_type": "execute_result"
    }
   ],
   "source": [
    "df_2.head()"
   ]
  },
  {
   "cell_type": "code",
   "execution_count": 829,
   "metadata": {},
   "outputs": [
    {
     "data": {
      "text/plain": [
       "{'total_cases': 0.4638311568828807,\n",
       " 'new_cases': 0.20498427002509706,\n",
       " 'total_deaths': 0.014069762383131337,\n",
       " 'new_deaths': 0.12595278960095418,\n",
       " 'new_tests': 0.03564429123006195,\n",
       " 'total_tests': 0.10640675513783045,\n",
       " 'year': 0.04639461124752915}"
      ]
     },
     "execution_count": 829,
     "metadata": {},
     "output_type": "execute_result"
    }
   ],
   "source": [
    "feature_dict = dict(zip(df_2.columns, list(rg.feature_importances_)))\n",
    "feature_dict"
   ]
  },
  {
   "cell_type": "code",
   "execution_count": 830,
   "metadata": {},
   "outputs": [
    {
     "data": {
      "image/png": "[encoded data removed]",
      "text/plain": [
       "<Figure size 432x288 with 1 Axes>"
      ]
     },
     "metadata": {
      "needs_background": "light"
     },
     "output_type": "display_data"
    }
   ],
   "source": [
    "# Visualize feature importance\n",
    "feature_df = pd.DataFrame(feature_dict, index=[0])\n",
    "feature_df.T.plot.bar(title=\"Feature Importance\", legend=False);"
   ]
  },
  {
   "cell_type": "code",
   "execution_count": 831,
   "metadata": {},
   "outputs": [],
   "source": [
    "df_2.drop('total_tests',axis=1,inplace=True)"
   ]
  },
  {
   "cell_type": "code",
   "execution_count": 832,
   "metadata": {},
   "outputs": [
    {
     "data": {
      "text/html": [
       "<div>\n",
       "<style scoped>\n",
       "    .dataframe tbody tr th:only-of-type {\n",
       "        vertical-align: middle;\n",
       "    }\n",
       "\n",
       "    .dataframe tbody tr th {\n",
       "        vertical-align: top;\n",
       "    }\n",
       "\n",
       "    .dataframe thead th {\n",
       "        text-align: right;\n",
       "    }\n",
       "</style>\n",
       "<table border=\"1\" class=\"dataframe\">\n",
       "  <thead>\n",
       "    <tr style=\"text-align: right;\">\n",
       "      <th></th>\n",
       "      <th>total_cases</th>\n",
       "      <th>new_cases</th>\n",
       "      <th>total_deaths</th>\n",
       "      <th>new_deaths</th>\n",
       "      <th>new_tests</th>\n",
       "      <th>year</th>\n",
       "    </tr>\n",
       "  </thead>\n",
       "  <tbody>\n",
       "    <tr>\n",
       "      <th>total_cases</th>\n",
       "      <td>1.000000</td>\n",
       "      <td>0.852377</td>\n",
       "      <td>0.944553</td>\n",
       "      <td>0.825077</td>\n",
       "      <td>7.683540e-01</td>\n",
       "      <td>4.304322e-02</td>\n",
       "    </tr>\n",
       "    <tr>\n",
       "      <th>new_cases</th>\n",
       "      <td>0.852377</td>\n",
       "      <td>1.000000</td>\n",
       "      <td>0.855403</td>\n",
       "      <td>0.796134</td>\n",
       "      <td>7.297169e-01</td>\n",
       "      <td>4.037090e-02</td>\n",
       "    </tr>\n",
       "    <tr>\n",
       "      <th>total_deaths</th>\n",
       "      <td>0.944553</td>\n",
       "      <td>0.855403</td>\n",
       "      <td>1.000000</td>\n",
       "      <td>0.866489</td>\n",
       "      <td>6.931904e-01</td>\n",
       "      <td>3.280228e-02</td>\n",
       "    </tr>\n",
       "    <tr>\n",
       "      <th>new_deaths</th>\n",
       "      <td>0.825077</td>\n",
       "      <td>0.796134</td>\n",
       "      <td>0.866489</td>\n",
       "      <td>1.000000</td>\n",
       "      <td>7.297199e-01</td>\n",
       "      <td>2.984319e-02</td>\n",
       "    </tr>\n",
       "    <tr>\n",
       "      <th>new_tests</th>\n",
       "      <td>0.768354</td>\n",
       "      <td>0.729717</td>\n",
       "      <td>0.693190</td>\n",
       "      <td>0.729720</td>\n",
       "      <td>1.000000e+00</td>\n",
       "      <td>-2.925919e-17</td>\n",
       "    </tr>\n",
       "    <tr>\n",
       "      <th>year</th>\n",
       "      <td>0.043043</td>\n",
       "      <td>0.040371</td>\n",
       "      <td>0.032802</td>\n",
       "      <td>0.029843</td>\n",
       "      <td>-2.925919e-17</td>\n",
       "      <td>1.000000e+00</td>\n",
       "    </tr>\n",
       "  </tbody>\n",
       "</table>\n",
       "</div>"
      ],
      "text/plain": [
       "              total_cases  new_cases  total_deaths  new_deaths     new_tests  \\\n",
       "total_cases      1.000000   0.852377      0.944553    0.825077  7.683540e-01   \n",
       "new_cases        0.852377   1.000000      0.855403    0.796134  7.297169e-01   \n",
       "total_deaths     0.944553   0.855403      1.000000    0.866489  6.931904e-01   \n",
       "new_deaths       0.825077   0.796134      0.866489    1.000000  7.297199e-01   \n",
       "new_tests        0.768354   0.729717      0.693190    0.729720  1.000000e+00   \n",
       "year             0.043043   0.040371      0.032802    0.029843 -2.925919e-17   \n",
       "\n",
       "                      year  \n",
       "total_cases   4.304322e-02  \n",
       "new_cases     4.037090e-02  \n",
       "total_deaths  3.280228e-02  \n",
       "new_deaths    2.984319e-02  \n",
       "new_tests    -2.925919e-17  \n",
       "year          1.000000e+00  "
      ]
     },
     "execution_count": 832,
     "metadata": {},
     "output_type": "execute_result"
    }
   ],
   "source": [
    "df_2.corr()"
   ]
  },
  {
   "cell_type": "code",
   "execution_count": 833,
   "metadata": {},
   "outputs": [
    {
     "data": {
      "image/png": "[encoded data removed]",
      "text/plain": [
       "<Figure size 432x288 with 1 Axes>"
      ]
     },
     "metadata": {
      "needs_background": "light"
     },
     "output_type": "display_data"
    }
   ],
   "source": [
    "fig, ax = plt.subplots()\n",
    "ax =sns.heatmap(df_2.corr(),annot=True,cbar=False,cmap='flag');"
   ]
  },
  {
   "cell_type": "code",
   "execution_count": 834,
   "metadata": {},
   "outputs": [],
   "source": [
    "fig.savefig('correlation_heatmap.png')"
   ]
  },
  {
   "cell_type": "code",
   "execution_count": 835,
   "metadata": {},
   "outputs": [
    {
     "data": {
      "image/png": "[encoded data removed]",
      "text/plain": [
       "<Figure size 432x288 with 1 Axes>"
      ]
     },
     "metadata": {
      "needs_background": "light"
     },
     "output_type": "display_data"
    }
   ],
   "source": [
    "plt.scatter(df_2['new_cases'],df_2['total_cases']);"
   ]
  },
  {
   "cell_type": "code",
   "execution_count": 836,
   "metadata": {},
   "outputs": [
    {
     "data": {
      "image/png": "[encoded data removed]",
      "text/plain": [
       "<Figure size 432x288 with 1 Axes>"
      ]
     },
     "metadata": {
      "needs_background": "light"
     },
     "output_type": "display_data"
    }
   ],
   "source": [
    "fig, ax = plt.subplots()\n",
    "ax = sns.regplot(df_2['new_cases'],df_2['total_cases'])"
   ]
  },
  {
   "cell_type": "code",
   "execution_count": 837,
   "metadata": {},
   "outputs": [],
   "source": [
    "fig.savefig('newcase_vs_totalcases_linearGraph.png')"
   ]
  },
  {
   "cell_type": "code",
   "execution_count": 838,
   "metadata": {},
   "outputs": [
    {
     "data": {
      "text/html": [
       "<div>\n",
       "<style scoped>\n",
       "    .dataframe tbody tr th:only-of-type {\n",
       "        vertical-align: middle;\n",
       "    }\n",
       "\n",
       "    .dataframe tbody tr th {\n",
       "        vertical-align: top;\n",
       "    }\n",
       "\n",
       "    .dataframe thead th {\n",
       "        text-align: right;\n",
       "    }\n",
       "</style>\n",
       "<table border=\"1\" class=\"dataframe\">\n",
       "  <thead>\n",
       "    <tr style=\"text-align: right;\">\n",
       "      <th></th>\n",
       "      <th>total_cases</th>\n",
       "      <th>new_cases</th>\n",
       "      <th>total_deaths</th>\n",
       "      <th>new_deaths</th>\n",
       "      <th>new_tests</th>\n",
       "      <th>year</th>\n",
       "    </tr>\n",
       "  </thead>\n",
       "  <tbody>\n",
       "    <tr>\n",
       "      <th>27433</th>\n",
       "      <td>0.0</td>\n",
       "      <td>0.0</td>\n",
       "      <td>0.0</td>\n",
       "      <td>0.0</td>\n",
       "      <td>4228.772487</td>\n",
       "      <td>2019</td>\n",
       "    </tr>\n",
       "    <tr>\n",
       "      <th>27434</th>\n",
       "      <td>0.0</td>\n",
       "      <td>0.0</td>\n",
       "      <td>0.0</td>\n",
       "      <td>0.0</td>\n",
       "      <td>4228.772487</td>\n",
       "      <td>2020</td>\n",
       "    </tr>\n",
       "    <tr>\n",
       "      <th>27435</th>\n",
       "      <td>0.0</td>\n",
       "      <td>0.0</td>\n",
       "      <td>0.0</td>\n",
       "      <td>0.0</td>\n",
       "      <td>4228.772487</td>\n",
       "      <td>2020</td>\n",
       "    </tr>\n",
       "    <tr>\n",
       "      <th>27436</th>\n",
       "      <td>0.0</td>\n",
       "      <td>0.0</td>\n",
       "      <td>0.0</td>\n",
       "      <td>0.0</td>\n",
       "      <td>4228.772487</td>\n",
       "      <td>2020</td>\n",
       "    </tr>\n",
       "    <tr>\n",
       "      <th>27437</th>\n",
       "      <td>0.0</td>\n",
       "      <td>0.0</td>\n",
       "      <td>0.0</td>\n",
       "      <td>0.0</td>\n",
       "      <td>4228.772487</td>\n",
       "      <td>2020</td>\n",
       "    </tr>\n",
       "  </tbody>\n",
       "</table>\n",
       "</div>"
      ],
      "text/plain": [
       "       total_cases  new_cases  total_deaths  new_deaths    new_tests  year\n",
       "27433          0.0        0.0           0.0         0.0  4228.772487  2019\n",
       "27434          0.0        0.0           0.0         0.0  4228.772487  2020\n",
       "27435          0.0        0.0           0.0         0.0  4228.772487  2020\n",
       "27436          0.0        0.0           0.0         0.0  4228.772487  2020\n",
       "27437          0.0        0.0           0.0         0.0  4228.772487  2020"
      ]
     },
     "execution_count": 838,
     "metadata": {},
     "output_type": "execute_result"
    }
   ],
   "source": [
    "df_2.head()"
   ]
  },
  {
   "cell_type": "code",
   "execution_count": 839,
   "metadata": {},
   "outputs": [
    {
     "data": {
      "text/html": [
       "<div>\n",
       "<style scoped>\n",
       "    .dataframe tbody tr th:only-of-type {\n",
       "        vertical-align: middle;\n",
       "    }\n",
       "\n",
       "    .dataframe tbody tr th {\n",
       "        vertical-align: top;\n",
       "    }\n",
       "\n",
       "    .dataframe thead th {\n",
       "        text-align: right;\n",
       "    }\n",
       "</style>\n",
       "<table border=\"1\" class=\"dataframe\">\n",
       "  <thead>\n",
       "    <tr style=\"text-align: right;\">\n",
       "      <th></th>\n",
       "      <th>total_cases</th>\n",
       "      <th>new_cases</th>\n",
       "      <th>total_deaths</th>\n",
       "      <th>new_deaths</th>\n",
       "      <th>new_tests</th>\n",
       "      <th>year</th>\n",
       "    </tr>\n",
       "  </thead>\n",
       "  <tbody>\n",
       "    <tr>\n",
       "      <th>27685</th>\n",
       "      <td>47236.0</td>\n",
       "      <td>979.0</td>\n",
       "      <td>300.0</td>\n",
       "      <td>11.0</td>\n",
       "      <td>10611.000000</td>\n",
       "      <td>2020</td>\n",
       "    </tr>\n",
       "    <tr>\n",
       "      <th>27686</th>\n",
       "      <td>48138.0</td>\n",
       "      <td>902.0</td>\n",
       "      <td>306.0</td>\n",
       "      <td>6.0</td>\n",
       "      <td>11167.000000</td>\n",
       "      <td>2020</td>\n",
       "    </tr>\n",
       "    <tr>\n",
       "      <th>27687</th>\n",
       "      <td>49219.0</td>\n",
       "      <td>1081.0</td>\n",
       "      <td>312.0</td>\n",
       "      <td>6.0</td>\n",
       "      <td>4228.772487</td>\n",
       "      <td>2020</td>\n",
       "    </tr>\n",
       "    <tr>\n",
       "      <th>27688</th>\n",
       "      <td>50465.0</td>\n",
       "      <td>1246.0</td>\n",
       "      <td>317.0</td>\n",
       "      <td>5.0</td>\n",
       "      <td>4228.772487</td>\n",
       "      <td>2020</td>\n",
       "    </tr>\n",
       "    <tr>\n",
       "      <th>27689</th>\n",
       "      <td>51919.0</td>\n",
       "      <td>1454.0</td>\n",
       "      <td>322.0</td>\n",
       "      <td>5.0</td>\n",
       "      <td>4228.772487</td>\n",
       "      <td>2020</td>\n",
       "    </tr>\n",
       "  </tbody>\n",
       "</table>\n",
       "</div>"
      ],
      "text/plain": [
       "       total_cases  new_cases  total_deaths  new_deaths     new_tests  year\n",
       "27685      47236.0      979.0         300.0        11.0  10611.000000  2020\n",
       "27686      48138.0      902.0         306.0         6.0  11167.000000  2020\n",
       "27687      49219.0     1081.0         312.0         6.0   4228.772487  2020\n",
       "27688      50465.0     1246.0         317.0         5.0   4228.772487  2020\n",
       "27689      51919.0     1454.0         322.0         5.0   4228.772487  2020"
      ]
     },
     "execution_count": 839,
     "metadata": {},
     "output_type": "execute_result"
    }
   ],
   "source": [
    "df_2.tail()"
   ]
  },
  {
   "cell_type": "code",
   "execution_count": 840,
   "metadata": {},
   "outputs": [],
   "source": [
    "y_predicts = rg_3.predict(X_test)"
   ]
  },
  {
   "cell_type": "code",
   "execution_count": 841,
   "metadata": {},
   "outputs": [
    {
     "data": {
      "text/plain": [
       "-60.20862959100247"
      ]
     },
     "execution_count": 841,
     "metadata": {},
     "output_type": "execute_result"
    }
   ],
   "source": [
    "np.mean(cross_val_score(rg_3,X_train,y_train,cv=3,scoring='neg_mean_absolute_error'))"
   ]
  },
  {
   "cell_type": "code",
   "execution_count": 842,
   "metadata": {},
   "outputs": [
    {
     "data": {
      "text/plain": [
       "0.8654167449869029"
      ]
     },
     "execution_count": 842,
     "metadata": {},
     "output_type": "execute_result"
    }
   ],
   "source": [
    "r2_score(y_test,y_predicts)"
   ]
  },
  {
   "cell_type": "code",
   "execution_count": 843,
   "metadata": {},
   "outputs": [
    {
     "name": "stdout",
     "output_type": "stream",
     "text": [
      "Trying model with 10 estimators...\n",
      "Model accuracy on test set:81.21%\n",
      "Model accuracy on train set:94.76%\n",
      " \n",
      "Trying model with 20 estimators...\n",
      "Model accuracy on test set:79.67%\n",
      "Model accuracy on train set:95.82%\n",
      " \n",
      "Trying model with 30 estimators...\n",
      "Model accuracy on test set:86.32%\n",
      "Model accuracy on train set:96.38%\n",
      " \n",
      "Trying model with 40 estimators...\n",
      "Model accuracy on test set:81.94%\n",
      "Model accuracy on train set:96.69%\n",
      " \n",
      "Trying model with 50 estimators...\n",
      "Model accuracy on test set:85.18%\n",
      "Model accuracy on train set:96.17%\n",
      " \n",
      "Trying model with 60 estimators...\n",
      "Model accuracy on test set:86.31%\n",
      "Model accuracy on train set:97.19%\n",
      " \n",
      "Trying model with 70 estimators...\n",
      "Model accuracy on test set:84.67%\n",
      "Model accuracy on train set:96.07%\n",
      " \n",
      "Trying model with 80 estimators...\n",
      "Model accuracy on test set:86.72%\n",
      "Model accuracy on train set:97.01%\n",
      " \n",
      "Trying model with 90 estimators...\n",
      "Model accuracy on test set:86.22%\n",
      "Model accuracy on train set:96.22%\n",
      " \n"
     ]
    }
   ],
   "source": [
    "np.random.seed(42)\n",
    "for i in range(10,100,10):\n",
    "    print(f'Trying model with {i} estimators...')\n",
    "    rg = RandomForestRegressor(n_estimators=i).fit(X_train,y_train)\n",
    "    print(f'Model accuracy on test set:{rg.score(X_test,y_test)*100:.2f}%')\n",
    "    print(f'Model accuracy on train set:{rg.score(X_train,y_train)*100:.2f}%')\n",
    "    \n",
    "    print(\" \")"
   ]
  },
  {
   "cell_type": "markdown",
   "metadata": {},
   "source": [
    "## Ok from our baseline model we concluded that we can get accuracy around maxmium 97% using this model to predict new cases.\n",
    "> Lets use following features to make predictions further more\n",
    "* Cross-validation\n",
    "* Grid Search\n"
   ]
  },
  {
   "cell_type": "markdown",
   "metadata": {},
   "source": [
    "# Cross Validation"
   ]
  },
  {
   "cell_type": "code",
   "execution_count": 844,
   "metadata": {},
   "outputs": [
    {
     "data": {
      "text/plain": [
       "-58.29441855971896"
      ]
     },
     "execution_count": 844,
     "metadata": {},
     "output_type": "execute_result"
    }
   ],
   "source": [
    "np.mean(cross_val_score(rg_3,X_train,y_train,cv=10,scoring='neg_mean_absolute_error'))"
   ]
  },
  {
   "cell_type": "code",
   "execution_count": 845,
   "metadata": {},
   "outputs": [
    {
     "data": {
      "text/plain": [
       "-60.016518823185"
      ]
     },
     "execution_count": 845,
     "metadata": {},
     "output_type": "execute_result"
    }
   ],
   "source": [
    "np.mean(cross_val_score(rg_2,X_train,y_train,cv=10,scoring='neg_mean_absolute_error'))"
   ]
  },
  {
   "cell_type": "code",
   "execution_count": 846,
   "metadata": {},
   "outputs": [
    {
     "data": {
      "text/plain": [
       "-58.40690387284239"
      ]
     },
     "execution_count": 846,
     "metadata": {},
     "output_type": "execute_result"
    }
   ],
   "source": [
    "np.mean(cross_val_score(rg,X_train,y_train,cv=10,scoring='neg_mean_absolute_error'))"
   ]
  },
  {
   "cell_type": "markdown",
   "metadata": {},
   "source": [
    "# Grid Search CV"
   ]
  },
  {
   "cell_type": "code",
   "execution_count": 847,
   "metadata": {},
   "outputs": [],
   "source": [
    "parameters = {\"n_estimators\":range(10,100,10),\"criterion\":('mae','mse'),'max_features':('auto','sqrt','log2')}"
   ]
  },
  {
   "cell_type": "code",
   "execution_count": 848,
   "metadata": {},
   "outputs": [],
   "source": [
    "gs = GridSearchCV(rg,parameters,cv=3)"
   ]
  },
  {
   "cell_type": "code",
   "execution_count": 849,
   "metadata": {},
   "outputs": [
    {
     "data": {
      "text/plain": [
       "GridSearchCV(cv=3, estimator=RandomForestRegressor(n_estimators=90),\n",
       "             param_grid={'criterion': ('mae', 'mse'),\n",
       "                         'max_features': ('auto', 'sqrt', 'log2'),\n",
       "                         'n_estimators': range(10, 100, 10)})"
      ]
     },
     "execution_count": 849,
     "metadata": {},
     "output_type": "execute_result"
    }
   ],
   "source": [
    "gs.fit(X_train,y_train)"
   ]
  },
  {
   "cell_type": "code",
   "execution_count": 850,
   "metadata": {},
   "outputs": [
    {
     "data": {
      "text/plain": [
       "RandomForestRegressor(max_features='log2', n_estimators=60)"
      ]
     },
     "execution_count": 850,
     "metadata": {},
     "output_type": "execute_result"
    }
   ],
   "source": [
    "gs.best_estimator_"
   ]
  },
  {
   "cell_type": "code",
   "execution_count": 851,
   "metadata": {},
   "outputs": [],
   "source": [
    "gs_predict = gs.predict(X_test)"
   ]
  },
  {
   "cell_type": "code",
   "execution_count": 852,
   "metadata": {},
   "outputs": [
    {
     "data": {
      "text/plain": [
       "0.8430339222901242"
      ]
     },
     "execution_count": 852,
     "metadata": {},
     "output_type": "execute_result"
    }
   ],
   "source": [
    "gs.score(X_test,y_test)"
   ]
  },
  {
   "cell_type": "code",
   "execution_count": 853,
   "metadata": {},
   "outputs": [
    {
     "data": {
      "text/plain": [
       "0.8654167449869029"
      ]
     },
     "execution_count": 853,
     "metadata": {},
     "output_type": "execute_result"
    }
   ],
   "source": [
    "r2_score(y_test,y_predicts)"
   ]
  },
  {
   "cell_type": "code",
   "execution_count": 854,
   "metadata": {},
   "outputs": [
    {
     "data": {
      "text/plain": [
       "0.8654253040650021"
      ]
     },
     "execution_count": 854,
     "metadata": {},
     "output_type": "execute_result"
    }
   ],
   "source": [
    "r2_score(y_test,y_predictor_1)"
   ]
  },
  {
   "cell_type": "code",
   "execution_count": 855,
   "metadata": {},
   "outputs": [
    {
     "data": {
      "text/html": [
       "<div>\n",
       "<style scoped>\n",
       "    .dataframe tbody tr th:only-of-type {\n",
       "        vertical-align: middle;\n",
       "    }\n",
       "\n",
       "    .dataframe tbody tr th {\n",
       "        vertical-align: top;\n",
       "    }\n",
       "\n",
       "    .dataframe thead th {\n",
       "        text-align: right;\n",
       "    }\n",
       "</style>\n",
       "<table border=\"1\" class=\"dataframe\">\n",
       "  <thead>\n",
       "    <tr style=\"text-align: right;\">\n",
       "      <th></th>\n",
       "      <th>actual</th>\n",
       "      <th>predicted</th>\n",
       "    </tr>\n",
       "  </thead>\n",
       "  <tbody>\n",
       "    <tr>\n",
       "      <th>0</th>\n",
       "      <td>448.000000</td>\n",
       "      <td>311.270000</td>\n",
       "    </tr>\n",
       "    <tr>\n",
       "      <th>1</th>\n",
       "      <td>740.000000</td>\n",
       "      <td>259.873074</td>\n",
       "    </tr>\n",
       "    <tr>\n",
       "      <th>2</th>\n",
       "      <td>0.000000</td>\n",
       "      <td>0.000000</td>\n",
       "    </tr>\n",
       "    <tr>\n",
       "      <th>3</th>\n",
       "      <td>0.000000</td>\n",
       "      <td>0.000000</td>\n",
       "    </tr>\n",
       "    <tr>\n",
       "      <th>4</th>\n",
       "      <td>0.000000</td>\n",
       "      <td>0.000000</td>\n",
       "    </tr>\n",
       "    <tr>\n",
       "      <th>5</th>\n",
       "      <td>0.000000</td>\n",
       "      <td>0.000000</td>\n",
       "    </tr>\n",
       "    <tr>\n",
       "      <th>6</th>\n",
       "      <td>101.000000</td>\n",
       "      <td>133.673484</td>\n",
       "    </tr>\n",
       "    <tr>\n",
       "      <th>7</th>\n",
       "      <td>0.000000</td>\n",
       "      <td>0.000000</td>\n",
       "    </tr>\n",
       "    <tr>\n",
       "      <th>8</th>\n",
       "      <td>2.000000</td>\n",
       "      <td>1.830000</td>\n",
       "    </tr>\n",
       "    <tr>\n",
       "      <th>9</th>\n",
       "      <td>0.000000</td>\n",
       "      <td>0.000000</td>\n",
       "    </tr>\n",
       "    <tr>\n",
       "      <th>10</th>\n",
       "      <td>3.000000</td>\n",
       "      <td>6.330000</td>\n",
       "    </tr>\n",
       "    <tr>\n",
       "      <th>11</th>\n",
       "      <td>0.000000</td>\n",
       "      <td>0.000000</td>\n",
       "    </tr>\n",
       "    <tr>\n",
       "      <th>12</th>\n",
       "      <td>0.000000</td>\n",
       "      <td>0.000000</td>\n",
       "    </tr>\n",
       "    <tr>\n",
       "      <th>13</th>\n",
       "      <td>323.000000</td>\n",
       "      <td>374.210000</td>\n",
       "    </tr>\n",
       "    <tr>\n",
       "      <th>14</th>\n",
       "      <td>3.000000</td>\n",
       "      <td>0.080000</td>\n",
       "    </tr>\n",
       "    <tr>\n",
       "      <th>15</th>\n",
       "      <td>581.000000</td>\n",
       "      <td>703.250000</td>\n",
       "    </tr>\n",
       "    <tr>\n",
       "      <th>16</th>\n",
       "      <td>0.000000</td>\n",
       "      <td>0.000000</td>\n",
       "    </tr>\n",
       "    <tr>\n",
       "      <th>17</th>\n",
       "      <td>212.782787</td>\n",
       "      <td>212.782787</td>\n",
       "    </tr>\n",
       "    <tr>\n",
       "      <th>18</th>\n",
       "      <td>979.000000</td>\n",
       "      <td>980.750000</td>\n",
       "    </tr>\n",
       "    <tr>\n",
       "      <th>19</th>\n",
       "      <td>638.000000</td>\n",
       "      <td>417.570000</td>\n",
       "    </tr>\n",
       "    <tr>\n",
       "      <th>20</th>\n",
       "      <td>0.000000</td>\n",
       "      <td>0.000000</td>\n",
       "    </tr>\n",
       "    <tr>\n",
       "      <th>21</th>\n",
       "      <td>0.000000</td>\n",
       "      <td>0.210000</td>\n",
       "    </tr>\n",
       "    <tr>\n",
       "      <th>22</th>\n",
       "      <td>380.000000</td>\n",
       "      <td>375.430000</td>\n",
       "    </tr>\n",
       "    <tr>\n",
       "      <th>23</th>\n",
       "      <td>885.000000</td>\n",
       "      <td>870.540000</td>\n",
       "    </tr>\n",
       "    <tr>\n",
       "      <th>24</th>\n",
       "      <td>109.000000</td>\n",
       "      <td>149.895656</td>\n",
       "    </tr>\n",
       "    <tr>\n",
       "      <th>25</th>\n",
       "      <td>0.000000</td>\n",
       "      <td>0.000000</td>\n",
       "    </tr>\n",
       "    <tr>\n",
       "      <th>26</th>\n",
       "      <td>0.000000</td>\n",
       "      <td>236.690000</td>\n",
       "    </tr>\n",
       "    <tr>\n",
       "      <th>27</th>\n",
       "      <td>108.000000</td>\n",
       "      <td>219.700000</td>\n",
       "    </tr>\n",
       "    <tr>\n",
       "      <th>28</th>\n",
       "      <td>1246.000000</td>\n",
       "      <td>1153.455656</td>\n",
       "    </tr>\n",
       "    <tr>\n",
       "      <th>29</th>\n",
       "      <td>1017.000000</td>\n",
       "      <td>610.700000</td>\n",
       "    </tr>\n",
       "    <tr>\n",
       "      <th>30</th>\n",
       "      <td>884.000000</td>\n",
       "      <td>973.500000</td>\n",
       "    </tr>\n",
       "    <tr>\n",
       "      <th>31</th>\n",
       "      <td>476.000000</td>\n",
       "      <td>391.285656</td>\n",
       "    </tr>\n",
       "    <tr>\n",
       "      <th>32</th>\n",
       "      <td>0.000000</td>\n",
       "      <td>0.000000</td>\n",
       "    </tr>\n",
       "    <tr>\n",
       "      <th>33</th>\n",
       "      <td>0.000000</td>\n",
       "      <td>293.370000</td>\n",
       "    </tr>\n",
       "    <tr>\n",
       "      <th>34</th>\n",
       "      <td>212.782787</td>\n",
       "      <td>211.029303</td>\n",
       "    </tr>\n",
       "    <tr>\n",
       "      <th>35</th>\n",
       "      <td>0.000000</td>\n",
       "      <td>0.220000</td>\n",
       "    </tr>\n",
       "    <tr>\n",
       "      <th>36</th>\n",
       "      <td>147.000000</td>\n",
       "      <td>129.915656</td>\n",
       "    </tr>\n",
       "    <tr>\n",
       "      <th>37</th>\n",
       "      <td>1.000000</td>\n",
       "      <td>0.000000</td>\n",
       "    </tr>\n",
       "    <tr>\n",
       "      <th>38</th>\n",
       "      <td>0.000000</td>\n",
       "      <td>11.690000</td>\n",
       "    </tr>\n",
       "    <tr>\n",
       "      <th>39</th>\n",
       "      <td>0.000000</td>\n",
       "      <td>0.000000</td>\n",
       "    </tr>\n",
       "    <tr>\n",
       "      <th>40</th>\n",
       "      <td>1111.000000</td>\n",
       "      <td>870.290000</td>\n",
       "    </tr>\n",
       "    <tr>\n",
       "      <th>41</th>\n",
       "      <td>61.000000</td>\n",
       "      <td>41.530000</td>\n",
       "    </tr>\n",
       "    <tr>\n",
       "      <th>42</th>\n",
       "      <td>246.000000</td>\n",
       "      <td>346.860000</td>\n",
       "    </tr>\n",
       "    <tr>\n",
       "      <th>43</th>\n",
       "      <td>212.782787</td>\n",
       "      <td>211.029303</td>\n",
       "    </tr>\n",
       "    <tr>\n",
       "      <th>44</th>\n",
       "      <td>0.000000</td>\n",
       "      <td>2.950000</td>\n",
       "    </tr>\n",
       "    <tr>\n",
       "      <th>45</th>\n",
       "      <td>1.000000</td>\n",
       "      <td>0.000000</td>\n",
       "    </tr>\n",
       "    <tr>\n",
       "      <th>46</th>\n",
       "      <td>19.000000</td>\n",
       "      <td>48.030000</td>\n",
       "    </tr>\n",
       "    <tr>\n",
       "      <th>47</th>\n",
       "      <td>331.000000</td>\n",
       "      <td>375.770000</td>\n",
       "    </tr>\n",
       "    <tr>\n",
       "      <th>48</th>\n",
       "      <td>0.000000</td>\n",
       "      <td>0.000000</td>\n",
       "    </tr>\n",
       "    <tr>\n",
       "      <th>49</th>\n",
       "      <td>156.000000</td>\n",
       "      <td>114.640000</td>\n",
       "    </tr>\n",
       "    <tr>\n",
       "      <th>50</th>\n",
       "      <td>426.000000</td>\n",
       "      <td>516.150000</td>\n",
       "    </tr>\n",
       "    <tr>\n",
       "      <th>51</th>\n",
       "      <td>0.000000</td>\n",
       "      <td>275.233484</td>\n",
       "    </tr>\n",
       "  </tbody>\n",
       "</table>\n",
       "</div>"
      ],
      "text/plain": [
       "         actual    predicted\n",
       "0    448.000000   311.270000\n",
       "1    740.000000   259.873074\n",
       "2      0.000000     0.000000\n",
       "3      0.000000     0.000000\n",
       "4      0.000000     0.000000\n",
       "5      0.000000     0.000000\n",
       "6    101.000000   133.673484\n",
       "7      0.000000     0.000000\n",
       "8      2.000000     1.830000\n",
       "9      0.000000     0.000000\n",
       "10     3.000000     6.330000\n",
       "11     0.000000     0.000000\n",
       "12     0.000000     0.000000\n",
       "13   323.000000   374.210000\n",
       "14     3.000000     0.080000\n",
       "15   581.000000   703.250000\n",
       "16     0.000000     0.000000\n",
       "17   212.782787   212.782787\n",
       "18   979.000000   980.750000\n",
       "19   638.000000   417.570000\n",
       "20     0.000000     0.000000\n",
       "21     0.000000     0.210000\n",
       "22   380.000000   375.430000\n",
       "23   885.000000   870.540000\n",
       "24   109.000000   149.895656\n",
       "25     0.000000     0.000000\n",
       "26     0.000000   236.690000\n",
       "27   108.000000   219.700000\n",
       "28  1246.000000  1153.455656\n",
       "29  1017.000000   610.700000\n",
       "30   884.000000   973.500000\n",
       "31   476.000000   391.285656\n",
       "32     0.000000     0.000000\n",
       "33     0.000000   293.370000\n",
       "34   212.782787   211.029303\n",
       "35     0.000000     0.220000\n",
       "36   147.000000   129.915656\n",
       "37     1.000000     0.000000\n",
       "38     0.000000    11.690000\n",
       "39     0.000000     0.000000\n",
       "40  1111.000000   870.290000\n",
       "41    61.000000    41.530000\n",
       "42   246.000000   346.860000\n",
       "43   212.782787   211.029303\n",
       "44     0.000000     2.950000\n",
       "45     1.000000     0.000000\n",
       "46    19.000000    48.030000\n",
       "47   331.000000   375.770000\n",
       "48     0.000000     0.000000\n",
       "49   156.000000   114.640000\n",
       "50   426.000000   516.150000\n",
       "51     0.000000   275.233484"
      ]
     },
     "execution_count": 855,
     "metadata": {},
     "output_type": "execute_result"
    }
   ],
   "source": [
    "pd.DataFrame(np.c_[y_test,y_predicts],columns=['actual','predicted'])"
   ]
  },
  {
   "cell_type": "code",
   "execution_count": 856,
   "metadata": {
    "scrolled": true
   },
   "outputs": [
    {
     "data": {
      "text/html": [
       "<div>\n",
       "<style scoped>\n",
       "    .dataframe tbody tr th:only-of-type {\n",
       "        vertical-align: middle;\n",
       "    }\n",
       "\n",
       "    .dataframe tbody tr th {\n",
       "        vertical-align: top;\n",
       "    }\n",
       "\n",
       "    .dataframe thead th {\n",
       "        text-align: right;\n",
       "    }\n",
       "</style>\n",
       "<table border=\"1\" class=\"dataframe\">\n",
       "  <thead>\n",
       "    <tr style=\"text-align: right;\">\n",
       "      <th></th>\n",
       "      <th>total_cases</th>\n",
       "      <th>new_cases</th>\n",
       "      <th>total_deaths</th>\n",
       "      <th>new_deaths</th>\n",
       "      <th>new_tests</th>\n",
       "      <th>total_tests</th>\n",
       "      <th>tests_per_case</th>\n",
       "      <th>year</th>\n",
       "    </tr>\n",
       "  </thead>\n",
       "  <tbody>\n",
       "    <tr>\n",
       "      <th>27685</th>\n",
       "      <td>47236.0</td>\n",
       "      <td>979.0</td>\n",
       "      <td>300.0</td>\n",
       "      <td>11.0</td>\n",
       "      <td>10611.000000</td>\n",
       "      <td>788174.000000</td>\n",
       "      <td>10.624000</td>\n",
       "      <td>2020</td>\n",
       "    </tr>\n",
       "    <tr>\n",
       "      <th>27686</th>\n",
       "      <td>48138.0</td>\n",
       "      <td>902.0</td>\n",
       "      <td>306.0</td>\n",
       "      <td>6.0</td>\n",
       "      <td>11167.000000</td>\n",
       "      <td>799341.000000</td>\n",
       "      <td>10.632000</td>\n",
       "      <td>2020</td>\n",
       "    </tr>\n",
       "    <tr>\n",
       "      <th>27687</th>\n",
       "      <td>49219.0</td>\n",
       "      <td>1081.0</td>\n",
       "      <td>312.0</td>\n",
       "      <td>6.0</td>\n",
       "      <td>4228.772487</td>\n",
       "      <td>188029.044554</td>\n",
       "      <td>100.054624</td>\n",
       "      <td>2020</td>\n",
       "    </tr>\n",
       "    <tr>\n",
       "      <th>27688</th>\n",
       "      <td>50465.0</td>\n",
       "      <td>1246.0</td>\n",
       "      <td>317.0</td>\n",
       "      <td>5.0</td>\n",
       "      <td>4228.772487</td>\n",
       "      <td>188029.044554</td>\n",
       "      <td>100.054624</td>\n",
       "      <td>2020</td>\n",
       "    </tr>\n",
       "    <tr>\n",
       "      <th>27689</th>\n",
       "      <td>51919.0</td>\n",
       "      <td>1454.0</td>\n",
       "      <td>322.0</td>\n",
       "      <td>5.0</td>\n",
       "      <td>4228.772487</td>\n",
       "      <td>188029.044554</td>\n",
       "      <td>100.054624</td>\n",
       "      <td>2020</td>\n",
       "    </tr>\n",
       "  </tbody>\n",
       "</table>\n",
       "</div>"
      ],
      "text/plain": [
       "       total_cases  new_cases  total_deaths  new_deaths     new_tests  \\\n",
       "27685      47236.0      979.0         300.0        11.0  10611.000000   \n",
       "27686      48138.0      902.0         306.0         6.0  11167.000000   \n",
       "27687      49219.0     1081.0         312.0         6.0   4228.772487   \n",
       "27688      50465.0     1246.0         317.0         5.0   4228.772487   \n",
       "27689      51919.0     1454.0         322.0         5.0   4228.772487   \n",
       "\n",
       "         total_tests  tests_per_case  year  \n",
       "27685  788174.000000       10.624000  2020  \n",
       "27686  799341.000000       10.632000  2020  \n",
       "27687  188029.044554      100.054624  2020  \n",
       "27688  188029.044554      100.054624  2020  \n",
       "27689  188029.044554      100.054624  2020  "
      ]
     },
     "execution_count": 856,
     "metadata": {},
     "output_type": "execute_result"
    }
   ],
   "source": [
    "df.tail()"
   ]
  },
  {
   "cell_type": "code",
   "execution_count": 857,
   "metadata": {},
   "outputs": [
    {
     "data": {
      "text/plain": [
       "(257, 6)"
      ]
     },
     "execution_count": 857,
     "metadata": {},
     "output_type": "execute_result"
    }
   ],
   "source": [
    "df_2.shape"
   ]
  },
  {
   "cell_type": "code",
   "execution_count": 858,
   "metadata": {},
   "outputs": [
    {
     "data": {
      "text/html": [
       "<div>\n",
       "<style scoped>\n",
       "    .dataframe tbody tr th:only-of-type {\n",
       "        vertical-align: middle;\n",
       "    }\n",
       "\n",
       "    .dataframe tbody tr th {\n",
       "        vertical-align: top;\n",
       "    }\n",
       "\n",
       "    .dataframe thead th {\n",
       "        text-align: right;\n",
       "    }\n",
       "</style>\n",
       "<table border=\"1\" class=\"dataframe\">\n",
       "  <thead>\n",
       "    <tr style=\"text-align: right;\">\n",
       "      <th></th>\n",
       "      <th>total_cases</th>\n",
       "      <th>total_deaths</th>\n",
       "      <th>new_deaths</th>\n",
       "      <th>new_tests</th>\n",
       "      <th>total_tests</th>\n",
       "      <th>year</th>\n",
       "    </tr>\n",
       "  </thead>\n",
       "  <tbody>\n",
       "    <tr>\n",
       "      <th>27598</th>\n",
       "      <td>5062.0</td>\n",
       "      <td>16.0</td>\n",
       "      <td>1.0</td>\n",
       "      <td>5426.000000</td>\n",
       "      <td>127288.000000</td>\n",
       "      <td>2020</td>\n",
       "    </tr>\n",
       "    <tr>\n",
       "      <th>27619</th>\n",
       "      <td>15259.0</td>\n",
       "      <td>32.0</td>\n",
       "      <td>1.0</td>\n",
       "      <td>4050.000000</td>\n",
       "      <td>246297.000000</td>\n",
       "      <td>2020</td>\n",
       "    </tr>\n",
       "    <tr>\n",
       "      <th>27515</th>\n",
       "      <td>1.0</td>\n",
       "      <td>0.0</td>\n",
       "      <td>0.0</td>\n",
       "      <td>4228.772487</td>\n",
       "      <td>572.000000</td>\n",
       "      <td>2020</td>\n",
       "    </tr>\n",
       "    <tr>\n",
       "      <th>27463</th>\n",
       "      <td>1.0</td>\n",
       "      <td>0.0</td>\n",
       "      <td>0.0</td>\n",
       "      <td>1.000000</td>\n",
       "      <td>5.000000</td>\n",
       "      <td>2020</td>\n",
       "    </tr>\n",
       "    <tr>\n",
       "      <th>27442</th>\n",
       "      <td>0.0</td>\n",
       "      <td>0.0</td>\n",
       "      <td>0.0</td>\n",
       "      <td>4228.772487</td>\n",
       "      <td>188029.044554</td>\n",
       "      <td>2020</td>\n",
       "    </tr>\n",
       "  </tbody>\n",
       "</table>\n",
       "</div>"
      ],
      "text/plain": [
       "       total_cases  total_deaths  new_deaths    new_tests    total_tests  year\n",
       "27598       5062.0          16.0         1.0  5426.000000  127288.000000  2020\n",
       "27619      15259.0          32.0         1.0  4050.000000  246297.000000  2020\n",
       "27515          1.0           0.0         0.0  4228.772487     572.000000  2020\n",
       "27463          1.0           0.0         0.0     1.000000       5.000000  2020\n",
       "27442          0.0           0.0         0.0  4228.772487  188029.044554  2020"
      ]
     },
     "execution_count": 858,
     "metadata": {},
     "output_type": "execute_result"
    }
   ],
   "source": [
    "X_test.head()"
   ]
  },
  {
   "cell_type": "code",
   "execution_count": 859,
   "metadata": {},
   "outputs": [
    {
     "data": {
      "text/plain": [
       "1241.0"
      ]
     },
     "execution_count": 859,
     "metadata": {},
     "output_type": "execute_result"
    }
   ],
   "source": [
    "rg_3.predict([['80000','5000','25','2500','25000','2020']])[0].round(0)"
   ]
  },
  {
   "cell_type": "code",
   "execution_count": 860,
   "metadata": {},
   "outputs": [],
   "source": [
    "from sklearn.linear_model import LinearRegression\n",
    "from sklearn.neighbors import KNeighborsRegressor\n",
    "from sklearn.linear_model import Ridge\n",
    "from sklearn.linear_model import Lasso"
   ]
  },
  {
   "cell_type": "code",
   "execution_count": 861,
   "metadata": {},
   "outputs": [],
   "source": [
    "# Put models in a dictionary\n",
    "models = {\"KNN\": KNeighborsRegressor(),\n",
    "          \"Logistic Regression\": LinearRegression(), \n",
    "          \"Random Forest\": RandomForestRegressor(),\n",
    "          \"Ridge\":Ridge(),\n",
    "          \"Lasso\":Lasso(),\n",
    "         }\n",
    "\n",
    "# Create function to fit and score models\n",
    "def fit_and_score(models, X_train, X_test, y_train, y_test):\n",
    "    \"\"\"\n",
    "    Fits and evaluates given machine learning models.\n",
    "    models : a dict of different Scikit-Learn machine learning models\n",
    "    X_train : training data\n",
    "    X_test : testing data\n",
    "    y_train : labels assosciated with training data\n",
    "    y_test : labels assosciated with test data\n",
    "    \"\"\"\n",
    "    # Random seed for reproducible results\n",
    "    np.random.seed(42)\n",
    "    # Make a list to keep model scores\n",
    "    model_scores = {}\n",
    "    # Loop through models\n",
    "    for name, model in models.items():\n",
    "        # Fit the model to the data\n",
    "        model.fit(X_train, y_train)\n",
    "        # Evaluate the model and append its score to model_scores\n",
    "        model_scores[name] = model.score(X_test, y_test)\n",
    "    return model_scores"
   ]
  },
  {
   "cell_type": "code",
   "execution_count": 862,
   "metadata": {},
   "outputs": [
    {
     "data": {
      "text/plain": [
       "{'KNN': 0.8239877429844552,\n",
       " 'Logistic Regression': 0.8027418577974684,\n",
       " 'Random Forest': 0.8324428133794856,\n",
       " 'Ridge': 0.8027488692616281,\n",
       " 'Lasso': 0.8026977175497199}"
      ]
     },
     "execution_count": 862,
     "metadata": {},
     "output_type": "execute_result"
    }
   ],
   "source": [
    "model_scores = fit_and_score(models=models,\n",
    "                             X_train=X_train,\n",
    "                             X_test=X_test,\n",
    "                             y_train=y_train,\n",
    "                             y_test=y_test)\n",
    "model_scores"
   ]
  },
  {
   "cell_type": "markdown",
   "metadata": {},
   "source": [
    "# Lets compare the Model"
   ]
  },
  {
   "cell_type": "code",
   "execution_count": 863,
   "metadata": {},
   "outputs": [
    {
     "data": {
      "image/png": "[encoded data removed]",
      "text/plain": [
       "<Figure size 432x288 with 1 Axes>"
      ]
     },
     "metadata": {
      "needs_background": "light"
     },
     "output_type": "display_data"
    }
   ],
   "source": [
    "model_compare = pd.DataFrame(model_scores, index=['accuracy'])\n",
    "model_compare.T.plot.bar();"
   ]
  },
  {
   "cell_type": "markdown",
   "metadata": {},
   "source": [
    "### Hence, from the above comparision also we are satisfied that RandomForest performs the best among all"
   ]
  },
  {
   "cell_type": "code",
   "execution_count": 864,
   "metadata": {},
   "outputs": [
    {
     "data": {
      "text/plain": [
       "0.8621669651229449"
      ]
     },
     "execution_count": 864,
     "metadata": {},
     "output_type": "execute_result"
    }
   ],
   "source": [
    "rg.score(X_test,y_test)"
   ]
  },
  {
   "cell_type": "markdown",
   "metadata": {},
   "source": [
    "# Let's see how can we train from Deep Learning as well, one of the most effective model used in complex and large datasets.Though our dataset is very small let me just see how it performs here since Machine learning is all about experiments and practices "
   ]
  },
  {
   "cell_type": "code",
   "execution_count": 865,
   "metadata": {},
   "outputs": [],
   "source": [
    "# Tensorflow is the most popular deep learning librabry and keras is another library that acts as an interface for the TensorFlow library.\n",
    "import tensorflow as tf\n",
    "from tensorflow import keras\n",
    "# Drop out its a technique like a regularization in deep learning developed by Nitesh Shrivatav as thesis under the supervision of Geoffery Hinton, The God Of Deep Learning\n",
    "from keras.layers import Dropout"
   ]
  },
  {
   "cell_type": "markdown",
   "metadata": {},
   "source": [
    "## Let me scale down the features"
   ]
  },
  {
   "cell_type": "code",
   "execution_count": 866,
   "metadata": {},
   "outputs": [],
   "source": [
    "from sklearn.preprocessing import StandardScaler"
   ]
  },
  {
   "cell_type": "code",
   "execution_count": 867,
   "metadata": {},
   "outputs": [],
   "source": [
    "sc = StandardScaler()\n",
    "X_train_scaled = sc.fit_transform(X_train)\n",
    "X_test_scaled = sc.transform(X_test)"
   ]
  },
  {
   "cell_type": "code",
   "execution_count": 868,
   "metadata": {},
   "outputs": [],
   "source": [
    "model = keras.models.Sequential()"
   ]
  },
  {
   "cell_type": "code",
   "execution_count": 869,
   "metadata": {},
   "outputs": [],
   "source": [
    "model.add(tf.keras.layers.Dense(30,input_dim=6,activation='relu'))\n",
    "model.add(tf.keras.layers.Dropout(0.1))\n",
    "model.add(tf.keras.layers.Dense(80,activation='relu'))\n",
    "model.add(tf.keras.layers.Dropout(0.4))\n",
    "model.add(tf.keras.layers.Dense(80,activation='relu'))\n",
    "model.add(tf.keras.layers.Dropout(0.4))\n",
    "model.add(tf.keras.layers.Dense(80,activation='relu'))\n",
    "model.add(tf.keras.layers.Dropout(0.4))\n",
    "model.add(tf.keras.layers.Dense(1))"
   ]
  },
  {
   "cell_type": "code",
   "execution_count": 692,
   "metadata": {},
   "outputs": [
    {
     "name": "stdout",
     "output_type": "stream",
     "text": [
      "Model: \"sequential_1\"\n",
      "_________________________________________________________________\n",
      "Layer (type)                 Output Shape              Param #   \n",
      "=================================================================\n",
      "dense_5 (Dense)              (None, 30)                210       \n",
      "_________________________________________________________________\n",
      "dropout_4 (Dropout)          (None, 30)                0         \n",
      "_________________________________________________________________\n",
      "dense_6 (Dense)              (None, 80)                2480      \n",
      "_________________________________________________________________\n",
      "dropout_5 (Dropout)          (None, 80)                0         \n",
      "_________________________________________________________________\n",
      "dense_7 (Dense)              (None, 80)                6480      \n",
      "_________________________________________________________________\n",
      "dropout_6 (Dropout)          (None, 80)                0         \n",
      "_________________________________________________________________\n",
      "dense_8 (Dense)              (None, 80)                6480      \n",
      "_________________________________________________________________\n",
      "dropout_7 (Dropout)          (None, 80)                0         \n",
      "_________________________________________________________________\n",
      "dense_9 (Dense)              (None, 1)                 81        \n",
      "=================================================================\n",
      "Total params: 15,731\n",
      "Trainable params: 15,731\n",
      "Non-trainable params: 0\n",
      "_________________________________________________________________\n"
     ]
    }
   ],
   "source": [
    "model.summary()"
   ]
  },
  {
   "cell_type": "code",
   "execution_count": 693,
   "metadata": {},
   "outputs": [],
   "source": [
    "model.compile(optimizer='rmsprop',loss='mse',metrics=['mae'])"
   ]
  },
  {
   "cell_type": "code",
   "execution_count": 694,
   "metadata": {},
   "outputs": [
    {
     "name": "stdout",
     "output_type": "stream",
     "text": [
      "Epoch 1/250\n",
      "17/17 [==============================] - 0s 12ms/step - loss: 145445.9219 - mae: 205.1067 - val_loss: 164509.1875 - val_mae: 218.7285\n",
      "Epoch 2/250\n",
      "17/17 [==============================] - 0s 3ms/step - loss: 144509.4219 - mae: 204.6019 - val_loss: 163225.7188 - val_mae: 218.1872\n",
      "Epoch 3/250\n",
      "17/17 [==============================] - 0s 3ms/step - loss: 142709.9219 - mae: 203.7501 - val_loss: 160170.5781 - val_mae: 217.2376\n",
      "Epoch 4/250\n",
      "17/17 [==============================] - 0s 3ms/step - loss: 137529.1719 - mae: 200.9820 - val_loss: 152745.5156 - val_mae: 214.4662\n",
      "Epoch 5/250\n",
      "17/17 [==============================] - 0s 3ms/step - loss: 123996.8203 - mae: 194.0672 - val_loss: 136059.7344 - val_mae: 207.1496\n",
      "Epoch 6/250\n",
      "17/17 [==============================] - 0s 3ms/step - loss: 105699.8672 - mae: 184.0096 - val_loss: 112536.1719 - val_mae: 193.7429\n",
      "Epoch 7/250\n",
      "17/17 [==============================] - 0s 3ms/step - loss: 82446.9062 - mae: 167.3293 - val_loss: 80230.6250 - val_mae: 168.8724\n",
      "Epoch 8/250\n",
      "17/17 [==============================] - 0s 3ms/step - loss: 53524.0977 - mae: 135.4724 - val_loss: 54654.5977 - val_mae: 143.6752\n",
      "Epoch 9/250\n",
      "17/17 [==============================] - 0s 3ms/step - loss: 46260.8398 - mae: 126.2202 - val_loss: 46509.3047 - val_mae: 132.9681\n",
      "Epoch 10/250\n",
      "17/17 [==============================] - 0s 3ms/step - loss: 39969.7930 - mae: 117.2593 - val_loss: 40040.8594 - val_mae: 124.4510\n",
      "Epoch 11/250\n",
      "17/17 [==============================] - 0s 3ms/step - loss: 41913.3242 - mae: 117.5307 - val_loss: 40044.7344 - val_mae: 122.9568\n",
      "Epoch 12/250\n",
      "17/17 [==============================] - 0s 3ms/step - loss: 38543.4180 - mae: 113.7082 - val_loss: 43255.0664 - val_mae: 125.0523\n",
      "Epoch 13/250\n",
      "17/17 [==============================] - 0s 3ms/step - loss: 38916.1875 - mae: 114.3172 - val_loss: 39288.3086 - val_mae: 120.0978\n",
      "Epoch 14/250\n",
      "17/17 [==============================] - 0s 3ms/step - loss: 35010.1367 - mae: 105.9744 - val_loss: 37684.5469 - val_mae: 118.3683\n",
      "Epoch 15/250\n",
      "17/17 [==============================] - 0s 3ms/step - loss: 37594.6484 - mae: 110.1422 - val_loss: 38234.6055 - val_mae: 117.9897\n",
      "Epoch 16/250\n",
      "17/17 [==============================] - 0s 3ms/step - loss: 34674.3320 - mae: 106.3841 - val_loss: 34570.2031 - val_mae: 115.3864\n",
      "Epoch 17/250\n",
      "17/17 [==============================] - 0s 3ms/step - loss: 39037.2070 - mae: 110.8837 - val_loss: 34895.2461 - val_mae: 114.9083\n",
      "Epoch 18/250\n",
      "17/17 [==============================] - 0s 3ms/step - loss: 34738.8633 - mae: 106.0488 - val_loss: 32040.8105 - val_mae: 113.2541\n",
      "Epoch 19/250\n",
      "17/17 [==============================] - 0s 3ms/step - loss: 32873.3711 - mae: 103.9853 - val_loss: 31138.9062 - val_mae: 111.8510\n",
      "Epoch 20/250\n",
      "17/17 [==============================] - 0s 3ms/step - loss: 38778.3281 - mae: 111.1312 - val_loss: 38468.5195 - val_mae: 116.9157\n",
      "Epoch 21/250\n",
      "17/17 [==============================] - 0s 3ms/step - loss: 31139.2715 - mae: 99.3419 - val_loss: 33454.2383 - val_mae: 110.8913\n",
      "Epoch 22/250\n",
      "17/17 [==============================] - 0s 3ms/step - loss: 34288.6875 - mae: 105.9195 - val_loss: 31522.0449 - val_mae: 109.0539\n",
      "Epoch 23/250\n",
      "17/17 [==============================] - 0s 3ms/step - loss: 33454.4648 - mae: 103.6093 - val_loss: 32321.3438 - val_mae: 108.6807\n",
      "Epoch 24/250\n",
      "17/17 [==============================] - 0s 3ms/step - loss: 38522.5898 - mae: 109.7066 - val_loss: 33304.0625 - val_mae: 108.6103\n",
      "Epoch 25/250\n",
      "17/17 [==============================] - 0s 3ms/step - loss: 41637.6445 - mae: 111.4113 - val_loss: 31414.1914 - val_mae: 107.1947\n",
      "Epoch 26/250\n",
      "17/17 [==============================] - 0s 3ms/step - loss: 33468.0859 - mae: 100.4240 - val_loss: 30111.4453 - val_mae: 105.6945\n",
      "Epoch 27/250\n",
      "17/17 [==============================] - 0s 3ms/step - loss: 34372.0117 - mae: 104.7698 - val_loss: 29609.7598 - val_mae: 104.4290\n",
      "Epoch 28/250\n",
      "17/17 [==============================] - 0s 3ms/step - loss: 31019.3711 - mae: 94.4248 - val_loss: 26866.2871 - val_mae: 103.0899\n",
      "Epoch 29/250\n",
      "17/17 [==============================] - 0s 3ms/step - loss: 35906.4883 - mae: 103.0965 - val_loss: 29022.0215 - val_mae: 102.4355\n",
      "Epoch 30/250\n",
      "17/17 [==============================] - 0s 3ms/step - loss: 33937.3555 - mae: 96.6393 - val_loss: 31120.7012 - val_mae: 103.9053\n",
      "Epoch 31/250\n",
      "17/17 [==============================] - 0s 3ms/step - loss: 35286.0547 - mae: 100.8964 - val_loss: 30099.2832 - val_mae: 103.0200\n",
      "Epoch 32/250\n",
      "17/17 [==============================] - 0s 3ms/step - loss: 33122.1875 - mae: 99.1498 - val_loss: 24360.1816 - val_mae: 99.5536\n",
      "Epoch 33/250\n",
      "17/17 [==============================] - 0s 3ms/step - loss: 33730.9688 - mae: 100.3241 - val_loss: 25524.6660 - val_mae: 98.0253\n",
      "Epoch 34/250\n",
      "17/17 [==============================] - 0s 3ms/step - loss: 30221.1484 - mae: 98.6080 - val_loss: 24812.4707 - val_mae: 96.1914\n",
      "Epoch 35/250\n",
      "17/17 [==============================] - 0s 3ms/step - loss: 33114.8477 - mae: 96.4066 - val_loss: 24335.5859 - val_mae: 95.3705\n",
      "Epoch 36/250\n",
      "17/17 [==============================] - 0s 3ms/step - loss: 33396.5234 - mae: 101.0787 - val_loss: 25898.0117 - val_mae: 95.3329\n",
      "Epoch 37/250\n",
      "17/17 [==============================] - 0s 3ms/step - loss: 32944.0625 - mae: 95.1686 - val_loss: 26651.1855 - val_mae: 95.2257\n",
      "Epoch 38/250\n",
      "17/17 [==============================] - 0s 3ms/step - loss: 28531.7266 - mae: 86.6634 - val_loss: 27153.0762 - val_mae: 95.5685\n",
      "Epoch 39/250\n",
      "17/17 [==============================] - 0s 3ms/step - loss: 33752.1328 - mae: 97.2437 - val_loss: 22285.4434 - val_mae: 90.8908\n",
      "Epoch 40/250\n",
      "17/17 [==============================] - 0s 3ms/step - loss: 33953.0273 - mae: 97.6027 - val_loss: 22617.5176 - val_mae: 89.8049\n",
      "Epoch 41/250\n",
      "17/17 [==============================] - 0s 4ms/step - loss: 26835.3301 - mae: 87.4298 - val_loss: 22500.0449 - val_mae: 87.9923\n",
      "Epoch 42/250\n",
      "17/17 [==============================] - 0s 3ms/step - loss: 31298.7344 - mae: 96.2181 - val_loss: 23915.5098 - val_mae: 88.4223\n",
      "Epoch 43/250\n",
      "17/17 [==============================] - 0s 3ms/step - loss: 30061.6074 - mae: 91.0439 - val_loss: 21426.4414 - val_mae: 86.5410\n",
      "Epoch 44/250\n",
      "17/17 [==============================] - 0s 3ms/step - loss: 26987.7285 - mae: 90.8263 - val_loss: 21919.8594 - val_mae: 85.8064\n",
      "Epoch 45/250\n",
      "17/17 [==============================] - 0s 3ms/step - loss: 33155.9531 - mae: 92.8962 - val_loss: 26935.9961 - val_mae: 92.9933\n",
      "Epoch 46/250\n",
      "17/17 [==============================] - 0s 3ms/step - loss: 28176.4023 - mae: 87.2106 - val_loss: 23520.1875 - val_mae: 87.2619\n",
      "Epoch 47/250\n",
      "17/17 [==============================] - 0s 3ms/step - loss: 33565.0195 - mae: 95.4099 - val_loss: 21759.9824 - val_mae: 84.7212\n",
      "Epoch 48/250\n",
      "17/17 [==============================] - 0s 3ms/step - loss: 29972.3047 - mae: 92.9513 - val_loss: 22679.8926 - val_mae: 85.0893\n",
      "Epoch 49/250\n",
      "17/17 [==============================] - 0s 3ms/step - loss: 29527.4082 - mae: 86.5503 - val_loss: 18400.3906 - val_mae: 83.3180\n",
      "Epoch 50/250\n",
      "17/17 [==============================] - 0s 3ms/step - loss: 25384.3652 - mae: 88.7920 - val_loss: 20011.3789 - val_mae: 80.8571\n",
      "Epoch 51/250\n",
      "17/17 [==============================] - 0s 3ms/step - loss: 31773.6250 - mae: 94.0575 - val_loss: 20320.4062 - val_mae: 80.7132\n",
      "Epoch 52/250\n",
      "17/17 [==============================] - 0s 3ms/step - loss: 30536.7539 - mae: 87.5104 - val_loss: 20481.9766 - val_mae: 80.4196\n",
      "Epoch 53/250\n",
      "17/17 [==============================] - 0s 3ms/step - loss: 31130.7402 - mae: 96.4016 - val_loss: 19900.7305 - val_mae: 78.9674\n",
      "Epoch 54/250\n",
      "17/17 [==============================] - 0s 3ms/step - loss: 26553.9180 - mae: 87.6314 - val_loss: 19064.7383 - val_mae: 77.8432\n",
      "Epoch 55/250\n",
      "17/17 [==============================] - 0s 3ms/step - loss: 27062.9512 - mae: 83.5388 - val_loss: 18263.5996 - val_mae: 76.7875\n",
      "Epoch 56/250\n",
      "17/17 [==============================] - 0s 3ms/step - loss: 26251.7988 - mae: 81.6064 - val_loss: 20382.8828 - val_mae: 77.8699\n",
      "Epoch 57/250\n",
      "17/17 [==============================] - 0s 3ms/step - loss: 28481.2715 - mae: 84.1141 - val_loss: 18296.8984 - val_mae: 75.5472\n",
      "Epoch 58/250\n"
     ]
    },
    {
     "name": "stdout",
     "output_type": "stream",
     "text": [
      "17/17 [==============================] - 0s 3ms/step - loss: 28204.0312 - mae: 84.1910 - val_loss: 19539.8672 - val_mae: 76.6985\n",
      "Epoch 59/250\n",
      "17/17 [==============================] - 0s 3ms/step - loss: 26596.6133 - mae: 84.7139 - val_loss: 18434.7539 - val_mae: 74.8349\n",
      "Epoch 60/250\n",
      "17/17 [==============================] - 0s 4ms/step - loss: 28368.5234 - mae: 82.9881 - val_loss: 18709.2266 - val_mae: 75.4109\n",
      "Epoch 61/250\n",
      "17/17 [==============================] - 0s 3ms/step - loss: 25500.1660 - mae: 81.6155 - val_loss: 20415.6836 - val_mae: 77.1068\n",
      "Epoch 62/250\n",
      "17/17 [==============================] - 0s 4ms/step - loss: 26654.7617 - mae: 81.8308 - val_loss: 19225.1777 - val_mae: 75.5064\n",
      "Epoch 63/250\n",
      "17/17 [==============================] - 0s 3ms/step - loss: 29374.5117 - mae: 86.1612 - val_loss: 18670.4531 - val_mae: 74.4765\n",
      "Epoch 64/250\n",
      "17/17 [==============================] - 0s 3ms/step - loss: 28540.3203 - mae: 86.3787 - val_loss: 16511.9824 - val_mae: 72.7627\n",
      "Epoch 65/250\n",
      "17/17 [==============================] - 0s 3ms/step - loss: 32427.3691 - mae: 94.3107 - val_loss: 19136.9941 - val_mae: 74.0171\n",
      "Epoch 66/250\n",
      "17/17 [==============================] - 0s 3ms/step - loss: 24208.4316 - mae: 81.8954 - val_loss: 18563.4844 - val_mae: 73.4658\n",
      "Epoch 67/250\n",
      "17/17 [==============================] - 0s 3ms/step - loss: 28852.5918 - mae: 88.5848 - val_loss: 18446.3125 - val_mae: 73.0597\n",
      "Epoch 68/250\n",
      "17/17 [==============================] - 0s 3ms/step - loss: 26790.5371 - mae: 86.2793 - val_loss: 19898.2051 - val_mae: 75.0907\n",
      "Epoch 69/250\n",
      "17/17 [==============================] - 0s 3ms/step - loss: 31705.8711 - mae: 85.9531 - val_loss: 23007.0371 - val_mae: 80.6269\n",
      "Epoch 70/250\n",
      "17/17 [==============================] - 0s 3ms/step - loss: 26762.8848 - mae: 81.6755 - val_loss: 20499.3027 - val_mae: 75.9786\n",
      "Epoch 71/250\n",
      "17/17 [==============================] - 0s 3ms/step - loss: 29411.5371 - mae: 87.1521 - val_loss: 16033.2441 - val_mae: 70.1727\n",
      "Epoch 72/250\n",
      "17/17 [==============================] - 0s 3ms/step - loss: 28039.3848 - mae: 83.5103 - val_loss: 18400.7852 - val_mae: 71.9706\n",
      "Epoch 73/250\n",
      "17/17 [==============================] - 0s 3ms/step - loss: 28560.7383 - mae: 83.5256 - val_loss: 17001.8770 - val_mae: 70.5934\n",
      "Epoch 74/250\n",
      "17/17 [==============================] - 0s 3ms/step - loss: 27192.5605 - mae: 81.2604 - val_loss: 17742.6582 - val_mae: 71.4910\n",
      "Epoch 75/250\n",
      "17/17 [==============================] - 0s 3ms/step - loss: 27318.3789 - mae: 83.0023 - val_loss: 14969.0537 - val_mae: 69.7201\n",
      "Epoch 76/250\n",
      "17/17 [==============================] - 0s 3ms/step - loss: 28498.4551 - mae: 83.5051 - val_loss: 21889.8867 - val_mae: 77.7537\n",
      "Epoch 77/250\n",
      "17/17 [==============================] - 0s 3ms/step - loss: 27019.5332 - mae: 77.8830 - val_loss: 20097.0664 - val_mae: 74.7787\n",
      "Epoch 78/250\n",
      "17/17 [==============================] - 0s 3ms/step - loss: 24031.2324 - mae: 76.2166 - val_loss: 20961.2754 - val_mae: 76.4559\n",
      "Epoch 79/250\n",
      "17/17 [==============================] - 0s 3ms/step - loss: 24772.8301 - mae: 73.2584 - val_loss: 24834.8770 - val_mae: 82.7633\n",
      "Epoch 80/250\n",
      "17/17 [==============================] - 0s 3ms/step - loss: 31378.0938 - mae: 80.8413 - val_loss: 19802.5527 - val_mae: 74.5694\n",
      "Epoch 81/250\n",
      "17/17 [==============================] - 0s 3ms/step - loss: 25744.6191 - mae: 78.3562 - val_loss: 21732.5762 - val_mae: 77.8153\n",
      "Epoch 82/250\n",
      "17/17 [==============================] - 0s 3ms/step - loss: 21536.5039 - mae: 70.1900 - val_loss: 15764.6133 - val_mae: 69.1136\n",
      "Epoch 83/250\n",
      "17/17 [==============================] - 0s 3ms/step - loss: 29096.5273 - mae: 83.7296 - val_loss: 15496.4805 - val_mae: 68.3791\n",
      "Epoch 84/250\n",
      "17/17 [==============================] - 0s 3ms/step - loss: 27455.0820 - mae: 81.9600 - val_loss: 16909.9473 - val_mae: 69.3366\n",
      "Epoch 85/250\n",
      "17/17 [==============================] - 0s 3ms/step - loss: 28402.7188 - mae: 81.1673 - val_loss: 20850.0820 - val_mae: 76.0499\n",
      "Epoch 86/250\n",
      "17/17 [==============================] - 0s 3ms/step - loss: 22716.1211 - mae: 72.7398 - val_loss: 15699.9023 - val_mae: 68.3449\n",
      "Epoch 87/250\n",
      "17/17 [==============================] - 0s 3ms/step - loss: 24234.5352 - mae: 75.8849 - val_loss: 13560.9492 - val_mae: 67.7922\n",
      "Epoch 88/250\n",
      "17/17 [==============================] - 0s 3ms/step - loss: 25963.5547 - mae: 77.1848 - val_loss: 15345.2393 - val_mae: 67.4986\n",
      "Epoch 89/250\n",
      "17/17 [==============================] - 0s 3ms/step - loss: 24123.5020 - mae: 70.5475 - val_loss: 15223.5264 - val_mae: 67.3903\n",
      "Epoch 90/250\n",
      "17/17 [==============================] - 0s 3ms/step - loss: 28383.0371 - mae: 86.3697 - val_loss: 16749.3633 - val_mae: 68.6858\n",
      "Epoch 91/250\n",
      "17/17 [==============================] - 0s 3ms/step - loss: 29282.8359 - mae: 83.7400 - val_loss: 20415.9980 - val_mae: 75.1691\n",
      "Epoch 92/250\n",
      "17/17 [==============================] - 0s 3ms/step - loss: 29689.3574 - mae: 86.8147 - val_loss: 19354.0117 - val_mae: 73.2486\n",
      "Epoch 93/250\n",
      "17/17 [==============================] - 0s 3ms/step - loss: 26436.1211 - mae: 75.6271 - val_loss: 15386.6855 - val_mae: 67.0140\n",
      "Epoch 94/250\n",
      "17/17 [==============================] - 0s 3ms/step - loss: 21873.6445 - mae: 74.6539 - val_loss: 15025.5811 - val_mae: 66.6343\n",
      "Epoch 95/250\n",
      "17/17 [==============================] - 0s 3ms/step - loss: 25061.7441 - mae: 77.7589 - val_loss: 15710.7969 - val_mae: 67.3587\n",
      "Epoch 96/250\n",
      "17/17 [==============================] - 0s 3ms/step - loss: 24088.6914 - mae: 76.3602 - val_loss: 17931.7070 - val_mae: 70.7830\n",
      "Epoch 97/250\n",
      "17/17 [==============================] - 0s 3ms/step - loss: 26251.8535 - mae: 81.8277 - val_loss: 18142.6484 - val_mae: 70.9845\n",
      "Epoch 98/250\n",
      "17/17 [==============================] - 0s 3ms/step - loss: 25481.1035 - mae: 76.3024 - val_loss: 14155.8232 - val_mae: 66.4943\n",
      "Epoch 99/250\n",
      "17/17 [==============================] - 0s 3ms/step - loss: 31736.0918 - mae: 85.1396 - val_loss: 15848.5703 - val_mae: 67.2652\n",
      "Epoch 100/250\n",
      "17/17 [==============================] - 0s 3ms/step - loss: 23446.4668 - mae: 71.5313 - val_loss: 13308.2588 - val_mae: 65.4958\n",
      "Epoch 101/250\n",
      "17/17 [==============================] - 0s 3ms/step - loss: 26184.2500 - mae: 75.7966 - val_loss: 13931.4180 - val_mae: 65.4525\n",
      "Epoch 102/250\n",
      "17/17 [==============================] - 0s 3ms/step - loss: 20339.1797 - mae: 67.1149 - val_loss: 14710.4346 - val_mae: 65.8881\n",
      "Epoch 103/250\n",
      "17/17 [==============================] - 0s 3ms/step - loss: 28564.8105 - mae: 83.4610 - val_loss: 17182.6348 - val_mae: 68.8332\n",
      "Epoch 104/250\n",
      "17/17 [==============================] - 0s 3ms/step - loss: 27213.4766 - mae: 78.5667 - val_loss: 13489.7803 - val_mae: 65.5125\n",
      "Epoch 105/250\n",
      "17/17 [==============================] - 0s 3ms/step - loss: 25896.2598 - mae: 75.6853 - val_loss: 16764.6816 - val_mae: 67.7117\n",
      "Epoch 106/250\n",
      "17/17 [==============================] - 0s 3ms/step - loss: 27020.9199 - mae: 78.8184 - val_loss: 17295.4551 - val_mae: 68.5746\n",
      "Epoch 107/250\n",
      "17/17 [==============================] - 0s 3ms/step - loss: 27701.5000 - mae: 85.2833 - val_loss: 17390.0273 - val_mae: 68.7659\n",
      "Epoch 108/250\n",
      "17/17 [==============================] - 0s 3ms/step - loss: 27164.8086 - mae: 77.4153 - val_loss: 14943.0225 - val_mae: 65.9619\n",
      "Epoch 109/250\n",
      "17/17 [==============================] - 0s 3ms/step - loss: 22427.7227 - mae: 71.1650 - val_loss: 15019.8936 - val_mae: 65.6931\n",
      "Epoch 110/250\n",
      "17/17 [==============================] - 0s 3ms/step - loss: 24830.2520 - mae: 74.8374 - val_loss: 12246.6289 - val_mae: 63.4676\n",
      "Epoch 111/250\n",
      "17/17 [==============================] - 0s 3ms/step - loss: 25481.3770 - mae: 74.9967 - val_loss: 13373.7041 - val_mae: 63.6829\n",
      "Epoch 112/250\n",
      "17/17 [==============================] - 0s 3ms/step - loss: 26676.6953 - mae: 77.4685 - val_loss: 15039.1328 - val_mae: 65.3839\n",
      "Epoch 113/250\n",
      "17/17 [==============================] - 0s 3ms/step - loss: 22681.6758 - mae: 73.5072 - val_loss: 12496.5693 - val_mae: 62.6953\n",
      "Epoch 114/250\n",
      "17/17 [==============================] - 0s 3ms/step - loss: 25347.5410 - mae: 78.6761 - val_loss: 15086.3613 - val_mae: 65.2116\n",
      "Epoch 115/250\n",
      "17/17 [==============================] - 0s 3ms/step - loss: 24219.0039 - mae: 70.8878 - val_loss: 14013.5537 - val_mae: 64.1774\n"
     ]
    },
    {
     "name": "stdout",
     "output_type": "stream",
     "text": [
      "Epoch 116/250\n",
      "17/17 [==============================] - 0s 3ms/step - loss: 26966.9688 - mae: 76.9696 - val_loss: 14000.3584 - val_mae: 64.2085\n",
      "Epoch 117/250\n",
      "17/17 [==============================] - 0s 3ms/step - loss: 27892.3965 - mae: 81.7868 - val_loss: 16059.9453 - val_mae: 66.3729\n",
      "Epoch 118/250\n",
      "17/17 [==============================] - 0s 3ms/step - loss: 24384.6367 - mae: 76.5489 - val_loss: 13514.6113 - val_mae: 63.5931\n",
      "Epoch 119/250\n",
      "17/17 [==============================] - 0s 3ms/step - loss: 21210.9316 - mae: 72.5728 - val_loss: 12777.2529 - val_mae: 62.4183\n",
      "Epoch 120/250\n",
      "17/17 [==============================] - 0s 3ms/step - loss: 26015.5820 - mae: 77.3137 - val_loss: 15123.1035 - val_mae: 65.0296\n",
      "Epoch 121/250\n",
      "17/17 [==============================] - 0s 3ms/step - loss: 25053.7578 - mae: 74.3513 - val_loss: 13532.1494 - val_mae: 63.6050\n",
      "Epoch 122/250\n",
      "17/17 [==============================] - 0s 3ms/step - loss: 30373.2344 - mae: 81.0756 - val_loss: 14157.7666 - val_mae: 64.5210\n",
      "Epoch 123/250\n",
      "17/17 [==============================] - 0s 3ms/step - loss: 21652.5000 - mae: 69.4129 - val_loss: 15088.1191 - val_mae: 65.3319\n",
      "Epoch 124/250\n",
      "17/17 [==============================] - 0s 3ms/step - loss: 25913.5176 - mae: 78.2149 - val_loss: 15985.0869 - val_mae: 66.3594\n",
      "Epoch 125/250\n",
      "17/17 [==============================] - 0s 3ms/step - loss: 26579.9688 - mae: 79.4016 - val_loss: 18123.8359 - val_mae: 70.7139\n",
      "Epoch 126/250\n",
      "17/17 [==============================] - 0s 3ms/step - loss: 22229.0234 - mae: 69.8282 - val_loss: 13623.4883 - val_mae: 63.2735\n",
      "Epoch 127/250\n",
      "17/17 [==============================] - 0s 3ms/step - loss: 27514.1797 - mae: 77.0888 - val_loss: 12285.1895 - val_mae: 62.0141\n",
      "Epoch 128/250\n",
      "17/17 [==============================] - 0s 3ms/step - loss: 27255.6797 - mae: 80.5969 - val_loss: 12697.3291 - val_mae: 61.9444\n",
      "Epoch 129/250\n",
      "17/17 [==============================] - 0s 3ms/step - loss: 25907.2734 - mae: 72.6051 - val_loss: 16443.0449 - val_mae: 67.5650\n",
      "Epoch 130/250\n",
      "17/17 [==============================] - 0s 3ms/step - loss: 25309.5234 - mae: 77.5278 - val_loss: 13838.9756 - val_mae: 62.9747\n",
      "Epoch 131/250\n",
      "17/17 [==============================] - 0s 3ms/step - loss: 26049.4941 - mae: 76.0867 - val_loss: 12188.8916 - val_mae: 60.8962\n",
      "Epoch 132/250\n",
      "17/17 [==============================] - 0s 3ms/step - loss: 22970.0879 - mae: 71.8067 - val_loss: 13391.7607 - val_mae: 62.1396\n",
      "Epoch 133/250\n",
      "17/17 [==============================] - 0s 3ms/step - loss: 26408.5234 - mae: 74.4007 - val_loss: 14297.3320 - val_mae: 63.8155\n",
      "Epoch 134/250\n",
      "17/17 [==============================] - 0s 3ms/step - loss: 28112.5488 - mae: 78.0876 - val_loss: 12840.7764 - val_mae: 61.7230\n",
      "Epoch 135/250\n",
      "17/17 [==============================] - 0s 3ms/step - loss: 22654.4629 - mae: 71.1442 - val_loss: 13377.1924 - val_mae: 62.1523\n",
      "Epoch 136/250\n",
      "17/17 [==============================] - 0s 3ms/step - loss: 21301.7676 - mae: 67.5184 - val_loss: 11927.7275 - val_mae: 60.1686\n",
      "Epoch 137/250\n",
      "17/17 [==============================] - 0s 3ms/step - loss: 22158.1211 - mae: 76.6146 - val_loss: 13749.1230 - val_mae: 61.8946\n",
      "Epoch 138/250\n",
      "17/17 [==============================] - 0s 3ms/step - loss: 28036.5273 - mae: 77.4638 - val_loss: 16782.5605 - val_mae: 69.2330\n",
      "Epoch 139/250\n",
      "17/17 [==============================] - 0s 3ms/step - loss: 25594.7168 - mae: 79.5623 - val_loss: 11963.5654 - val_mae: 59.9904\n",
      "Epoch 140/250\n",
      "17/17 [==============================] - 0s 3ms/step - loss: 24402.6348 - mae: 78.6041 - val_loss: 11219.9756 - val_mae: 58.9875\n",
      "Epoch 141/250\n",
      "17/17 [==============================] - 0s 3ms/step - loss: 23248.2012 - mae: 72.1306 - val_loss: 10965.5850 - val_mae: 58.7454\n",
      "Epoch 142/250\n",
      "17/17 [==============================] - 0s 3ms/step - loss: 21731.8438 - mae: 67.0414 - val_loss: 14278.9668 - val_mae: 63.1306\n",
      "Epoch 143/250\n",
      "17/17 [==============================] - 0s 3ms/step - loss: 29204.0664 - mae: 78.0983 - val_loss: 16914.1895 - val_mae: 68.7934\n",
      "Epoch 144/250\n",
      "17/17 [==============================] - 0s 3ms/step - loss: 25905.7988 - mae: 78.4511 - val_loss: 11548.7139 - val_mae: 59.9074\n",
      "Epoch 145/250\n",
      "17/17 [==============================] - 0s 3ms/step - loss: 24253.6855 - mae: 79.8286 - val_loss: 11280.9639 - val_mae: 58.9233\n",
      "Epoch 146/250\n",
      "17/17 [==============================] - 0s 3ms/step - loss: 25460.2988 - mae: 78.1915 - val_loss: 15164.8643 - val_mae: 65.1059\n",
      "Epoch 147/250\n",
      "17/17 [==============================] - 0s 3ms/step - loss: 25217.3496 - mae: 78.5537 - val_loss: 11836.8662 - val_mae: 59.4891\n",
      "Epoch 148/250\n",
      "17/17 [==============================] - 0s 3ms/step - loss: 25785.7109 - mae: 79.5442 - val_loss: 15435.7969 - val_mae: 65.5168\n",
      "Epoch 149/250\n",
      "17/17 [==============================] - 0s 3ms/step - loss: 27754.6367 - mae: 80.1045 - val_loss: 17230.9570 - val_mae: 70.0935\n",
      "Epoch 150/250\n",
      "17/17 [==============================] - 0s 3ms/step - loss: 27245.8438 - mae: 80.1208 - val_loss: 16501.9043 - val_mae: 68.5900\n",
      "Epoch 151/250\n",
      "17/17 [==============================] - 0s 3ms/step - loss: 28201.7461 - mae: 81.0208 - val_loss: 15059.6436 - val_mae: 65.4661\n",
      "Epoch 152/250\n",
      "17/17 [==============================] - 0s 3ms/step - loss: 25898.8984 - mae: 69.9948 - val_loss: 14398.3096 - val_mae: 63.5441\n",
      "Epoch 153/250\n",
      "17/17 [==============================] - 0s 3ms/step - loss: 23242.1035 - mae: 70.2180 - val_loss: 15936.2764 - val_mae: 68.1198\n",
      "Epoch 154/250\n",
      "17/17 [==============================] - 0s 3ms/step - loss: 27628.7871 - mae: 79.1568 - val_loss: 12292.2520 - val_mae: 60.6854\n",
      "Epoch 155/250\n",
      "17/17 [==============================] - 0s 3ms/step - loss: 23338.2812 - mae: 69.4685 - val_loss: 13041.1719 - val_mae: 61.2221\n",
      "Epoch 156/250\n",
      "17/17 [==============================] - 0s 3ms/step - loss: 27607.2344 - mae: 80.5139 - val_loss: 11273.7188 - val_mae: 58.8206\n",
      "Epoch 157/250\n",
      "17/17 [==============================] - 0s 3ms/step - loss: 26049.0176 - mae: 73.2022 - val_loss: 14512.2744 - val_mae: 64.2262\n",
      "Epoch 158/250\n",
      "17/17 [==============================] - 0s 3ms/step - loss: 26142.9414 - mae: 79.3037 - val_loss: 16632.2324 - val_mae: 69.5763\n",
      "Epoch 159/250\n",
      "17/17 [==============================] - 0s 3ms/step - loss: 22441.8809 - mae: 74.1156 - val_loss: 11798.7686 - val_mae: 59.5218\n",
      "Epoch 160/250\n",
      "17/17 [==============================] - 0s 3ms/step - loss: 23208.3828 - mae: 74.0910 - val_loss: 13658.7578 - val_mae: 62.7088\n",
      "Epoch 161/250\n",
      "17/17 [==============================] - 0s 3ms/step - loss: 25333.4102 - mae: 78.4077 - val_loss: 10314.0879 - val_mae: 57.1071\n",
      "Epoch 162/250\n",
      "17/17 [==============================] - 0s 3ms/step - loss: 24833.3633 - mae: 73.1135 - val_loss: 15775.8389 - val_mae: 67.8918\n",
      "Epoch 163/250\n",
      "17/17 [==============================] - 0s 2ms/step - loss: 24652.5742 - mae: 72.7548 - val_loss: 15030.1719 - val_mae: 66.0656\n",
      "Epoch 164/250\n",
      "17/17 [==============================] - 0s 2ms/step - loss: 25255.3652 - mae: 81.2364 - val_loss: 14039.5225 - val_mae: 63.9437\n",
      "Epoch 165/250\n",
      "17/17 [==============================] - 0s 2ms/step - loss: 27172.5430 - mae: 83.4292 - val_loss: 12709.0088 - val_mae: 60.2006\n",
      "Epoch 166/250\n",
      "17/17 [==============================] - 0s 2ms/step - loss: 23488.3652 - mae: 73.9573 - val_loss: 18106.9648 - val_mae: 72.7482\n",
      "Epoch 167/250\n",
      "17/17 [==============================] - 0s 3ms/step - loss: 27657.5098 - mae: 78.0841 - val_loss: 14458.8477 - val_mae: 63.9407\n",
      "Epoch 168/250\n",
      "17/17 [==============================] - 0s 3ms/step - loss: 29970.1289 - mae: 79.3191 - val_loss: 14922.1709 - val_mae: 65.3119\n",
      "Epoch 169/250\n",
      "17/17 [==============================] - 0s 3ms/step - loss: 25191.2090 - mae: 73.8361 - val_loss: 12980.5186 - val_mae: 60.9546\n",
      "Epoch 170/250\n",
      "17/17 [==============================] - 0s 3ms/step - loss: 24650.5391 - mae: 73.2956 - val_loss: 10683.4492 - val_mae: 57.6309\n",
      "Epoch 171/250\n",
      "17/17 [==============================] - 0s 3ms/step - loss: 23614.7051 - mae: 73.5260 - val_loss: 13528.0898 - val_mae: 61.7407\n",
      "Epoch 172/250\n",
      "17/17 [==============================] - 0s 3ms/step - loss: 24977.2227 - mae: 69.8087 - val_loss: 13666.4346 - val_mae: 62.6531\n",
      "Epoch 173/250\n"
     ]
    },
    {
     "name": "stdout",
     "output_type": "stream",
     "text": [
      "17/17 [==============================] - 0s 4ms/step - loss: 25833.6191 - mae: 77.2643 - val_loss: 14238.0781 - val_mae: 63.4123\n",
      "Epoch 174/250\n",
      "17/17 [==============================] - 0s 4ms/step - loss: 27126.9121 - mae: 76.1831 - val_loss: 13436.6934 - val_mae: 61.4380\n",
      "Epoch 175/250\n",
      "17/17 [==============================] - 0s 4ms/step - loss: 21585.4551 - mae: 73.7380 - val_loss: 11525.7773 - val_mae: 58.9202\n",
      "Epoch 176/250\n",
      "17/17 [==============================] - 0s 4ms/step - loss: 25307.6973 - mae: 78.0498 - val_loss: 12074.8242 - val_mae: 59.6122\n",
      "Epoch 177/250\n",
      "17/17 [==============================] - 0s 4ms/step - loss: 29421.5820 - mae: 78.9748 - val_loss: 13664.3350 - val_mae: 62.5705\n",
      "Epoch 178/250\n",
      "17/17 [==============================] - 0s 3ms/step - loss: 24875.9004 - mae: 72.8321 - val_loss: 11507.6328 - val_mae: 58.9516\n",
      "Epoch 179/250\n",
      "17/17 [==============================] - 0s 3ms/step - loss: 27744.2988 - mae: 75.1759 - val_loss: 11116.4463 - val_mae: 59.1113\n",
      "Epoch 180/250\n",
      "17/17 [==============================] - 0s 3ms/step - loss: 29010.3418 - mae: 80.8645 - val_loss: 14311.0117 - val_mae: 64.1276\n",
      "Epoch 181/250\n",
      "17/17 [==============================] - 0s 3ms/step - loss: 23187.0312 - mae: 69.1288 - val_loss: 11729.4180 - val_mae: 59.1039\n",
      "Epoch 182/250\n",
      "17/17 [==============================] - 0s 3ms/step - loss: 22943.9766 - mae: 69.5211 - val_loss: 12610.0576 - val_mae: 60.1355\n",
      "Epoch 183/250\n",
      "17/17 [==============================] - 0s 3ms/step - loss: 28241.8809 - mae: 81.0431 - val_loss: 10663.5918 - val_mae: 57.6269\n",
      "Epoch 184/250\n",
      "17/17 [==============================] - 0s 3ms/step - loss: 26109.6855 - mae: 74.0329 - val_loss: 11559.0674 - val_mae: 58.8917\n",
      "Epoch 185/250\n",
      "17/17 [==============================] - 0s 3ms/step - loss: 28221.7988 - mae: 83.5623 - val_loss: 14136.4014 - val_mae: 63.2876\n",
      "Epoch 186/250\n",
      "17/17 [==============================] - 0s 3ms/step - loss: 23961.1738 - mae: 73.5852 - val_loss: 12091.2559 - val_mae: 59.9199\n",
      "Epoch 187/250\n",
      "17/17 [==============================] - 0s 3ms/step - loss: 22789.7891 - mae: 68.7489 - val_loss: 12152.3193 - val_mae: 60.2458\n",
      "Epoch 188/250\n",
      "17/17 [==============================] - 0s 3ms/step - loss: 23193.0430 - mae: 75.3820 - val_loss: 14365.3066 - val_mae: 64.8014\n",
      "Epoch 189/250\n",
      "17/17 [==============================] - 0s 3ms/step - loss: 24863.0625 - mae: 75.7930 - val_loss: 14110.5410 - val_mae: 63.3788\n",
      "Epoch 190/250\n",
      "17/17 [==============================] - 0s 3ms/step - loss: 23026.7031 - mae: 68.5629 - val_loss: 16623.3984 - val_mae: 68.7592\n",
      "Epoch 191/250\n",
      "17/17 [==============================] - 0s 3ms/step - loss: 21799.0527 - mae: 73.7633 - val_loss: 12335.4717 - val_mae: 59.7551\n",
      "Epoch 192/250\n",
      "17/17 [==============================] - 0s 3ms/step - loss: 25659.5820 - mae: 79.5594 - val_loss: 11670.8906 - val_mae: 58.1314\n",
      "Epoch 193/250\n",
      "17/17 [==============================] - 0s 3ms/step - loss: 27953.1367 - mae: 78.1562 - val_loss: 16615.3398 - val_mae: 68.4912\n",
      "Epoch 194/250\n",
      "17/17 [==============================] - 0s 3ms/step - loss: 24388.1016 - mae: 72.1865 - val_loss: 12638.9375 - val_mae: 59.5273\n",
      "Epoch 195/250\n",
      "17/17 [==============================] - 0s 3ms/step - loss: 24098.0176 - mae: 72.7945 - val_loss: 11875.7256 - val_mae: 58.4716\n",
      "Epoch 196/250\n",
      "17/17 [==============================] - 0s 3ms/step - loss: 22297.7129 - mae: 64.5906 - val_loss: 13374.9844 - val_mae: 61.6490\n",
      "Epoch 197/250\n",
      "17/17 [==============================] - 0s 3ms/step - loss: 21508.9375 - mae: 69.7287 - val_loss: 12960.0898 - val_mae: 60.2773\n",
      "Epoch 198/250\n",
      "17/17 [==============================] - 0s 3ms/step - loss: 26039.2988 - mae: 77.0204 - val_loss: 18968.1074 - val_mae: 73.8842\n",
      "Epoch 199/250\n",
      "17/17 [==============================] - 0s 3ms/step - loss: 25466.5195 - mae: 72.2831 - val_loss: 14473.4697 - val_mae: 63.7736\n",
      "Epoch 200/250\n",
      "17/17 [==============================] - 0s 3ms/step - loss: 27756.7383 - mae: 76.1676 - val_loss: 13843.3184 - val_mae: 62.4224\n",
      "Epoch 201/250\n",
      "17/17 [==============================] - 0s 4ms/step - loss: 23161.8027 - mae: 72.8661 - val_loss: 11563.7969 - val_mae: 58.4436\n",
      "Epoch 202/250\n",
      "17/17 [==============================] - 0s 3ms/step - loss: 29595.0527 - mae: 81.2177 - val_loss: 13259.7637 - val_mae: 61.8848\n",
      "Epoch 203/250\n",
      "17/17 [==============================] - 0s 3ms/step - loss: 23108.3613 - mae: 70.8054 - val_loss: 15059.6162 - val_mae: 65.6794\n",
      "Epoch 204/250\n",
      "17/17 [==============================] - 0s 3ms/step - loss: 27733.5039 - mae: 74.8030 - val_loss: 12850.1250 - val_mae: 60.9238\n",
      "Epoch 205/250\n",
      "17/17 [==============================] - 0s 4ms/step - loss: 24120.7812 - mae: 71.7969 - val_loss: 14662.6035 - val_mae: 63.7233\n",
      "Epoch 206/250\n",
      "17/17 [==============================] - 0s 3ms/step - loss: 22631.8164 - mae: 70.2150 - val_loss: 15068.9424 - val_mae: 64.6761\n",
      "Epoch 207/250\n",
      "17/17 [==============================] - 0s 3ms/step - loss: 23169.8789 - mae: 66.3850 - val_loss: 11554.7949 - val_mae: 56.5710\n",
      "Epoch 208/250\n",
      "17/17 [==============================] - 0s 5ms/step - loss: 22285.6035 - mae: 66.5994 - val_loss: 13655.0840 - val_mae: 61.0948\n",
      "Epoch 209/250\n",
      "17/17 [==============================] - 0s 4ms/step - loss: 22125.9453 - mae: 71.6281 - val_loss: 13695.5508 - val_mae: 61.4129\n",
      "Epoch 210/250\n",
      "17/17 [==============================] - 0s 4ms/step - loss: 24766.1152 - mae: 72.5435 - val_loss: 13579.2793 - val_mae: 61.5067\n",
      "Epoch 211/250\n",
      "17/17 [==============================] - 0s 3ms/step - loss: 24193.8730 - mae: 70.2656 - val_loss: 13888.7480 - val_mae: 61.3511\n",
      "Epoch 212/250\n",
      "17/17 [==============================] - 0s 3ms/step - loss: 24953.3926 - mae: 73.1185 - val_loss: 10780.8594 - val_mae: 56.6777\n",
      "Epoch 213/250\n",
      "17/17 [==============================] - 0s 4ms/step - loss: 27140.8926 - mae: 77.2433 - val_loss: 11314.5293 - val_mae: 56.7430\n",
      "Epoch 214/250\n",
      "17/17 [==============================] - 0s 3ms/step - loss: 20624.9141 - mae: 67.4994 - val_loss: 12840.9863 - val_mae: 59.7205\n",
      "Epoch 215/250\n",
      "17/17 [==============================] - 0s 3ms/step - loss: 24581.9863 - mae: 73.2933 - val_loss: 12697.5342 - val_mae: 58.9823\n",
      "Epoch 216/250\n",
      "17/17 [==============================] - 0s 3ms/step - loss: 25864.5215 - mae: 70.1075 - val_loss: 13042.3350 - val_mae: 59.4857\n",
      "Epoch 217/250\n",
      "17/17 [==============================] - 0s 3ms/step - loss: 24347.3203 - mae: 70.8062 - val_loss: 18468.5234 - val_mae: 71.0728\n",
      "Epoch 218/250\n",
      "17/17 [==============================] - 0s 3ms/step - loss: 25707.0879 - mae: 75.5933 - val_loss: 11667.2930 - val_mae: 57.1164\n",
      "Epoch 219/250\n",
      "17/17 [==============================] - 0s 3ms/step - loss: 24912.0215 - mae: 76.6188 - val_loss: 12990.9844 - val_mae: 59.9473\n",
      "Epoch 220/250\n",
      "17/17 [==============================] - 0s 3ms/step - loss: 22788.3730 - mae: 69.1329 - val_loss: 13613.2480 - val_mae: 60.0291\n",
      "Epoch 221/250\n",
      "17/17 [==============================] - 0s 3ms/step - loss: 28936.2285 - mae: 78.3774 - val_loss: 16282.2012 - val_mae: 66.4228\n",
      "Epoch 222/250\n",
      "17/17 [==============================] - 0s 3ms/step - loss: 26272.5488 - mae: 76.9921 - val_loss: 11736.3086 - val_mae: 56.4932\n",
      "Epoch 223/250\n",
      "17/17 [==============================] - 0s 3ms/step - loss: 25328.5664 - mae: 72.2768 - val_loss: 10726.2188 - val_mae: 55.0432\n",
      "Epoch 224/250\n",
      "17/17 [==============================] - 0s 3ms/step - loss: 22738.1016 - mae: 73.2338 - val_loss: 12034.4883 - val_mae: 58.2359\n",
      "Epoch 225/250\n",
      "17/17 [==============================] - 0s 3ms/step - loss: 24894.6289 - mae: 79.1989 - val_loss: 14840.1064 - val_mae: 64.3540\n",
      "Epoch 226/250\n",
      "17/17 [==============================] - 0s 3ms/step - loss: 29109.8047 - mae: 77.0191 - val_loss: 13761.0137 - val_mae: 63.9192\n",
      "Epoch 227/250\n",
      "17/17 [==============================] - 0s 3ms/step - loss: 27066.9336 - mae: 75.7601 - val_loss: 16925.0820 - val_mae: 70.7644\n",
      "Epoch 228/250\n",
      "17/17 [==============================] - 0s 3ms/step - loss: 23362.1230 - mae: 73.4919 - val_loss: 12961.5869 - val_mae: 61.2455\n",
      "Epoch 229/250\n",
      "17/17 [==============================] - 0s 3ms/step - loss: 26345.1699 - mae: 73.0862 - val_loss: 11548.1963 - val_mae: 58.2754\n",
      "Epoch 230/250\n"
     ]
    },
    {
     "name": "stdout",
     "output_type": "stream",
     "text": [
      "17/17 [==============================] - 0s 3ms/step - loss: 23662.2734 - mae: 74.1657 - val_loss: 10185.5645 - val_mae: 54.5426\n",
      "Epoch 231/250\n",
      "17/17 [==============================] - 0s 4ms/step - loss: 23405.5371 - mae: 71.4657 - val_loss: 11167.2314 - val_mae: 56.7174\n",
      "Epoch 232/250\n",
      "17/17 [==============================] - 0s 3ms/step - loss: 25556.2168 - mae: 75.0390 - val_loss: 12564.0791 - val_mae: 59.0833\n",
      "Epoch 233/250\n",
      "17/17 [==============================] - 0s 3ms/step - loss: 20556.1836 - mae: 67.3197 - val_loss: 13582.1719 - val_mae: 60.7843\n",
      "Epoch 234/250\n",
      "17/17 [==============================] - 0s 4ms/step - loss: 23628.0664 - mae: 72.2120 - val_loss: 12819.8311 - val_mae: 59.8988\n",
      "Epoch 235/250\n",
      "17/17 [==============================] - 0s 3ms/step - loss: 21493.0449 - mae: 68.7704 - val_loss: 11188.0361 - val_mae: 57.3000\n",
      "Epoch 236/250\n",
      "17/17 [==============================] - 0s 3ms/step - loss: 22571.1016 - mae: 73.5460 - val_loss: 11341.9062 - val_mae: 57.5857\n",
      "Epoch 237/250\n",
      "17/17 [==============================] - 0s 3ms/step - loss: 20484.4121 - mae: 69.6923 - val_loss: 10727.2998 - val_mae: 55.3039\n",
      "Epoch 238/250\n",
      "17/17 [==============================] - 0s 3ms/step - loss: 21065.0469 - mae: 67.2660 - val_loss: 14230.7031 - val_mae: 62.9711\n",
      "Epoch 239/250\n",
      "17/17 [==============================] - 0s 3ms/step - loss: 23280.4395 - mae: 70.2012 - val_loss: 14491.1992 - val_mae: 63.2586\n",
      "Epoch 240/250\n",
      "17/17 [==============================] - 0s 2ms/step - loss: 20548.4551 - mae: 64.7372 - val_loss: 11807.8418 - val_mae: 56.7390\n",
      "Epoch 241/250\n",
      "17/17 [==============================] - 0s 3ms/step - loss: 26697.1582 - mae: 77.8939 - val_loss: 14966.9355 - val_mae: 63.9134\n",
      "Epoch 242/250\n",
      "17/17 [==============================] - 0s 4ms/step - loss: 23914.5215 - mae: 75.6704 - val_loss: 14173.2764 - val_mae: 62.1904\n",
      "Epoch 243/250\n",
      "17/17 [==============================] - 0s 3ms/step - loss: 21800.7891 - mae: 69.9347 - val_loss: 11945.8770 - val_mae: 56.8321\n",
      "Epoch 244/250\n",
      "17/17 [==============================] - 0s 3ms/step - loss: 25132.6641 - mae: 75.2569 - val_loss: 13262.9375 - val_mae: 59.7770\n",
      "Epoch 245/250\n",
      "17/17 [==============================] - 0s 3ms/step - loss: 25784.7617 - mae: 73.1583 - val_loss: 11360.1992 - val_mae: 56.3552\n",
      "Epoch 246/250\n",
      "17/17 [==============================] - 0s 3ms/step - loss: 28458.7402 - mae: 77.6849 - val_loss: 14443.8828 - val_mae: 62.5160\n",
      "Epoch 247/250\n",
      "17/17 [==============================] - 0s 3ms/step - loss: 19642.3594 - mae: 65.2213 - val_loss: 16111.3701 - val_mae: 66.4412\n",
      "Epoch 248/250\n",
      "17/17 [==============================] - 0s 3ms/step - loss: 26257.7051 - mae: 74.6199 - val_loss: 12116.3828 - val_mae: 57.7864\n",
      "Epoch 249/250\n",
      "17/17 [==============================] - 0s 4ms/step - loss: 19827.2051 - mae: 67.7406 - val_loss: 11143.6641 - val_mae: 55.8125\n",
      "Epoch 250/250\n",
      "17/17 [==============================] - 0s 3ms/step - loss: 21878.7734 - mae: 65.2333 - val_loss: 12931.2822 - val_mae: 59.5180\n"
     ]
    }
   ],
   "source": [
    "history = model.fit(X_train_scaled,y_train,validation_split=0.2,batch_size=10,epochs=250)"
   ]
  },
  {
   "cell_type": "code",
   "execution_count": 696,
   "metadata": {},
   "outputs": [
    {
     "data": {
      "text/plain": [
       "Text(0, 0.5, 'accuracy')"
      ]
     },
     "execution_count": 696,
     "metadata": {},
     "output_type": "execute_result"
    },
    {
     "data": {
      "image/png": "[encoded data removed]",
      "text/plain": [
       "<Figure size 432x288 with 1 Axes>"
      ]
     },
     "metadata": {
      "needs_background": "light"
     },
     "output_type": "display_data"
    }
   ],
   "source": [
    "plt.plot(history.history['mae'])\n",
    "plt.plot(history.history['val_mae'])\n",
    "plt.title('model_aacuracy')\n",
    "plt.xlabel('epoch')\n",
    "plt.ylabel('accuracy')"
   ]
  },
  {
   "cell_type": "markdown",
   "metadata": {},
   "source": [
    "## Here we can see that as the we increased the epoch, our our metrics value has reduced from 218 to around 59 which shows that our model is perfoming well."
   ]
  },
  {
   "cell_type": "code",
   "execution_count": 699,
   "metadata": {},
   "outputs": [
    {
     "data": {
      "text/plain": [
       "Text(0, 0.5, 'accuracy')"
      ]
     },
     "execution_count": 699,
     "metadata": {},
     "output_type": "execute_result"
    },
    {
     "data": {
      "image/png": "[encoded data removed]",
      "text/plain": [
       "<Figure size 432x288 with 1 Axes>"
      ]
     },
     "metadata": {
      "needs_background": "light"
     },
     "output_type": "display_data"
    }
   ],
   "source": [
    "plt.plot(history.history['loss'])\n",
    "plt.plot(history.history['val_loss'])\n",
    "plt.title('model_loss')\n",
    "plt.xlabel('epoch')\n",
    "plt.ylabel('accuracy')"
   ]
  },
  {
   "cell_type": "code",
   "execution_count": 698,
   "metadata": {},
   "outputs": [
    {
     "name": "stdout",
     "output_type": "stream",
     "text": [
      "2/2 [==============================] - 0s 2ms/step - loss: 21260.1797 - mae: 71.6735\n"
     ]
    },
    {
     "data": {
      "text/plain": [
       "[21260.1796875, 71.67353057861328]"
      ]
     },
     "execution_count": 698,
     "metadata": {},
     "output_type": "execute_result"
    }
   ],
   "source": [
    "model.evaluate(X_test_scaled,y_test)"
   ]
  },
  {
   "cell_type": "code",
   "execution_count": 675,
   "metadata": {},
   "outputs": [
    {
     "data": {
      "text/plain": [
       "63.56883748423708"
      ]
     },
     "execution_count": 675,
     "metadata": {},
     "output_type": "execute_result"
    }
   ],
   "source": [
    "mean_absolute_error(y_test,y_predicts)"
   ]
  },
  {
   "cell_type": "code",
   "execution_count": 673,
   "metadata": {},
   "outputs": [],
   "source": [
    "prediction_deep = model.predict(X_test_scaled)"
   ]
  },
  {
   "cell_type": "code",
   "execution_count": 674,
   "metadata": {},
   "outputs": [
    {
     "data": {
      "text/html": [
       "<div>\n",
       "<style scoped>\n",
       "    .dataframe tbody tr th:only-of-type {\n",
       "        vertical-align: middle;\n",
       "    }\n",
       "\n",
       "    .dataframe tbody tr th {\n",
       "        vertical-align: top;\n",
       "    }\n",
       "\n",
       "    .dataframe thead th {\n",
       "        text-align: right;\n",
       "    }\n",
       "</style>\n",
       "<table border=\"1\" class=\"dataframe\">\n",
       "  <thead>\n",
       "    <tr style=\"text-align: right;\">\n",
       "      <th></th>\n",
       "      <th>actual</th>\n",
       "      <th>predicted</th>\n",
       "    </tr>\n",
       "  </thead>\n",
       "  <tbody>\n",
       "    <tr>\n",
       "      <th>0</th>\n",
       "      <td>448.0</td>\n",
       "      <td>324.350189</td>\n",
       "    </tr>\n",
       "    <tr>\n",
       "      <th>1</th>\n",
       "      <td>740.0</td>\n",
       "      <td>189.631882</td>\n",
       "    </tr>\n",
       "    <tr>\n",
       "      <th>2</th>\n",
       "      <td>0.0</td>\n",
       "      <td>7.943349</td>\n",
       "    </tr>\n",
       "    <tr>\n",
       "      <th>3</th>\n",
       "      <td>0.0</td>\n",
       "      <td>3.635751</td>\n",
       "    </tr>\n",
       "    <tr>\n",
       "      <th>4</th>\n",
       "      <td>0.0</td>\n",
       "      <td>4.130759</td>\n",
       "    </tr>\n",
       "    <tr>\n",
       "      <th>5</th>\n",
       "      <td>0.0</td>\n",
       "      <td>4.130759</td>\n",
       "    </tr>\n",
       "    <tr>\n",
       "      <th>6</th>\n",
       "      <td>101.0</td>\n",
       "      <td>111.455788</td>\n",
       "    </tr>\n",
       "    <tr>\n",
       "      <th>7</th>\n",
       "      <td>0.0</td>\n",
       "      <td>4.130759</td>\n",
       "    </tr>\n",
       "    <tr>\n",
       "      <th>8</th>\n",
       "      <td>2.0</td>\n",
       "      <td>3.777538</td>\n",
       "    </tr>\n",
       "    <tr>\n",
       "      <th>9</th>\n",
       "      <td>0.0</td>\n",
       "      <td>3.766506</td>\n",
       "    </tr>\n",
       "  </tbody>\n",
       "</table>\n",
       "</div>"
      ],
      "text/plain": [
       "   actual   predicted\n",
       "0   448.0  324.350189\n",
       "1   740.0  189.631882\n",
       "2     0.0    7.943349\n",
       "3     0.0    3.635751\n",
       "4     0.0    4.130759\n",
       "5     0.0    4.130759\n",
       "6   101.0  111.455788\n",
       "7     0.0    4.130759\n",
       "8     2.0    3.777538\n",
       "9     0.0    3.766506"
      ]
     },
     "execution_count": 674,
     "metadata": {},
     "output_type": "execute_result"
    }
   ],
   "source": [
    "pd.DataFrame(np.c_[y_test,prediction_deep],columns=['actual','predicted'])[:10]"
   ]
  },
  {
   "cell_type": "markdown",
   "metadata": {},
   "source": [
    "# Experimentation"
   ]
  },
  {
   "cell_type": "markdown",
   "metadata": {},
   "source": [
    "Hence, we built a model with an accuacy score around 86% accuracy, which is not the perfect model but somehow the good model."
   ]
  },
  {
   "cell_type": "code",
   "execution_count": 678,
   "metadata": {},
   "outputs": [],
   "source": [
    "import pickle"
   ]
  },
  {
   "cell_type": "code",
   "execution_count": 685,
   "metadata": {},
   "outputs": [],
   "source": [
    "pickle.dump(rg,open('nepal_corona_predictor.pkl','wb'))"
   ]
  },
  {
   "cell_type": "code",
   "execution_count": 686,
   "metadata": {},
   "outputs": [
    {
     "data": {
      "text/plain": [
       "array([1253.41980874])"
      ]
     },
     "execution_count": 686,
     "metadata": {},
     "output_type": "execute_result"
    }
   ],
   "source": [
    "rg.predict([[80000,586,16,5000,200000,2020]])"
   ]
  },
  {
   "cell_type": "markdown",
   "metadata": {},
   "source": [
    "> Exporting our model (df_2) as csv"
   ]
  },
  {
   "cell_type": "code",
   "execution_count": 189,
   "metadata": {},
   "outputs": [],
   "source": [
    "df_2.to_csv('Nepal_COVID-19_Predictor.csv',index=False)"
   ]
  },
  {
   "cell_type": "markdown",
   "metadata": {},
   "source": [
    "# THE END"
   ]
  },
  {
   "cell_type": "markdown",
   "metadata": {},
   "source": [
    "### © SantoshThapa 2020"
   ]
  },
  {
   "cell_type": "code",
   "execution_count": null,
   "metadata": {},
   "outputs": [],
   "source": []
  },
  {
   "cell_type": "code",
   "execution_count": null,
   "metadata": {},
   "outputs": [],
   "source": []
  }
 ],
 "metadata": {
  "kernelspec": {
   "display_name": "Python 3",
   "language": "python",
   "name": "python3"
  },
  "language_info": {
   "codemirror_mode": {
    "name": "ipython",
    "version": 3
   },
   "file_extension": ".py",
   "mimetype": "text/x-python",
   "name": "python",
   "nbconvert_exporter": "python",
   "pygments_lexer": "ipython3",
   "version": "3.8.3"
  }
 },
 "nbformat": 4,
 "nbformat_minor": 4
}
