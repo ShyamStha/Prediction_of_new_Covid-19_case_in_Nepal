{
 "cells": [
  {
   "cell_type": "markdown",
   "metadata": {},
   "source": [
    "\n",
    "<img src=\"../covid19.jpg\" height=\"800px\" width=\"800px\">\n"
   ]
  },
  {
   "cell_type": "markdown",
   "metadata": {},
   "source": [
    "\n",
    "# Predicting the new cases of CORONA virus using machine learning"
   ]
  },
  {
   "cell_type": "markdown",
   "metadata": {},
   "source": [
    "This project main aim is to predict the chance of new COVID-19 case by exploring the dataset of COVID-19.\n",
    "> Since our aim is to predict a continous data it is a Regression problem and for that we will be using regression model and choose the best model that fits the model"
   ]
  },
  {
   "cell_type": "markdown",
   "metadata": {},
   "source": [
    "# What is Regression?"
   ]
  },
  {
   "cell_type": "markdown",
   "metadata": {},
   "source": [
    "### Regression analysis is a form of predictive modelling technique which investigates the relationships between dependent and independent variables.\n",
    "### In short, regression is used when the output or target variable is continous in which our case is the latest new case of Nepal"
   ]
  },
  {
   "cell_type": "markdown",
   "metadata": {},
   "source": [
    "# What we will be exploring throughout our project?"
   ]
  },
  {
   "cell_type": "markdown",
   "metadata": {},
   "source": [
    "We will be using following machine learning modelling framework:\n",
    "* Exploratory data analysis (EDA) - the process of going through a dataset and finding out more about it.\n",
    "* Model training - create model(s) to learn to predict a target variable based on other variables.\n",
    "* Model evaluation - evaluating a models predictions using problem-specific evaluation metrics.\n",
    "* Model comparison - comparing several different models to find the best one.\n",
    "* Model fine-tuning - once we've found a good model, how can we improve it?\n",
    "* Feature importance - since we're predicting the presence of covid cases, are there some things which are more important for prediction?\n",
    "* Cross-validation - if we do build a good model, can we be sure it will work on unseen data?\n",
    "* Reporting what we've found - if we had to present our work, what would we show someone?\n",
    "\n",
    "> For this project as a tool we will be using different libraries as Numpy, Pandas, Matplotlib, Seaborn and Scikitlearn\n",
    "\n",
    "#### We will also explore which parameters or feature labels are more important than others for example human development index may be less important than total_cases so we might prune that and we will do data scrubbing as well throughout our project."
   ]
  },
  {
   "cell_type": "markdown",
   "metadata": {},
   "source": [
    "\n",
    "# 1. Problem Definition\n",
    "\n",
    "The problem we are working on is regression problem where main objective is to predicting the accuracy level for new cases.\n",
    "In short, we can write as:\n",
    "> Given a dataset of COVID-19, how well our model will predict the new cases?\n"
   ]
  },
  {
   "cell_type": "markdown",
   "metadata": {},
   "source": [
    "# 2. Data\n",
    "We use our data to view it from different perspective as possible so that our problem is based on.\n",
    "Our original data came from https://ourworldindata.org/coronavirus-source-data` from Corona Virus source data.\n",
    "\n",
    "We have downloaded it in a csv format (Comma Separated Values) and imported into our project\n",
    "\n",
    "The data consists of 41 columns and total of 43283 rows and in total the datasize is 1774603 but this values may change as we clean the data and fill the missing data.\n",
    "\n",
    "In our project, we call independent variables(X) as feature varialbes or simply features and we call dependent variable(y) as target variable or simply target.\n",
    "\n",
    "In our case, the independent variables are different parameters used to predict the target and the target is new cases.\n"
   ]
  },
  {
   "cell_type": "markdown",
   "metadata": {},
   "source": [
    "# 3. Evaluation\n",
    "We know our machine learning learning project is experimental and thus we may say like:\n",
    "> If our model can predict with 85% accuracy, we will conclude that our project has reached its objective and until and unless it won't reach this level we shall be trying different models and tune the hyperparametrs\n",
    "\n"
   ]
  },
  {
   "cell_type": "markdown",
   "metadata": {},
   "source": [
    "# 4. Features\n",
    "Features are different parts of the data. During this step, we wiil want to start finding out what we can about the data.\n",
    "\n",
    "One of the most common ways to do this, is to create a data dictionary."
   ]
  },
  {
   "cell_type": "markdown",
   "metadata": {},
   "source": [
    "## Covid-19 data dictionary\n",
    " Data dictionary cleary explains the meaning of the attributes that we are using in our data. \n",
    "`The following are the features that are used in our project:\n",
    "\n",
    "* iso_code -\tISO 3166-1 alpha-3 – three-letter country codes\tInternational Organization for Standardization\n",
    "* continent -\tContinent of the geographical location\tOur World in Data\n",
    "* location -\tGeographical location\tOur World in Data\n",
    "* date -\tDate of observation\tOur World in Data\n",
    "* total_cases -\tTotal confirmed cases of COVID-19\tEuropean Centre for Disease Prevention and Control\n",
    "* new_cases -\tNew confirmed cases of COVID-19\tEuropean Centre for Disease Prevention and Control\n",
    "* new_cases_smoothed -\tNew confirmed cases of COVID-19 (7-day smoothed)\tEuropean Centre for Disease Prevention and Control\n",
    "* total_deaths -\tTotal deaths attributed to COVID-19\tEuropean Centre for Disease Prevention and Control\n",
    "* new_deaths -\tNew deaths attributed to COVID-19\tEuropean Centre for Disease Prevention and Control\n",
    "* new_deaths_smoothed -\tNew deaths attributed to COVID-19 (7-day smoothed)\tEuropean Centre for Disease Prevention and Control\n",
    "* total_cases_per_million -\tTotal confirmed cases of COVID-19 per 1,000,000 people\tEuropean Centre for Disease Prevention and Control\n",
    "* new_cases_per_million -\tNew confirmed cases of COVID-19 per 1,000,000 people\tEuropean Centre for Disease Prevention and Control\n",
    "* new_cases_smoothed_per_million -\tNew confirmed cases of COVID-19 (7-day smoothed) per 1,000,000 people\tEuropean Centre for Disease Prevention and Control\n",
    "* total_deaths_per_million -\tTotal deaths attributed to COVID-19 per 1,000,000 people\tEuropean Centre for Disease Prevention and Control\n",
    "* new_deaths_per_million -\tNew deaths attributed to COVID-19 per 1,000,000 people\tEuropean Centre for Disease Prevention and Control\n",
    "* new_deaths_smoothed_per_million -\tNew deaths attributed to COVID-19 (7-day smoothed) per 1,000,000 people\tEuropean Centre for Disease Prevention and Control\n",
    "* total_tests -\tTotal tests for COVID-19\tNational government reports\n",
    "* new_tests -\tNew tests for COVID-19\tNational government reports\n",
    "* new_tests_smoothed -\tNew tests for COVID-19 (7-day smoothed). For countries that don't report testing data on a daily basis, we assume that testing changed equally on a daily basis over any periods in which no data was reported. This produces a complete series of daily figures, which is then averaged over a rolling 7-day window\tNational government reports\n",
    "* total_tests_per_thousand -\tTotal tests for COVID-19 per 1,000 people\tNational government reports\n",
    "* new_tests_per_thousand -\tNew tests for COVID-19 per 1,000 people\tNational government reports\n",
    "* new_tests_smoothed_per_thousand -\tNew tests for COVID-19 (7-day smoothed) per 1,000 people\tNational government reports\n",
    "* tests_per_case -\tTests conducted per new confirmed case of COVID-19, given as a rolling 7-day average (this is the inverse of positive_rate)\tNational government reports\n",
    "* positive_rate -\tThe share of COVID-19 tests that are positive, given as a rolling 7-day average (this is the inverse of tests_per_case)\tNational government reports\n",
    "* tests_units -\tUnits used by the location to report its testing data\tNational government reports\n",
    "* stringency_index -\tGovernment Response Stringency Index: composite measure based on 9 response indicators including school closures, workplace closures, and travel bans, rescaled to a value from 0 to 100 (100 = strictest response)\tOxford COVID-19 Government Response Tracker, Blavatnik School of Government\n",
    "* population -\tPopulation in 2020\tUnited Nations, Department of Economic and Social Affairs, Population Division, World Population Prospects: The 2019 Revision\n",
    "* population_density -\tNumber of people divided by land area, measured in square kilometers, most recent year available\tWorld Bank – World Development Indicators, sourced from Food and Agriculture Organization and World Bank estimates\n",
    "* median_age -\tMedian age of the population, UN projection for 2020\tUN Population Division, World Population Prospects, 2017 Revision\n",
    "* aged_65_older -\tShare of the population that is 65 years and older, most recent year available\tWorld Bank – World Development Indicators, based on age/sex distributions of United Nations Population Division's World Population Prospects: 2017 Revision\n",
    "* aged_70_older -\tShare of the population that is 70 years and older in 2015\tUnited Nations, Department of Economic and Social Affairs, Population Division (2017), World Population Prospects: The 2017 Revision\n",
    "* gdp_per_capita -\tGross domestic product at purchasing power parity (constant 2011 international dollars), most recent year available\tWorld Bank – World Development Indicators, source from World Bank, International Comparison Program database\n",
    "* extreme_poverty -\tShare of the population living in extreme poverty, most recent year available since 2010\tWorld Bank – World Development Indicators, sourced from World Bank Development Research Group\n",
    "* cardiovasc_death_rate -\tDeath rate from cardiovascular disease in 2017 (annual number of deaths per 100,000 people)\tGlobal Burden of Disease Collaborative Network, Global Burden of Disease Study 2017 Results\n",
    "* diabetes_prevalence -\tDiabetes prevalence (% of population aged 20 to 79) in 2017\tWorld Bank – World Development Indicators, sourced from International Diabetes Federation, Diabetes Atlas\n",
    "* female_smokers -\tShare of women who smoke, most recent year available\tWorld Bank – World Development Indicators, sourced from World Health Organization, Global Health Observatory Data Repository\n",
    "* male_smokers -\tShare of men who smoke, most recent year available\tWorld Bank – World Development Indicators, sourced from World Health Organization, Global Health Observatory Data Repository\n",
    "* handwashing_facilities -\tShare of the population with basic handwashing facilities on premises, most recent year available\tUnited Nations Statistics Division\n",
    "* hospital_beds_per_thousand -\tHospital beds per 1,000 people, most recent year available since 2010\tOECD, Eurostat, World Bank, national government records and other sources\n",
    "* life_expectancy -\tLife expectancy at birth in 2019\tJames C. Riley, Clio Infra, United Nations Population Division\n",
    "* human_development_index -\tSummary measure of average achievement in key dimensions of human development: a long and healthy life, being knowledgeable and have a decent standard of living\n",
    "\n"
   ]
  },
  {
   "cell_type": "markdown",
   "metadata": {},
   "source": [
    "# Preparing the tools"
   ]
  },
  {
   "cell_type": "markdown",
   "metadata": {},
   "source": [
    "Following are the libraries which we will be using throoughout our project.\n",
    "* Numpy - for numerical operations\n",
    "* Pandas - for data analysis\n",
    "* Matplotlib - for data visualization\n",
    "* Seaborn - same use as Matplotlib with additional features\n",
    "* Scikit-Learn(Sklearn) - for machine learning modelling"
   ]
  },
  {
   "cell_type": "markdown",
   "metadata": {},
   "source": [
    "# Importing all the necessary libraries for data analysis, modelling, data visualization and so on\n",
    "\n"
   ]
  },
  {
   "cell_type": "code",
   "execution_count": 1,
   "metadata": {},
   "outputs": [],
   "source": [
    "import pandas as pd\n",
    "import numpy as np\n",
    "import seaborn as sns\n",
    "import matplotlib.pyplot as plt\n",
    "%matplotlib inline"
   ]
  },
  {
   "cell_type": "code",
   "execution_count": 2,
   "metadata": {},
   "outputs": [],
   "source": [
    "from sklearn.linear_model import Ridge\n",
    "from sklearn.ensemble import RandomForestRegressor"
   ]
  },
  {
   "cell_type": "code",
   "execution_count": 3,
   "metadata": {},
   "outputs": [],
   "source": [
    "from sklearn.model_selection import train_test_split, cross_val_score\n",
    "from sklearn.model_selection import RandomizedSearchCV, GridSearchCV\n",
    "from sklearn.metrics import r2_score,mean_absolute_error,mean_squared_error"
   ]
  },
  {
   "cell_type": "markdown",
   "metadata": {},
   "source": [
    "# Loading the data"
   ]
  },
  {
   "cell_type": "markdown",
   "metadata": {},
   "source": [
    "Data comes in different format as excel,csv or txt. For our case our data is in csv format and we will use Pandas for it since it has a built in function to read csv file (read_csv())"
   ]
  },
  {
   "cell_type": "code",
   "execution_count": 4,
   "metadata": {},
   "outputs": [],
   "source": [
    "# all of our data is stored in this variable corona in tabular format\n",
    "corona = pd.read_csv('covid.csv')"
   ]
  },
  {
   "cell_type": "code",
   "execution_count": 5,
   "metadata": {},
   "outputs": [
    {
     "data": {
      "text/html": [
       "<div>\n",
       "<style scoped>\n",
       "    .dataframe tbody tr th:only-of-type {\n",
       "        vertical-align: middle;\n",
       "    }\n",
       "\n",
       "    .dataframe tbody tr th {\n",
       "        vertical-align: top;\n",
       "    }\n",
       "\n",
       "    .dataframe thead th {\n",
       "        text-align: right;\n",
       "    }\n",
       "</style>\n",
       "<table border=\"1\" class=\"dataframe\">\n",
       "  <thead>\n",
       "    <tr style=\"text-align: right;\">\n",
       "      <th></th>\n",
       "      <th>iso_code</th>\n",
       "      <th>continent</th>\n",
       "      <th>location</th>\n",
       "      <th>date</th>\n",
       "      <th>total_cases</th>\n",
       "      <th>new_cases</th>\n",
       "      <th>new_cases_smoothed</th>\n",
       "      <th>total_deaths</th>\n",
       "      <th>new_deaths</th>\n",
       "      <th>new_deaths_smoothed</th>\n",
       "      <th>...</th>\n",
       "      <th>gdp_per_capita</th>\n",
       "      <th>extreme_poverty</th>\n",
       "      <th>cardiovasc_death_rate</th>\n",
       "      <th>diabetes_prevalence</th>\n",
       "      <th>female_smokers</th>\n",
       "      <th>male_smokers</th>\n",
       "      <th>handwashing_facilities</th>\n",
       "      <th>hospital_beds_per_thousand</th>\n",
       "      <th>life_expectancy</th>\n",
       "      <th>human_development_index</th>\n",
       "    </tr>\n",
       "  </thead>\n",
       "  <tbody>\n",
       "    <tr>\n",
       "      <th>0</th>\n",
       "      <td>AFG</td>\n",
       "      <td>Asia</td>\n",
       "      <td>Afghanistan</td>\n",
       "      <td>2019-12-31</td>\n",
       "      <td>0.0</td>\n",
       "      <td>0.0</td>\n",
       "      <td>NaN</td>\n",
       "      <td>0.0</td>\n",
       "      <td>0.0</td>\n",
       "      <td>NaN</td>\n",
       "      <td>...</td>\n",
       "      <td>1803.987</td>\n",
       "      <td>NaN</td>\n",
       "      <td>597.029</td>\n",
       "      <td>9.59</td>\n",
       "      <td>NaN</td>\n",
       "      <td>NaN</td>\n",
       "      <td>37.746</td>\n",
       "      <td>0.5</td>\n",
       "      <td>64.83</td>\n",
       "      <td>0.498</td>\n",
       "    </tr>\n",
       "    <tr>\n",
       "      <th>1</th>\n",
       "      <td>AFG</td>\n",
       "      <td>Asia</td>\n",
       "      <td>Afghanistan</td>\n",
       "      <td>2020-01-01</td>\n",
       "      <td>0.0</td>\n",
       "      <td>0.0</td>\n",
       "      <td>NaN</td>\n",
       "      <td>0.0</td>\n",
       "      <td>0.0</td>\n",
       "      <td>NaN</td>\n",
       "      <td>...</td>\n",
       "      <td>1803.987</td>\n",
       "      <td>NaN</td>\n",
       "      <td>597.029</td>\n",
       "      <td>9.59</td>\n",
       "      <td>NaN</td>\n",
       "      <td>NaN</td>\n",
       "      <td>37.746</td>\n",
       "      <td>0.5</td>\n",
       "      <td>64.83</td>\n",
       "      <td>0.498</td>\n",
       "    </tr>\n",
       "    <tr>\n",
       "      <th>2</th>\n",
       "      <td>AFG</td>\n",
       "      <td>Asia</td>\n",
       "      <td>Afghanistan</td>\n",
       "      <td>2020-01-02</td>\n",
       "      <td>0.0</td>\n",
       "      <td>0.0</td>\n",
       "      <td>NaN</td>\n",
       "      <td>0.0</td>\n",
       "      <td>0.0</td>\n",
       "      <td>NaN</td>\n",
       "      <td>...</td>\n",
       "      <td>1803.987</td>\n",
       "      <td>NaN</td>\n",
       "      <td>597.029</td>\n",
       "      <td>9.59</td>\n",
       "      <td>NaN</td>\n",
       "      <td>NaN</td>\n",
       "      <td>37.746</td>\n",
       "      <td>0.5</td>\n",
       "      <td>64.83</td>\n",
       "      <td>0.498</td>\n",
       "    </tr>\n",
       "    <tr>\n",
       "      <th>3</th>\n",
       "      <td>AFG</td>\n",
       "      <td>Asia</td>\n",
       "      <td>Afghanistan</td>\n",
       "      <td>2020-01-03</td>\n",
       "      <td>0.0</td>\n",
       "      <td>0.0</td>\n",
       "      <td>NaN</td>\n",
       "      <td>0.0</td>\n",
       "      <td>0.0</td>\n",
       "      <td>NaN</td>\n",
       "      <td>...</td>\n",
       "      <td>1803.987</td>\n",
       "      <td>NaN</td>\n",
       "      <td>597.029</td>\n",
       "      <td>9.59</td>\n",
       "      <td>NaN</td>\n",
       "      <td>NaN</td>\n",
       "      <td>37.746</td>\n",
       "      <td>0.5</td>\n",
       "      <td>64.83</td>\n",
       "      <td>0.498</td>\n",
       "    </tr>\n",
       "    <tr>\n",
       "      <th>4</th>\n",
       "      <td>AFG</td>\n",
       "      <td>Asia</td>\n",
       "      <td>Afghanistan</td>\n",
       "      <td>2020-01-04</td>\n",
       "      <td>0.0</td>\n",
       "      <td>0.0</td>\n",
       "      <td>NaN</td>\n",
       "      <td>0.0</td>\n",
       "      <td>0.0</td>\n",
       "      <td>NaN</td>\n",
       "      <td>...</td>\n",
       "      <td>1803.987</td>\n",
       "      <td>NaN</td>\n",
       "      <td>597.029</td>\n",
       "      <td>9.59</td>\n",
       "      <td>NaN</td>\n",
       "      <td>NaN</td>\n",
       "      <td>37.746</td>\n",
       "      <td>0.5</td>\n",
       "      <td>64.83</td>\n",
       "      <td>0.498</td>\n",
       "    </tr>\n",
       "  </tbody>\n",
       "</table>\n",
       "<p>5 rows × 41 columns</p>\n",
       "</div>"
      ],
      "text/plain": [
       "  iso_code continent     location        date  total_cases  new_cases  \\\n",
       "0      AFG      Asia  Afghanistan  2019-12-31          0.0        0.0   \n",
       "1      AFG      Asia  Afghanistan  2020-01-01          0.0        0.0   \n",
       "2      AFG      Asia  Afghanistan  2020-01-02          0.0        0.0   \n",
       "3      AFG      Asia  Afghanistan  2020-01-03          0.0        0.0   \n",
       "4      AFG      Asia  Afghanistan  2020-01-04          0.0        0.0   \n",
       "\n",
       "   new_cases_smoothed  total_deaths  new_deaths  new_deaths_smoothed  ...  \\\n",
       "0                 NaN           0.0         0.0                  NaN  ...   \n",
       "1                 NaN           0.0         0.0                  NaN  ...   \n",
       "2                 NaN           0.0         0.0                  NaN  ...   \n",
       "3                 NaN           0.0         0.0                  NaN  ...   \n",
       "4                 NaN           0.0         0.0                  NaN  ...   \n",
       "\n",
       "   gdp_per_capita  extreme_poverty  cardiovasc_death_rate  \\\n",
       "0        1803.987              NaN                597.029   \n",
       "1        1803.987              NaN                597.029   \n",
       "2        1803.987              NaN                597.029   \n",
       "3        1803.987              NaN                597.029   \n",
       "4        1803.987              NaN                597.029   \n",
       "\n",
       "   diabetes_prevalence  female_smokers  male_smokers  handwashing_facilities  \\\n",
       "0                 9.59             NaN           NaN                  37.746   \n",
       "1                 9.59             NaN           NaN                  37.746   \n",
       "2                 9.59             NaN           NaN                  37.746   \n",
       "3                 9.59             NaN           NaN                  37.746   \n",
       "4                 9.59             NaN           NaN                  37.746   \n",
       "\n",
       "   hospital_beds_per_thousand  life_expectancy  human_development_index  \n",
       "0                         0.5            64.83                    0.498  \n",
       "1                         0.5            64.83                    0.498  \n",
       "2                         0.5            64.83                    0.498  \n",
       "3                         0.5            64.83                    0.498  \n",
       "4                         0.5            64.83                    0.498  \n",
       "\n",
       "[5 rows x 41 columns]"
      ]
     },
     "execution_count": 5,
     "metadata": {},
     "output_type": "execute_result"
    }
   ],
   "source": [
    "# Reading the first five rows along with attributes associated with it\n",
    "corona.head()"
   ]
  },
  {
   "cell_type": "code",
   "execution_count": 6,
   "metadata": {},
   "outputs": [
    {
     "data": {
      "text/plain": [
       "(43283, 41)"
      ]
     },
     "execution_count": 6,
     "metadata": {},
     "output_type": "execute_result"
    }
   ],
   "source": [
    "# Observing the total numbers of horizontal rows and vertical columns\n",
    "corona.shape"
   ]
  },
  {
   "cell_type": "code",
   "execution_count": 7,
   "metadata": {},
   "outputs": [
    {
     "data": {
      "text/plain": [
       "1774603"
      ]
     },
     "execution_count": 7,
     "metadata": {},
     "output_type": "execute_result"
    }
   ],
   "source": [
    "# Total data size\n",
    "corona.size"
   ]
  },
  {
   "cell_type": "code",
   "execution_count": 8,
   "metadata": {},
   "outputs": [
    {
     "data": {
      "text/plain": [
       "1774603"
      ]
     },
     "execution_count": 8,
     "metadata": {},
     "output_type": "execute_result"
    }
   ],
   "source": [
    "43283*41"
   ]
  },
  {
   "cell_type": "markdown",
   "metadata": {},
   "source": [
    "## Our main aim is to train our model and analyse the data for Nepal only as we have different countries dataset, we will filter out Nepal only as our aim is to analyze the data of Nepal only. So we will only select the Nepal data and prune others"
   ]
  },
  {
   "cell_type": "code",
   "execution_count": 9,
   "metadata": {},
   "outputs": [],
   "source": [
    "nepal_case = corona[corona['location']=='Nepal']"
   ]
  },
  {
   "cell_type": "code",
   "execution_count": 10,
   "metadata": {},
   "outputs": [
    {
     "data": {
      "text/plain": [
       "(257, 41)"
      ]
     },
     "execution_count": 10,
     "metadata": {},
     "output_type": "execute_result"
    }
   ],
   "source": [
    "nepal_case.shape"
   ]
  },
  {
   "cell_type": "markdown",
   "metadata": {},
   "source": [
    "# Exploratory Data Analysis(EDA)\n",
    "EDA means simply exploring the dataset as possible as we can. We will observe our data from different angles so that we can view how each dependent variables and independent variables are asscociated and affecting each other\n",
    "\n",
    "We shall be using various data visualization techniques to analyze our data.\n",
    "\n",
    "\n"
   ]
  },
  {
   "cell_type": "code",
   "execution_count": 11,
   "metadata": {},
   "outputs": [
    {
     "data": {
      "text/html": [
       "<div>\n",
       "<style scoped>\n",
       "    .dataframe tbody tr th:only-of-type {\n",
       "        vertical-align: middle;\n",
       "    }\n",
       "\n",
       "    .dataframe tbody tr th {\n",
       "        vertical-align: top;\n",
       "    }\n",
       "\n",
       "    .dataframe thead th {\n",
       "        text-align: right;\n",
       "    }\n",
       "</style>\n",
       "<table border=\"1\" class=\"dataframe\">\n",
       "  <thead>\n",
       "    <tr style=\"text-align: right;\">\n",
       "      <th></th>\n",
       "      <th>iso_code</th>\n",
       "      <th>continent</th>\n",
       "      <th>location</th>\n",
       "      <th>date</th>\n",
       "      <th>total_cases</th>\n",
       "      <th>new_cases</th>\n",
       "      <th>new_cases_smoothed</th>\n",
       "      <th>total_deaths</th>\n",
       "      <th>new_deaths</th>\n",
       "      <th>new_deaths_smoothed</th>\n",
       "      <th>...</th>\n",
       "      <th>gdp_per_capita</th>\n",
       "      <th>extreme_poverty</th>\n",
       "      <th>cardiovasc_death_rate</th>\n",
       "      <th>diabetes_prevalence</th>\n",
       "      <th>female_smokers</th>\n",
       "      <th>male_smokers</th>\n",
       "      <th>handwashing_facilities</th>\n",
       "      <th>hospital_beds_per_thousand</th>\n",
       "      <th>life_expectancy</th>\n",
       "      <th>human_development_index</th>\n",
       "    </tr>\n",
       "  </thead>\n",
       "  <tbody>\n",
       "    <tr>\n",
       "      <th>27433</th>\n",
       "      <td>NPL</td>\n",
       "      <td>Asia</td>\n",
       "      <td>Nepal</td>\n",
       "      <td>2019-12-31</td>\n",
       "      <td>0.0</td>\n",
       "      <td>0.0</td>\n",
       "      <td>NaN</td>\n",
       "      <td>0.0</td>\n",
       "      <td>0.0</td>\n",
       "      <td>NaN</td>\n",
       "      <td>...</td>\n",
       "      <td>2442.804</td>\n",
       "      <td>15.0</td>\n",
       "      <td>260.797</td>\n",
       "      <td>7.26</td>\n",
       "      <td>9.5</td>\n",
       "      <td>37.8</td>\n",
       "      <td>47.782</td>\n",
       "      <td>0.3</td>\n",
       "      <td>70.78</td>\n",
       "      <td>0.574</td>\n",
       "    </tr>\n",
       "    <tr>\n",
       "      <th>27434</th>\n",
       "      <td>NPL</td>\n",
       "      <td>Asia</td>\n",
       "      <td>Nepal</td>\n",
       "      <td>2020-01-01</td>\n",
       "      <td>0.0</td>\n",
       "      <td>0.0</td>\n",
       "      <td>NaN</td>\n",
       "      <td>0.0</td>\n",
       "      <td>0.0</td>\n",
       "      <td>NaN</td>\n",
       "      <td>...</td>\n",
       "      <td>2442.804</td>\n",
       "      <td>15.0</td>\n",
       "      <td>260.797</td>\n",
       "      <td>7.26</td>\n",
       "      <td>9.5</td>\n",
       "      <td>37.8</td>\n",
       "      <td>47.782</td>\n",
       "      <td>0.3</td>\n",
       "      <td>70.78</td>\n",
       "      <td>0.574</td>\n",
       "    </tr>\n",
       "    <tr>\n",
       "      <th>27435</th>\n",
       "      <td>NPL</td>\n",
       "      <td>Asia</td>\n",
       "      <td>Nepal</td>\n",
       "      <td>2020-01-02</td>\n",
       "      <td>0.0</td>\n",
       "      <td>0.0</td>\n",
       "      <td>NaN</td>\n",
       "      <td>0.0</td>\n",
       "      <td>0.0</td>\n",
       "      <td>NaN</td>\n",
       "      <td>...</td>\n",
       "      <td>2442.804</td>\n",
       "      <td>15.0</td>\n",
       "      <td>260.797</td>\n",
       "      <td>7.26</td>\n",
       "      <td>9.5</td>\n",
       "      <td>37.8</td>\n",
       "      <td>47.782</td>\n",
       "      <td>0.3</td>\n",
       "      <td>70.78</td>\n",
       "      <td>0.574</td>\n",
       "    </tr>\n",
       "    <tr>\n",
       "      <th>27436</th>\n",
       "      <td>NPL</td>\n",
       "      <td>Asia</td>\n",
       "      <td>Nepal</td>\n",
       "      <td>2020-01-03</td>\n",
       "      <td>0.0</td>\n",
       "      <td>0.0</td>\n",
       "      <td>NaN</td>\n",
       "      <td>0.0</td>\n",
       "      <td>0.0</td>\n",
       "      <td>NaN</td>\n",
       "      <td>...</td>\n",
       "      <td>2442.804</td>\n",
       "      <td>15.0</td>\n",
       "      <td>260.797</td>\n",
       "      <td>7.26</td>\n",
       "      <td>9.5</td>\n",
       "      <td>37.8</td>\n",
       "      <td>47.782</td>\n",
       "      <td>0.3</td>\n",
       "      <td>70.78</td>\n",
       "      <td>0.574</td>\n",
       "    </tr>\n",
       "    <tr>\n",
       "      <th>27437</th>\n",
       "      <td>NPL</td>\n",
       "      <td>Asia</td>\n",
       "      <td>Nepal</td>\n",
       "      <td>2020-01-04</td>\n",
       "      <td>0.0</td>\n",
       "      <td>0.0</td>\n",
       "      <td>NaN</td>\n",
       "      <td>0.0</td>\n",
       "      <td>0.0</td>\n",
       "      <td>NaN</td>\n",
       "      <td>...</td>\n",
       "      <td>2442.804</td>\n",
       "      <td>15.0</td>\n",
       "      <td>260.797</td>\n",
       "      <td>7.26</td>\n",
       "      <td>9.5</td>\n",
       "      <td>37.8</td>\n",
       "      <td>47.782</td>\n",
       "      <td>0.3</td>\n",
       "      <td>70.78</td>\n",
       "      <td>0.574</td>\n",
       "    </tr>\n",
       "  </tbody>\n",
       "</table>\n",
       "<p>5 rows × 41 columns</p>\n",
       "</div>"
      ],
      "text/plain": [
       "      iso_code continent location        date  total_cases  new_cases  \\\n",
       "27433      NPL      Asia    Nepal  2019-12-31          0.0        0.0   \n",
       "27434      NPL      Asia    Nepal  2020-01-01          0.0        0.0   \n",
       "27435      NPL      Asia    Nepal  2020-01-02          0.0        0.0   \n",
       "27436      NPL      Asia    Nepal  2020-01-03          0.0        0.0   \n",
       "27437      NPL      Asia    Nepal  2020-01-04          0.0        0.0   \n",
       "\n",
       "       new_cases_smoothed  total_deaths  new_deaths  new_deaths_smoothed  ...  \\\n",
       "27433                 NaN           0.0         0.0                  NaN  ...   \n",
       "27434                 NaN           0.0         0.0                  NaN  ...   \n",
       "27435                 NaN           0.0         0.0                  NaN  ...   \n",
       "27436                 NaN           0.0         0.0                  NaN  ...   \n",
       "27437                 NaN           0.0         0.0                  NaN  ...   \n",
       "\n",
       "       gdp_per_capita  extreme_poverty  cardiovasc_death_rate  \\\n",
       "27433        2442.804             15.0                260.797   \n",
       "27434        2442.804             15.0                260.797   \n",
       "27435        2442.804             15.0                260.797   \n",
       "27436        2442.804             15.0                260.797   \n",
       "27437        2442.804             15.0                260.797   \n",
       "\n",
       "       diabetes_prevalence  female_smokers  male_smokers  \\\n",
       "27433                 7.26             9.5          37.8   \n",
       "27434                 7.26             9.5          37.8   \n",
       "27435                 7.26             9.5          37.8   \n",
       "27436                 7.26             9.5          37.8   \n",
       "27437                 7.26             9.5          37.8   \n",
       "\n",
       "       handwashing_facilities  hospital_beds_per_thousand  life_expectancy  \\\n",
       "27433                  47.782                         0.3            70.78   \n",
       "27434                  47.782                         0.3            70.78   \n",
       "27435                  47.782                         0.3            70.78   \n",
       "27436                  47.782                         0.3            70.78   \n",
       "27437                  47.782                         0.3            70.78   \n",
       "\n",
       "       human_development_index  \n",
       "27433                    0.574  \n",
       "27434                    0.574  \n",
       "27435                    0.574  \n",
       "27436                    0.574  \n",
       "27437                    0.574  \n",
       "\n",
       "[5 rows x 41 columns]"
      ]
     },
     "execution_count": 11,
     "metadata": {},
     "output_type": "execute_result"
    }
   ],
   "source": [
    "nepal_case.head()"
   ]
  },
  {
   "cell_type": "markdown",
   "metadata": {},
   "source": [
    "## We have to cheack is there any null values present in our data because null values must be removed or filled with some data which is also known as imputation in Machine learning term"
   ]
  },
  {
   "cell_type": "code",
   "execution_count": 12,
   "metadata": {},
   "outputs": [
    {
     "data": {
      "text/plain": [
       "iso_code                            0\n",
       "continent                           0\n",
       "location                            0\n",
       "date                                0\n",
       "total_cases                        13\n",
       "new_cases                          13\n",
       "new_cases_smoothed                  6\n",
       "total_deaths                       13\n",
       "new_deaths                         13\n",
       "new_deaths_smoothed                 6\n",
       "total_cases_per_million            13\n",
       "new_cases_per_million              13\n",
       "new_cases_smoothed_per_million      6\n",
       "total_deaths_per_million           13\n",
       "new_deaths_per_million             13\n",
       "new_deaths_smoothed_per_million     6\n",
       "new_tests                          68\n",
       "total_tests                        55\n",
       "total_tests_per_thousand           55\n",
       "new_tests_per_thousand             68\n",
       "new_tests_smoothed                 38\n",
       "new_tests_smoothed_per_thousand    38\n",
       "tests_per_case                     87\n",
       "positive_rate                      38\n",
       "tests_units                        31\n",
       "stringency_index                    8\n",
       "population                          0\n",
       "population_density                  0\n",
       "median_age                          0\n",
       "aged_65_older                       0\n",
       "aged_70_older                       0\n",
       "gdp_per_capita                      0\n",
       "extreme_poverty                     0\n",
       "cardiovasc_death_rate               0\n",
       "diabetes_prevalence                 0\n",
       "female_smokers                      0\n",
       "male_smokers                        0\n",
       "handwashing_facilities              0\n",
       "hospital_beds_per_thousand          0\n",
       "life_expectancy                     0\n",
       "human_development_index             0\n",
       "dtype: int64"
      ]
     },
     "execution_count": 12,
     "metadata": {},
     "output_type": "execute_result"
    }
   ],
   "source": [
    "nepal_case.isna().sum()"
   ]
  },
  {
   "cell_type": "code",
   "execution_count": 13,
   "metadata": {},
   "outputs": [
    {
     "data": {
      "text/plain": [
       "<matplotlib.axes._subplots.AxesSubplot at 0x2bcb22bbeb0>"
      ]
     },
     "execution_count": 13,
     "metadata": {},
     "output_type": "execute_result"
    },
    {
     "data": {
      "image/png": "[encoded data removed]",
      "text/plain": [
       "<Figure size 720x360 with 1 Axes>"
      ]
     },
     "metadata": {
      "needs_background": "light"
     },
     "output_type": "display_data"
    }
   ],
   "source": [
    "fig, ax = plt.subplots(figsize=(10,5))\n",
    "sns.heatmap(nepal_case.isna(),yticklabels=False,cmap='nipy_spectral',cbar=False)"
   ]
  },
  {
   "cell_type": "code",
   "execution_count": 14,
   "metadata": {},
   "outputs": [],
   "source": [
    "fig.savefig('denseheatmap.png')"
   ]
  },
  {
   "cell_type": "code",
   "execution_count": 15,
   "metadata": {},
   "outputs": [
    {
     "data": {
      "text/html": [
       "<div>\n",
       "<style scoped>\n",
       "    .dataframe tbody tr th:only-of-type {\n",
       "        vertical-align: middle;\n",
       "    }\n",
       "\n",
       "    .dataframe tbody tr th {\n",
       "        vertical-align: top;\n",
       "    }\n",
       "\n",
       "    .dataframe thead th {\n",
       "        text-align: right;\n",
       "    }\n",
       "</style>\n",
       "<table border=\"1\" class=\"dataframe\">\n",
       "  <thead>\n",
       "    <tr style=\"text-align: right;\">\n",
       "      <th></th>\n",
       "      <th>iso_code</th>\n",
       "      <th>continent</th>\n",
       "      <th>location</th>\n",
       "      <th>date</th>\n",
       "      <th>total_cases</th>\n",
       "      <th>new_cases</th>\n",
       "      <th>new_cases_smoothed</th>\n",
       "      <th>total_deaths</th>\n",
       "      <th>new_deaths</th>\n",
       "      <th>new_deaths_smoothed</th>\n",
       "      <th>...</th>\n",
       "      <th>gdp_per_capita</th>\n",
       "      <th>extreme_poverty</th>\n",
       "      <th>cardiovasc_death_rate</th>\n",
       "      <th>diabetes_prevalence</th>\n",
       "      <th>female_smokers</th>\n",
       "      <th>male_smokers</th>\n",
       "      <th>handwashing_facilities</th>\n",
       "      <th>hospital_beds_per_thousand</th>\n",
       "      <th>life_expectancy</th>\n",
       "      <th>human_development_index</th>\n",
       "    </tr>\n",
       "  </thead>\n",
       "  <tbody>\n",
       "    <tr>\n",
       "      <th>27433</th>\n",
       "      <td>NPL</td>\n",
       "      <td>Asia</td>\n",
       "      <td>Nepal</td>\n",
       "      <td>2019-12-31</td>\n",
       "      <td>0.0</td>\n",
       "      <td>0.0</td>\n",
       "      <td>NaN</td>\n",
       "      <td>0.0</td>\n",
       "      <td>0.0</td>\n",
       "      <td>NaN</td>\n",
       "      <td>...</td>\n",
       "      <td>2442.804</td>\n",
       "      <td>15.0</td>\n",
       "      <td>260.797</td>\n",
       "      <td>7.26</td>\n",
       "      <td>9.5</td>\n",
       "      <td>37.8</td>\n",
       "      <td>47.782</td>\n",
       "      <td>0.3</td>\n",
       "      <td>70.78</td>\n",
       "      <td>0.574</td>\n",
       "    </tr>\n",
       "    <tr>\n",
       "      <th>27434</th>\n",
       "      <td>NPL</td>\n",
       "      <td>Asia</td>\n",
       "      <td>Nepal</td>\n",
       "      <td>2020-01-01</td>\n",
       "      <td>0.0</td>\n",
       "      <td>0.0</td>\n",
       "      <td>NaN</td>\n",
       "      <td>0.0</td>\n",
       "      <td>0.0</td>\n",
       "      <td>NaN</td>\n",
       "      <td>...</td>\n",
       "      <td>2442.804</td>\n",
       "      <td>15.0</td>\n",
       "      <td>260.797</td>\n",
       "      <td>7.26</td>\n",
       "      <td>9.5</td>\n",
       "      <td>37.8</td>\n",
       "      <td>47.782</td>\n",
       "      <td>0.3</td>\n",
       "      <td>70.78</td>\n",
       "      <td>0.574</td>\n",
       "    </tr>\n",
       "    <tr>\n",
       "      <th>27435</th>\n",
       "      <td>NPL</td>\n",
       "      <td>Asia</td>\n",
       "      <td>Nepal</td>\n",
       "      <td>2020-01-02</td>\n",
       "      <td>0.0</td>\n",
       "      <td>0.0</td>\n",
       "      <td>NaN</td>\n",
       "      <td>0.0</td>\n",
       "      <td>0.0</td>\n",
       "      <td>NaN</td>\n",
       "      <td>...</td>\n",
       "      <td>2442.804</td>\n",
       "      <td>15.0</td>\n",
       "      <td>260.797</td>\n",
       "      <td>7.26</td>\n",
       "      <td>9.5</td>\n",
       "      <td>37.8</td>\n",
       "      <td>47.782</td>\n",
       "      <td>0.3</td>\n",
       "      <td>70.78</td>\n",
       "      <td>0.574</td>\n",
       "    </tr>\n",
       "    <tr>\n",
       "      <th>27436</th>\n",
       "      <td>NPL</td>\n",
       "      <td>Asia</td>\n",
       "      <td>Nepal</td>\n",
       "      <td>2020-01-03</td>\n",
       "      <td>0.0</td>\n",
       "      <td>0.0</td>\n",
       "      <td>NaN</td>\n",
       "      <td>0.0</td>\n",
       "      <td>0.0</td>\n",
       "      <td>NaN</td>\n",
       "      <td>...</td>\n",
       "      <td>2442.804</td>\n",
       "      <td>15.0</td>\n",
       "      <td>260.797</td>\n",
       "      <td>7.26</td>\n",
       "      <td>9.5</td>\n",
       "      <td>37.8</td>\n",
       "      <td>47.782</td>\n",
       "      <td>0.3</td>\n",
       "      <td>70.78</td>\n",
       "      <td>0.574</td>\n",
       "    </tr>\n",
       "    <tr>\n",
       "      <th>27437</th>\n",
       "      <td>NPL</td>\n",
       "      <td>Asia</td>\n",
       "      <td>Nepal</td>\n",
       "      <td>2020-01-04</td>\n",
       "      <td>0.0</td>\n",
       "      <td>0.0</td>\n",
       "      <td>NaN</td>\n",
       "      <td>0.0</td>\n",
       "      <td>0.0</td>\n",
       "      <td>NaN</td>\n",
       "      <td>...</td>\n",
       "      <td>2442.804</td>\n",
       "      <td>15.0</td>\n",
       "      <td>260.797</td>\n",
       "      <td>7.26</td>\n",
       "      <td>9.5</td>\n",
       "      <td>37.8</td>\n",
       "      <td>47.782</td>\n",
       "      <td>0.3</td>\n",
       "      <td>70.78</td>\n",
       "      <td>0.574</td>\n",
       "    </tr>\n",
       "  </tbody>\n",
       "</table>\n",
       "<p>5 rows × 41 columns</p>\n",
       "</div>"
      ],
      "text/plain": [
       "      iso_code continent location        date  total_cases  new_cases  \\\n",
       "27433      NPL      Asia    Nepal  2019-12-31          0.0        0.0   \n",
       "27434      NPL      Asia    Nepal  2020-01-01          0.0        0.0   \n",
       "27435      NPL      Asia    Nepal  2020-01-02          0.0        0.0   \n",
       "27436      NPL      Asia    Nepal  2020-01-03          0.0        0.0   \n",
       "27437      NPL      Asia    Nepal  2020-01-04          0.0        0.0   \n",
       "\n",
       "       new_cases_smoothed  total_deaths  new_deaths  new_deaths_smoothed  ...  \\\n",
       "27433                 NaN           0.0         0.0                  NaN  ...   \n",
       "27434                 NaN           0.0         0.0                  NaN  ...   \n",
       "27435                 NaN           0.0         0.0                  NaN  ...   \n",
       "27436                 NaN           0.0         0.0                  NaN  ...   \n",
       "27437                 NaN           0.0         0.0                  NaN  ...   \n",
       "\n",
       "       gdp_per_capita  extreme_poverty  cardiovasc_death_rate  \\\n",
       "27433        2442.804             15.0                260.797   \n",
       "27434        2442.804             15.0                260.797   \n",
       "27435        2442.804             15.0                260.797   \n",
       "27436        2442.804             15.0                260.797   \n",
       "27437        2442.804             15.0                260.797   \n",
       "\n",
       "       diabetes_prevalence  female_smokers  male_smokers  \\\n",
       "27433                 7.26             9.5          37.8   \n",
       "27434                 7.26             9.5          37.8   \n",
       "27435                 7.26             9.5          37.8   \n",
       "27436                 7.26             9.5          37.8   \n",
       "27437                 7.26             9.5          37.8   \n",
       "\n",
       "       handwashing_facilities  hospital_beds_per_thousand  life_expectancy  \\\n",
       "27433                  47.782                         0.3            70.78   \n",
       "27434                  47.782                         0.3            70.78   \n",
       "27435                  47.782                         0.3            70.78   \n",
       "27436                  47.782                         0.3            70.78   \n",
       "27437                  47.782                         0.3            70.78   \n",
       "\n",
       "       human_development_index  \n",
       "27433                    0.574  \n",
       "27434                    0.574  \n",
       "27435                    0.574  \n",
       "27436                    0.574  \n",
       "27437                    0.574  \n",
       "\n",
       "[5 rows x 41 columns]"
      ]
     },
     "execution_count": 15,
     "metadata": {},
     "output_type": "execute_result"
    }
   ],
   "source": [
    "nepal_case.head()"
   ]
  },
  {
   "cell_type": "code",
   "execution_count": 16,
   "metadata": {},
   "outputs": [
    {
     "data": {
      "image/png": "[encoded data removed]",
      "text/plain": [
       "<Figure size 576x576 with 1 Axes>"
      ]
     },
     "metadata": {
      "needs_background": "light"
     },
     "output_type": "display_data"
    }
   ],
   "source": [
    "#Since, our dataset is very long let's take the latest recent 5 days case and analyse it\n",
    "nepal_last5days = nepal_case.tail()\n",
    "nepal_last5days.plot(x=\"date\",y=\"total_cases\",figsize=(8,8),color=\"red\")\n",
    "plt.xlabel(\"Date\")\n",
    "plt.ylabel(\"Recent 5 days cases\")\n",
    "plt.title(\"Total cases for latest 5 days\")\n",
    "plt.show()\n",
    "\n"
   ]
  },
  {
   "cell_type": "code",
   "execution_count": 17,
   "metadata": {},
   "outputs": [
    {
     "data": {
      "image/png": "[encoded data removed]",
      "text/plain": [
       "<Figure size 720x720 with 1 Axes>"
      ]
     },
     "metadata": {
      "needs_background": "light"
     },
     "output_type": "display_data"
    }
   ],
   "source": [
    "nepal_last5days.plot(x=\"date\",y=\"total_deaths\",figsize=(10,10),color=\"purple\")\n",
    "plt.xlabel(\"Date\")\n",
    "plt.ylabel(\"Recent 5 days cases\")\n",
    "plt.title(\"New Deaths case for latest 5 days\")\n",
    "plt.show()"
   ]
  },
  {
   "cell_type": "code",
   "execution_count": 18,
   "metadata": {},
   "outputs": [
    {
     "data": {
      "image/png": "[encoded data removed]",
      "text/plain": [
       "<Figure size 432x288 with 1 Axes>"
      ]
     },
     "metadata": {
      "needs_background": "light"
     },
     "output_type": "display_data"
    }
   ],
   "source": [
    "sns.barplot(x=\"date\",y=\"total_cases\",data=nepal_last5days);"
   ]
  },
  {
   "cell_type": "code",
   "execution_count": 19,
   "metadata": {},
   "outputs": [
    {
     "data": {
      "image/png": "[encoded data removed]",
      "text/plain": [
       "<Figure size 360x360 with 1 Axes>"
      ]
     },
     "metadata": {
      "needs_background": "light"
     },
     "output_type": "display_data"
    }
   ],
   "source": [
    "sns.catplot(x=\"date\",y=\"total_cases\",data=nepal_last5days);"
   ]
  },
  {
   "cell_type": "code",
   "execution_count": 20,
   "metadata": {},
   "outputs": [
    {
     "data": {
      "text/html": [
       "<div>\n",
       "<style scoped>\n",
       "    .dataframe tbody tr th:only-of-type {\n",
       "        vertical-align: middle;\n",
       "    }\n",
       "\n",
       "    .dataframe tbody tr th {\n",
       "        vertical-align: top;\n",
       "    }\n",
       "\n",
       "    .dataframe thead th {\n",
       "        text-align: right;\n",
       "    }\n",
       "</style>\n",
       "<table border=\"1\" class=\"dataframe\">\n",
       "  <thead>\n",
       "    <tr style=\"text-align: right;\">\n",
       "      <th></th>\n",
       "      <th>iso_code</th>\n",
       "      <th>continent</th>\n",
       "      <th>location</th>\n",
       "      <th>date</th>\n",
       "      <th>total_cases</th>\n",
       "      <th>new_cases</th>\n",
       "      <th>new_cases_smoothed</th>\n",
       "      <th>total_deaths</th>\n",
       "      <th>new_deaths</th>\n",
       "      <th>new_deaths_smoothed</th>\n",
       "      <th>...</th>\n",
       "      <th>gdp_per_capita</th>\n",
       "      <th>extreme_poverty</th>\n",
       "      <th>cardiovasc_death_rate</th>\n",
       "      <th>diabetes_prevalence</th>\n",
       "      <th>female_smokers</th>\n",
       "      <th>male_smokers</th>\n",
       "      <th>handwashing_facilities</th>\n",
       "      <th>hospital_beds_per_thousand</th>\n",
       "      <th>life_expectancy</th>\n",
       "      <th>human_development_index</th>\n",
       "    </tr>\n",
       "  </thead>\n",
       "  <tbody>\n",
       "    <tr>\n",
       "      <th>27433</th>\n",
       "      <td>NPL</td>\n",
       "      <td>Asia</td>\n",
       "      <td>Nepal</td>\n",
       "      <td>2019-12-31</td>\n",
       "      <td>0.0</td>\n",
       "      <td>0.0</td>\n",
       "      <td>NaN</td>\n",
       "      <td>0.0</td>\n",
       "      <td>0.0</td>\n",
       "      <td>NaN</td>\n",
       "      <td>...</td>\n",
       "      <td>2442.804</td>\n",
       "      <td>15.0</td>\n",
       "      <td>260.797</td>\n",
       "      <td>7.26</td>\n",
       "      <td>9.5</td>\n",
       "      <td>37.8</td>\n",
       "      <td>47.782</td>\n",
       "      <td>0.3</td>\n",
       "      <td>70.78</td>\n",
       "      <td>0.574</td>\n",
       "    </tr>\n",
       "    <tr>\n",
       "      <th>27434</th>\n",
       "      <td>NPL</td>\n",
       "      <td>Asia</td>\n",
       "      <td>Nepal</td>\n",
       "      <td>2020-01-01</td>\n",
       "      <td>0.0</td>\n",
       "      <td>0.0</td>\n",
       "      <td>NaN</td>\n",
       "      <td>0.0</td>\n",
       "      <td>0.0</td>\n",
       "      <td>NaN</td>\n",
       "      <td>...</td>\n",
       "      <td>2442.804</td>\n",
       "      <td>15.0</td>\n",
       "      <td>260.797</td>\n",
       "      <td>7.26</td>\n",
       "      <td>9.5</td>\n",
       "      <td>37.8</td>\n",
       "      <td>47.782</td>\n",
       "      <td>0.3</td>\n",
       "      <td>70.78</td>\n",
       "      <td>0.574</td>\n",
       "    </tr>\n",
       "    <tr>\n",
       "      <th>27435</th>\n",
       "      <td>NPL</td>\n",
       "      <td>Asia</td>\n",
       "      <td>Nepal</td>\n",
       "      <td>2020-01-02</td>\n",
       "      <td>0.0</td>\n",
       "      <td>0.0</td>\n",
       "      <td>NaN</td>\n",
       "      <td>0.0</td>\n",
       "      <td>0.0</td>\n",
       "      <td>NaN</td>\n",
       "      <td>...</td>\n",
       "      <td>2442.804</td>\n",
       "      <td>15.0</td>\n",
       "      <td>260.797</td>\n",
       "      <td>7.26</td>\n",
       "      <td>9.5</td>\n",
       "      <td>37.8</td>\n",
       "      <td>47.782</td>\n",
       "      <td>0.3</td>\n",
       "      <td>70.78</td>\n",
       "      <td>0.574</td>\n",
       "    </tr>\n",
       "    <tr>\n",
       "      <th>27436</th>\n",
       "      <td>NPL</td>\n",
       "      <td>Asia</td>\n",
       "      <td>Nepal</td>\n",
       "      <td>2020-01-03</td>\n",
       "      <td>0.0</td>\n",
       "      <td>0.0</td>\n",
       "      <td>NaN</td>\n",
       "      <td>0.0</td>\n",
       "      <td>0.0</td>\n",
       "      <td>NaN</td>\n",
       "      <td>...</td>\n",
       "      <td>2442.804</td>\n",
       "      <td>15.0</td>\n",
       "      <td>260.797</td>\n",
       "      <td>7.26</td>\n",
       "      <td>9.5</td>\n",
       "      <td>37.8</td>\n",
       "      <td>47.782</td>\n",
       "      <td>0.3</td>\n",
       "      <td>70.78</td>\n",
       "      <td>0.574</td>\n",
       "    </tr>\n",
       "    <tr>\n",
       "      <th>27437</th>\n",
       "      <td>NPL</td>\n",
       "      <td>Asia</td>\n",
       "      <td>Nepal</td>\n",
       "      <td>2020-01-04</td>\n",
       "      <td>0.0</td>\n",
       "      <td>0.0</td>\n",
       "      <td>NaN</td>\n",
       "      <td>0.0</td>\n",
       "      <td>0.0</td>\n",
       "      <td>NaN</td>\n",
       "      <td>...</td>\n",
       "      <td>2442.804</td>\n",
       "      <td>15.0</td>\n",
       "      <td>260.797</td>\n",
       "      <td>7.26</td>\n",
       "      <td>9.5</td>\n",
       "      <td>37.8</td>\n",
       "      <td>47.782</td>\n",
       "      <td>0.3</td>\n",
       "      <td>70.78</td>\n",
       "      <td>0.574</td>\n",
       "    </tr>\n",
       "  </tbody>\n",
       "</table>\n",
       "<p>5 rows × 41 columns</p>\n",
       "</div>"
      ],
      "text/plain": [
       "      iso_code continent location        date  total_cases  new_cases  \\\n",
       "27433      NPL      Asia    Nepal  2019-12-31          0.0        0.0   \n",
       "27434      NPL      Asia    Nepal  2020-01-01          0.0        0.0   \n",
       "27435      NPL      Asia    Nepal  2020-01-02          0.0        0.0   \n",
       "27436      NPL      Asia    Nepal  2020-01-03          0.0        0.0   \n",
       "27437      NPL      Asia    Nepal  2020-01-04          0.0        0.0   \n",
       "\n",
       "       new_cases_smoothed  total_deaths  new_deaths  new_deaths_smoothed  ...  \\\n",
       "27433                 NaN           0.0         0.0                  NaN  ...   \n",
       "27434                 NaN           0.0         0.0                  NaN  ...   \n",
       "27435                 NaN           0.0         0.0                  NaN  ...   \n",
       "27436                 NaN           0.0         0.0                  NaN  ...   \n",
       "27437                 NaN           0.0         0.0                  NaN  ...   \n",
       "\n",
       "       gdp_per_capita  extreme_poverty  cardiovasc_death_rate  \\\n",
       "27433        2442.804             15.0                260.797   \n",
       "27434        2442.804             15.0                260.797   \n",
       "27435        2442.804             15.0                260.797   \n",
       "27436        2442.804             15.0                260.797   \n",
       "27437        2442.804             15.0                260.797   \n",
       "\n",
       "       diabetes_prevalence  female_smokers  male_smokers  \\\n",
       "27433                 7.26             9.5          37.8   \n",
       "27434                 7.26             9.5          37.8   \n",
       "27435                 7.26             9.5          37.8   \n",
       "27436                 7.26             9.5          37.8   \n",
       "27437                 7.26             9.5          37.8   \n",
       "\n",
       "       handwashing_facilities  hospital_beds_per_thousand  life_expectancy  \\\n",
       "27433                  47.782                         0.3            70.78   \n",
       "27434                  47.782                         0.3            70.78   \n",
       "27435                  47.782                         0.3            70.78   \n",
       "27436                  47.782                         0.3            70.78   \n",
       "27437                  47.782                         0.3            70.78   \n",
       "\n",
       "       human_development_index  \n",
       "27433                    0.574  \n",
       "27434                    0.574  \n",
       "27435                    0.574  \n",
       "27436                    0.574  \n",
       "27437                    0.574  \n",
       "\n",
       "[5 rows x 41 columns]"
      ]
     },
     "execution_count": 20,
     "metadata": {},
     "output_type": "execute_result"
    }
   ],
   "source": [
    "nepal_case.head()"
   ]
  },
  {
   "cell_type": "markdown",
   "metadata": {},
   "source": [
    "## Now lets observe the first five days cases of Nepal I think must of we know that the first five days we did not see any cases. Lets prove this by using data visualization."
   ]
  },
  {
   "cell_type": "code",
   "execution_count": 21,
   "metadata": {},
   "outputs": [],
   "source": [
    "nepal_first5days = nepal_case.head()"
   ]
  },
  {
   "cell_type": "code",
   "execution_count": 22,
   "metadata": {
    "scrolled": true
   },
   "outputs": [
    {
     "data": {
      "image/png": "[encoded data removed]",
      "text/plain": [
       "<Figure size 432x360 with 1 Axes>"
      ]
     },
     "metadata": {
      "needs_background": "light"
     },
     "output_type": "display_data"
    }
   ],
   "source": [
    "\n",
    "nepal_first5days.plot(x=\"date\",y=\"total_cases\",figsize=(6,5),color=\"orange\")\n",
    "plt.xlabel(\"Date\")\n",
    "plt.ylabel(\"Recent 5 days cases\")\n",
    "plt.title(\"Total cases for first 5 days\")\n",
    "plt.show()"
   ]
  },
  {
   "cell_type": "code",
   "execution_count": 23,
   "metadata": {},
   "outputs": [
    {
     "data": {
      "image/png": "[encoded data removed]",
      "text/plain": [
       "<Figure size 432x288 with 1 Axes>"
      ]
     },
     "metadata": {
      "needs_background": "light"
     },
     "output_type": "display_data"
    }
   ],
   "source": [
    "sns.barplot(x=\"date\",y=\"total_cases\",data=nepal_first5days);"
   ]
  },
  {
   "cell_type": "markdown",
   "metadata": {},
   "source": [
    "## Hence, we concluded from figure that there was no any cases during earlier first five days of study"
   ]
  },
  {
   "cell_type": "code",
   "execution_count": 24,
   "metadata": {},
   "outputs": [
    {
     "data": {
      "text/html": [
       "<div>\n",
       "<style scoped>\n",
       "    .dataframe tbody tr th:only-of-type {\n",
       "        vertical-align: middle;\n",
       "    }\n",
       "\n",
       "    .dataframe tbody tr th {\n",
       "        vertical-align: top;\n",
       "    }\n",
       "\n",
       "    .dataframe thead th {\n",
       "        text-align: right;\n",
       "    }\n",
       "</style>\n",
       "<table border=\"1\" class=\"dataframe\">\n",
       "  <thead>\n",
       "    <tr style=\"text-align: right;\">\n",
       "      <th></th>\n",
       "      <th>iso_code</th>\n",
       "      <th>continent</th>\n",
       "      <th>location</th>\n",
       "      <th>date</th>\n",
       "      <th>total_cases</th>\n",
       "      <th>new_cases</th>\n",
       "      <th>new_cases_smoothed</th>\n",
       "      <th>total_deaths</th>\n",
       "      <th>new_deaths</th>\n",
       "      <th>new_deaths_smoothed</th>\n",
       "      <th>...</th>\n",
       "      <th>gdp_per_capita</th>\n",
       "      <th>extreme_poverty</th>\n",
       "      <th>cardiovasc_death_rate</th>\n",
       "      <th>diabetes_prevalence</th>\n",
       "      <th>female_smokers</th>\n",
       "      <th>male_smokers</th>\n",
       "      <th>handwashing_facilities</th>\n",
       "      <th>hospital_beds_per_thousand</th>\n",
       "      <th>life_expectancy</th>\n",
       "      <th>human_development_index</th>\n",
       "    </tr>\n",
       "  </thead>\n",
       "  <tbody>\n",
       "    <tr>\n",
       "      <th>27685</th>\n",
       "      <td>NPL</td>\n",
       "      <td>Asia</td>\n",
       "      <td>Nepal</td>\n",
       "      <td>2020-09-08</td>\n",
       "      <td>47236.0</td>\n",
       "      <td>979.0</td>\n",
       "      <td>1110.857</td>\n",
       "      <td>300.0</td>\n",
       "      <td>11.0</td>\n",
       "      <td>10.286</td>\n",
       "      <td>...</td>\n",
       "      <td>2442.804</td>\n",
       "      <td>15.0</td>\n",
       "      <td>260.797</td>\n",
       "      <td>7.26</td>\n",
       "      <td>9.5</td>\n",
       "      <td>37.8</td>\n",
       "      <td>47.782</td>\n",
       "      <td>0.3</td>\n",
       "      <td>70.78</td>\n",
       "      <td>0.574</td>\n",
       "    </tr>\n",
       "    <tr>\n",
       "      <th>27686</th>\n",
       "      <td>NPL</td>\n",
       "      <td>Asia</td>\n",
       "      <td>Nepal</td>\n",
       "      <td>2020-09-09</td>\n",
       "      <td>48138.0</td>\n",
       "      <td>902.0</td>\n",
       "      <td>1087.000</td>\n",
       "      <td>306.0</td>\n",
       "      <td>6.0</td>\n",
       "      <td>9.571</td>\n",
       "      <td>...</td>\n",
       "      <td>2442.804</td>\n",
       "      <td>15.0</td>\n",
       "      <td>260.797</td>\n",
       "      <td>7.26</td>\n",
       "      <td>9.5</td>\n",
       "      <td>37.8</td>\n",
       "      <td>47.782</td>\n",
       "      <td>0.3</td>\n",
       "      <td>70.78</td>\n",
       "      <td>0.574</td>\n",
       "    </tr>\n",
       "    <tr>\n",
       "      <th>27687</th>\n",
       "      <td>NPL</td>\n",
       "      <td>Asia</td>\n",
       "      <td>Nepal</td>\n",
       "      <td>2020-09-10</td>\n",
       "      <td>49219.0</td>\n",
       "      <td>1081.0</td>\n",
       "      <td>1081.429</td>\n",
       "      <td>312.0</td>\n",
       "      <td>6.0</td>\n",
       "      <td>8.714</td>\n",
       "      <td>...</td>\n",
       "      <td>2442.804</td>\n",
       "      <td>15.0</td>\n",
       "      <td>260.797</td>\n",
       "      <td>7.26</td>\n",
       "      <td>9.5</td>\n",
       "      <td>37.8</td>\n",
       "      <td>47.782</td>\n",
       "      <td>0.3</td>\n",
       "      <td>70.78</td>\n",
       "      <td>0.574</td>\n",
       "    </tr>\n",
       "    <tr>\n",
       "      <th>27688</th>\n",
       "      <td>NPL</td>\n",
       "      <td>Asia</td>\n",
       "      <td>Nepal</td>\n",
       "      <td>2020-09-11</td>\n",
       "      <td>50465.0</td>\n",
       "      <td>1246.0</td>\n",
       "      <td>1084.000</td>\n",
       "      <td>317.0</td>\n",
       "      <td>5.0</td>\n",
       "      <td>8.571</td>\n",
       "      <td>...</td>\n",
       "      <td>2442.804</td>\n",
       "      <td>15.0</td>\n",
       "      <td>260.797</td>\n",
       "      <td>7.26</td>\n",
       "      <td>9.5</td>\n",
       "      <td>37.8</td>\n",
       "      <td>47.782</td>\n",
       "      <td>0.3</td>\n",
       "      <td>70.78</td>\n",
       "      <td>0.574</td>\n",
       "    </tr>\n",
       "    <tr>\n",
       "      <th>27689</th>\n",
       "      <td>NPL</td>\n",
       "      <td>Asia</td>\n",
       "      <td>Nepal</td>\n",
       "      <td>2020-09-12</td>\n",
       "      <td>51919.0</td>\n",
       "      <td>1454.0</td>\n",
       "      <td>1097.571</td>\n",
       "      <td>322.0</td>\n",
       "      <td>5.0</td>\n",
       "      <td>7.286</td>\n",
       "      <td>...</td>\n",
       "      <td>2442.804</td>\n",
       "      <td>15.0</td>\n",
       "      <td>260.797</td>\n",
       "      <td>7.26</td>\n",
       "      <td>9.5</td>\n",
       "      <td>37.8</td>\n",
       "      <td>47.782</td>\n",
       "      <td>0.3</td>\n",
       "      <td>70.78</td>\n",
       "      <td>0.574</td>\n",
       "    </tr>\n",
       "  </tbody>\n",
       "</table>\n",
       "<p>5 rows × 41 columns</p>\n",
       "</div>"
      ],
      "text/plain": [
       "      iso_code continent location        date  total_cases  new_cases  \\\n",
       "27685      NPL      Asia    Nepal  2020-09-08      47236.0      979.0   \n",
       "27686      NPL      Asia    Nepal  2020-09-09      48138.0      902.0   \n",
       "27687      NPL      Asia    Nepal  2020-09-10      49219.0     1081.0   \n",
       "27688      NPL      Asia    Nepal  2020-09-11      50465.0     1246.0   \n",
       "27689      NPL      Asia    Nepal  2020-09-12      51919.0     1454.0   \n",
       "\n",
       "       new_cases_smoothed  total_deaths  new_deaths  new_deaths_smoothed  ...  \\\n",
       "27685            1110.857         300.0        11.0               10.286  ...   \n",
       "27686            1087.000         306.0         6.0                9.571  ...   \n",
       "27687            1081.429         312.0         6.0                8.714  ...   \n",
       "27688            1084.000         317.0         5.0                8.571  ...   \n",
       "27689            1097.571         322.0         5.0                7.286  ...   \n",
       "\n",
       "       gdp_per_capita  extreme_poverty  cardiovasc_death_rate  \\\n",
       "27685        2442.804             15.0                260.797   \n",
       "27686        2442.804             15.0                260.797   \n",
       "27687        2442.804             15.0                260.797   \n",
       "27688        2442.804             15.0                260.797   \n",
       "27689        2442.804             15.0                260.797   \n",
       "\n",
       "       diabetes_prevalence  female_smokers  male_smokers  \\\n",
       "27685                 7.26             9.5          37.8   \n",
       "27686                 7.26             9.5          37.8   \n",
       "27687                 7.26             9.5          37.8   \n",
       "27688                 7.26             9.5          37.8   \n",
       "27689                 7.26             9.5          37.8   \n",
       "\n",
       "       handwashing_facilities  hospital_beds_per_thousand  life_expectancy  \\\n",
       "27685                  47.782                         0.3            70.78   \n",
       "27686                  47.782                         0.3            70.78   \n",
       "27687                  47.782                         0.3            70.78   \n",
       "27688                  47.782                         0.3            70.78   \n",
       "27689                  47.782                         0.3            70.78   \n",
       "\n",
       "       human_development_index  \n",
       "27685                    0.574  \n",
       "27686                    0.574  \n",
       "27687                    0.574  \n",
       "27688                    0.574  \n",
       "27689                    0.574  \n",
       "\n",
       "[5 rows x 41 columns]"
      ]
     },
     "execution_count": 24,
     "metadata": {},
     "output_type": "execute_result"
    }
   ],
   "source": [
    "nepal_case.tail()"
   ]
  },
  {
   "cell_type": "code",
   "execution_count": null,
   "metadata": {},
   "outputs": [],
   "source": []
  },
  {
   "cell_type": "code",
   "execution_count": 25,
   "metadata": {},
   "outputs": [
    {
     "data": {
      "text/html": [
       "<div>\n",
       "<style scoped>\n",
       "    .dataframe tbody tr th:only-of-type {\n",
       "        vertical-align: middle;\n",
       "    }\n",
       "\n",
       "    .dataframe tbody tr th {\n",
       "        vertical-align: top;\n",
       "    }\n",
       "\n",
       "    .dataframe thead th {\n",
       "        text-align: right;\n",
       "    }\n",
       "</style>\n",
       "<table border=\"1\" class=\"dataframe\">\n",
       "  <thead>\n",
       "    <tr style=\"text-align: right;\">\n",
       "      <th></th>\n",
       "      <th>iso_code</th>\n",
       "      <th>continent</th>\n",
       "      <th>location</th>\n",
       "      <th>date</th>\n",
       "      <th>total_cases</th>\n",
       "      <th>new_cases</th>\n",
       "      <th>new_cases_smoothed</th>\n",
       "      <th>total_deaths</th>\n",
       "      <th>new_deaths</th>\n",
       "      <th>new_deaths_smoothed</th>\n",
       "      <th>...</th>\n",
       "      <th>gdp_per_capita</th>\n",
       "      <th>extreme_poverty</th>\n",
       "      <th>cardiovasc_death_rate</th>\n",
       "      <th>diabetes_prevalence</th>\n",
       "      <th>female_smokers</th>\n",
       "      <th>male_smokers</th>\n",
       "      <th>handwashing_facilities</th>\n",
       "      <th>hospital_beds_per_thousand</th>\n",
       "      <th>life_expectancy</th>\n",
       "      <th>human_development_index</th>\n",
       "    </tr>\n",
       "  </thead>\n",
       "  <tbody>\n",
       "    <tr>\n",
       "      <th>27433</th>\n",
       "      <td>NPL</td>\n",
       "      <td>Asia</td>\n",
       "      <td>Nepal</td>\n",
       "      <td>2019-12-31</td>\n",
       "      <td>0.0</td>\n",
       "      <td>0.0</td>\n",
       "      <td>NaN</td>\n",
       "      <td>0.0</td>\n",
       "      <td>0.0</td>\n",
       "      <td>NaN</td>\n",
       "      <td>...</td>\n",
       "      <td>2442.804</td>\n",
       "      <td>15.0</td>\n",
       "      <td>260.797</td>\n",
       "      <td>7.26</td>\n",
       "      <td>9.5</td>\n",
       "      <td>37.8</td>\n",
       "      <td>47.782</td>\n",
       "      <td>0.3</td>\n",
       "      <td>70.78</td>\n",
       "      <td>0.574</td>\n",
       "    </tr>\n",
       "    <tr>\n",
       "      <th>27434</th>\n",
       "      <td>NPL</td>\n",
       "      <td>Asia</td>\n",
       "      <td>Nepal</td>\n",
       "      <td>2020-01-01</td>\n",
       "      <td>0.0</td>\n",
       "      <td>0.0</td>\n",
       "      <td>NaN</td>\n",
       "      <td>0.0</td>\n",
       "      <td>0.0</td>\n",
       "      <td>NaN</td>\n",
       "      <td>...</td>\n",
       "      <td>2442.804</td>\n",
       "      <td>15.0</td>\n",
       "      <td>260.797</td>\n",
       "      <td>7.26</td>\n",
       "      <td>9.5</td>\n",
       "      <td>37.8</td>\n",
       "      <td>47.782</td>\n",
       "      <td>0.3</td>\n",
       "      <td>70.78</td>\n",
       "      <td>0.574</td>\n",
       "    </tr>\n",
       "    <tr>\n",
       "      <th>27435</th>\n",
       "      <td>NPL</td>\n",
       "      <td>Asia</td>\n",
       "      <td>Nepal</td>\n",
       "      <td>2020-01-02</td>\n",
       "      <td>0.0</td>\n",
       "      <td>0.0</td>\n",
       "      <td>NaN</td>\n",
       "      <td>0.0</td>\n",
       "      <td>0.0</td>\n",
       "      <td>NaN</td>\n",
       "      <td>...</td>\n",
       "      <td>2442.804</td>\n",
       "      <td>15.0</td>\n",
       "      <td>260.797</td>\n",
       "      <td>7.26</td>\n",
       "      <td>9.5</td>\n",
       "      <td>37.8</td>\n",
       "      <td>47.782</td>\n",
       "      <td>0.3</td>\n",
       "      <td>70.78</td>\n",
       "      <td>0.574</td>\n",
       "    </tr>\n",
       "    <tr>\n",
       "      <th>27436</th>\n",
       "      <td>NPL</td>\n",
       "      <td>Asia</td>\n",
       "      <td>Nepal</td>\n",
       "      <td>2020-01-03</td>\n",
       "      <td>0.0</td>\n",
       "      <td>0.0</td>\n",
       "      <td>NaN</td>\n",
       "      <td>0.0</td>\n",
       "      <td>0.0</td>\n",
       "      <td>NaN</td>\n",
       "      <td>...</td>\n",
       "      <td>2442.804</td>\n",
       "      <td>15.0</td>\n",
       "      <td>260.797</td>\n",
       "      <td>7.26</td>\n",
       "      <td>9.5</td>\n",
       "      <td>37.8</td>\n",
       "      <td>47.782</td>\n",
       "      <td>0.3</td>\n",
       "      <td>70.78</td>\n",
       "      <td>0.574</td>\n",
       "    </tr>\n",
       "    <tr>\n",
       "      <th>27437</th>\n",
       "      <td>NPL</td>\n",
       "      <td>Asia</td>\n",
       "      <td>Nepal</td>\n",
       "      <td>2020-01-04</td>\n",
       "      <td>0.0</td>\n",
       "      <td>0.0</td>\n",
       "      <td>NaN</td>\n",
       "      <td>0.0</td>\n",
       "      <td>0.0</td>\n",
       "      <td>NaN</td>\n",
       "      <td>...</td>\n",
       "      <td>2442.804</td>\n",
       "      <td>15.0</td>\n",
       "      <td>260.797</td>\n",
       "      <td>7.26</td>\n",
       "      <td>9.5</td>\n",
       "      <td>37.8</td>\n",
       "      <td>47.782</td>\n",
       "      <td>0.3</td>\n",
       "      <td>70.78</td>\n",
       "      <td>0.574</td>\n",
       "    </tr>\n",
       "  </tbody>\n",
       "</table>\n",
       "<p>5 rows × 41 columns</p>\n",
       "</div>"
      ],
      "text/plain": [
       "      iso_code continent location        date  total_cases  new_cases  \\\n",
       "27433      NPL      Asia    Nepal  2019-12-31          0.0        0.0   \n",
       "27434      NPL      Asia    Nepal  2020-01-01          0.0        0.0   \n",
       "27435      NPL      Asia    Nepal  2020-01-02          0.0        0.0   \n",
       "27436      NPL      Asia    Nepal  2020-01-03          0.0        0.0   \n",
       "27437      NPL      Asia    Nepal  2020-01-04          0.0        0.0   \n",
       "\n",
       "       new_cases_smoothed  total_deaths  new_deaths  new_deaths_smoothed  ...  \\\n",
       "27433                 NaN           0.0         0.0                  NaN  ...   \n",
       "27434                 NaN           0.0         0.0                  NaN  ...   \n",
       "27435                 NaN           0.0         0.0                  NaN  ...   \n",
       "27436                 NaN           0.0         0.0                  NaN  ...   \n",
       "27437                 NaN           0.0         0.0                  NaN  ...   \n",
       "\n",
       "       gdp_per_capita  extreme_poverty  cardiovasc_death_rate  \\\n",
       "27433        2442.804             15.0                260.797   \n",
       "27434        2442.804             15.0                260.797   \n",
       "27435        2442.804             15.0                260.797   \n",
       "27436        2442.804             15.0                260.797   \n",
       "27437        2442.804             15.0                260.797   \n",
       "\n",
       "       diabetes_prevalence  female_smokers  male_smokers  \\\n",
       "27433                 7.26             9.5          37.8   \n",
       "27434                 7.26             9.5          37.8   \n",
       "27435                 7.26             9.5          37.8   \n",
       "27436                 7.26             9.5          37.8   \n",
       "27437                 7.26             9.5          37.8   \n",
       "\n",
       "       handwashing_facilities  hospital_beds_per_thousand  life_expectancy  \\\n",
       "27433                  47.782                         0.3            70.78   \n",
       "27434                  47.782                         0.3            70.78   \n",
       "27435                  47.782                         0.3            70.78   \n",
       "27436                  47.782                         0.3            70.78   \n",
       "27437                  47.782                         0.3            70.78   \n",
       "\n",
       "       human_development_index  \n",
       "27433                    0.574  \n",
       "27434                    0.574  \n",
       "27435                    0.574  \n",
       "27436                    0.574  \n",
       "27437                    0.574  \n",
       "\n",
       "[5 rows x 41 columns]"
      ]
     },
     "execution_count": 25,
     "metadata": {},
     "output_type": "execute_result"
    }
   ],
   "source": [
    "nepal_case.head()"
   ]
  },
  {
   "cell_type": "code",
   "execution_count": 26,
   "metadata": {},
   "outputs": [
    {
     "data": {
      "text/html": [
       "<div>\n",
       "<style scoped>\n",
       "    .dataframe tbody tr th:only-of-type {\n",
       "        vertical-align: middle;\n",
       "    }\n",
       "\n",
       "    .dataframe tbody tr th {\n",
       "        vertical-align: top;\n",
       "    }\n",
       "\n",
       "    .dataframe thead th {\n",
       "        text-align: right;\n",
       "    }\n",
       "</style>\n",
       "<table border=\"1\" class=\"dataframe\">\n",
       "  <thead>\n",
       "    <tr style=\"text-align: right;\">\n",
       "      <th></th>\n",
       "      <th>iso_code</th>\n",
       "      <th>continent</th>\n",
       "      <th>location</th>\n",
       "      <th>date</th>\n",
       "      <th>total_cases</th>\n",
       "      <th>new_cases</th>\n",
       "      <th>new_cases_smoothed</th>\n",
       "      <th>total_deaths</th>\n",
       "      <th>new_deaths</th>\n",
       "      <th>new_deaths_smoothed</th>\n",
       "      <th>...</th>\n",
       "      <th>gdp_per_capita</th>\n",
       "      <th>extreme_poverty</th>\n",
       "      <th>cardiovasc_death_rate</th>\n",
       "      <th>diabetes_prevalence</th>\n",
       "      <th>female_smokers</th>\n",
       "      <th>male_smokers</th>\n",
       "      <th>handwashing_facilities</th>\n",
       "      <th>hospital_beds_per_thousand</th>\n",
       "      <th>life_expectancy</th>\n",
       "      <th>human_development_index</th>\n",
       "    </tr>\n",
       "  </thead>\n",
       "  <tbody>\n",
       "    <tr>\n",
       "      <th>27685</th>\n",
       "      <td>NPL</td>\n",
       "      <td>Asia</td>\n",
       "      <td>Nepal</td>\n",
       "      <td>2020-09-08</td>\n",
       "      <td>47236.0</td>\n",
       "      <td>979.0</td>\n",
       "      <td>1110.857</td>\n",
       "      <td>300.0</td>\n",
       "      <td>11.0</td>\n",
       "      <td>10.286</td>\n",
       "      <td>...</td>\n",
       "      <td>2442.804</td>\n",
       "      <td>15.0</td>\n",
       "      <td>260.797</td>\n",
       "      <td>7.26</td>\n",
       "      <td>9.5</td>\n",
       "      <td>37.8</td>\n",
       "      <td>47.782</td>\n",
       "      <td>0.3</td>\n",
       "      <td>70.78</td>\n",
       "      <td>0.574</td>\n",
       "    </tr>\n",
       "    <tr>\n",
       "      <th>27686</th>\n",
       "      <td>NPL</td>\n",
       "      <td>Asia</td>\n",
       "      <td>Nepal</td>\n",
       "      <td>2020-09-09</td>\n",
       "      <td>48138.0</td>\n",
       "      <td>902.0</td>\n",
       "      <td>1087.000</td>\n",
       "      <td>306.0</td>\n",
       "      <td>6.0</td>\n",
       "      <td>9.571</td>\n",
       "      <td>...</td>\n",
       "      <td>2442.804</td>\n",
       "      <td>15.0</td>\n",
       "      <td>260.797</td>\n",
       "      <td>7.26</td>\n",
       "      <td>9.5</td>\n",
       "      <td>37.8</td>\n",
       "      <td>47.782</td>\n",
       "      <td>0.3</td>\n",
       "      <td>70.78</td>\n",
       "      <td>0.574</td>\n",
       "    </tr>\n",
       "    <tr>\n",
       "      <th>27687</th>\n",
       "      <td>NPL</td>\n",
       "      <td>Asia</td>\n",
       "      <td>Nepal</td>\n",
       "      <td>2020-09-10</td>\n",
       "      <td>49219.0</td>\n",
       "      <td>1081.0</td>\n",
       "      <td>1081.429</td>\n",
       "      <td>312.0</td>\n",
       "      <td>6.0</td>\n",
       "      <td>8.714</td>\n",
       "      <td>...</td>\n",
       "      <td>2442.804</td>\n",
       "      <td>15.0</td>\n",
       "      <td>260.797</td>\n",
       "      <td>7.26</td>\n",
       "      <td>9.5</td>\n",
       "      <td>37.8</td>\n",
       "      <td>47.782</td>\n",
       "      <td>0.3</td>\n",
       "      <td>70.78</td>\n",
       "      <td>0.574</td>\n",
       "    </tr>\n",
       "    <tr>\n",
       "      <th>27688</th>\n",
       "      <td>NPL</td>\n",
       "      <td>Asia</td>\n",
       "      <td>Nepal</td>\n",
       "      <td>2020-09-11</td>\n",
       "      <td>50465.0</td>\n",
       "      <td>1246.0</td>\n",
       "      <td>1084.000</td>\n",
       "      <td>317.0</td>\n",
       "      <td>5.0</td>\n",
       "      <td>8.571</td>\n",
       "      <td>...</td>\n",
       "      <td>2442.804</td>\n",
       "      <td>15.0</td>\n",
       "      <td>260.797</td>\n",
       "      <td>7.26</td>\n",
       "      <td>9.5</td>\n",
       "      <td>37.8</td>\n",
       "      <td>47.782</td>\n",
       "      <td>0.3</td>\n",
       "      <td>70.78</td>\n",
       "      <td>0.574</td>\n",
       "    </tr>\n",
       "    <tr>\n",
       "      <th>27689</th>\n",
       "      <td>NPL</td>\n",
       "      <td>Asia</td>\n",
       "      <td>Nepal</td>\n",
       "      <td>2020-09-12</td>\n",
       "      <td>51919.0</td>\n",
       "      <td>1454.0</td>\n",
       "      <td>1097.571</td>\n",
       "      <td>322.0</td>\n",
       "      <td>5.0</td>\n",
       "      <td>7.286</td>\n",
       "      <td>...</td>\n",
       "      <td>2442.804</td>\n",
       "      <td>15.0</td>\n",
       "      <td>260.797</td>\n",
       "      <td>7.26</td>\n",
       "      <td>9.5</td>\n",
       "      <td>37.8</td>\n",
       "      <td>47.782</td>\n",
       "      <td>0.3</td>\n",
       "      <td>70.78</td>\n",
       "      <td>0.574</td>\n",
       "    </tr>\n",
       "  </tbody>\n",
       "</table>\n",
       "<p>5 rows × 41 columns</p>\n",
       "</div>"
      ],
      "text/plain": [
       "      iso_code continent location        date  total_cases  new_cases  \\\n",
       "27685      NPL      Asia    Nepal  2020-09-08      47236.0      979.0   \n",
       "27686      NPL      Asia    Nepal  2020-09-09      48138.0      902.0   \n",
       "27687      NPL      Asia    Nepal  2020-09-10      49219.0     1081.0   \n",
       "27688      NPL      Asia    Nepal  2020-09-11      50465.0     1246.0   \n",
       "27689      NPL      Asia    Nepal  2020-09-12      51919.0     1454.0   \n",
       "\n",
       "       new_cases_smoothed  total_deaths  new_deaths  new_deaths_smoothed  ...  \\\n",
       "27685            1110.857         300.0        11.0               10.286  ...   \n",
       "27686            1087.000         306.0         6.0                9.571  ...   \n",
       "27687            1081.429         312.0         6.0                8.714  ...   \n",
       "27688            1084.000         317.0         5.0                8.571  ...   \n",
       "27689            1097.571         322.0         5.0                7.286  ...   \n",
       "\n",
       "       gdp_per_capita  extreme_poverty  cardiovasc_death_rate  \\\n",
       "27685        2442.804             15.0                260.797   \n",
       "27686        2442.804             15.0                260.797   \n",
       "27687        2442.804             15.0                260.797   \n",
       "27688        2442.804             15.0                260.797   \n",
       "27689        2442.804             15.0                260.797   \n",
       "\n",
       "       diabetes_prevalence  female_smokers  male_smokers  \\\n",
       "27685                 7.26             9.5          37.8   \n",
       "27686                 7.26             9.5          37.8   \n",
       "27687                 7.26             9.5          37.8   \n",
       "27688                 7.26             9.5          37.8   \n",
       "27689                 7.26             9.5          37.8   \n",
       "\n",
       "       handwashing_facilities  hospital_beds_per_thousand  life_expectancy  \\\n",
       "27685                  47.782                         0.3            70.78   \n",
       "27686                  47.782                         0.3            70.78   \n",
       "27687                  47.782                         0.3            70.78   \n",
       "27688                  47.782                         0.3            70.78   \n",
       "27689                  47.782                         0.3            70.78   \n",
       "\n",
       "       human_development_index  \n",
       "27685                    0.574  \n",
       "27686                    0.574  \n",
       "27687                    0.574  \n",
       "27688                    0.574  \n",
       "27689                    0.574  \n",
       "\n",
       "[5 rows x 41 columns]"
      ]
     },
     "execution_count": 26,
     "metadata": {},
     "output_type": "execute_result"
    }
   ],
   "source": [
    "nepal_case.tail()"
   ]
  },
  {
   "cell_type": "code",
   "execution_count": 27,
   "metadata": {},
   "outputs": [
    {
     "name": "stderr",
     "output_type": "stream",
     "text": [
      "C:\\Users\\Dell\\anaconda3\\lib\\site-packages\\pandas\\core\\frame.py:3990: SettingWithCopyWarning: \n",
      "A value is trying to be set on a copy of a slice from a DataFrame\n",
      "\n",
      "See the caveats in the documentation: https://pandas.pydata.org/pandas-docs/stable/user_guide/indexing.html#returning-a-view-versus-a-copy\n",
      "  return super().drop(\n"
     ]
    }
   ],
   "source": [
    "# Lets drop some of the attributes that are not much relevant\n",
    "nepal_case.drop(labels=['new_cases_smoothed','new_deaths_smoothed'],axis=1,inplace=True)"
   ]
  },
  {
   "cell_type": "code",
   "execution_count": 28,
   "metadata": {
    "scrolled": true
   },
   "outputs": [
    {
     "data": {
      "text/html": [
       "<div>\n",
       "<style scoped>\n",
       "    .dataframe tbody tr th:only-of-type {\n",
       "        vertical-align: middle;\n",
       "    }\n",
       "\n",
       "    .dataframe tbody tr th {\n",
       "        vertical-align: top;\n",
       "    }\n",
       "\n",
       "    .dataframe thead th {\n",
       "        text-align: right;\n",
       "    }\n",
       "</style>\n",
       "<table border=\"1\" class=\"dataframe\">\n",
       "  <thead>\n",
       "    <tr style=\"text-align: right;\">\n",
       "      <th></th>\n",
       "      <th>iso_code</th>\n",
       "      <th>continent</th>\n",
       "      <th>location</th>\n",
       "      <th>date</th>\n",
       "      <th>total_cases</th>\n",
       "      <th>new_cases</th>\n",
       "      <th>total_deaths</th>\n",
       "      <th>new_deaths</th>\n",
       "      <th>total_cases_per_million</th>\n",
       "      <th>new_cases_per_million</th>\n",
       "      <th>...</th>\n",
       "      <th>gdp_per_capita</th>\n",
       "      <th>extreme_poverty</th>\n",
       "      <th>cardiovasc_death_rate</th>\n",
       "      <th>diabetes_prevalence</th>\n",
       "      <th>female_smokers</th>\n",
       "      <th>male_smokers</th>\n",
       "      <th>handwashing_facilities</th>\n",
       "      <th>hospital_beds_per_thousand</th>\n",
       "      <th>life_expectancy</th>\n",
       "      <th>human_development_index</th>\n",
       "    </tr>\n",
       "  </thead>\n",
       "  <tbody>\n",
       "    <tr>\n",
       "      <th>27433</th>\n",
       "      <td>NPL</td>\n",
       "      <td>Asia</td>\n",
       "      <td>Nepal</td>\n",
       "      <td>2019-12-31</td>\n",
       "      <td>0.0</td>\n",
       "      <td>0.0</td>\n",
       "      <td>0.0</td>\n",
       "      <td>0.0</td>\n",
       "      <td>0.0</td>\n",
       "      <td>0.0</td>\n",
       "      <td>...</td>\n",
       "      <td>2442.804</td>\n",
       "      <td>15.0</td>\n",
       "      <td>260.797</td>\n",
       "      <td>7.26</td>\n",
       "      <td>9.5</td>\n",
       "      <td>37.8</td>\n",
       "      <td>47.782</td>\n",
       "      <td>0.3</td>\n",
       "      <td>70.78</td>\n",
       "      <td>0.574</td>\n",
       "    </tr>\n",
       "    <tr>\n",
       "      <th>27434</th>\n",
       "      <td>NPL</td>\n",
       "      <td>Asia</td>\n",
       "      <td>Nepal</td>\n",
       "      <td>2020-01-01</td>\n",
       "      <td>0.0</td>\n",
       "      <td>0.0</td>\n",
       "      <td>0.0</td>\n",
       "      <td>0.0</td>\n",
       "      <td>0.0</td>\n",
       "      <td>0.0</td>\n",
       "      <td>...</td>\n",
       "      <td>2442.804</td>\n",
       "      <td>15.0</td>\n",
       "      <td>260.797</td>\n",
       "      <td>7.26</td>\n",
       "      <td>9.5</td>\n",
       "      <td>37.8</td>\n",
       "      <td>47.782</td>\n",
       "      <td>0.3</td>\n",
       "      <td>70.78</td>\n",
       "      <td>0.574</td>\n",
       "    </tr>\n",
       "    <tr>\n",
       "      <th>27435</th>\n",
       "      <td>NPL</td>\n",
       "      <td>Asia</td>\n",
       "      <td>Nepal</td>\n",
       "      <td>2020-01-02</td>\n",
       "      <td>0.0</td>\n",
       "      <td>0.0</td>\n",
       "      <td>0.0</td>\n",
       "      <td>0.0</td>\n",
       "      <td>0.0</td>\n",
       "      <td>0.0</td>\n",
       "      <td>...</td>\n",
       "      <td>2442.804</td>\n",
       "      <td>15.0</td>\n",
       "      <td>260.797</td>\n",
       "      <td>7.26</td>\n",
       "      <td>9.5</td>\n",
       "      <td>37.8</td>\n",
       "      <td>47.782</td>\n",
       "      <td>0.3</td>\n",
       "      <td>70.78</td>\n",
       "      <td>0.574</td>\n",
       "    </tr>\n",
       "    <tr>\n",
       "      <th>27436</th>\n",
       "      <td>NPL</td>\n",
       "      <td>Asia</td>\n",
       "      <td>Nepal</td>\n",
       "      <td>2020-01-03</td>\n",
       "      <td>0.0</td>\n",
       "      <td>0.0</td>\n",
       "      <td>0.0</td>\n",
       "      <td>0.0</td>\n",
       "      <td>0.0</td>\n",
       "      <td>0.0</td>\n",
       "      <td>...</td>\n",
       "      <td>2442.804</td>\n",
       "      <td>15.0</td>\n",
       "      <td>260.797</td>\n",
       "      <td>7.26</td>\n",
       "      <td>9.5</td>\n",
       "      <td>37.8</td>\n",
       "      <td>47.782</td>\n",
       "      <td>0.3</td>\n",
       "      <td>70.78</td>\n",
       "      <td>0.574</td>\n",
       "    </tr>\n",
       "    <tr>\n",
       "      <th>27437</th>\n",
       "      <td>NPL</td>\n",
       "      <td>Asia</td>\n",
       "      <td>Nepal</td>\n",
       "      <td>2020-01-04</td>\n",
       "      <td>0.0</td>\n",
       "      <td>0.0</td>\n",
       "      <td>0.0</td>\n",
       "      <td>0.0</td>\n",
       "      <td>0.0</td>\n",
       "      <td>0.0</td>\n",
       "      <td>...</td>\n",
       "      <td>2442.804</td>\n",
       "      <td>15.0</td>\n",
       "      <td>260.797</td>\n",
       "      <td>7.26</td>\n",
       "      <td>9.5</td>\n",
       "      <td>37.8</td>\n",
       "      <td>47.782</td>\n",
       "      <td>0.3</td>\n",
       "      <td>70.78</td>\n",
       "      <td>0.574</td>\n",
       "    </tr>\n",
       "  </tbody>\n",
       "</table>\n",
       "<p>5 rows × 39 columns</p>\n",
       "</div>"
      ],
      "text/plain": [
       "      iso_code continent location        date  total_cases  new_cases  \\\n",
       "27433      NPL      Asia    Nepal  2019-12-31          0.0        0.0   \n",
       "27434      NPL      Asia    Nepal  2020-01-01          0.0        0.0   \n",
       "27435      NPL      Asia    Nepal  2020-01-02          0.0        0.0   \n",
       "27436      NPL      Asia    Nepal  2020-01-03          0.0        0.0   \n",
       "27437      NPL      Asia    Nepal  2020-01-04          0.0        0.0   \n",
       "\n",
       "       total_deaths  new_deaths  total_cases_per_million  \\\n",
       "27433           0.0         0.0                      0.0   \n",
       "27434           0.0         0.0                      0.0   \n",
       "27435           0.0         0.0                      0.0   \n",
       "27436           0.0         0.0                      0.0   \n",
       "27437           0.0         0.0                      0.0   \n",
       "\n",
       "       new_cases_per_million  ...  gdp_per_capita  extreme_poverty  \\\n",
       "27433                    0.0  ...        2442.804             15.0   \n",
       "27434                    0.0  ...        2442.804             15.0   \n",
       "27435                    0.0  ...        2442.804             15.0   \n",
       "27436                    0.0  ...        2442.804             15.0   \n",
       "27437                    0.0  ...        2442.804             15.0   \n",
       "\n",
       "       cardiovasc_death_rate  diabetes_prevalence  female_smokers  \\\n",
       "27433                260.797                 7.26             9.5   \n",
       "27434                260.797                 7.26             9.5   \n",
       "27435                260.797                 7.26             9.5   \n",
       "27436                260.797                 7.26             9.5   \n",
       "27437                260.797                 7.26             9.5   \n",
       "\n",
       "       male_smokers  handwashing_facilities  hospital_beds_per_thousand  \\\n",
       "27433          37.8                  47.782                         0.3   \n",
       "27434          37.8                  47.782                         0.3   \n",
       "27435          37.8                  47.782                         0.3   \n",
       "27436          37.8                  47.782                         0.3   \n",
       "27437          37.8                  47.782                         0.3   \n",
       "\n",
       "       life_expectancy  human_development_index  \n",
       "27433            70.78                    0.574  \n",
       "27434            70.78                    0.574  \n",
       "27435            70.78                    0.574  \n",
       "27436            70.78                    0.574  \n",
       "27437            70.78                    0.574  \n",
       "\n",
       "[5 rows x 39 columns]"
      ]
     },
     "execution_count": 28,
     "metadata": {},
     "output_type": "execute_result"
    }
   ],
   "source": [
    "nepal_case.head()"
   ]
  },
  {
   "cell_type": "code",
   "execution_count": 29,
   "metadata": {},
   "outputs": [
    {
     "name": "stderr",
     "output_type": "stream",
     "text": [
      "C:\\Users\\Dell\\anaconda3\\lib\\site-packages\\pandas\\core\\frame.py:3990: SettingWithCopyWarning: \n",
      "A value is trying to be set on a copy of a slice from a DataFrame\n",
      "\n",
      "See the caveats in the documentation: https://pandas.pydata.org/pandas-docs/stable/user_guide/indexing.html#returning-a-view-versus-a-copy\n",
      "  return super().drop(\n"
     ]
    }
   ],
   "source": [
    "nepal_case.drop(labels=['total_cases_per_million','new_cases_per_million','new_cases_smoothed_per_million','total_deaths_per_million','new_deaths_per_million'],axis=1,inplace=True)"
   ]
  },
  {
   "cell_type": "code",
   "execution_count": 30,
   "metadata": {},
   "outputs": [
    {
     "data": {
      "text/html": [
       "<div>\n",
       "<style scoped>\n",
       "    .dataframe tbody tr th:only-of-type {\n",
       "        vertical-align: middle;\n",
       "    }\n",
       "\n",
       "    .dataframe tbody tr th {\n",
       "        vertical-align: top;\n",
       "    }\n",
       "\n",
       "    .dataframe thead th {\n",
       "        text-align: right;\n",
       "    }\n",
       "</style>\n",
       "<table border=\"1\" class=\"dataframe\">\n",
       "  <thead>\n",
       "    <tr style=\"text-align: right;\">\n",
       "      <th></th>\n",
       "      <th>iso_code</th>\n",
       "      <th>continent</th>\n",
       "      <th>location</th>\n",
       "      <th>date</th>\n",
       "      <th>total_cases</th>\n",
       "      <th>new_cases</th>\n",
       "      <th>total_deaths</th>\n",
       "      <th>new_deaths</th>\n",
       "      <th>new_deaths_smoothed_per_million</th>\n",
       "      <th>new_tests</th>\n",
       "      <th>...</th>\n",
       "      <th>gdp_per_capita</th>\n",
       "      <th>extreme_poverty</th>\n",
       "      <th>cardiovasc_death_rate</th>\n",
       "      <th>diabetes_prevalence</th>\n",
       "      <th>female_smokers</th>\n",
       "      <th>male_smokers</th>\n",
       "      <th>handwashing_facilities</th>\n",
       "      <th>hospital_beds_per_thousand</th>\n",
       "      <th>life_expectancy</th>\n",
       "      <th>human_development_index</th>\n",
       "    </tr>\n",
       "  </thead>\n",
       "  <tbody>\n",
       "    <tr>\n",
       "      <th>27433</th>\n",
       "      <td>NPL</td>\n",
       "      <td>Asia</td>\n",
       "      <td>Nepal</td>\n",
       "      <td>2019-12-31</td>\n",
       "      <td>0.0</td>\n",
       "      <td>0.0</td>\n",
       "      <td>0.0</td>\n",
       "      <td>0.0</td>\n",
       "      <td>NaN</td>\n",
       "      <td>NaN</td>\n",
       "      <td>...</td>\n",
       "      <td>2442.804</td>\n",
       "      <td>15.0</td>\n",
       "      <td>260.797</td>\n",
       "      <td>7.26</td>\n",
       "      <td>9.5</td>\n",
       "      <td>37.8</td>\n",
       "      <td>47.782</td>\n",
       "      <td>0.3</td>\n",
       "      <td>70.78</td>\n",
       "      <td>0.574</td>\n",
       "    </tr>\n",
       "    <tr>\n",
       "      <th>27434</th>\n",
       "      <td>NPL</td>\n",
       "      <td>Asia</td>\n",
       "      <td>Nepal</td>\n",
       "      <td>2020-01-01</td>\n",
       "      <td>0.0</td>\n",
       "      <td>0.0</td>\n",
       "      <td>0.0</td>\n",
       "      <td>0.0</td>\n",
       "      <td>NaN</td>\n",
       "      <td>NaN</td>\n",
       "      <td>...</td>\n",
       "      <td>2442.804</td>\n",
       "      <td>15.0</td>\n",
       "      <td>260.797</td>\n",
       "      <td>7.26</td>\n",
       "      <td>9.5</td>\n",
       "      <td>37.8</td>\n",
       "      <td>47.782</td>\n",
       "      <td>0.3</td>\n",
       "      <td>70.78</td>\n",
       "      <td>0.574</td>\n",
       "    </tr>\n",
       "    <tr>\n",
       "      <th>27435</th>\n",
       "      <td>NPL</td>\n",
       "      <td>Asia</td>\n",
       "      <td>Nepal</td>\n",
       "      <td>2020-01-02</td>\n",
       "      <td>0.0</td>\n",
       "      <td>0.0</td>\n",
       "      <td>0.0</td>\n",
       "      <td>0.0</td>\n",
       "      <td>NaN</td>\n",
       "      <td>NaN</td>\n",
       "      <td>...</td>\n",
       "      <td>2442.804</td>\n",
       "      <td>15.0</td>\n",
       "      <td>260.797</td>\n",
       "      <td>7.26</td>\n",
       "      <td>9.5</td>\n",
       "      <td>37.8</td>\n",
       "      <td>47.782</td>\n",
       "      <td>0.3</td>\n",
       "      <td>70.78</td>\n",
       "      <td>0.574</td>\n",
       "    </tr>\n",
       "    <tr>\n",
       "      <th>27436</th>\n",
       "      <td>NPL</td>\n",
       "      <td>Asia</td>\n",
       "      <td>Nepal</td>\n",
       "      <td>2020-01-03</td>\n",
       "      <td>0.0</td>\n",
       "      <td>0.0</td>\n",
       "      <td>0.0</td>\n",
       "      <td>0.0</td>\n",
       "      <td>NaN</td>\n",
       "      <td>NaN</td>\n",
       "      <td>...</td>\n",
       "      <td>2442.804</td>\n",
       "      <td>15.0</td>\n",
       "      <td>260.797</td>\n",
       "      <td>7.26</td>\n",
       "      <td>9.5</td>\n",
       "      <td>37.8</td>\n",
       "      <td>47.782</td>\n",
       "      <td>0.3</td>\n",
       "      <td>70.78</td>\n",
       "      <td>0.574</td>\n",
       "    </tr>\n",
       "    <tr>\n",
       "      <th>27437</th>\n",
       "      <td>NPL</td>\n",
       "      <td>Asia</td>\n",
       "      <td>Nepal</td>\n",
       "      <td>2020-01-04</td>\n",
       "      <td>0.0</td>\n",
       "      <td>0.0</td>\n",
       "      <td>0.0</td>\n",
       "      <td>0.0</td>\n",
       "      <td>NaN</td>\n",
       "      <td>NaN</td>\n",
       "      <td>...</td>\n",
       "      <td>2442.804</td>\n",
       "      <td>15.0</td>\n",
       "      <td>260.797</td>\n",
       "      <td>7.26</td>\n",
       "      <td>9.5</td>\n",
       "      <td>37.8</td>\n",
       "      <td>47.782</td>\n",
       "      <td>0.3</td>\n",
       "      <td>70.78</td>\n",
       "      <td>0.574</td>\n",
       "    </tr>\n",
       "  </tbody>\n",
       "</table>\n",
       "<p>5 rows × 34 columns</p>\n",
       "</div>"
      ],
      "text/plain": [
       "      iso_code continent location        date  total_cases  new_cases  \\\n",
       "27433      NPL      Asia    Nepal  2019-12-31          0.0        0.0   \n",
       "27434      NPL      Asia    Nepal  2020-01-01          0.0        0.0   \n",
       "27435      NPL      Asia    Nepal  2020-01-02          0.0        0.0   \n",
       "27436      NPL      Asia    Nepal  2020-01-03          0.0        0.0   \n",
       "27437      NPL      Asia    Nepal  2020-01-04          0.0        0.0   \n",
       "\n",
       "       total_deaths  new_deaths  new_deaths_smoothed_per_million  new_tests  \\\n",
       "27433           0.0         0.0                              NaN        NaN   \n",
       "27434           0.0         0.0                              NaN        NaN   \n",
       "27435           0.0         0.0                              NaN        NaN   \n",
       "27436           0.0         0.0                              NaN        NaN   \n",
       "27437           0.0         0.0                              NaN        NaN   \n",
       "\n",
       "       ...  gdp_per_capita  extreme_poverty  cardiovasc_death_rate  \\\n",
       "27433  ...        2442.804             15.0                260.797   \n",
       "27434  ...        2442.804             15.0                260.797   \n",
       "27435  ...        2442.804             15.0                260.797   \n",
       "27436  ...        2442.804             15.0                260.797   \n",
       "27437  ...        2442.804             15.0                260.797   \n",
       "\n",
       "       diabetes_prevalence  female_smokers  male_smokers  \\\n",
       "27433                 7.26             9.5          37.8   \n",
       "27434                 7.26             9.5          37.8   \n",
       "27435                 7.26             9.5          37.8   \n",
       "27436                 7.26             9.5          37.8   \n",
       "27437                 7.26             9.5          37.8   \n",
       "\n",
       "       handwashing_facilities hospital_beds_per_thousand  life_expectancy  \\\n",
       "27433                  47.782                        0.3            70.78   \n",
       "27434                  47.782                        0.3            70.78   \n",
       "27435                  47.782                        0.3            70.78   \n",
       "27436                  47.782                        0.3            70.78   \n",
       "27437                  47.782                        0.3            70.78   \n",
       "\n",
       "       human_development_index  \n",
       "27433                    0.574  \n",
       "27434                    0.574  \n",
       "27435                    0.574  \n",
       "27436                    0.574  \n",
       "27437                    0.574  \n",
       "\n",
       "[5 rows x 34 columns]"
      ]
     },
     "execution_count": 30,
     "metadata": {},
     "output_type": "execute_result"
    }
   ],
   "source": [
    "nepal_case.head()"
   ]
  },
  {
   "cell_type": "code",
   "execution_count": 31,
   "metadata": {},
   "outputs": [
    {
     "name": "stderr",
     "output_type": "stream",
     "text": [
      "C:\\Users\\Dell\\anaconda3\\lib\\site-packages\\pandas\\core\\frame.py:3990: SettingWithCopyWarning: \n",
      "A value is trying to be set on a copy of a slice from a DataFrame\n",
      "\n",
      "See the caveats in the documentation: https://pandas.pydata.org/pandas-docs/stable/user_guide/indexing.html#returning-a-view-versus-a-copy\n",
      "  return super().drop(\n"
     ]
    }
   ],
   "source": [
    "nepal_case.drop(['new_deaths_smoothed_per_million','total_tests_per_thousand','new_tests_per_thousand'],axis=1,inplace=True)"
   ]
  },
  {
   "cell_type": "code",
   "execution_count": 32,
   "metadata": {},
   "outputs": [
    {
     "data": {
      "text/html": [
       "<div>\n",
       "<style scoped>\n",
       "    .dataframe tbody tr th:only-of-type {\n",
       "        vertical-align: middle;\n",
       "    }\n",
       "\n",
       "    .dataframe tbody tr th {\n",
       "        vertical-align: top;\n",
       "    }\n",
       "\n",
       "    .dataframe thead th {\n",
       "        text-align: right;\n",
       "    }\n",
       "</style>\n",
       "<table border=\"1\" class=\"dataframe\">\n",
       "  <thead>\n",
       "    <tr style=\"text-align: right;\">\n",
       "      <th></th>\n",
       "      <th>iso_code</th>\n",
       "      <th>continent</th>\n",
       "      <th>location</th>\n",
       "      <th>date</th>\n",
       "      <th>total_cases</th>\n",
       "      <th>new_cases</th>\n",
       "      <th>total_deaths</th>\n",
       "      <th>new_deaths</th>\n",
       "      <th>new_tests</th>\n",
       "      <th>total_tests</th>\n",
       "      <th>...</th>\n",
       "      <th>gdp_per_capita</th>\n",
       "      <th>extreme_poverty</th>\n",
       "      <th>cardiovasc_death_rate</th>\n",
       "      <th>diabetes_prevalence</th>\n",
       "      <th>female_smokers</th>\n",
       "      <th>male_smokers</th>\n",
       "      <th>handwashing_facilities</th>\n",
       "      <th>hospital_beds_per_thousand</th>\n",
       "      <th>life_expectancy</th>\n",
       "      <th>human_development_index</th>\n",
       "    </tr>\n",
       "  </thead>\n",
       "  <tbody>\n",
       "    <tr>\n",
       "      <th>27433</th>\n",
       "      <td>NPL</td>\n",
       "      <td>Asia</td>\n",
       "      <td>Nepal</td>\n",
       "      <td>2019-12-31</td>\n",
       "      <td>0.0</td>\n",
       "      <td>0.0</td>\n",
       "      <td>0.0</td>\n",
       "      <td>0.0</td>\n",
       "      <td>NaN</td>\n",
       "      <td>NaN</td>\n",
       "      <td>...</td>\n",
       "      <td>2442.804</td>\n",
       "      <td>15.0</td>\n",
       "      <td>260.797</td>\n",
       "      <td>7.26</td>\n",
       "      <td>9.5</td>\n",
       "      <td>37.8</td>\n",
       "      <td>47.782</td>\n",
       "      <td>0.3</td>\n",
       "      <td>70.78</td>\n",
       "      <td>0.574</td>\n",
       "    </tr>\n",
       "    <tr>\n",
       "      <th>27434</th>\n",
       "      <td>NPL</td>\n",
       "      <td>Asia</td>\n",
       "      <td>Nepal</td>\n",
       "      <td>2020-01-01</td>\n",
       "      <td>0.0</td>\n",
       "      <td>0.0</td>\n",
       "      <td>0.0</td>\n",
       "      <td>0.0</td>\n",
       "      <td>NaN</td>\n",
       "      <td>NaN</td>\n",
       "      <td>...</td>\n",
       "      <td>2442.804</td>\n",
       "      <td>15.0</td>\n",
       "      <td>260.797</td>\n",
       "      <td>7.26</td>\n",
       "      <td>9.5</td>\n",
       "      <td>37.8</td>\n",
       "      <td>47.782</td>\n",
       "      <td>0.3</td>\n",
       "      <td>70.78</td>\n",
       "      <td>0.574</td>\n",
       "    </tr>\n",
       "    <tr>\n",
       "      <th>27435</th>\n",
       "      <td>NPL</td>\n",
       "      <td>Asia</td>\n",
       "      <td>Nepal</td>\n",
       "      <td>2020-01-02</td>\n",
       "      <td>0.0</td>\n",
       "      <td>0.0</td>\n",
       "      <td>0.0</td>\n",
       "      <td>0.0</td>\n",
       "      <td>NaN</td>\n",
       "      <td>NaN</td>\n",
       "      <td>...</td>\n",
       "      <td>2442.804</td>\n",
       "      <td>15.0</td>\n",
       "      <td>260.797</td>\n",
       "      <td>7.26</td>\n",
       "      <td>9.5</td>\n",
       "      <td>37.8</td>\n",
       "      <td>47.782</td>\n",
       "      <td>0.3</td>\n",
       "      <td>70.78</td>\n",
       "      <td>0.574</td>\n",
       "    </tr>\n",
       "    <tr>\n",
       "      <th>27436</th>\n",
       "      <td>NPL</td>\n",
       "      <td>Asia</td>\n",
       "      <td>Nepal</td>\n",
       "      <td>2020-01-03</td>\n",
       "      <td>0.0</td>\n",
       "      <td>0.0</td>\n",
       "      <td>0.0</td>\n",
       "      <td>0.0</td>\n",
       "      <td>NaN</td>\n",
       "      <td>NaN</td>\n",
       "      <td>...</td>\n",
       "      <td>2442.804</td>\n",
       "      <td>15.0</td>\n",
       "      <td>260.797</td>\n",
       "      <td>7.26</td>\n",
       "      <td>9.5</td>\n",
       "      <td>37.8</td>\n",
       "      <td>47.782</td>\n",
       "      <td>0.3</td>\n",
       "      <td>70.78</td>\n",
       "      <td>0.574</td>\n",
       "    </tr>\n",
       "    <tr>\n",
       "      <th>27437</th>\n",
       "      <td>NPL</td>\n",
       "      <td>Asia</td>\n",
       "      <td>Nepal</td>\n",
       "      <td>2020-01-04</td>\n",
       "      <td>0.0</td>\n",
       "      <td>0.0</td>\n",
       "      <td>0.0</td>\n",
       "      <td>0.0</td>\n",
       "      <td>NaN</td>\n",
       "      <td>NaN</td>\n",
       "      <td>...</td>\n",
       "      <td>2442.804</td>\n",
       "      <td>15.0</td>\n",
       "      <td>260.797</td>\n",
       "      <td>7.26</td>\n",
       "      <td>9.5</td>\n",
       "      <td>37.8</td>\n",
       "      <td>47.782</td>\n",
       "      <td>0.3</td>\n",
       "      <td>70.78</td>\n",
       "      <td>0.574</td>\n",
       "    </tr>\n",
       "  </tbody>\n",
       "</table>\n",
       "<p>5 rows × 31 columns</p>\n",
       "</div>"
      ],
      "text/plain": [
       "      iso_code continent location        date  total_cases  new_cases  \\\n",
       "27433      NPL      Asia    Nepal  2019-12-31          0.0        0.0   \n",
       "27434      NPL      Asia    Nepal  2020-01-01          0.0        0.0   \n",
       "27435      NPL      Asia    Nepal  2020-01-02          0.0        0.0   \n",
       "27436      NPL      Asia    Nepal  2020-01-03          0.0        0.0   \n",
       "27437      NPL      Asia    Nepal  2020-01-04          0.0        0.0   \n",
       "\n",
       "       total_deaths  new_deaths  new_tests  total_tests  ...  gdp_per_capita  \\\n",
       "27433           0.0         0.0        NaN          NaN  ...        2442.804   \n",
       "27434           0.0         0.0        NaN          NaN  ...        2442.804   \n",
       "27435           0.0         0.0        NaN          NaN  ...        2442.804   \n",
       "27436           0.0         0.0        NaN          NaN  ...        2442.804   \n",
       "27437           0.0         0.0        NaN          NaN  ...        2442.804   \n",
       "\n",
       "       extreme_poverty  cardiovasc_death_rate  diabetes_prevalence  \\\n",
       "27433             15.0                260.797                 7.26   \n",
       "27434             15.0                260.797                 7.26   \n",
       "27435             15.0                260.797                 7.26   \n",
       "27436             15.0                260.797                 7.26   \n",
       "27437             15.0                260.797                 7.26   \n",
       "\n",
       "      female_smokers  male_smokers  handwashing_facilities  \\\n",
       "27433            9.5          37.8                  47.782   \n",
       "27434            9.5          37.8                  47.782   \n",
       "27435            9.5          37.8                  47.782   \n",
       "27436            9.5          37.8                  47.782   \n",
       "27437            9.5          37.8                  47.782   \n",
       "\n",
       "       hospital_beds_per_thousand  life_expectancy  human_development_index  \n",
       "27433                         0.3            70.78                    0.574  \n",
       "27434                         0.3            70.78                    0.574  \n",
       "27435                         0.3            70.78                    0.574  \n",
       "27436                         0.3            70.78                    0.574  \n",
       "27437                         0.3            70.78                    0.574  \n",
       "\n",
       "[5 rows x 31 columns]"
      ]
     },
     "execution_count": 32,
     "metadata": {},
     "output_type": "execute_result"
    }
   ],
   "source": [
    "nepal_case.head()"
   ]
  },
  {
   "cell_type": "code",
   "execution_count": 33,
   "metadata": {},
   "outputs": [
    {
     "data": {
      "text/plain": [
       "iso_code                            0\n",
       "continent                           0\n",
       "location                            0\n",
       "date                                0\n",
       "total_cases                        13\n",
       "new_cases                          13\n",
       "total_deaths                       13\n",
       "new_deaths                         13\n",
       "new_tests                          68\n",
       "total_tests                        55\n",
       "new_tests_smoothed                 38\n",
       "new_tests_smoothed_per_thousand    38\n",
       "tests_per_case                     87\n",
       "positive_rate                      38\n",
       "tests_units                        31\n",
       "stringency_index                    8\n",
       "population                          0\n",
       "population_density                  0\n",
       "median_age                          0\n",
       "aged_65_older                       0\n",
       "aged_70_older                       0\n",
       "gdp_per_capita                      0\n",
       "extreme_poverty                     0\n",
       "cardiovasc_death_rate               0\n",
       "diabetes_prevalence                 0\n",
       "female_smokers                      0\n",
       "male_smokers                        0\n",
       "handwashing_facilities              0\n",
       "hospital_beds_per_thousand          0\n",
       "life_expectancy                     0\n",
       "human_development_index             0\n",
       "dtype: int64"
      ]
     },
     "execution_count": 33,
     "metadata": {},
     "output_type": "execute_result"
    }
   ],
   "source": [
    "# Again lets check is there any null values inside our scrubbed data\n",
    "nepal_case.isna().sum()"
   ]
  },
  {
   "cell_type": "markdown",
   "metadata": {},
   "source": [
    "## Another important thing in Machine Learning is that machine learning algorithm can only read the numbers. In fact, machine can learn only numbers and find the pattern from that numeric data, any string data must be converted to numerical data before proceding forward.\n",
    "> Lets check the data types of our data"
   ]
  },
  {
   "cell_type": "code",
   "execution_count": 34,
   "metadata": {},
   "outputs": [
    {
     "data": {
      "text/plain": [
       "iso_code                            object\n",
       "continent                           object\n",
       "location                            object\n",
       "date                                object\n",
       "total_cases                        float64\n",
       "new_cases                          float64\n",
       "total_deaths                       float64\n",
       "new_deaths                         float64\n",
       "new_tests                          float64\n",
       "total_tests                        float64\n",
       "new_tests_smoothed                 float64\n",
       "new_tests_smoothed_per_thousand    float64\n",
       "tests_per_case                     float64\n",
       "positive_rate                      float64\n",
       "tests_units                         object\n",
       "stringency_index                   float64\n",
       "population                         float64\n",
       "population_density                 float64\n",
       "median_age                         float64\n",
       "aged_65_older                      float64\n",
       "aged_70_older                      float64\n",
       "gdp_per_capita                     float64\n",
       "extreme_poverty                    float64\n",
       "cardiovasc_death_rate              float64\n",
       "diabetes_prevalence                float64\n",
       "female_smokers                     float64\n",
       "male_smokers                       float64\n",
       "handwashing_facilities             float64\n",
       "hospital_beds_per_thousand         float64\n",
       "life_expectancy                    float64\n",
       "human_development_index            float64\n",
       "dtype: object"
      ]
     },
     "execution_count": 34,
     "metadata": {},
     "output_type": "execute_result"
    }
   ],
   "source": [
    "nepal_case.dtypes"
   ]
  },
  {
   "cell_type": "code",
   "execution_count": 35,
   "metadata": {},
   "outputs": [
    {
     "data": {
      "text/plain": [
       "27433                NaN\n",
       "27434                NaN\n",
       "27435                NaN\n",
       "27436                NaN\n",
       "27437                NaN\n",
       "              ...       \n",
       "27685    tests performed\n",
       "27686    tests performed\n",
       "27687                NaN\n",
       "27688                NaN\n",
       "27689                NaN\n",
       "Name: tests_units, Length: 257, dtype: object"
      ]
     },
     "execution_count": 35,
     "metadata": {},
     "output_type": "execute_result"
    }
   ],
   "source": [
    "nepal_case['tests_units']"
   ]
  },
  {
   "cell_type": "code",
   "execution_count": 36,
   "metadata": {},
   "outputs": [
    {
     "data": {
      "text/plain": [
       "dtype('O')"
      ]
     },
     "execution_count": 36,
     "metadata": {},
     "output_type": "execute_result"
    }
   ],
   "source": [
    "nepal_case['date'].dtypes"
   ]
  },
  {
   "cell_type": "code",
   "execution_count": 37,
   "metadata": {},
   "outputs": [
    {
     "data": {
      "text/html": [
       "<div>\n",
       "<style scoped>\n",
       "    .dataframe tbody tr th:only-of-type {\n",
       "        vertical-align: middle;\n",
       "    }\n",
       "\n",
       "    .dataframe tbody tr th {\n",
       "        vertical-align: top;\n",
       "    }\n",
       "\n",
       "    .dataframe thead th {\n",
       "        text-align: right;\n",
       "    }\n",
       "</style>\n",
       "<table border=\"1\" class=\"dataframe\">\n",
       "  <thead>\n",
       "    <tr style=\"text-align: right;\">\n",
       "      <th></th>\n",
       "      <th>iso_code</th>\n",
       "      <th>continent</th>\n",
       "      <th>location</th>\n",
       "      <th>date</th>\n",
       "      <th>total_cases</th>\n",
       "      <th>new_cases</th>\n",
       "      <th>total_deaths</th>\n",
       "      <th>new_deaths</th>\n",
       "      <th>new_tests</th>\n",
       "      <th>total_tests</th>\n",
       "      <th>...</th>\n",
       "      <th>gdp_per_capita</th>\n",
       "      <th>extreme_poverty</th>\n",
       "      <th>cardiovasc_death_rate</th>\n",
       "      <th>diabetes_prevalence</th>\n",
       "      <th>female_smokers</th>\n",
       "      <th>male_smokers</th>\n",
       "      <th>handwashing_facilities</th>\n",
       "      <th>hospital_beds_per_thousand</th>\n",
       "      <th>life_expectancy</th>\n",
       "      <th>human_development_index</th>\n",
       "    </tr>\n",
       "  </thead>\n",
       "  <tbody>\n",
       "    <tr>\n",
       "      <th>27433</th>\n",
       "      <td>NPL</td>\n",
       "      <td>Asia</td>\n",
       "      <td>Nepal</td>\n",
       "      <td>2019-12-31</td>\n",
       "      <td>0.0</td>\n",
       "      <td>0.0</td>\n",
       "      <td>0.0</td>\n",
       "      <td>0.0</td>\n",
       "      <td>NaN</td>\n",
       "      <td>NaN</td>\n",
       "      <td>...</td>\n",
       "      <td>2442.804</td>\n",
       "      <td>15.0</td>\n",
       "      <td>260.797</td>\n",
       "      <td>7.26</td>\n",
       "      <td>9.5</td>\n",
       "      <td>37.8</td>\n",
       "      <td>47.782</td>\n",
       "      <td>0.3</td>\n",
       "      <td>70.78</td>\n",
       "      <td>0.574</td>\n",
       "    </tr>\n",
       "    <tr>\n",
       "      <th>27434</th>\n",
       "      <td>NPL</td>\n",
       "      <td>Asia</td>\n",
       "      <td>Nepal</td>\n",
       "      <td>2020-01-01</td>\n",
       "      <td>0.0</td>\n",
       "      <td>0.0</td>\n",
       "      <td>0.0</td>\n",
       "      <td>0.0</td>\n",
       "      <td>NaN</td>\n",
       "      <td>NaN</td>\n",
       "      <td>...</td>\n",
       "      <td>2442.804</td>\n",
       "      <td>15.0</td>\n",
       "      <td>260.797</td>\n",
       "      <td>7.26</td>\n",
       "      <td>9.5</td>\n",
       "      <td>37.8</td>\n",
       "      <td>47.782</td>\n",
       "      <td>0.3</td>\n",
       "      <td>70.78</td>\n",
       "      <td>0.574</td>\n",
       "    </tr>\n",
       "    <tr>\n",
       "      <th>27435</th>\n",
       "      <td>NPL</td>\n",
       "      <td>Asia</td>\n",
       "      <td>Nepal</td>\n",
       "      <td>2020-01-02</td>\n",
       "      <td>0.0</td>\n",
       "      <td>0.0</td>\n",
       "      <td>0.0</td>\n",
       "      <td>0.0</td>\n",
       "      <td>NaN</td>\n",
       "      <td>NaN</td>\n",
       "      <td>...</td>\n",
       "      <td>2442.804</td>\n",
       "      <td>15.0</td>\n",
       "      <td>260.797</td>\n",
       "      <td>7.26</td>\n",
       "      <td>9.5</td>\n",
       "      <td>37.8</td>\n",
       "      <td>47.782</td>\n",
       "      <td>0.3</td>\n",
       "      <td>70.78</td>\n",
       "      <td>0.574</td>\n",
       "    </tr>\n",
       "    <tr>\n",
       "      <th>27436</th>\n",
       "      <td>NPL</td>\n",
       "      <td>Asia</td>\n",
       "      <td>Nepal</td>\n",
       "      <td>2020-01-03</td>\n",
       "      <td>0.0</td>\n",
       "      <td>0.0</td>\n",
       "      <td>0.0</td>\n",
       "      <td>0.0</td>\n",
       "      <td>NaN</td>\n",
       "      <td>NaN</td>\n",
       "      <td>...</td>\n",
       "      <td>2442.804</td>\n",
       "      <td>15.0</td>\n",
       "      <td>260.797</td>\n",
       "      <td>7.26</td>\n",
       "      <td>9.5</td>\n",
       "      <td>37.8</td>\n",
       "      <td>47.782</td>\n",
       "      <td>0.3</td>\n",
       "      <td>70.78</td>\n",
       "      <td>0.574</td>\n",
       "    </tr>\n",
       "    <tr>\n",
       "      <th>27437</th>\n",
       "      <td>NPL</td>\n",
       "      <td>Asia</td>\n",
       "      <td>Nepal</td>\n",
       "      <td>2020-01-04</td>\n",
       "      <td>0.0</td>\n",
       "      <td>0.0</td>\n",
       "      <td>0.0</td>\n",
       "      <td>0.0</td>\n",
       "      <td>NaN</td>\n",
       "      <td>NaN</td>\n",
       "      <td>...</td>\n",
       "      <td>2442.804</td>\n",
       "      <td>15.0</td>\n",
       "      <td>260.797</td>\n",
       "      <td>7.26</td>\n",
       "      <td>9.5</td>\n",
       "      <td>37.8</td>\n",
       "      <td>47.782</td>\n",
       "      <td>0.3</td>\n",
       "      <td>70.78</td>\n",
       "      <td>0.574</td>\n",
       "    </tr>\n",
       "  </tbody>\n",
       "</table>\n",
       "<p>5 rows × 31 columns</p>\n",
       "</div>"
      ],
      "text/plain": [
       "      iso_code continent location        date  total_cases  new_cases  \\\n",
       "27433      NPL      Asia    Nepal  2019-12-31          0.0        0.0   \n",
       "27434      NPL      Asia    Nepal  2020-01-01          0.0        0.0   \n",
       "27435      NPL      Asia    Nepal  2020-01-02          0.0        0.0   \n",
       "27436      NPL      Asia    Nepal  2020-01-03          0.0        0.0   \n",
       "27437      NPL      Asia    Nepal  2020-01-04          0.0        0.0   \n",
       "\n",
       "       total_deaths  new_deaths  new_tests  total_tests  ...  gdp_per_capita  \\\n",
       "27433           0.0         0.0        NaN          NaN  ...        2442.804   \n",
       "27434           0.0         0.0        NaN          NaN  ...        2442.804   \n",
       "27435           0.0         0.0        NaN          NaN  ...        2442.804   \n",
       "27436           0.0         0.0        NaN          NaN  ...        2442.804   \n",
       "27437           0.0         0.0        NaN          NaN  ...        2442.804   \n",
       "\n",
       "       extreme_poverty  cardiovasc_death_rate  diabetes_prevalence  \\\n",
       "27433             15.0                260.797                 7.26   \n",
       "27434             15.0                260.797                 7.26   \n",
       "27435             15.0                260.797                 7.26   \n",
       "27436             15.0                260.797                 7.26   \n",
       "27437             15.0                260.797                 7.26   \n",
       "\n",
       "      female_smokers  male_smokers  handwashing_facilities  \\\n",
       "27433            9.5          37.8                  47.782   \n",
       "27434            9.5          37.8                  47.782   \n",
       "27435            9.5          37.8                  47.782   \n",
       "27436            9.5          37.8                  47.782   \n",
       "27437            9.5          37.8                  47.782   \n",
       "\n",
       "       hospital_beds_per_thousand  life_expectancy  human_development_index  \n",
       "27433                         0.3            70.78                    0.574  \n",
       "27434                         0.3            70.78                    0.574  \n",
       "27435                         0.3            70.78                    0.574  \n",
       "27436                         0.3            70.78                    0.574  \n",
       "27437                         0.3            70.78                    0.574  \n",
       "\n",
       "[5 rows x 31 columns]"
      ]
     },
     "execution_count": 37,
     "metadata": {},
     "output_type": "execute_result"
    }
   ],
   "source": [
    "nepal_case.head()"
   ]
  },
  {
   "cell_type": "code",
   "execution_count": 38,
   "metadata": {},
   "outputs": [
    {
     "name": "stderr",
     "output_type": "stream",
     "text": [
      "<ipython-input-38-1e6d5e23068f>:1: SettingWithCopyWarning: \n",
      "A value is trying to be set on a copy of a slice from a DataFrame.\n",
      "Try using .loc[row_indexer,col_indexer] = value instead\n",
      "\n",
      "See the caveats in the documentation: https://pandas.pydata.org/pandas-docs/stable/user_guide/indexing.html#returning-a-view-versus-a-copy\n",
      "  nepal_case['date'] = pd.to_datetime(nepal_case['date'])\n"
     ]
    }
   ],
   "source": [
    "nepal_case['date'] = pd.to_datetime(nepal_case['date'])"
   ]
  },
  {
   "cell_type": "code",
   "execution_count": 39,
   "metadata": {},
   "outputs": [
    {
     "name": "stderr",
     "output_type": "stream",
     "text": [
      "<ipython-input-39-a6ff33f6856f>:1: SettingWithCopyWarning: \n",
      "A value is trying to be set on a copy of a slice from a DataFrame.\n",
      "Try using .loc[row_indexer,col_indexer] = value instead\n",
      "\n",
      "See the caveats in the documentation: https://pandas.pydata.org/pandas-docs/stable/user_guide/indexing.html#returning-a-view-versus-a-copy\n",
      "  nepal_case['month'] = nepal_case.date.dt.month\n"
     ]
    }
   ],
   "source": [
    "nepal_case['month'] = nepal_case.date.dt.month"
   ]
  },
  {
   "cell_type": "code",
   "execution_count": 40,
   "metadata": {},
   "outputs": [
    {
     "name": "stderr",
     "output_type": "stream",
     "text": [
      "<ipython-input-40-1e6d5e23068f>:1: SettingWithCopyWarning: \n",
      "A value is trying to be set on a copy of a slice from a DataFrame.\n",
      "Try using .loc[row_indexer,col_indexer] = value instead\n",
      "\n",
      "See the caveats in the documentation: https://pandas.pydata.org/pandas-docs/stable/user_guide/indexing.html#returning-a-view-versus-a-copy\n",
      "  nepal_case['date'] = pd.to_datetime(nepal_case['date'])\n"
     ]
    }
   ],
   "source": [
    "nepal_case['date'] = pd.to_datetime(nepal_case['date'])"
   ]
  },
  {
   "cell_type": "code",
   "execution_count": 41,
   "metadata": {},
   "outputs": [
    {
     "data": {
      "text/html": [
       "<div>\n",
       "<style scoped>\n",
       "    .dataframe tbody tr th:only-of-type {\n",
       "        vertical-align: middle;\n",
       "    }\n",
       "\n",
       "    .dataframe tbody tr th {\n",
       "        vertical-align: top;\n",
       "    }\n",
       "\n",
       "    .dataframe thead th {\n",
       "        text-align: right;\n",
       "    }\n",
       "</style>\n",
       "<table border=\"1\" class=\"dataframe\">\n",
       "  <thead>\n",
       "    <tr style=\"text-align: right;\">\n",
       "      <th></th>\n",
       "      <th>iso_code</th>\n",
       "      <th>continent</th>\n",
       "      <th>location</th>\n",
       "      <th>date</th>\n",
       "      <th>total_cases</th>\n",
       "      <th>new_cases</th>\n",
       "      <th>total_deaths</th>\n",
       "      <th>new_deaths</th>\n",
       "      <th>new_tests</th>\n",
       "      <th>total_tests</th>\n",
       "      <th>...</th>\n",
       "      <th>extreme_poverty</th>\n",
       "      <th>cardiovasc_death_rate</th>\n",
       "      <th>diabetes_prevalence</th>\n",
       "      <th>female_smokers</th>\n",
       "      <th>male_smokers</th>\n",
       "      <th>handwashing_facilities</th>\n",
       "      <th>hospital_beds_per_thousand</th>\n",
       "      <th>life_expectancy</th>\n",
       "      <th>human_development_index</th>\n",
       "      <th>month</th>\n",
       "    </tr>\n",
       "  </thead>\n",
       "  <tbody>\n",
       "    <tr>\n",
       "      <th>27433</th>\n",
       "      <td>NPL</td>\n",
       "      <td>Asia</td>\n",
       "      <td>Nepal</td>\n",
       "      <td>2019-12-31</td>\n",
       "      <td>0.0</td>\n",
       "      <td>0.0</td>\n",
       "      <td>0.0</td>\n",
       "      <td>0.0</td>\n",
       "      <td>NaN</td>\n",
       "      <td>NaN</td>\n",
       "      <td>...</td>\n",
       "      <td>15.0</td>\n",
       "      <td>260.797</td>\n",
       "      <td>7.26</td>\n",
       "      <td>9.5</td>\n",
       "      <td>37.8</td>\n",
       "      <td>47.782</td>\n",
       "      <td>0.3</td>\n",
       "      <td>70.78</td>\n",
       "      <td>0.574</td>\n",
       "      <td>12</td>\n",
       "    </tr>\n",
       "    <tr>\n",
       "      <th>27434</th>\n",
       "      <td>NPL</td>\n",
       "      <td>Asia</td>\n",
       "      <td>Nepal</td>\n",
       "      <td>2020-01-01</td>\n",
       "      <td>0.0</td>\n",
       "      <td>0.0</td>\n",
       "      <td>0.0</td>\n",
       "      <td>0.0</td>\n",
       "      <td>NaN</td>\n",
       "      <td>NaN</td>\n",
       "      <td>...</td>\n",
       "      <td>15.0</td>\n",
       "      <td>260.797</td>\n",
       "      <td>7.26</td>\n",
       "      <td>9.5</td>\n",
       "      <td>37.8</td>\n",
       "      <td>47.782</td>\n",
       "      <td>0.3</td>\n",
       "      <td>70.78</td>\n",
       "      <td>0.574</td>\n",
       "      <td>1</td>\n",
       "    </tr>\n",
       "    <tr>\n",
       "      <th>27435</th>\n",
       "      <td>NPL</td>\n",
       "      <td>Asia</td>\n",
       "      <td>Nepal</td>\n",
       "      <td>2020-01-02</td>\n",
       "      <td>0.0</td>\n",
       "      <td>0.0</td>\n",
       "      <td>0.0</td>\n",
       "      <td>0.0</td>\n",
       "      <td>NaN</td>\n",
       "      <td>NaN</td>\n",
       "      <td>...</td>\n",
       "      <td>15.0</td>\n",
       "      <td>260.797</td>\n",
       "      <td>7.26</td>\n",
       "      <td>9.5</td>\n",
       "      <td>37.8</td>\n",
       "      <td>47.782</td>\n",
       "      <td>0.3</td>\n",
       "      <td>70.78</td>\n",
       "      <td>0.574</td>\n",
       "      <td>1</td>\n",
       "    </tr>\n",
       "    <tr>\n",
       "      <th>27436</th>\n",
       "      <td>NPL</td>\n",
       "      <td>Asia</td>\n",
       "      <td>Nepal</td>\n",
       "      <td>2020-01-03</td>\n",
       "      <td>0.0</td>\n",
       "      <td>0.0</td>\n",
       "      <td>0.0</td>\n",
       "      <td>0.0</td>\n",
       "      <td>NaN</td>\n",
       "      <td>NaN</td>\n",
       "      <td>...</td>\n",
       "      <td>15.0</td>\n",
       "      <td>260.797</td>\n",
       "      <td>7.26</td>\n",
       "      <td>9.5</td>\n",
       "      <td>37.8</td>\n",
       "      <td>47.782</td>\n",
       "      <td>0.3</td>\n",
       "      <td>70.78</td>\n",
       "      <td>0.574</td>\n",
       "      <td>1</td>\n",
       "    </tr>\n",
       "    <tr>\n",
       "      <th>27437</th>\n",
       "      <td>NPL</td>\n",
       "      <td>Asia</td>\n",
       "      <td>Nepal</td>\n",
       "      <td>2020-01-04</td>\n",
       "      <td>0.0</td>\n",
       "      <td>0.0</td>\n",
       "      <td>0.0</td>\n",
       "      <td>0.0</td>\n",
       "      <td>NaN</td>\n",
       "      <td>NaN</td>\n",
       "      <td>...</td>\n",
       "      <td>15.0</td>\n",
       "      <td>260.797</td>\n",
       "      <td>7.26</td>\n",
       "      <td>9.5</td>\n",
       "      <td>37.8</td>\n",
       "      <td>47.782</td>\n",
       "      <td>0.3</td>\n",
       "      <td>70.78</td>\n",
       "      <td>0.574</td>\n",
       "      <td>1</td>\n",
       "    </tr>\n",
       "  </tbody>\n",
       "</table>\n",
       "<p>5 rows × 32 columns</p>\n",
       "</div>"
      ],
      "text/plain": [
       "      iso_code continent location       date  total_cases  new_cases  \\\n",
       "27433      NPL      Asia    Nepal 2019-12-31          0.0        0.0   \n",
       "27434      NPL      Asia    Nepal 2020-01-01          0.0        0.0   \n",
       "27435      NPL      Asia    Nepal 2020-01-02          0.0        0.0   \n",
       "27436      NPL      Asia    Nepal 2020-01-03          0.0        0.0   \n",
       "27437      NPL      Asia    Nepal 2020-01-04          0.0        0.0   \n",
       "\n",
       "       total_deaths  new_deaths  new_tests  total_tests  ...  extreme_poverty  \\\n",
       "27433           0.0         0.0        NaN          NaN  ...             15.0   \n",
       "27434           0.0         0.0        NaN          NaN  ...             15.0   \n",
       "27435           0.0         0.0        NaN          NaN  ...             15.0   \n",
       "27436           0.0         0.0        NaN          NaN  ...             15.0   \n",
       "27437           0.0         0.0        NaN          NaN  ...             15.0   \n",
       "\n",
       "       cardiovasc_death_rate  diabetes_prevalence  female_smokers  \\\n",
       "27433                260.797                 7.26             9.5   \n",
       "27434                260.797                 7.26             9.5   \n",
       "27435                260.797                 7.26             9.5   \n",
       "27436                260.797                 7.26             9.5   \n",
       "27437                260.797                 7.26             9.5   \n",
       "\n",
       "      male_smokers  handwashing_facilities  hospital_beds_per_thousand  \\\n",
       "27433         37.8                  47.782                         0.3   \n",
       "27434         37.8                  47.782                         0.3   \n",
       "27435         37.8                  47.782                         0.3   \n",
       "27436         37.8                  47.782                         0.3   \n",
       "27437         37.8                  47.782                         0.3   \n",
       "\n",
       "       life_expectancy  human_development_index  month  \n",
       "27433            70.78                    0.574     12  \n",
       "27434            70.78                    0.574      1  \n",
       "27435            70.78                    0.574      1  \n",
       "27436            70.78                    0.574      1  \n",
       "27437            70.78                    0.574      1  \n",
       "\n",
       "[5 rows x 32 columns]"
      ]
     },
     "execution_count": 41,
     "metadata": {},
     "output_type": "execute_result"
    }
   ],
   "source": [
    "nepal_case.head()"
   ]
  },
  {
   "cell_type": "code",
   "execution_count": 42,
   "metadata": {},
   "outputs": [
    {
     "data": {
      "text/plain": [
       "iso_code                                   object\n",
       "continent                                  object\n",
       "location                                   object\n",
       "date                               datetime64[ns]\n",
       "total_cases                               float64\n",
       "new_cases                                 float64\n",
       "total_deaths                              float64\n",
       "new_deaths                                float64\n",
       "new_tests                                 float64\n",
       "total_tests                               float64\n",
       "new_tests_smoothed                        float64\n",
       "new_tests_smoothed_per_thousand           float64\n",
       "tests_per_case                            float64\n",
       "positive_rate                             float64\n",
       "tests_units                                object\n",
       "stringency_index                          float64\n",
       "population                                float64\n",
       "population_density                        float64\n",
       "median_age                                float64\n",
       "aged_65_older                             float64\n",
       "aged_70_older                             float64\n",
       "gdp_per_capita                            float64\n",
       "extreme_poverty                           float64\n",
       "cardiovasc_death_rate                     float64\n",
       "diabetes_prevalence                       float64\n",
       "female_smokers                            float64\n",
       "male_smokers                              float64\n",
       "handwashing_facilities                    float64\n",
       "hospital_beds_per_thousand                float64\n",
       "life_expectancy                           float64\n",
       "human_development_index                   float64\n",
       "month                                       int64\n",
       "dtype: object"
      ]
     },
     "execution_count": 42,
     "metadata": {},
     "output_type": "execute_result"
    }
   ],
   "source": [
    "nepal_case.dtypes"
   ]
  },
  {
   "cell_type": "code",
   "execution_count": 43,
   "metadata": {},
   "outputs": [
    {
     "name": "stderr",
     "output_type": "stream",
     "text": [
      "<ipython-input-43-e77b2e4b687c>:1: SettingWithCopyWarning: \n",
      "A value is trying to be set on a copy of a slice from a DataFrame.\n",
      "Try using .loc[row_indexer,col_indexer] = value instead\n",
      "\n",
      "See the caveats in the documentation: https://pandas.pydata.org/pandas-docs/stable/user_guide/indexing.html#returning-a-view-versus-a-copy\n",
      "  nepal_case['month'] = nepal_case['date'].dt.month\n"
     ]
    }
   ],
   "source": [
    "nepal_case['month'] = nepal_case['date'].dt.month"
   ]
  },
  {
   "cell_type": "code",
   "execution_count": 44,
   "metadata": {},
   "outputs": [
    {
     "data": {
      "text/html": [
       "<div>\n",
       "<style scoped>\n",
       "    .dataframe tbody tr th:only-of-type {\n",
       "        vertical-align: middle;\n",
       "    }\n",
       "\n",
       "    .dataframe tbody tr th {\n",
       "        vertical-align: top;\n",
       "    }\n",
       "\n",
       "    .dataframe thead th {\n",
       "        text-align: right;\n",
       "    }\n",
       "</style>\n",
       "<table border=\"1\" class=\"dataframe\">\n",
       "  <thead>\n",
       "    <tr style=\"text-align: right;\">\n",
       "      <th></th>\n",
       "      <th>iso_code</th>\n",
       "      <th>continent</th>\n",
       "      <th>location</th>\n",
       "      <th>date</th>\n",
       "      <th>total_cases</th>\n",
       "      <th>new_cases</th>\n",
       "      <th>total_deaths</th>\n",
       "      <th>new_deaths</th>\n",
       "      <th>new_tests</th>\n",
       "      <th>total_tests</th>\n",
       "      <th>...</th>\n",
       "      <th>extreme_poverty</th>\n",
       "      <th>cardiovasc_death_rate</th>\n",
       "      <th>diabetes_prevalence</th>\n",
       "      <th>female_smokers</th>\n",
       "      <th>male_smokers</th>\n",
       "      <th>handwashing_facilities</th>\n",
       "      <th>hospital_beds_per_thousand</th>\n",
       "      <th>life_expectancy</th>\n",
       "      <th>human_development_index</th>\n",
       "      <th>month</th>\n",
       "    </tr>\n",
       "  </thead>\n",
       "  <tbody>\n",
       "    <tr>\n",
       "      <th>27433</th>\n",
       "      <td>NPL</td>\n",
       "      <td>Asia</td>\n",
       "      <td>Nepal</td>\n",
       "      <td>2019-12-31</td>\n",
       "      <td>0.0</td>\n",
       "      <td>0.0</td>\n",
       "      <td>0.0</td>\n",
       "      <td>0.0</td>\n",
       "      <td>NaN</td>\n",
       "      <td>NaN</td>\n",
       "      <td>...</td>\n",
       "      <td>15.0</td>\n",
       "      <td>260.797</td>\n",
       "      <td>7.26</td>\n",
       "      <td>9.5</td>\n",
       "      <td>37.8</td>\n",
       "      <td>47.782</td>\n",
       "      <td>0.3</td>\n",
       "      <td>70.78</td>\n",
       "      <td>0.574</td>\n",
       "      <td>12</td>\n",
       "    </tr>\n",
       "    <tr>\n",
       "      <th>27434</th>\n",
       "      <td>NPL</td>\n",
       "      <td>Asia</td>\n",
       "      <td>Nepal</td>\n",
       "      <td>2020-01-01</td>\n",
       "      <td>0.0</td>\n",
       "      <td>0.0</td>\n",
       "      <td>0.0</td>\n",
       "      <td>0.0</td>\n",
       "      <td>NaN</td>\n",
       "      <td>NaN</td>\n",
       "      <td>...</td>\n",
       "      <td>15.0</td>\n",
       "      <td>260.797</td>\n",
       "      <td>7.26</td>\n",
       "      <td>9.5</td>\n",
       "      <td>37.8</td>\n",
       "      <td>47.782</td>\n",
       "      <td>0.3</td>\n",
       "      <td>70.78</td>\n",
       "      <td>0.574</td>\n",
       "      <td>1</td>\n",
       "    </tr>\n",
       "    <tr>\n",
       "      <th>27435</th>\n",
       "      <td>NPL</td>\n",
       "      <td>Asia</td>\n",
       "      <td>Nepal</td>\n",
       "      <td>2020-01-02</td>\n",
       "      <td>0.0</td>\n",
       "      <td>0.0</td>\n",
       "      <td>0.0</td>\n",
       "      <td>0.0</td>\n",
       "      <td>NaN</td>\n",
       "      <td>NaN</td>\n",
       "      <td>...</td>\n",
       "      <td>15.0</td>\n",
       "      <td>260.797</td>\n",
       "      <td>7.26</td>\n",
       "      <td>9.5</td>\n",
       "      <td>37.8</td>\n",
       "      <td>47.782</td>\n",
       "      <td>0.3</td>\n",
       "      <td>70.78</td>\n",
       "      <td>0.574</td>\n",
       "      <td>1</td>\n",
       "    </tr>\n",
       "    <tr>\n",
       "      <th>27436</th>\n",
       "      <td>NPL</td>\n",
       "      <td>Asia</td>\n",
       "      <td>Nepal</td>\n",
       "      <td>2020-01-03</td>\n",
       "      <td>0.0</td>\n",
       "      <td>0.0</td>\n",
       "      <td>0.0</td>\n",
       "      <td>0.0</td>\n",
       "      <td>NaN</td>\n",
       "      <td>NaN</td>\n",
       "      <td>...</td>\n",
       "      <td>15.0</td>\n",
       "      <td>260.797</td>\n",
       "      <td>7.26</td>\n",
       "      <td>9.5</td>\n",
       "      <td>37.8</td>\n",
       "      <td>47.782</td>\n",
       "      <td>0.3</td>\n",
       "      <td>70.78</td>\n",
       "      <td>0.574</td>\n",
       "      <td>1</td>\n",
       "    </tr>\n",
       "    <tr>\n",
       "      <th>27437</th>\n",
       "      <td>NPL</td>\n",
       "      <td>Asia</td>\n",
       "      <td>Nepal</td>\n",
       "      <td>2020-01-04</td>\n",
       "      <td>0.0</td>\n",
       "      <td>0.0</td>\n",
       "      <td>0.0</td>\n",
       "      <td>0.0</td>\n",
       "      <td>NaN</td>\n",
       "      <td>NaN</td>\n",
       "      <td>...</td>\n",
       "      <td>15.0</td>\n",
       "      <td>260.797</td>\n",
       "      <td>7.26</td>\n",
       "      <td>9.5</td>\n",
       "      <td>37.8</td>\n",
       "      <td>47.782</td>\n",
       "      <td>0.3</td>\n",
       "      <td>70.78</td>\n",
       "      <td>0.574</td>\n",
       "      <td>1</td>\n",
       "    </tr>\n",
       "  </tbody>\n",
       "</table>\n",
       "<p>5 rows × 32 columns</p>\n",
       "</div>"
      ],
      "text/plain": [
       "      iso_code continent location       date  total_cases  new_cases  \\\n",
       "27433      NPL      Asia    Nepal 2019-12-31          0.0        0.0   \n",
       "27434      NPL      Asia    Nepal 2020-01-01          0.0        0.0   \n",
       "27435      NPL      Asia    Nepal 2020-01-02          0.0        0.0   \n",
       "27436      NPL      Asia    Nepal 2020-01-03          0.0        0.0   \n",
       "27437      NPL      Asia    Nepal 2020-01-04          0.0        0.0   \n",
       "\n",
       "       total_deaths  new_deaths  new_tests  total_tests  ...  extreme_poverty  \\\n",
       "27433           0.0         0.0        NaN          NaN  ...             15.0   \n",
       "27434           0.0         0.0        NaN          NaN  ...             15.0   \n",
       "27435           0.0         0.0        NaN          NaN  ...             15.0   \n",
       "27436           0.0         0.0        NaN          NaN  ...             15.0   \n",
       "27437           0.0         0.0        NaN          NaN  ...             15.0   \n",
       "\n",
       "       cardiovasc_death_rate  diabetes_prevalence  female_smokers  \\\n",
       "27433                260.797                 7.26             9.5   \n",
       "27434                260.797                 7.26             9.5   \n",
       "27435                260.797                 7.26             9.5   \n",
       "27436                260.797                 7.26             9.5   \n",
       "27437                260.797                 7.26             9.5   \n",
       "\n",
       "      male_smokers  handwashing_facilities  hospital_beds_per_thousand  \\\n",
       "27433         37.8                  47.782                         0.3   \n",
       "27434         37.8                  47.782                         0.3   \n",
       "27435         37.8                  47.782                         0.3   \n",
       "27436         37.8                  47.782                         0.3   \n",
       "27437         37.8                  47.782                         0.3   \n",
       "\n",
       "       life_expectancy  human_development_index  month  \n",
       "27433            70.78                    0.574     12  \n",
       "27434            70.78                    0.574      1  \n",
       "27435            70.78                    0.574      1  \n",
       "27436            70.78                    0.574      1  \n",
       "27437            70.78                    0.574      1  \n",
       "\n",
       "[5 rows x 32 columns]"
      ]
     },
     "execution_count": 44,
     "metadata": {},
     "output_type": "execute_result"
    }
   ],
   "source": [
    "nepal_case.head()"
   ]
  },
  {
   "cell_type": "code",
   "execution_count": 45,
   "metadata": {},
   "outputs": [
    {
     "name": "stderr",
     "output_type": "stream",
     "text": [
      "<ipython-input-45-4f465b79ffac>:1: SettingWithCopyWarning: \n",
      "A value is trying to be set on a copy of a slice from a DataFrame.\n",
      "Try using .loc[row_indexer,col_indexer] = value instead\n",
      "\n",
      "See the caveats in the documentation: https://pandas.pydata.org/pandas-docs/stable/user_guide/indexing.html#returning-a-view-versus-a-copy\n",
      "  nepal_case['day'] = nepal_case['date'].dt.day\n"
     ]
    }
   ],
   "source": [
    "nepal_case['day'] = nepal_case['date'].dt.day"
   ]
  },
  {
   "cell_type": "code",
   "execution_count": 46,
   "metadata": {},
   "outputs": [
    {
     "data": {
      "text/html": [
       "<div>\n",
       "<style scoped>\n",
       "    .dataframe tbody tr th:only-of-type {\n",
       "        vertical-align: middle;\n",
       "    }\n",
       "\n",
       "    .dataframe tbody tr th {\n",
       "        vertical-align: top;\n",
       "    }\n",
       "\n",
       "    .dataframe thead th {\n",
       "        text-align: right;\n",
       "    }\n",
       "</style>\n",
       "<table border=\"1\" class=\"dataframe\">\n",
       "  <thead>\n",
       "    <tr style=\"text-align: right;\">\n",
       "      <th></th>\n",
       "      <th>iso_code</th>\n",
       "      <th>continent</th>\n",
       "      <th>location</th>\n",
       "      <th>date</th>\n",
       "      <th>total_cases</th>\n",
       "      <th>new_cases</th>\n",
       "      <th>total_deaths</th>\n",
       "      <th>new_deaths</th>\n",
       "      <th>new_tests</th>\n",
       "      <th>total_tests</th>\n",
       "      <th>...</th>\n",
       "      <th>cardiovasc_death_rate</th>\n",
       "      <th>diabetes_prevalence</th>\n",
       "      <th>female_smokers</th>\n",
       "      <th>male_smokers</th>\n",
       "      <th>handwashing_facilities</th>\n",
       "      <th>hospital_beds_per_thousand</th>\n",
       "      <th>life_expectancy</th>\n",
       "      <th>human_development_index</th>\n",
       "      <th>month</th>\n",
       "      <th>day</th>\n",
       "    </tr>\n",
       "  </thead>\n",
       "  <tbody>\n",
       "    <tr>\n",
       "      <th>27433</th>\n",
       "      <td>NPL</td>\n",
       "      <td>Asia</td>\n",
       "      <td>Nepal</td>\n",
       "      <td>2019-12-31</td>\n",
       "      <td>0.0</td>\n",
       "      <td>0.0</td>\n",
       "      <td>0.0</td>\n",
       "      <td>0.0</td>\n",
       "      <td>NaN</td>\n",
       "      <td>NaN</td>\n",
       "      <td>...</td>\n",
       "      <td>260.797</td>\n",
       "      <td>7.26</td>\n",
       "      <td>9.5</td>\n",
       "      <td>37.8</td>\n",
       "      <td>47.782</td>\n",
       "      <td>0.3</td>\n",
       "      <td>70.78</td>\n",
       "      <td>0.574</td>\n",
       "      <td>12</td>\n",
       "      <td>31</td>\n",
       "    </tr>\n",
       "    <tr>\n",
       "      <th>27434</th>\n",
       "      <td>NPL</td>\n",
       "      <td>Asia</td>\n",
       "      <td>Nepal</td>\n",
       "      <td>2020-01-01</td>\n",
       "      <td>0.0</td>\n",
       "      <td>0.0</td>\n",
       "      <td>0.0</td>\n",
       "      <td>0.0</td>\n",
       "      <td>NaN</td>\n",
       "      <td>NaN</td>\n",
       "      <td>...</td>\n",
       "      <td>260.797</td>\n",
       "      <td>7.26</td>\n",
       "      <td>9.5</td>\n",
       "      <td>37.8</td>\n",
       "      <td>47.782</td>\n",
       "      <td>0.3</td>\n",
       "      <td>70.78</td>\n",
       "      <td>0.574</td>\n",
       "      <td>1</td>\n",
       "      <td>1</td>\n",
       "    </tr>\n",
       "    <tr>\n",
       "      <th>27435</th>\n",
       "      <td>NPL</td>\n",
       "      <td>Asia</td>\n",
       "      <td>Nepal</td>\n",
       "      <td>2020-01-02</td>\n",
       "      <td>0.0</td>\n",
       "      <td>0.0</td>\n",
       "      <td>0.0</td>\n",
       "      <td>0.0</td>\n",
       "      <td>NaN</td>\n",
       "      <td>NaN</td>\n",
       "      <td>...</td>\n",
       "      <td>260.797</td>\n",
       "      <td>7.26</td>\n",
       "      <td>9.5</td>\n",
       "      <td>37.8</td>\n",
       "      <td>47.782</td>\n",
       "      <td>0.3</td>\n",
       "      <td>70.78</td>\n",
       "      <td>0.574</td>\n",
       "      <td>1</td>\n",
       "      <td>2</td>\n",
       "    </tr>\n",
       "    <tr>\n",
       "      <th>27436</th>\n",
       "      <td>NPL</td>\n",
       "      <td>Asia</td>\n",
       "      <td>Nepal</td>\n",
       "      <td>2020-01-03</td>\n",
       "      <td>0.0</td>\n",
       "      <td>0.0</td>\n",
       "      <td>0.0</td>\n",
       "      <td>0.0</td>\n",
       "      <td>NaN</td>\n",
       "      <td>NaN</td>\n",
       "      <td>...</td>\n",
       "      <td>260.797</td>\n",
       "      <td>7.26</td>\n",
       "      <td>9.5</td>\n",
       "      <td>37.8</td>\n",
       "      <td>47.782</td>\n",
       "      <td>0.3</td>\n",
       "      <td>70.78</td>\n",
       "      <td>0.574</td>\n",
       "      <td>1</td>\n",
       "      <td>3</td>\n",
       "    </tr>\n",
       "    <tr>\n",
       "      <th>27437</th>\n",
       "      <td>NPL</td>\n",
       "      <td>Asia</td>\n",
       "      <td>Nepal</td>\n",
       "      <td>2020-01-04</td>\n",
       "      <td>0.0</td>\n",
       "      <td>0.0</td>\n",
       "      <td>0.0</td>\n",
       "      <td>0.0</td>\n",
       "      <td>NaN</td>\n",
       "      <td>NaN</td>\n",
       "      <td>...</td>\n",
       "      <td>260.797</td>\n",
       "      <td>7.26</td>\n",
       "      <td>9.5</td>\n",
       "      <td>37.8</td>\n",
       "      <td>47.782</td>\n",
       "      <td>0.3</td>\n",
       "      <td>70.78</td>\n",
       "      <td>0.574</td>\n",
       "      <td>1</td>\n",
       "      <td>4</td>\n",
       "    </tr>\n",
       "  </tbody>\n",
       "</table>\n",
       "<p>5 rows × 33 columns</p>\n",
       "</div>"
      ],
      "text/plain": [
       "      iso_code continent location       date  total_cases  new_cases  \\\n",
       "27433      NPL      Asia    Nepal 2019-12-31          0.0        0.0   \n",
       "27434      NPL      Asia    Nepal 2020-01-01          0.0        0.0   \n",
       "27435      NPL      Asia    Nepal 2020-01-02          0.0        0.0   \n",
       "27436      NPL      Asia    Nepal 2020-01-03          0.0        0.0   \n",
       "27437      NPL      Asia    Nepal 2020-01-04          0.0        0.0   \n",
       "\n",
       "       total_deaths  new_deaths  new_tests  total_tests  ...  \\\n",
       "27433           0.0         0.0        NaN          NaN  ...   \n",
       "27434           0.0         0.0        NaN          NaN  ...   \n",
       "27435           0.0         0.0        NaN          NaN  ...   \n",
       "27436           0.0         0.0        NaN          NaN  ...   \n",
       "27437           0.0         0.0        NaN          NaN  ...   \n",
       "\n",
       "       cardiovasc_death_rate  diabetes_prevalence  female_smokers  \\\n",
       "27433                260.797                 7.26             9.5   \n",
       "27434                260.797                 7.26             9.5   \n",
       "27435                260.797                 7.26             9.5   \n",
       "27436                260.797                 7.26             9.5   \n",
       "27437                260.797                 7.26             9.5   \n",
       "\n",
       "       male_smokers handwashing_facilities  hospital_beds_per_thousand  \\\n",
       "27433          37.8                 47.782                         0.3   \n",
       "27434          37.8                 47.782                         0.3   \n",
       "27435          37.8                 47.782                         0.3   \n",
       "27436          37.8                 47.782                         0.3   \n",
       "27437          37.8                 47.782                         0.3   \n",
       "\n",
       "       life_expectancy  human_development_index  month  day  \n",
       "27433            70.78                    0.574     12   31  \n",
       "27434            70.78                    0.574      1    1  \n",
       "27435            70.78                    0.574      1    2  \n",
       "27436            70.78                    0.574      1    3  \n",
       "27437            70.78                    0.574      1    4  \n",
       "\n",
       "[5 rows x 33 columns]"
      ]
     },
     "execution_count": 46,
     "metadata": {},
     "output_type": "execute_result"
    }
   ],
   "source": [
    "nepal_case.head()"
   ]
  },
  {
   "cell_type": "code",
   "execution_count": 47,
   "metadata": {},
   "outputs": [
    {
     "name": "stderr",
     "output_type": "stream",
     "text": [
      "<ipython-input-47-71f444cf7bd7>:1: SettingWithCopyWarning: \n",
      "A value is trying to be set on a copy of a slice from a DataFrame.\n",
      "Try using .loc[row_indexer,col_indexer] = value instead\n",
      "\n",
      "See the caveats in the documentation: https://pandas.pydata.org/pandas-docs/stable/user_guide/indexing.html#returning-a-view-versus-a-copy\n",
      "  nepal_case['year'] = nepal_case['date'].dt.year\n"
     ]
    }
   ],
   "source": [
    "nepal_case['year'] = nepal_case['date'].dt.year"
   ]
  },
  {
   "cell_type": "code",
   "execution_count": 48,
   "metadata": {},
   "outputs": [
    {
     "data": {
      "text/html": [
       "<div>\n",
       "<style scoped>\n",
       "    .dataframe tbody tr th:only-of-type {\n",
       "        vertical-align: middle;\n",
       "    }\n",
       "\n",
       "    .dataframe tbody tr th {\n",
       "        vertical-align: top;\n",
       "    }\n",
       "\n",
       "    .dataframe thead th {\n",
       "        text-align: right;\n",
       "    }\n",
       "</style>\n",
       "<table border=\"1\" class=\"dataframe\">\n",
       "  <thead>\n",
       "    <tr style=\"text-align: right;\">\n",
       "      <th></th>\n",
       "      <th>iso_code</th>\n",
       "      <th>continent</th>\n",
       "      <th>location</th>\n",
       "      <th>date</th>\n",
       "      <th>total_cases</th>\n",
       "      <th>new_cases</th>\n",
       "      <th>total_deaths</th>\n",
       "      <th>new_deaths</th>\n",
       "      <th>new_tests</th>\n",
       "      <th>total_tests</th>\n",
       "      <th>...</th>\n",
       "      <th>diabetes_prevalence</th>\n",
       "      <th>female_smokers</th>\n",
       "      <th>male_smokers</th>\n",
       "      <th>handwashing_facilities</th>\n",
       "      <th>hospital_beds_per_thousand</th>\n",
       "      <th>life_expectancy</th>\n",
       "      <th>human_development_index</th>\n",
       "      <th>month</th>\n",
       "      <th>day</th>\n",
       "      <th>year</th>\n",
       "    </tr>\n",
       "  </thead>\n",
       "  <tbody>\n",
       "    <tr>\n",
       "      <th>27433</th>\n",
       "      <td>NPL</td>\n",
       "      <td>Asia</td>\n",
       "      <td>Nepal</td>\n",
       "      <td>2019-12-31</td>\n",
       "      <td>0.0</td>\n",
       "      <td>0.0</td>\n",
       "      <td>0.0</td>\n",
       "      <td>0.0</td>\n",
       "      <td>NaN</td>\n",
       "      <td>NaN</td>\n",
       "      <td>...</td>\n",
       "      <td>7.26</td>\n",
       "      <td>9.5</td>\n",
       "      <td>37.8</td>\n",
       "      <td>47.782</td>\n",
       "      <td>0.3</td>\n",
       "      <td>70.78</td>\n",
       "      <td>0.574</td>\n",
       "      <td>12</td>\n",
       "      <td>31</td>\n",
       "      <td>2019</td>\n",
       "    </tr>\n",
       "    <tr>\n",
       "      <th>27434</th>\n",
       "      <td>NPL</td>\n",
       "      <td>Asia</td>\n",
       "      <td>Nepal</td>\n",
       "      <td>2020-01-01</td>\n",
       "      <td>0.0</td>\n",
       "      <td>0.0</td>\n",
       "      <td>0.0</td>\n",
       "      <td>0.0</td>\n",
       "      <td>NaN</td>\n",
       "      <td>NaN</td>\n",
       "      <td>...</td>\n",
       "      <td>7.26</td>\n",
       "      <td>9.5</td>\n",
       "      <td>37.8</td>\n",
       "      <td>47.782</td>\n",
       "      <td>0.3</td>\n",
       "      <td>70.78</td>\n",
       "      <td>0.574</td>\n",
       "      <td>1</td>\n",
       "      <td>1</td>\n",
       "      <td>2020</td>\n",
       "    </tr>\n",
       "    <tr>\n",
       "      <th>27435</th>\n",
       "      <td>NPL</td>\n",
       "      <td>Asia</td>\n",
       "      <td>Nepal</td>\n",
       "      <td>2020-01-02</td>\n",
       "      <td>0.0</td>\n",
       "      <td>0.0</td>\n",
       "      <td>0.0</td>\n",
       "      <td>0.0</td>\n",
       "      <td>NaN</td>\n",
       "      <td>NaN</td>\n",
       "      <td>...</td>\n",
       "      <td>7.26</td>\n",
       "      <td>9.5</td>\n",
       "      <td>37.8</td>\n",
       "      <td>47.782</td>\n",
       "      <td>0.3</td>\n",
       "      <td>70.78</td>\n",
       "      <td>0.574</td>\n",
       "      <td>1</td>\n",
       "      <td>2</td>\n",
       "      <td>2020</td>\n",
       "    </tr>\n",
       "    <tr>\n",
       "      <th>27436</th>\n",
       "      <td>NPL</td>\n",
       "      <td>Asia</td>\n",
       "      <td>Nepal</td>\n",
       "      <td>2020-01-03</td>\n",
       "      <td>0.0</td>\n",
       "      <td>0.0</td>\n",
       "      <td>0.0</td>\n",
       "      <td>0.0</td>\n",
       "      <td>NaN</td>\n",
       "      <td>NaN</td>\n",
       "      <td>...</td>\n",
       "      <td>7.26</td>\n",
       "      <td>9.5</td>\n",
       "      <td>37.8</td>\n",
       "      <td>47.782</td>\n",
       "      <td>0.3</td>\n",
       "      <td>70.78</td>\n",
       "      <td>0.574</td>\n",
       "      <td>1</td>\n",
       "      <td>3</td>\n",
       "      <td>2020</td>\n",
       "    </tr>\n",
       "    <tr>\n",
       "      <th>27437</th>\n",
       "      <td>NPL</td>\n",
       "      <td>Asia</td>\n",
       "      <td>Nepal</td>\n",
       "      <td>2020-01-04</td>\n",
       "      <td>0.0</td>\n",
       "      <td>0.0</td>\n",
       "      <td>0.0</td>\n",
       "      <td>0.0</td>\n",
       "      <td>NaN</td>\n",
       "      <td>NaN</td>\n",
       "      <td>...</td>\n",
       "      <td>7.26</td>\n",
       "      <td>9.5</td>\n",
       "      <td>37.8</td>\n",
       "      <td>47.782</td>\n",
       "      <td>0.3</td>\n",
       "      <td>70.78</td>\n",
       "      <td>0.574</td>\n",
       "      <td>1</td>\n",
       "      <td>4</td>\n",
       "      <td>2020</td>\n",
       "    </tr>\n",
       "  </tbody>\n",
       "</table>\n",
       "<p>5 rows × 34 columns</p>\n",
       "</div>"
      ],
      "text/plain": [
       "      iso_code continent location       date  total_cases  new_cases  \\\n",
       "27433      NPL      Asia    Nepal 2019-12-31          0.0        0.0   \n",
       "27434      NPL      Asia    Nepal 2020-01-01          0.0        0.0   \n",
       "27435      NPL      Asia    Nepal 2020-01-02          0.0        0.0   \n",
       "27436      NPL      Asia    Nepal 2020-01-03          0.0        0.0   \n",
       "27437      NPL      Asia    Nepal 2020-01-04          0.0        0.0   \n",
       "\n",
       "       total_deaths  new_deaths  new_tests  total_tests  ...  \\\n",
       "27433           0.0         0.0        NaN          NaN  ...   \n",
       "27434           0.0         0.0        NaN          NaN  ...   \n",
       "27435           0.0         0.0        NaN          NaN  ...   \n",
       "27436           0.0         0.0        NaN          NaN  ...   \n",
       "27437           0.0         0.0        NaN          NaN  ...   \n",
       "\n",
       "       diabetes_prevalence  female_smokers  male_smokers  \\\n",
       "27433                 7.26             9.5          37.8   \n",
       "27434                 7.26             9.5          37.8   \n",
       "27435                 7.26             9.5          37.8   \n",
       "27436                 7.26             9.5          37.8   \n",
       "27437                 7.26             9.5          37.8   \n",
       "\n",
       "       handwashing_facilities hospital_beds_per_thousand  life_expectancy  \\\n",
       "27433                  47.782                        0.3            70.78   \n",
       "27434                  47.782                        0.3            70.78   \n",
       "27435                  47.782                        0.3            70.78   \n",
       "27436                  47.782                        0.3            70.78   \n",
       "27437                  47.782                        0.3            70.78   \n",
       "\n",
       "       human_development_index  month  day  year  \n",
       "27433                    0.574     12   31  2019  \n",
       "27434                    0.574      1    1  2020  \n",
       "27435                    0.574      1    2  2020  \n",
       "27436                    0.574      1    3  2020  \n",
       "27437                    0.574      1    4  2020  \n",
       "\n",
       "[5 rows x 34 columns]"
      ]
     },
     "execution_count": 48,
     "metadata": {},
     "output_type": "execute_result"
    }
   ],
   "source": [
    "nepal_case.head()"
   ]
  },
  {
   "cell_type": "code",
   "execution_count": 49,
   "metadata": {},
   "outputs": [
    {
     "name": "stderr",
     "output_type": "stream",
     "text": [
      "C:\\Users\\Dell\\anaconda3\\lib\\site-packages\\pandas\\core\\frame.py:3990: SettingWithCopyWarning: \n",
      "A value is trying to be set on a copy of a slice from a DataFrame\n",
      "\n",
      "See the caveats in the documentation: https://pandas.pydata.org/pandas-docs/stable/user_guide/indexing.html#returning-a-view-versus-a-copy\n",
      "  return super().drop(\n"
     ]
    }
   ],
   "source": [
    "nepal_case.drop(labels=['date'],axis=1,inplace=True)"
   ]
  },
  {
   "cell_type": "code",
   "execution_count": 50,
   "metadata": {},
   "outputs": [
    {
     "data": {
      "text/plain": [
       "iso_code                            0\n",
       "continent                           0\n",
       "location                            0\n",
       "total_cases                        13\n",
       "new_cases                          13\n",
       "total_deaths                       13\n",
       "new_deaths                         13\n",
       "new_tests                          68\n",
       "total_tests                        55\n",
       "new_tests_smoothed                 38\n",
       "new_tests_smoothed_per_thousand    38\n",
       "tests_per_case                     87\n",
       "positive_rate                      38\n",
       "tests_units                        31\n",
       "stringency_index                    8\n",
       "population                          0\n",
       "population_density                  0\n",
       "median_age                          0\n",
       "aged_65_older                       0\n",
       "aged_70_older                       0\n",
       "gdp_per_capita                      0\n",
       "extreme_poverty                     0\n",
       "cardiovasc_death_rate               0\n",
       "diabetes_prevalence                 0\n",
       "female_smokers                      0\n",
       "male_smokers                        0\n",
       "handwashing_facilities              0\n",
       "hospital_beds_per_thousand          0\n",
       "life_expectancy                     0\n",
       "human_development_index             0\n",
       "month                               0\n",
       "day                                 0\n",
       "year                                0\n",
       "dtype: int64"
      ]
     },
     "execution_count": 50,
     "metadata": {},
     "output_type": "execute_result"
    }
   ],
   "source": [
    "nepal_case.isna().sum()"
   ]
  },
  {
   "cell_type": "code",
   "execution_count": 51,
   "metadata": {},
   "outputs": [
    {
     "data": {
      "text/plain": [
       "iso_code                            object\n",
       "continent                           object\n",
       "location                            object\n",
       "total_cases                        float64\n",
       "new_cases                          float64\n",
       "total_deaths                       float64\n",
       "new_deaths                         float64\n",
       "new_tests                          float64\n",
       "total_tests                        float64\n",
       "new_tests_smoothed                 float64\n",
       "new_tests_smoothed_per_thousand    float64\n",
       "tests_per_case                     float64\n",
       "positive_rate                      float64\n",
       "tests_units                         object\n",
       "stringency_index                   float64\n",
       "population                         float64\n",
       "population_density                 float64\n",
       "median_age                         float64\n",
       "aged_65_older                      float64\n",
       "aged_70_older                      float64\n",
       "gdp_per_capita                     float64\n",
       "extreme_poverty                    float64\n",
       "cardiovasc_death_rate              float64\n",
       "diabetes_prevalence                float64\n",
       "female_smokers                     float64\n",
       "male_smokers                       float64\n",
       "handwashing_facilities             float64\n",
       "hospital_beds_per_thousand         float64\n",
       "life_expectancy                    float64\n",
       "human_development_index            float64\n",
       "month                                int64\n",
       "day                                  int64\n",
       "year                                 int64\n",
       "dtype: object"
      ]
     },
     "execution_count": 51,
     "metadata": {},
     "output_type": "execute_result"
    }
   ],
   "source": [
    "nepal_case.dtypes"
   ]
  },
  {
   "cell_type": "code",
   "execution_count": 52,
   "metadata": {},
   "outputs": [],
   "source": [
    "nepal_case.drop(labels=['iso_code','continent','location','new_tests_smoothed_per_thousand'],axis=1,inplace=True)"
   ]
  },
  {
   "cell_type": "code",
   "execution_count": 53,
   "metadata": {},
   "outputs": [
    {
     "data": {
      "text/html": [
       "<div>\n",
       "<style scoped>\n",
       "    .dataframe tbody tr th:only-of-type {\n",
       "        vertical-align: middle;\n",
       "    }\n",
       "\n",
       "    .dataframe tbody tr th {\n",
       "        vertical-align: top;\n",
       "    }\n",
       "\n",
       "    .dataframe thead th {\n",
       "        text-align: right;\n",
       "    }\n",
       "</style>\n",
       "<table border=\"1\" class=\"dataframe\">\n",
       "  <thead>\n",
       "    <tr style=\"text-align: right;\">\n",
       "      <th></th>\n",
       "      <th>total_cases</th>\n",
       "      <th>new_cases</th>\n",
       "      <th>total_deaths</th>\n",
       "      <th>new_deaths</th>\n",
       "      <th>new_tests</th>\n",
       "      <th>total_tests</th>\n",
       "      <th>new_tests_smoothed</th>\n",
       "      <th>tests_per_case</th>\n",
       "      <th>positive_rate</th>\n",
       "      <th>tests_units</th>\n",
       "      <th>...</th>\n",
       "      <th>diabetes_prevalence</th>\n",
       "      <th>female_smokers</th>\n",
       "      <th>male_smokers</th>\n",
       "      <th>handwashing_facilities</th>\n",
       "      <th>hospital_beds_per_thousand</th>\n",
       "      <th>life_expectancy</th>\n",
       "      <th>human_development_index</th>\n",
       "      <th>month</th>\n",
       "      <th>day</th>\n",
       "      <th>year</th>\n",
       "    </tr>\n",
       "  </thead>\n",
       "  <tbody>\n",
       "    <tr>\n",
       "      <th>27433</th>\n",
       "      <td>0.0</td>\n",
       "      <td>0.0</td>\n",
       "      <td>0.0</td>\n",
       "      <td>0.0</td>\n",
       "      <td>NaN</td>\n",
       "      <td>NaN</td>\n",
       "      <td>NaN</td>\n",
       "      <td>NaN</td>\n",
       "      <td>NaN</td>\n",
       "      <td>NaN</td>\n",
       "      <td>...</td>\n",
       "      <td>7.26</td>\n",
       "      <td>9.5</td>\n",
       "      <td>37.8</td>\n",
       "      <td>47.782</td>\n",
       "      <td>0.3</td>\n",
       "      <td>70.78</td>\n",
       "      <td>0.574</td>\n",
       "      <td>12</td>\n",
       "      <td>31</td>\n",
       "      <td>2019</td>\n",
       "    </tr>\n",
       "    <tr>\n",
       "      <th>27434</th>\n",
       "      <td>0.0</td>\n",
       "      <td>0.0</td>\n",
       "      <td>0.0</td>\n",
       "      <td>0.0</td>\n",
       "      <td>NaN</td>\n",
       "      <td>NaN</td>\n",
       "      <td>NaN</td>\n",
       "      <td>NaN</td>\n",
       "      <td>NaN</td>\n",
       "      <td>NaN</td>\n",
       "      <td>...</td>\n",
       "      <td>7.26</td>\n",
       "      <td>9.5</td>\n",
       "      <td>37.8</td>\n",
       "      <td>47.782</td>\n",
       "      <td>0.3</td>\n",
       "      <td>70.78</td>\n",
       "      <td>0.574</td>\n",
       "      <td>1</td>\n",
       "      <td>1</td>\n",
       "      <td>2020</td>\n",
       "    </tr>\n",
       "    <tr>\n",
       "      <th>27435</th>\n",
       "      <td>0.0</td>\n",
       "      <td>0.0</td>\n",
       "      <td>0.0</td>\n",
       "      <td>0.0</td>\n",
       "      <td>NaN</td>\n",
       "      <td>NaN</td>\n",
       "      <td>NaN</td>\n",
       "      <td>NaN</td>\n",
       "      <td>NaN</td>\n",
       "      <td>NaN</td>\n",
       "      <td>...</td>\n",
       "      <td>7.26</td>\n",
       "      <td>9.5</td>\n",
       "      <td>37.8</td>\n",
       "      <td>47.782</td>\n",
       "      <td>0.3</td>\n",
       "      <td>70.78</td>\n",
       "      <td>0.574</td>\n",
       "      <td>1</td>\n",
       "      <td>2</td>\n",
       "      <td>2020</td>\n",
       "    </tr>\n",
       "    <tr>\n",
       "      <th>27436</th>\n",
       "      <td>0.0</td>\n",
       "      <td>0.0</td>\n",
       "      <td>0.0</td>\n",
       "      <td>0.0</td>\n",
       "      <td>NaN</td>\n",
       "      <td>NaN</td>\n",
       "      <td>NaN</td>\n",
       "      <td>NaN</td>\n",
       "      <td>NaN</td>\n",
       "      <td>NaN</td>\n",
       "      <td>...</td>\n",
       "      <td>7.26</td>\n",
       "      <td>9.5</td>\n",
       "      <td>37.8</td>\n",
       "      <td>47.782</td>\n",
       "      <td>0.3</td>\n",
       "      <td>70.78</td>\n",
       "      <td>0.574</td>\n",
       "      <td>1</td>\n",
       "      <td>3</td>\n",
       "      <td>2020</td>\n",
       "    </tr>\n",
       "    <tr>\n",
       "      <th>27437</th>\n",
       "      <td>0.0</td>\n",
       "      <td>0.0</td>\n",
       "      <td>0.0</td>\n",
       "      <td>0.0</td>\n",
       "      <td>NaN</td>\n",
       "      <td>NaN</td>\n",
       "      <td>NaN</td>\n",
       "      <td>NaN</td>\n",
       "      <td>NaN</td>\n",
       "      <td>NaN</td>\n",
       "      <td>...</td>\n",
       "      <td>7.26</td>\n",
       "      <td>9.5</td>\n",
       "      <td>37.8</td>\n",
       "      <td>47.782</td>\n",
       "      <td>0.3</td>\n",
       "      <td>70.78</td>\n",
       "      <td>0.574</td>\n",
       "      <td>1</td>\n",
       "      <td>4</td>\n",
       "      <td>2020</td>\n",
       "    </tr>\n",
       "  </tbody>\n",
       "</table>\n",
       "<p>5 rows × 29 columns</p>\n",
       "</div>"
      ],
      "text/plain": [
       "       total_cases  new_cases  total_deaths  new_deaths  new_tests  \\\n",
       "27433          0.0        0.0           0.0         0.0        NaN   \n",
       "27434          0.0        0.0           0.0         0.0        NaN   \n",
       "27435          0.0        0.0           0.0         0.0        NaN   \n",
       "27436          0.0        0.0           0.0         0.0        NaN   \n",
       "27437          0.0        0.0           0.0         0.0        NaN   \n",
       "\n",
       "       total_tests  new_tests_smoothed  tests_per_case  positive_rate  \\\n",
       "27433          NaN                 NaN             NaN            NaN   \n",
       "27434          NaN                 NaN             NaN            NaN   \n",
       "27435          NaN                 NaN             NaN            NaN   \n",
       "27436          NaN                 NaN             NaN            NaN   \n",
       "27437          NaN                 NaN             NaN            NaN   \n",
       "\n",
       "      tests_units  ...  diabetes_prevalence  female_smokers  male_smokers  \\\n",
       "27433         NaN  ...                 7.26             9.5          37.8   \n",
       "27434         NaN  ...                 7.26             9.5          37.8   \n",
       "27435         NaN  ...                 7.26             9.5          37.8   \n",
       "27436         NaN  ...                 7.26             9.5          37.8   \n",
       "27437         NaN  ...                 7.26             9.5          37.8   \n",
       "\n",
       "       handwashing_facilities  hospital_beds_per_thousand  life_expectancy  \\\n",
       "27433                  47.782                         0.3            70.78   \n",
       "27434                  47.782                         0.3            70.78   \n",
       "27435                  47.782                         0.3            70.78   \n",
       "27436                  47.782                         0.3            70.78   \n",
       "27437                  47.782                         0.3            70.78   \n",
       "\n",
       "       human_development_index  month  day  year  \n",
       "27433                    0.574     12   31  2019  \n",
       "27434                    0.574      1    1  2020  \n",
       "27435                    0.574      1    2  2020  \n",
       "27436                    0.574      1    3  2020  \n",
       "27437                    0.574      1    4  2020  \n",
       "\n",
       "[5 rows x 29 columns]"
      ]
     },
     "execution_count": 53,
     "metadata": {},
     "output_type": "execute_result"
    }
   ],
   "source": [
    "nepal_case.head()"
   ]
  },
  {
   "cell_type": "code",
   "execution_count": 54,
   "metadata": {
    "scrolled": true
   },
   "outputs": [
    {
     "data": {
      "text/plain": [
       "total_cases                   13\n",
       "new_cases                     13\n",
       "total_deaths                  13\n",
       "new_deaths                    13\n",
       "new_tests                     68\n",
       "total_tests                   55\n",
       "new_tests_smoothed            38\n",
       "tests_per_case                87\n",
       "positive_rate                 38\n",
       "tests_units                   31\n",
       "stringency_index               8\n",
       "population                     0\n",
       "population_density             0\n",
       "median_age                     0\n",
       "aged_65_older                  0\n",
       "aged_70_older                  0\n",
       "gdp_per_capita                 0\n",
       "extreme_poverty                0\n",
       "cardiovasc_death_rate          0\n",
       "diabetes_prevalence            0\n",
       "female_smokers                 0\n",
       "male_smokers                   0\n",
       "handwashing_facilities         0\n",
       "hospital_beds_per_thousand     0\n",
       "life_expectancy                0\n",
       "human_development_index        0\n",
       "month                          0\n",
       "day                            0\n",
       "year                           0\n",
       "dtype: int64"
      ]
     },
     "execution_count": 54,
     "metadata": {},
     "output_type": "execute_result"
    }
   ],
   "source": [
    "nepal_case.isna().sum()"
   ]
  },
  {
   "cell_type": "code",
   "execution_count": 55,
   "metadata": {},
   "outputs": [
    {
     "name": "stderr",
     "output_type": "stream",
     "text": [
      "C:\\Users\\Dell\\anaconda3\\lib\\site-packages\\pandas\\core\\generic.py:6245: SettingWithCopyWarning: \n",
      "A value is trying to be set on a copy of a slice from a DataFrame\n",
      "\n",
      "See the caveats in the documentation: https://pandas.pydata.org/pandas-docs/stable/user_guide/indexing.html#returning-a-view-versus-a-copy\n",
      "  self._update_inplace(new_data)\n"
     ]
    }
   ],
   "source": [
    "nepal_case['total_cases'].fillna(nepal_case['total_cases'].mean(),inplace=True)"
   ]
  },
  {
   "cell_type": "code",
   "execution_count": 56,
   "metadata": {},
   "outputs": [],
   "source": [
    "nepal_case['new_cases'].fillna(nepal_case['new_cases'].mean(),inplace=True)\n",
    "\n"
   ]
  },
  {
   "cell_type": "code",
   "execution_count": 57,
   "metadata": {},
   "outputs": [],
   "source": [
    "nepal_case['total_deaths'].fillna(nepal_case['total_deaths'].mean(),inplace=True)"
   ]
  },
  {
   "cell_type": "code",
   "execution_count": 58,
   "metadata": {},
   "outputs": [],
   "source": [
    "nepal_case['new_deaths'].fillna(nepal_case['new_deaths'].mean(),inplace=True)"
   ]
  },
  {
   "cell_type": "code",
   "execution_count": 59,
   "metadata": {},
   "outputs": [],
   "source": [
    "nepal_case['total_tests'].fillna(nepal_case['total_tests'].mean(),inplace=True)"
   ]
  },
  {
   "cell_type": "code",
   "execution_count": 60,
   "metadata": {},
   "outputs": [],
   "source": [
    "nepal_case['new_tests'].fillna(nepal_case['new_tests'].mean(),inplace=True)"
   ]
  },
  {
   "cell_type": "code",
   "execution_count": 61,
   "metadata": {},
   "outputs": [],
   "source": [
    "\n",
    "nepal_case['tests_per_case'].fillna(nepal_case['tests_per_case'].mean(),inplace=True)\n"
   ]
  },
  {
   "cell_type": "code",
   "execution_count": 62,
   "metadata": {},
   "outputs": [],
   "source": [
    "nepal_case['positive_rate'].fillna(nepal_case['positive_rate'].mean(),inplace=True)\n"
   ]
  },
  {
   "cell_type": "code",
   "execution_count": 63,
   "metadata": {},
   "outputs": [],
   "source": [
    "nepal_case['stringency_index'].fillna(nepal_case['stringency_index'].mean(),inplace=True)\n"
   ]
  },
  {
   "cell_type": "code",
   "execution_count": 64,
   "metadata": {},
   "outputs": [
    {
     "data": {
      "text/plain": [
       "total_cases                    0\n",
       "new_cases                      0\n",
       "total_deaths                   0\n",
       "new_deaths                     0\n",
       "new_tests                      0\n",
       "total_tests                    0\n",
       "new_tests_smoothed            38\n",
       "tests_per_case                 0\n",
       "positive_rate                  0\n",
       "tests_units                   31\n",
       "stringency_index               0\n",
       "population                     0\n",
       "population_density             0\n",
       "median_age                     0\n",
       "aged_65_older                  0\n",
       "aged_70_older                  0\n",
       "gdp_per_capita                 0\n",
       "extreme_poverty                0\n",
       "cardiovasc_death_rate          0\n",
       "diabetes_prevalence            0\n",
       "female_smokers                 0\n",
       "male_smokers                   0\n",
       "handwashing_facilities         0\n",
       "hospital_beds_per_thousand     0\n",
       "life_expectancy                0\n",
       "human_development_index        0\n",
       "month                          0\n",
       "day                            0\n",
       "year                           0\n",
       "dtype: int64"
      ]
     },
     "execution_count": 64,
     "metadata": {},
     "output_type": "execute_result"
    }
   ],
   "source": [
    "nepal_case.isna().sum()"
   ]
  },
  {
   "cell_type": "code",
   "execution_count": 65,
   "metadata": {},
   "outputs": [
    {
     "data": {
      "text/plain": [
       "total_cases                   float64\n",
       "new_cases                     float64\n",
       "total_deaths                  float64\n",
       "new_deaths                    float64\n",
       "new_tests                     float64\n",
       "total_tests                   float64\n",
       "new_tests_smoothed            float64\n",
       "tests_per_case                float64\n",
       "positive_rate                 float64\n",
       "tests_units                    object\n",
       "stringency_index              float64\n",
       "population                    float64\n",
       "population_density            float64\n",
       "median_age                    float64\n",
       "aged_65_older                 float64\n",
       "aged_70_older                 float64\n",
       "gdp_per_capita                float64\n",
       "extreme_poverty               float64\n",
       "cardiovasc_death_rate         float64\n",
       "diabetes_prevalence           float64\n",
       "female_smokers                float64\n",
       "male_smokers                  float64\n",
       "handwashing_facilities        float64\n",
       "hospital_beds_per_thousand    float64\n",
       "life_expectancy               float64\n",
       "human_development_index       float64\n",
       "month                           int64\n",
       "day                             int64\n",
       "year                            int64\n",
       "dtype: object"
      ]
     },
     "execution_count": 65,
     "metadata": {},
     "output_type": "execute_result"
    }
   ],
   "source": [
    "nepal_case.dtypes"
   ]
  },
  {
   "cell_type": "code",
   "execution_count": 66,
   "metadata": {},
   "outputs": [
    {
     "name": "stderr",
     "output_type": "stream",
     "text": [
      "C:\\Users\\Dell\\anaconda3\\lib\\site-packages\\pandas\\core\\frame.py:3990: SettingWithCopyWarning: \n",
      "A value is trying to be set on a copy of a slice from a DataFrame\n",
      "\n",
      "See the caveats in the documentation: https://pandas.pydata.org/pandas-docs/stable/user_guide/indexing.html#returning-a-view-versus-a-copy\n",
      "  return super().drop(\n"
     ]
    }
   ],
   "source": [
    "nepal_case.drop(labels=['new_tests_smoothed'],axis=1,inplace=True)"
   ]
  },
  {
   "cell_type": "code",
   "execution_count": 67,
   "metadata": {},
   "outputs": [
    {
     "data": {
      "text/plain": [
       "total_cases                    0\n",
       "new_cases                      0\n",
       "total_deaths                   0\n",
       "new_deaths                     0\n",
       "new_tests                      0\n",
       "total_tests                    0\n",
       "tests_per_case                 0\n",
       "positive_rate                  0\n",
       "tests_units                   31\n",
       "stringency_index               0\n",
       "population                     0\n",
       "population_density             0\n",
       "median_age                     0\n",
       "aged_65_older                  0\n",
       "aged_70_older                  0\n",
       "gdp_per_capita                 0\n",
       "extreme_poverty                0\n",
       "cardiovasc_death_rate          0\n",
       "diabetes_prevalence            0\n",
       "female_smokers                 0\n",
       "male_smokers                   0\n",
       "handwashing_facilities         0\n",
       "hospital_beds_per_thousand     0\n",
       "life_expectancy                0\n",
       "human_development_index        0\n",
       "month                          0\n",
       "day                            0\n",
       "year                           0\n",
       "dtype: int64"
      ]
     },
     "execution_count": 67,
     "metadata": {},
     "output_type": "execute_result"
    }
   ],
   "source": [
    "nepal_case.isna().sum()"
   ]
  },
  {
   "cell_type": "code",
   "execution_count": 68,
   "metadata": {},
   "outputs": [],
   "source": [
    "nepal_case.drop(labels=['tests_units'],axis=1,inplace=True)"
   ]
  },
  {
   "cell_type": "code",
   "execution_count": 69,
   "metadata": {},
   "outputs": [
    {
     "data": {
      "text/plain": [
       "total_cases                   0\n",
       "new_cases                     0\n",
       "total_deaths                  0\n",
       "new_deaths                    0\n",
       "new_tests                     0\n",
       "total_tests                   0\n",
       "tests_per_case                0\n",
       "positive_rate                 0\n",
       "stringency_index              0\n",
       "population                    0\n",
       "population_density            0\n",
       "median_age                    0\n",
       "aged_65_older                 0\n",
       "aged_70_older                 0\n",
       "gdp_per_capita                0\n",
       "extreme_poverty               0\n",
       "cardiovasc_death_rate         0\n",
       "diabetes_prevalence           0\n",
       "female_smokers                0\n",
       "male_smokers                  0\n",
       "handwashing_facilities        0\n",
       "hospital_beds_per_thousand    0\n",
       "life_expectancy               0\n",
       "human_development_index       0\n",
       "month                         0\n",
       "day                           0\n",
       "year                          0\n",
       "dtype: int64"
      ]
     },
     "execution_count": 69,
     "metadata": {},
     "output_type": "execute_result"
    }
   ],
   "source": [
    "nepal_case.isna().sum()"
   ]
  },
  {
   "cell_type": "code",
   "execution_count": 70,
   "metadata": {},
   "outputs": [
    {
     "data": {
      "text/plain": [
       "<matplotlib.axes._subplots.AxesSubplot at 0x2bcb2857850>"
      ]
     },
     "execution_count": 70,
     "metadata": {},
     "output_type": "execute_result"
    },
    {
     "data": {
      "image/png": "[encoded data removed]",
      "text/plain": [
       "<Figure size 720x360 with 1 Axes>"
      ]
     },
     "metadata": {
      "needs_background": "light"
     },
     "output_type": "display_data"
    }
   ],
   "source": [
    "fig, ax = plt.subplots(figsize=(10,5))\n",
    "sns.heatmap(nepal_case.isna(),yticklabels=False,cmap='nipy_spectral',cbar=False)"
   ]
  },
  {
   "cell_type": "code",
   "execution_count": 71,
   "metadata": {},
   "outputs": [],
   "source": [
    "fig.savefig('blankheatmap.png')"
   ]
  },
  {
   "cell_type": "markdown",
   "metadata": {},
   "source": [
    "## Wow, finally we all converted and cleaned our data and our data is ready to fed into the machine learning model :)"
   ]
  },
  {
   "cell_type": "code",
   "execution_count": 72,
   "metadata": {},
   "outputs": [
    {
     "data": {
      "text/plain": [
       "total_cases                   float64\n",
       "new_cases                     float64\n",
       "total_deaths                  float64\n",
       "new_deaths                    float64\n",
       "new_tests                     float64\n",
       "total_tests                   float64\n",
       "tests_per_case                float64\n",
       "positive_rate                 float64\n",
       "stringency_index              float64\n",
       "population                    float64\n",
       "population_density            float64\n",
       "median_age                    float64\n",
       "aged_65_older                 float64\n",
       "aged_70_older                 float64\n",
       "gdp_per_capita                float64\n",
       "extreme_poverty               float64\n",
       "cardiovasc_death_rate         float64\n",
       "diabetes_prevalence           float64\n",
       "female_smokers                float64\n",
       "male_smokers                  float64\n",
       "handwashing_facilities        float64\n",
       "hospital_beds_per_thousand    float64\n",
       "life_expectancy               float64\n",
       "human_development_index       float64\n",
       "month                           int64\n",
       "day                             int64\n",
       "year                            int64\n",
       "dtype: object"
      ]
     },
     "execution_count": 72,
     "metadata": {},
     "output_type": "execute_result"
    }
   ],
   "source": [
    "nepal_case.dtypes"
   ]
  },
  {
   "cell_type": "code",
   "execution_count": 73,
   "metadata": {},
   "outputs": [
    {
     "data": {
      "text/html": [
       "<div>\n",
       "<style scoped>\n",
       "    .dataframe tbody tr th:only-of-type {\n",
       "        vertical-align: middle;\n",
       "    }\n",
       "\n",
       "    .dataframe tbody tr th {\n",
       "        vertical-align: top;\n",
       "    }\n",
       "\n",
       "    .dataframe thead th {\n",
       "        text-align: right;\n",
       "    }\n",
       "</style>\n",
       "<table border=\"1\" class=\"dataframe\">\n",
       "  <thead>\n",
       "    <tr style=\"text-align: right;\">\n",
       "      <th></th>\n",
       "      <th>total_cases</th>\n",
       "      <th>new_cases</th>\n",
       "      <th>total_deaths</th>\n",
       "      <th>new_deaths</th>\n",
       "      <th>new_tests</th>\n",
       "      <th>total_tests</th>\n",
       "      <th>tests_per_case</th>\n",
       "      <th>positive_rate</th>\n",
       "      <th>stringency_index</th>\n",
       "      <th>population</th>\n",
       "      <th>...</th>\n",
       "      <th>diabetes_prevalence</th>\n",
       "      <th>female_smokers</th>\n",
       "      <th>male_smokers</th>\n",
       "      <th>handwashing_facilities</th>\n",
       "      <th>hospital_beds_per_thousand</th>\n",
       "      <th>life_expectancy</th>\n",
       "      <th>human_development_index</th>\n",
       "      <th>month</th>\n",
       "      <th>day</th>\n",
       "      <th>year</th>\n",
       "    </tr>\n",
       "  </thead>\n",
       "  <tbody>\n",
       "    <tr>\n",
       "      <th>27433</th>\n",
       "      <td>0.0</td>\n",
       "      <td>0.0</td>\n",
       "      <td>0.0</td>\n",
       "      <td>0.0</td>\n",
       "      <td>4228.772487</td>\n",
       "      <td>188029.044554</td>\n",
       "      <td>100.054624</td>\n",
       "      <td>0.030717</td>\n",
       "      <td>65.800281</td>\n",
       "      <td>29136808.0</td>\n",
       "      <td>...</td>\n",
       "      <td>7.26</td>\n",
       "      <td>9.5</td>\n",
       "      <td>37.8</td>\n",
       "      <td>47.782</td>\n",
       "      <td>0.3</td>\n",
       "      <td>70.78</td>\n",
       "      <td>0.574</td>\n",
       "      <td>12</td>\n",
       "      <td>31</td>\n",
       "      <td>2019</td>\n",
       "    </tr>\n",
       "    <tr>\n",
       "      <th>27434</th>\n",
       "      <td>0.0</td>\n",
       "      <td>0.0</td>\n",
       "      <td>0.0</td>\n",
       "      <td>0.0</td>\n",
       "      <td>4228.772487</td>\n",
       "      <td>188029.044554</td>\n",
       "      <td>100.054624</td>\n",
       "      <td>0.030717</td>\n",
       "      <td>0.000000</td>\n",
       "      <td>29136808.0</td>\n",
       "      <td>...</td>\n",
       "      <td>7.26</td>\n",
       "      <td>9.5</td>\n",
       "      <td>37.8</td>\n",
       "      <td>47.782</td>\n",
       "      <td>0.3</td>\n",
       "      <td>70.78</td>\n",
       "      <td>0.574</td>\n",
       "      <td>1</td>\n",
       "      <td>1</td>\n",
       "      <td>2020</td>\n",
       "    </tr>\n",
       "    <tr>\n",
       "      <th>27435</th>\n",
       "      <td>0.0</td>\n",
       "      <td>0.0</td>\n",
       "      <td>0.0</td>\n",
       "      <td>0.0</td>\n",
       "      <td>4228.772487</td>\n",
       "      <td>188029.044554</td>\n",
       "      <td>100.054624</td>\n",
       "      <td>0.030717</td>\n",
       "      <td>0.000000</td>\n",
       "      <td>29136808.0</td>\n",
       "      <td>...</td>\n",
       "      <td>7.26</td>\n",
       "      <td>9.5</td>\n",
       "      <td>37.8</td>\n",
       "      <td>47.782</td>\n",
       "      <td>0.3</td>\n",
       "      <td>70.78</td>\n",
       "      <td>0.574</td>\n",
       "      <td>1</td>\n",
       "      <td>2</td>\n",
       "      <td>2020</td>\n",
       "    </tr>\n",
       "    <tr>\n",
       "      <th>27436</th>\n",
       "      <td>0.0</td>\n",
       "      <td>0.0</td>\n",
       "      <td>0.0</td>\n",
       "      <td>0.0</td>\n",
       "      <td>4228.772487</td>\n",
       "      <td>188029.044554</td>\n",
       "      <td>100.054624</td>\n",
       "      <td>0.030717</td>\n",
       "      <td>0.000000</td>\n",
       "      <td>29136808.0</td>\n",
       "      <td>...</td>\n",
       "      <td>7.26</td>\n",
       "      <td>9.5</td>\n",
       "      <td>37.8</td>\n",
       "      <td>47.782</td>\n",
       "      <td>0.3</td>\n",
       "      <td>70.78</td>\n",
       "      <td>0.574</td>\n",
       "      <td>1</td>\n",
       "      <td>3</td>\n",
       "      <td>2020</td>\n",
       "    </tr>\n",
       "    <tr>\n",
       "      <th>27437</th>\n",
       "      <td>0.0</td>\n",
       "      <td>0.0</td>\n",
       "      <td>0.0</td>\n",
       "      <td>0.0</td>\n",
       "      <td>4228.772487</td>\n",
       "      <td>188029.044554</td>\n",
       "      <td>100.054624</td>\n",
       "      <td>0.030717</td>\n",
       "      <td>0.000000</td>\n",
       "      <td>29136808.0</td>\n",
       "      <td>...</td>\n",
       "      <td>7.26</td>\n",
       "      <td>9.5</td>\n",
       "      <td>37.8</td>\n",
       "      <td>47.782</td>\n",
       "      <td>0.3</td>\n",
       "      <td>70.78</td>\n",
       "      <td>0.574</td>\n",
       "      <td>1</td>\n",
       "      <td>4</td>\n",
       "      <td>2020</td>\n",
       "    </tr>\n",
       "  </tbody>\n",
       "</table>\n",
       "<p>5 rows × 27 columns</p>\n",
       "</div>"
      ],
      "text/plain": [
       "       total_cases  new_cases  total_deaths  new_deaths    new_tests  \\\n",
       "27433          0.0        0.0           0.0         0.0  4228.772487   \n",
       "27434          0.0        0.0           0.0         0.0  4228.772487   \n",
       "27435          0.0        0.0           0.0         0.0  4228.772487   \n",
       "27436          0.0        0.0           0.0         0.0  4228.772487   \n",
       "27437          0.0        0.0           0.0         0.0  4228.772487   \n",
       "\n",
       "         total_tests  tests_per_case  positive_rate  stringency_index  \\\n",
       "27433  188029.044554      100.054624       0.030717         65.800281   \n",
       "27434  188029.044554      100.054624       0.030717          0.000000   \n",
       "27435  188029.044554      100.054624       0.030717          0.000000   \n",
       "27436  188029.044554      100.054624       0.030717          0.000000   \n",
       "27437  188029.044554      100.054624       0.030717          0.000000   \n",
       "\n",
       "       population  ...  diabetes_prevalence  female_smokers  male_smokers  \\\n",
       "27433  29136808.0  ...                 7.26             9.5          37.8   \n",
       "27434  29136808.0  ...                 7.26             9.5          37.8   \n",
       "27435  29136808.0  ...                 7.26             9.5          37.8   \n",
       "27436  29136808.0  ...                 7.26             9.5          37.8   \n",
       "27437  29136808.0  ...                 7.26             9.5          37.8   \n",
       "\n",
       "       handwashing_facilities  hospital_beds_per_thousand  life_expectancy  \\\n",
       "27433                  47.782                         0.3            70.78   \n",
       "27434                  47.782                         0.3            70.78   \n",
       "27435                  47.782                         0.3            70.78   \n",
       "27436                  47.782                         0.3            70.78   \n",
       "27437                  47.782                         0.3            70.78   \n",
       "\n",
       "       human_development_index  month  day  year  \n",
       "27433                    0.574     12   31  2019  \n",
       "27434                    0.574      1    1  2020  \n",
       "27435                    0.574      1    2  2020  \n",
       "27436                    0.574      1    3  2020  \n",
       "27437                    0.574      1    4  2020  \n",
       "\n",
       "[5 rows x 27 columns]"
      ]
     },
     "execution_count": 73,
     "metadata": {},
     "output_type": "execute_result"
    }
   ],
   "source": [
    "nepal_case.head()"
   ]
  },
  {
   "cell_type": "code",
   "execution_count": 74,
   "metadata": {},
   "outputs": [
    {
     "data": {
      "text/plain": [
       "(257, 27)"
      ]
     },
     "execution_count": 74,
     "metadata": {},
     "output_type": "execute_result"
    }
   ],
   "source": [
    "nepal_case.shape"
   ]
  },
  {
   "cell_type": "markdown",
   "metadata": {},
   "source": [
    "## Lets visualize our new datasets"
   ]
  },
  {
   "cell_type": "code",
   "execution_count": 75,
   "metadata": {},
   "outputs": [
    {
     "data": {
      "image/png": "[encoded data removed]",
      "text/plain": [
       "<Figure size 432x288 with 1 Axes>"
      ]
     },
     "metadata": {
      "needs_background": "light"
     },
     "output_type": "display_data"
    }
   ],
   "source": [
    "fig, ax = plt.subplots()\n",
    "ax =sns.countplot(x='year',data=nepal_case);\n"
   ]
  },
  {
   "cell_type": "code",
   "execution_count": 76,
   "metadata": {},
   "outputs": [],
   "source": [
    "fig.savefig('COVID-19_year_comparison.png');"
   ]
  },
  {
   "cell_type": "code",
   "execution_count": 77,
   "metadata": {},
   "outputs": [],
   "source": [
    "nepal_latestdays_data = nepal_case.tail()"
   ]
  },
  {
   "cell_type": "code",
   "execution_count": 78,
   "metadata": {},
   "outputs": [
    {
     "data": {
      "image/png": "[encoded data removed]",
      "text/plain": [
       "<Figure size 432x288 with 1 Axes>"
      ]
     },
     "metadata": {
      "needs_background": "light"
     },
     "output_type": "display_data"
    }
   ],
   "source": [
    "sns.countplot(x='new_cases',data=nepal_latestdays_data);\n"
   ]
  },
  {
   "cell_type": "code",
   "execution_count": 79,
   "metadata": {},
   "outputs": [
    {
     "data": {
      "image/png": "[encoded data removed]",
      "text/plain": [
       "<Figure size 432x288 with 1 Axes>"
      ]
     },
     "metadata": {
      "needs_background": "light"
     },
     "output_type": "display_data"
    }
   ],
   "source": [
    "nepal_latestdays_data.plot(x=\"day\",y=\"new_cases\",color=['red'],label='New_Case');\n",
    "plt.xlabel(\"Day\")\n",
    "plt.ylabel('New_Cases');\n",
    "\n"
   ]
  },
  {
   "cell_type": "code",
   "execution_count": 80,
   "metadata": {},
   "outputs": [],
   "source": [
    "fig.savefig(\"latest_case_growth_with_days.png\")"
   ]
  },
  {
   "cell_type": "code",
   "execution_count": 81,
   "metadata": {},
   "outputs": [
    {
     "data": {
      "image/png": "[encoded data removed]",
      "text/plain": [
       "<Figure size 432x288 with 1 Axes>"
      ]
     },
     "metadata": {
      "needs_background": "light"
     },
     "output_type": "display_data"
    }
   ],
   "source": [
    "sns.barplot(x=\"month\",y=\"new_deaths\",data=nepal_case);"
   ]
  },
  {
   "cell_type": "markdown",
   "metadata": {},
   "source": [
    "# 5. Modelling\n",
    "We have explored our data and we can still explore more but I think this is enough to move forward to use the most important phase of machine learning, Modelling.\n",
    "\n",
    "We will be using our 26 independent variables to predict our target variables that is the the possibility of new cases.\n",
    "> If our model can predict with 90% accuacy we will assume that our model is good for predicting the new cases.That's our main aim.\n",
    "* Lets model our dataset`"
   ]
  },
  {
   "cell_type": "code",
   "execution_count": 82,
   "metadata": {},
   "outputs": [],
   "source": [
    "# Using random seed to make uniformity in our project\n",
    "np.random.seed(45)\n",
    "# X contains all the independent attributes except our target new_case\n",
    "X = nepal_case.drop('new_cases',axis=1)\n",
    "# y is our target variable which is new_case\n",
    "y = nepal_case['new_cases']"
   ]
  },
  {
   "cell_type": "code",
   "execution_count": 83,
   "metadata": {},
   "outputs": [],
   "source": [
    "from sklearn.ensemble import RandomForestRegressor\n",
    "from sklearn.model_selection import train_test_split\n",
    "from sklearn.metrics import accuracy_score"
   ]
  },
  {
   "cell_type": "markdown",
   "metadata": {},
   "source": [
    "# Train_test_split\n",
    "This is the most important phase of machine learning model as well. Training our model is very important since it will dicipher the pattern from our dataset and learn the pattern to use it for test set. Similarly, test set is used for evaluating our model to see that how much our model has learned during the traing session. Main key poin to remember in machine learning is we should never test the data that it has trained for otherwise there won't be any logic, it must be tested on test data. For that we will split our data into the ratio of 8:2 i.e. we will allocate 80% of our dataset for training data and remaining 20% for testing purpose."
   ]
  },
  {
   "cell_type": "markdown",
   "metadata": {},
   "source": [
    "### Lets begin with baseline model, baseline model mean a model used with its own defalt hyperparameters without tuning any of the parameters by ourselves. We will tune it later on so that we can compare the different prediction and choose the best model"
   ]
  },
  {
   "cell_type": "code",
   "execution_count": 84,
   "metadata": {},
   "outputs": [],
   "source": [
    "np.random.seed(42)\n",
    "X_train,X_test,y_train,y_test = train_test_split(X,y,test_size= 0.2,random_state=42)"
   ]
  },
  {
   "cell_type": "markdown",
   "metadata": {},
   "source": [
    "\n",
    "> The test_size parameter is used to tell the train_test_split() function how much of our data we want in the test set.\n",
    "\n",
    "> A rule of thumb is to use 80% of your data to train on and the other 20% to test on.\n",
    "\n",
    "> For our problem, a train and test set are enough. But for other problems, you could also use a validation (train/validation/test) set or cross-validation (we'll see this in a second)."
   ]
  },
  {
   "cell_type": "code",
   "execution_count": 85,
   "metadata": {},
   "outputs": [],
   "source": [
    " rg = RandomForestRegressor(n_estimators=40)"
   ]
  },
  {
   "cell_type": "code",
   "execution_count": 86,
   "metadata": {},
   "outputs": [
    {
     "data": {
      "text/plain": [
       "((205, 26), (205,))"
      ]
     },
     "execution_count": 86,
     "metadata": {},
     "output_type": "execute_result"
    }
   ],
   "source": [
    "X_train.shape, y_train.shape"
   ]
  },
  {
   "cell_type": "code",
   "execution_count": 87,
   "metadata": {},
   "outputs": [
    {
     "data": {
      "text/plain": [
       "RandomForestRegressor(n_estimators=40)"
      ]
     },
     "execution_count": 87,
     "metadata": {},
     "output_type": "execute_result"
    }
   ],
   "source": [
    "rg.fit(X_train,y_train)"
   ]
  },
  {
   "cell_type": "code",
   "execution_count": 88,
   "metadata": {},
   "outputs": [
    {
     "data": {
      "text/plain": [
       "0.8546305531304393"
      ]
     },
     "execution_count": 88,
     "metadata": {},
     "output_type": "execute_result"
    }
   ],
   "source": [
    "rg.score(X_test,y_test)"
   ]
  },
  {
   "cell_type": "code",
   "execution_count": 89,
   "metadata": {},
   "outputs": [
    {
     "data": {
      "text/plain": [
       "0.9681763973991845"
      ]
     },
     "execution_count": 89,
     "metadata": {},
     "output_type": "execute_result"
    }
   ],
   "source": [
    "rg.score(X_train,y_train)"
   ]
  },
  {
   "cell_type": "markdown",
   "metadata": {},
   "source": [
    "# Here we can see that our model is able to predict with an accuracy of around 82% which did not fulfilled our requirements as we satetd in the begining that if our model can predict above 85% then only we will consider it as valid model"
   ]
  },
  {
   "cell_type": "markdown",
   "metadata": {},
   "source": [
    "### Feature Importance(Lets check which how the features are contributing to the dataset)\n",
    "\n",
    "Feature importance is another way of asking, \"which features contributing most to the outcomes of the model?\"\n",
    "\n",
    "Or for our problem, trying to predict new covid cases using different parameters, which parameter contribute most to a model predicting about the new covid cases.\n",
    "\n",
    "Unlike some of the other functions we've seen, because how each model finds patterns in data is slightly different, how a model judges how important those patterns are is different as well. This means for each model, there's a slightly different way of finding which features were most important.\n",
    "\n",
    "We can usually find an example via the Scikit-Learn documentation or via searching for something like \"[MODEL TYPE] feature importance\", such as, \"random forest feature importance\".\n",
    "\n",
    "Since we're using RandomForest Regression, we'll look at one way we can calculate feature importance for it.\n",
    "\n",
    "To do so, we'll use the feature_importance. Looking at the Scikit-Learn documentation for Random Forest Regression, the feature importance attribute is the coefficient of the features in the decision function.\n",
    "\n",
    "We can access the feature_importance attribute after we've fit an instance of RandomForestRegression."
   ]
  },
  {
   "cell_type": "code",
   "execution_count": 90,
   "metadata": {
    "scrolled": false
   },
   "outputs": [
    {
     "data": {
      "text/plain": [
       "{'total_cases': 0.4008295426580961,\n",
       " 'new_cases': 0.2421810875790911,\n",
       " 'total_deaths': 0.026695943478213996,\n",
       " 'new_deaths': 0.12498800762251258,\n",
       " 'new_tests': 0.028558618572420733,\n",
       " 'total_tests': 0.0940032032756925,\n",
       " 'tests_per_case': 0.048902630175202084,\n",
       " 'positive_rate': 0.0071626362366022205,\n",
       " 'stringency_index': 0.0,\n",
       " 'population': 0.0,\n",
       " 'population_density': 0.0,\n",
       " 'median_age': 0.0,\n",
       " 'aged_65_older': 0.0,\n",
       " 'aged_70_older': 0.0,\n",
       " 'gdp_per_capita': 0.0,\n",
       " 'extreme_poverty': 0.0,\n",
       " 'cardiovasc_death_rate': 0.0,\n",
       " 'diabetes_prevalence': 0.0,\n",
       " 'female_smokers': 0.0,\n",
       " 'male_smokers': 0.0,\n",
       " 'handwashing_facilities': 0.0,\n",
       " 'hospital_beds_per_thousand': 0.0,\n",
       " 'life_expectancy': 0.0,\n",
       " 'human_development_index': 0.0016077980355348727,\n",
       " 'month': 0.025070532366633647,\n",
       " 'day': 0.0}"
      ]
     },
     "execution_count": 90,
     "metadata": {},
     "output_type": "execute_result"
    }
   ],
   "source": [
    "feature_dict = dict(zip(nepal_case.columns, list(rg.feature_importances_)))\n",
    "feature_dict"
   ]
  },
  {
   "cell_type": "markdown",
   "metadata": {},
   "source": [
    "Looking at this it might not make much sense. But these values are how much each feature contributes to how a model makes a decision on whether patterns in a sample of data leans more towards predciting new covid cases or not.\n",
    "\n",
    "Even knowing this, in it's current form, this feature_importance still doesn't mean much. But it will if we combine it with the columns (features) of our dataframe."
   ]
  },
  {
   "cell_type": "code",
   "execution_count": 91,
   "metadata": {
    "scrolled": true
   },
   "outputs": [
    {
     "data": {
      "image/png": "[encoded data removed]",
      "text/plain": [
       "<Figure size 432x288 with 1 Axes>"
      ]
     },
     "metadata": {
      "needs_background": "light"
     },
     "output_type": "display_data"
    }
   ],
   "source": [
    "# Visualize feature importance\n",
    "feature_df = pd.DataFrame(feature_dict, index=[0])\n",
    "feature_df.T.plot.bar(title=\"Feature Importance\", legend=False);"
   ]
  },
  {
   "cell_type": "code",
   "execution_count": 92,
   "metadata": {},
   "outputs": [
    {
     "name": "stderr",
     "output_type": "stream",
     "text": [
      "C:\\Users\\Dell\\anaconda3\\lib\\site-packages\\pandas\\core\\frame.py:3990: SettingWithCopyWarning: \n",
      "A value is trying to be set on a copy of a slice from a DataFrame\n",
      "\n",
      "See the caveats in the documentation: https://pandas.pydata.org/pandas-docs/stable/user_guide/indexing.html#returning-a-view-versus-a-copy\n",
      "  return super().drop(\n"
     ]
    }
   ],
   "source": [
    "nepal_case.drop(labels=['stringency_index','population','population_density','median_age','aged_65_older','aged_70_older','gdp_per_capita','extreme_poverty','cardiovasc_death_rate','diabetes_prevalence','female_smokers','male_smokers','handwashing_facilities','hospital_beds_per_thousand','life_expectancy','day'],axis=1,inplace=True)"
   ]
  },
  {
   "cell_type": "code",
   "execution_count": 93,
   "metadata": {},
   "outputs": [
    {
     "data": {
      "text/plain": [
       "array([0.40082954, 0.24218109, 0.02669594, 0.12498801, 0.02855862,\n",
       "       0.0940032 , 0.04890263, 0.00716264, 0.        , 0.        ,\n",
       "       0.        , 0.        , 0.        , 0.        , 0.        ,\n",
       "       0.        , 0.        , 0.        , 0.        , 0.        ,\n",
       "       0.        , 0.        , 0.        , 0.0016078 , 0.02507053,\n",
       "       0.        ])"
      ]
     },
     "execution_count": 93,
     "metadata": {},
     "output_type": "execute_result"
    }
   ],
   "source": [
    "rg.feature_importances_"
   ]
  },
  {
   "cell_type": "code",
   "execution_count": 94,
   "metadata": {},
   "outputs": [
    {
     "data": {
      "text/html": [
       "<div>\n",
       "<style scoped>\n",
       "    .dataframe tbody tr th:only-of-type {\n",
       "        vertical-align: middle;\n",
       "    }\n",
       "\n",
       "    .dataframe tbody tr th {\n",
       "        vertical-align: top;\n",
       "    }\n",
       "\n",
       "    .dataframe thead th {\n",
       "        text-align: right;\n",
       "    }\n",
       "</style>\n",
       "<table border=\"1\" class=\"dataframe\">\n",
       "  <thead>\n",
       "    <tr style=\"text-align: right;\">\n",
       "      <th></th>\n",
       "      <th>total_cases</th>\n",
       "      <th>new_cases</th>\n",
       "      <th>total_deaths</th>\n",
       "      <th>new_deaths</th>\n",
       "      <th>new_tests</th>\n",
       "      <th>total_tests</th>\n",
       "      <th>tests_per_case</th>\n",
       "      <th>positive_rate</th>\n",
       "      <th>human_development_index</th>\n",
       "      <th>month</th>\n",
       "      <th>year</th>\n",
       "    </tr>\n",
       "  </thead>\n",
       "  <tbody>\n",
       "    <tr>\n",
       "      <th>27433</th>\n",
       "      <td>0.0</td>\n",
       "      <td>0.0</td>\n",
       "      <td>0.0</td>\n",
       "      <td>0.0</td>\n",
       "      <td>4228.772487</td>\n",
       "      <td>188029.044554</td>\n",
       "      <td>100.054624</td>\n",
       "      <td>0.030717</td>\n",
       "      <td>0.574</td>\n",
       "      <td>12</td>\n",
       "      <td>2019</td>\n",
       "    </tr>\n",
       "    <tr>\n",
       "      <th>27434</th>\n",
       "      <td>0.0</td>\n",
       "      <td>0.0</td>\n",
       "      <td>0.0</td>\n",
       "      <td>0.0</td>\n",
       "      <td>4228.772487</td>\n",
       "      <td>188029.044554</td>\n",
       "      <td>100.054624</td>\n",
       "      <td>0.030717</td>\n",
       "      <td>0.574</td>\n",
       "      <td>1</td>\n",
       "      <td>2020</td>\n",
       "    </tr>\n",
       "    <tr>\n",
       "      <th>27435</th>\n",
       "      <td>0.0</td>\n",
       "      <td>0.0</td>\n",
       "      <td>0.0</td>\n",
       "      <td>0.0</td>\n",
       "      <td>4228.772487</td>\n",
       "      <td>188029.044554</td>\n",
       "      <td>100.054624</td>\n",
       "      <td>0.030717</td>\n",
       "      <td>0.574</td>\n",
       "      <td>1</td>\n",
       "      <td>2020</td>\n",
       "    </tr>\n",
       "    <tr>\n",
       "      <th>27436</th>\n",
       "      <td>0.0</td>\n",
       "      <td>0.0</td>\n",
       "      <td>0.0</td>\n",
       "      <td>0.0</td>\n",
       "      <td>4228.772487</td>\n",
       "      <td>188029.044554</td>\n",
       "      <td>100.054624</td>\n",
       "      <td>0.030717</td>\n",
       "      <td>0.574</td>\n",
       "      <td>1</td>\n",
       "      <td>2020</td>\n",
       "    </tr>\n",
       "    <tr>\n",
       "      <th>27437</th>\n",
       "      <td>0.0</td>\n",
       "      <td>0.0</td>\n",
       "      <td>0.0</td>\n",
       "      <td>0.0</td>\n",
       "      <td>4228.772487</td>\n",
       "      <td>188029.044554</td>\n",
       "      <td>100.054624</td>\n",
       "      <td>0.030717</td>\n",
       "      <td>0.574</td>\n",
       "      <td>1</td>\n",
       "      <td>2020</td>\n",
       "    </tr>\n",
       "  </tbody>\n",
       "</table>\n",
       "</div>"
      ],
      "text/plain": [
       "       total_cases  new_cases  total_deaths  new_deaths    new_tests  \\\n",
       "27433          0.0        0.0           0.0         0.0  4228.772487   \n",
       "27434          0.0        0.0           0.0         0.0  4228.772487   \n",
       "27435          0.0        0.0           0.0         0.0  4228.772487   \n",
       "27436          0.0        0.0           0.0         0.0  4228.772487   \n",
       "27437          0.0        0.0           0.0         0.0  4228.772487   \n",
       "\n",
       "         total_tests  tests_per_case  positive_rate  human_development_index  \\\n",
       "27433  188029.044554      100.054624       0.030717                    0.574   \n",
       "27434  188029.044554      100.054624       0.030717                    0.574   \n",
       "27435  188029.044554      100.054624       0.030717                    0.574   \n",
       "27436  188029.044554      100.054624       0.030717                    0.574   \n",
       "27437  188029.044554      100.054624       0.030717                    0.574   \n",
       "\n",
       "       month  year  \n",
       "27433     12  2019  \n",
       "27434      1  2020  \n",
       "27435      1  2020  \n",
       "27436      1  2020  \n",
       "27437      1  2020  "
      ]
     },
     "execution_count": 94,
     "metadata": {},
     "output_type": "execute_result"
    }
   ],
   "source": [
    "nepal_case.head()"
   ]
  },
  {
   "cell_type": "code",
   "execution_count": 95,
   "metadata": {},
   "outputs": [],
   "source": [
    "X = nepal_case.drop('new_cases',axis=1)\n",
    "y = nepal_case['new_cases']"
   ]
  },
  {
   "cell_type": "code",
   "execution_count": 96,
   "metadata": {},
   "outputs": [],
   "source": [
    "np.random.seed(42)\n",
    "X_train,X_test,y_train,y_test = train_test_split(X,y,test_size=0.2,random_state=42)"
   ]
  },
  {
   "cell_type": "code",
   "execution_count": 97,
   "metadata": {},
   "outputs": [
    {
     "data": {
      "text/plain": [
       "RandomForestRegressor(n_estimators=40)"
      ]
     },
     "execution_count": 97,
     "metadata": {},
     "output_type": "execute_result"
    }
   ],
   "source": [
    "rg.fit(X_train,y_train)"
   ]
  },
  {
   "cell_type": "code",
   "execution_count": 98,
   "metadata": {},
   "outputs": [
    {
     "data": {
      "text/plain": [
       "0.857870166385709"
      ]
     },
     "execution_count": 98,
     "metadata": {},
     "output_type": "execute_result"
    }
   ],
   "source": [
    "rg.score(X_test,y_test)"
   ]
  },
  {
   "cell_type": "code",
   "execution_count": 99,
   "metadata": {},
   "outputs": [
    {
     "data": {
      "text/plain": [
       "0.9671947910906121"
      ]
     },
     "execution_count": 99,
     "metadata": {},
     "output_type": "execute_result"
    }
   ],
   "source": [
    "rg.score(X_train,y_train)"
   ]
  },
  {
   "cell_type": "code",
   "execution_count": 100,
   "metadata": {},
   "outputs": [
    {
     "data": {
      "text/plain": [
       "array([0.46383116, 0.20498427, 0.01406976, 0.12595279, 0.03564429,\n",
       "       0.10640676, 0.04639461, 0.        , 0.00271636, 0.        ])"
      ]
     },
     "execution_count": 100,
     "metadata": {},
     "output_type": "execute_result"
    }
   ],
   "source": [
    "rg.feature_importances_"
   ]
  },
  {
   "cell_type": "code",
   "execution_count": 101,
   "metadata": {},
   "outputs": [
    {
     "data": {
      "text/plain": [
       "-58.46005859679938"
      ]
     },
     "execution_count": 101,
     "metadata": {},
     "output_type": "execute_result"
    }
   ],
   "source": [
    "np.mean(cross_val_score(rg,X_train,y_train,cv=10,scoring='neg_mean_absolute_error'))"
   ]
  },
  {
   "cell_type": "code",
   "execution_count": 102,
   "metadata": {},
   "outputs": [
    {
     "data": {
      "text/plain": [
       "{'total_cases': 0.4638311568828807,\n",
       " 'new_cases': 0.20498427002509706,\n",
       " 'total_deaths': 0.014069762383131337,\n",
       " 'new_deaths': 0.12595278960095418,\n",
       " 'new_tests': 0.03564429123006195,\n",
       " 'total_tests': 0.10640675513783045,\n",
       " 'tests_per_case': 0.04639461124752915,\n",
       " 'positive_rate': 0.0,\n",
       " 'human_development_index': 0.0027163634925151344,\n",
       " 'month': 0.0}"
      ]
     },
     "execution_count": 102,
     "metadata": {},
     "output_type": "execute_result"
    }
   ],
   "source": [
    "feature_dict = dict(zip(nepal_case.columns, list(rg.feature_importances_)))\n",
    "feature_dict"
   ]
  },
  {
   "cell_type": "code",
   "execution_count": 103,
   "metadata": {},
   "outputs": [
    {
     "data": {
      "image/png": "[encoded data removed]",
      "text/plain": [
       "<Figure size 432x288 with 1 Axes>"
      ]
     },
     "metadata": {
      "needs_background": "light"
     },
     "output_type": "display_data"
    }
   ],
   "source": [
    "# Visualize feature importance\n",
    "feature_df = pd.DataFrame(feature_dict, index=[0])\n",
    "feature_df.T.plot.bar(title=\"Feature Importance\", legend=False);"
   ]
  },
  {
   "cell_type": "code",
   "execution_count": 104,
   "metadata": {},
   "outputs": [
    {
     "data": {
      "text/plain": [
       "array([0.46383116, 0.20498427, 0.01406976, 0.12595279, 0.03564429,\n",
       "       0.10640676, 0.04639461, 0.        , 0.00271636, 0.        ])"
      ]
     },
     "execution_count": 104,
     "metadata": {},
     "output_type": "execute_result"
    }
   ],
   "source": [
    "rg.feature_importances_"
   ]
  },
  {
   "cell_type": "code",
   "execution_count": 105,
   "metadata": {},
   "outputs": [
    {
     "data": {
      "text/html": [
       "<div>\n",
       "<style scoped>\n",
       "    .dataframe tbody tr th:only-of-type {\n",
       "        vertical-align: middle;\n",
       "    }\n",
       "\n",
       "    .dataframe tbody tr th {\n",
       "        vertical-align: top;\n",
       "    }\n",
       "\n",
       "    .dataframe thead th {\n",
       "        text-align: right;\n",
       "    }\n",
       "</style>\n",
       "<table border=\"1\" class=\"dataframe\">\n",
       "  <thead>\n",
       "    <tr style=\"text-align: right;\">\n",
       "      <th></th>\n",
       "      <th>total_cases</th>\n",
       "      <th>new_cases</th>\n",
       "      <th>total_deaths</th>\n",
       "      <th>new_deaths</th>\n",
       "      <th>new_tests</th>\n",
       "      <th>total_tests</th>\n",
       "      <th>tests_per_case</th>\n",
       "      <th>positive_rate</th>\n",
       "      <th>human_development_index</th>\n",
       "      <th>month</th>\n",
       "      <th>year</th>\n",
       "    </tr>\n",
       "  </thead>\n",
       "  <tbody>\n",
       "    <tr>\n",
       "      <th>27433</th>\n",
       "      <td>0.0</td>\n",
       "      <td>0.0</td>\n",
       "      <td>0.0</td>\n",
       "      <td>0.0</td>\n",
       "      <td>4228.772487</td>\n",
       "      <td>188029.044554</td>\n",
       "      <td>100.054624</td>\n",
       "      <td>0.030717</td>\n",
       "      <td>0.574</td>\n",
       "      <td>12</td>\n",
       "      <td>2019</td>\n",
       "    </tr>\n",
       "    <tr>\n",
       "      <th>27434</th>\n",
       "      <td>0.0</td>\n",
       "      <td>0.0</td>\n",
       "      <td>0.0</td>\n",
       "      <td>0.0</td>\n",
       "      <td>4228.772487</td>\n",
       "      <td>188029.044554</td>\n",
       "      <td>100.054624</td>\n",
       "      <td>0.030717</td>\n",
       "      <td>0.574</td>\n",
       "      <td>1</td>\n",
       "      <td>2020</td>\n",
       "    </tr>\n",
       "    <tr>\n",
       "      <th>27435</th>\n",
       "      <td>0.0</td>\n",
       "      <td>0.0</td>\n",
       "      <td>0.0</td>\n",
       "      <td>0.0</td>\n",
       "      <td>4228.772487</td>\n",
       "      <td>188029.044554</td>\n",
       "      <td>100.054624</td>\n",
       "      <td>0.030717</td>\n",
       "      <td>0.574</td>\n",
       "      <td>1</td>\n",
       "      <td>2020</td>\n",
       "    </tr>\n",
       "    <tr>\n",
       "      <th>27436</th>\n",
       "      <td>0.0</td>\n",
       "      <td>0.0</td>\n",
       "      <td>0.0</td>\n",
       "      <td>0.0</td>\n",
       "      <td>4228.772487</td>\n",
       "      <td>188029.044554</td>\n",
       "      <td>100.054624</td>\n",
       "      <td>0.030717</td>\n",
       "      <td>0.574</td>\n",
       "      <td>1</td>\n",
       "      <td>2020</td>\n",
       "    </tr>\n",
       "    <tr>\n",
       "      <th>27437</th>\n",
       "      <td>0.0</td>\n",
       "      <td>0.0</td>\n",
       "      <td>0.0</td>\n",
       "      <td>0.0</td>\n",
       "      <td>4228.772487</td>\n",
       "      <td>188029.044554</td>\n",
       "      <td>100.054624</td>\n",
       "      <td>0.030717</td>\n",
       "      <td>0.574</td>\n",
       "      <td>1</td>\n",
       "      <td>2020</td>\n",
       "    </tr>\n",
       "  </tbody>\n",
       "</table>\n",
       "</div>"
      ],
      "text/plain": [
       "       total_cases  new_cases  total_deaths  new_deaths    new_tests  \\\n",
       "27433          0.0        0.0           0.0         0.0  4228.772487   \n",
       "27434          0.0        0.0           0.0         0.0  4228.772487   \n",
       "27435          0.0        0.0           0.0         0.0  4228.772487   \n",
       "27436          0.0        0.0           0.0         0.0  4228.772487   \n",
       "27437          0.0        0.0           0.0         0.0  4228.772487   \n",
       "\n",
       "         total_tests  tests_per_case  positive_rate  human_development_index  \\\n",
       "27433  188029.044554      100.054624       0.030717                    0.574   \n",
       "27434  188029.044554      100.054624       0.030717                    0.574   \n",
       "27435  188029.044554      100.054624       0.030717                    0.574   \n",
       "27436  188029.044554      100.054624       0.030717                    0.574   \n",
       "27437  188029.044554      100.054624       0.030717                    0.574   \n",
       "\n",
       "       month  year  \n",
       "27433     12  2019  \n",
       "27434      1  2020  \n",
       "27435      1  2020  \n",
       "27436      1  2020  \n",
       "27437      1  2020  "
      ]
     },
     "execution_count": 105,
     "metadata": {},
     "output_type": "execute_result"
    }
   ],
   "source": [
    "nepal_case.head()"
   ]
  },
  {
   "cell_type": "code",
   "execution_count": 106,
   "metadata": {},
   "outputs": [],
   "source": [
    "df = nepal_case.copy()"
   ]
  },
  {
   "cell_type": "code",
   "execution_count": 107,
   "metadata": {},
   "outputs": [
    {
     "data": {
      "text/html": [
       "<div>\n",
       "<style scoped>\n",
       "    .dataframe tbody tr th:only-of-type {\n",
       "        vertical-align: middle;\n",
       "    }\n",
       "\n",
       "    .dataframe tbody tr th {\n",
       "        vertical-align: top;\n",
       "    }\n",
       "\n",
       "    .dataframe thead th {\n",
       "        text-align: right;\n",
       "    }\n",
       "</style>\n",
       "<table border=\"1\" class=\"dataframe\">\n",
       "  <thead>\n",
       "    <tr style=\"text-align: right;\">\n",
       "      <th></th>\n",
       "      <th>total_cases</th>\n",
       "      <th>new_cases</th>\n",
       "      <th>total_deaths</th>\n",
       "      <th>new_deaths</th>\n",
       "      <th>new_tests</th>\n",
       "      <th>total_tests</th>\n",
       "      <th>tests_per_case</th>\n",
       "      <th>positive_rate</th>\n",
       "      <th>human_development_index</th>\n",
       "      <th>month</th>\n",
       "      <th>year</th>\n",
       "    </tr>\n",
       "  </thead>\n",
       "  <tbody>\n",
       "    <tr>\n",
       "      <th>27433</th>\n",
       "      <td>0.0</td>\n",
       "      <td>0.0</td>\n",
       "      <td>0.0</td>\n",
       "      <td>0.0</td>\n",
       "      <td>4228.772487</td>\n",
       "      <td>188029.044554</td>\n",
       "      <td>100.054624</td>\n",
       "      <td>0.030717</td>\n",
       "      <td>0.574</td>\n",
       "      <td>12</td>\n",
       "      <td>2019</td>\n",
       "    </tr>\n",
       "    <tr>\n",
       "      <th>27434</th>\n",
       "      <td>0.0</td>\n",
       "      <td>0.0</td>\n",
       "      <td>0.0</td>\n",
       "      <td>0.0</td>\n",
       "      <td>4228.772487</td>\n",
       "      <td>188029.044554</td>\n",
       "      <td>100.054624</td>\n",
       "      <td>0.030717</td>\n",
       "      <td>0.574</td>\n",
       "      <td>1</td>\n",
       "      <td>2020</td>\n",
       "    </tr>\n",
       "    <tr>\n",
       "      <th>27435</th>\n",
       "      <td>0.0</td>\n",
       "      <td>0.0</td>\n",
       "      <td>0.0</td>\n",
       "      <td>0.0</td>\n",
       "      <td>4228.772487</td>\n",
       "      <td>188029.044554</td>\n",
       "      <td>100.054624</td>\n",
       "      <td>0.030717</td>\n",
       "      <td>0.574</td>\n",
       "      <td>1</td>\n",
       "      <td>2020</td>\n",
       "    </tr>\n",
       "    <tr>\n",
       "      <th>27436</th>\n",
       "      <td>0.0</td>\n",
       "      <td>0.0</td>\n",
       "      <td>0.0</td>\n",
       "      <td>0.0</td>\n",
       "      <td>4228.772487</td>\n",
       "      <td>188029.044554</td>\n",
       "      <td>100.054624</td>\n",
       "      <td>0.030717</td>\n",
       "      <td>0.574</td>\n",
       "      <td>1</td>\n",
       "      <td>2020</td>\n",
       "    </tr>\n",
       "    <tr>\n",
       "      <th>27437</th>\n",
       "      <td>0.0</td>\n",
       "      <td>0.0</td>\n",
       "      <td>0.0</td>\n",
       "      <td>0.0</td>\n",
       "      <td>4228.772487</td>\n",
       "      <td>188029.044554</td>\n",
       "      <td>100.054624</td>\n",
       "      <td>0.030717</td>\n",
       "      <td>0.574</td>\n",
       "      <td>1</td>\n",
       "      <td>2020</td>\n",
       "    </tr>\n",
       "  </tbody>\n",
       "</table>\n",
       "</div>"
      ],
      "text/plain": [
       "       total_cases  new_cases  total_deaths  new_deaths    new_tests  \\\n",
       "27433          0.0        0.0           0.0         0.0  4228.772487   \n",
       "27434          0.0        0.0           0.0         0.0  4228.772487   \n",
       "27435          0.0        0.0           0.0         0.0  4228.772487   \n",
       "27436          0.0        0.0           0.0         0.0  4228.772487   \n",
       "27437          0.0        0.0           0.0         0.0  4228.772487   \n",
       "\n",
       "         total_tests  tests_per_case  positive_rate  human_development_index  \\\n",
       "27433  188029.044554      100.054624       0.030717                    0.574   \n",
       "27434  188029.044554      100.054624       0.030717                    0.574   \n",
       "27435  188029.044554      100.054624       0.030717                    0.574   \n",
       "27436  188029.044554      100.054624       0.030717                    0.574   \n",
       "27437  188029.044554      100.054624       0.030717                    0.574   \n",
       "\n",
       "       month  year  \n",
       "27433     12  2019  \n",
       "27434      1  2020  \n",
       "27435      1  2020  \n",
       "27436      1  2020  \n",
       "27437      1  2020  "
      ]
     },
     "execution_count": 107,
     "metadata": {},
     "output_type": "execute_result"
    }
   ],
   "source": [
    "df.head()"
   ]
  },
  {
   "cell_type": "code",
   "execution_count": 108,
   "metadata": {},
   "outputs": [],
   "source": [
    "df.drop(labels=['positive_rate','month','human_development_index'],axis=1,inplace=True)"
   ]
  },
  {
   "cell_type": "code",
   "execution_count": 109,
   "metadata": {},
   "outputs": [
    {
     "data": {
      "text/html": [
       "<div>\n",
       "<style scoped>\n",
       "    .dataframe tbody tr th:only-of-type {\n",
       "        vertical-align: middle;\n",
       "    }\n",
       "\n",
       "    .dataframe tbody tr th {\n",
       "        vertical-align: top;\n",
       "    }\n",
       "\n",
       "    .dataframe thead th {\n",
       "        text-align: right;\n",
       "    }\n",
       "</style>\n",
       "<table border=\"1\" class=\"dataframe\">\n",
       "  <thead>\n",
       "    <tr style=\"text-align: right;\">\n",
       "      <th></th>\n",
       "      <th>total_cases</th>\n",
       "      <th>new_cases</th>\n",
       "      <th>total_deaths</th>\n",
       "      <th>new_deaths</th>\n",
       "      <th>new_tests</th>\n",
       "      <th>total_tests</th>\n",
       "      <th>tests_per_case</th>\n",
       "      <th>year</th>\n",
       "    </tr>\n",
       "  </thead>\n",
       "  <tbody>\n",
       "    <tr>\n",
       "      <th>27433</th>\n",
       "      <td>0.0</td>\n",
       "      <td>0.0</td>\n",
       "      <td>0.0</td>\n",
       "      <td>0.0</td>\n",
       "      <td>4228.772487</td>\n",
       "      <td>188029.044554</td>\n",
       "      <td>100.054624</td>\n",
       "      <td>2019</td>\n",
       "    </tr>\n",
       "    <tr>\n",
       "      <th>27434</th>\n",
       "      <td>0.0</td>\n",
       "      <td>0.0</td>\n",
       "      <td>0.0</td>\n",
       "      <td>0.0</td>\n",
       "      <td>4228.772487</td>\n",
       "      <td>188029.044554</td>\n",
       "      <td>100.054624</td>\n",
       "      <td>2020</td>\n",
       "    </tr>\n",
       "    <tr>\n",
       "      <th>27435</th>\n",
       "      <td>0.0</td>\n",
       "      <td>0.0</td>\n",
       "      <td>0.0</td>\n",
       "      <td>0.0</td>\n",
       "      <td>4228.772487</td>\n",
       "      <td>188029.044554</td>\n",
       "      <td>100.054624</td>\n",
       "      <td>2020</td>\n",
       "    </tr>\n",
       "    <tr>\n",
       "      <th>27436</th>\n",
       "      <td>0.0</td>\n",
       "      <td>0.0</td>\n",
       "      <td>0.0</td>\n",
       "      <td>0.0</td>\n",
       "      <td>4228.772487</td>\n",
       "      <td>188029.044554</td>\n",
       "      <td>100.054624</td>\n",
       "      <td>2020</td>\n",
       "    </tr>\n",
       "    <tr>\n",
       "      <th>27437</th>\n",
       "      <td>0.0</td>\n",
       "      <td>0.0</td>\n",
       "      <td>0.0</td>\n",
       "      <td>0.0</td>\n",
       "      <td>4228.772487</td>\n",
       "      <td>188029.044554</td>\n",
       "      <td>100.054624</td>\n",
       "      <td>2020</td>\n",
       "    </tr>\n",
       "  </tbody>\n",
       "</table>\n",
       "</div>"
      ],
      "text/plain": [
       "       total_cases  new_cases  total_deaths  new_deaths    new_tests  \\\n",
       "27433          0.0        0.0           0.0         0.0  4228.772487   \n",
       "27434          0.0        0.0           0.0         0.0  4228.772487   \n",
       "27435          0.0        0.0           0.0         0.0  4228.772487   \n",
       "27436          0.0        0.0           0.0         0.0  4228.772487   \n",
       "27437          0.0        0.0           0.0         0.0  4228.772487   \n",
       "\n",
       "         total_tests  tests_per_case  year  \n",
       "27433  188029.044554      100.054624  2019  \n",
       "27434  188029.044554      100.054624  2020  \n",
       "27435  188029.044554      100.054624  2020  \n",
       "27436  188029.044554      100.054624  2020  \n",
       "27437  188029.044554      100.054624  2020  "
      ]
     },
     "execution_count": 109,
     "metadata": {},
     "output_type": "execute_result"
    }
   ],
   "source": [
    "df.head()"
   ]
  },
  {
   "cell_type": "code",
   "execution_count": 110,
   "metadata": {},
   "outputs": [],
   "source": [
    "X = df.drop('new_cases',axis=1)\n",
    "y = df['new_cases']"
   ]
  },
  {
   "cell_type": "code",
   "execution_count": 111,
   "metadata": {},
   "outputs": [],
   "source": [
    "np.random.seed(42)\n",
    "X_train,X_test,y_train,y_test = train_test_split(X,y,test_size=0.2,random_state=42)"
   ]
  },
  {
   "cell_type": "code",
   "execution_count": 112,
   "metadata": {},
   "outputs": [],
   "source": [
    "rg_2 = RandomForestRegressor()"
   ]
  },
  {
   "cell_type": "code",
   "execution_count": 113,
   "metadata": {},
   "outputs": [
    {
     "data": {
      "text/plain": [
       "RandomForestRegressor()"
      ]
     },
     "execution_count": 113,
     "metadata": {},
     "output_type": "execute_result"
    }
   ],
   "source": [
    "rg_2.fit(X_train,y_train)"
   ]
  },
  {
   "cell_type": "code",
   "execution_count": 114,
   "metadata": {},
   "outputs": [
    {
     "data": {
      "text/plain": [
       "0.8654253040650021"
      ]
     },
     "execution_count": 114,
     "metadata": {},
     "output_type": "execute_result"
    }
   ],
   "source": [
    "rg_2.score(X_test,y_test)"
   ]
  },
  {
   "cell_type": "code",
   "execution_count": 115,
   "metadata": {},
   "outputs": [
    {
     "data": {
      "text/plain": [
       "0.9719752431574603"
      ]
     },
     "execution_count": 115,
     "metadata": {},
     "output_type": "execute_result"
    }
   ],
   "source": [
    "rg_2.score(X_train,y_train)"
   ]
  },
  {
   "cell_type": "code",
   "execution_count": 116,
   "metadata": {},
   "outputs": [],
   "source": [
    "y_predictor_1 = rg_2.predict(X_test)"
   ]
  },
  {
   "cell_type": "code",
   "execution_count": 117,
   "metadata": {},
   "outputs": [],
   "source": [
    "df_2 = df.copy()"
   ]
  },
  {
   "cell_type": "code",
   "execution_count": 118,
   "metadata": {},
   "outputs": [
    {
     "data": {
      "text/html": [
       "<div>\n",
       "<style scoped>\n",
       "    .dataframe tbody tr th:only-of-type {\n",
       "        vertical-align: middle;\n",
       "    }\n",
       "\n",
       "    .dataframe tbody tr th {\n",
       "        vertical-align: top;\n",
       "    }\n",
       "\n",
       "    .dataframe thead th {\n",
       "        text-align: right;\n",
       "    }\n",
       "</style>\n",
       "<table border=\"1\" class=\"dataframe\">\n",
       "  <thead>\n",
       "    <tr style=\"text-align: right;\">\n",
       "      <th></th>\n",
       "      <th>total_cases</th>\n",
       "      <th>new_cases</th>\n",
       "      <th>total_deaths</th>\n",
       "      <th>new_deaths</th>\n",
       "      <th>new_tests</th>\n",
       "      <th>total_tests</th>\n",
       "      <th>tests_per_case</th>\n",
       "      <th>year</th>\n",
       "    </tr>\n",
       "  </thead>\n",
       "  <tbody>\n",
       "    <tr>\n",
       "      <th>27433</th>\n",
       "      <td>0.0</td>\n",
       "      <td>0.0</td>\n",
       "      <td>0.0</td>\n",
       "      <td>0.0</td>\n",
       "      <td>4228.772487</td>\n",
       "      <td>188029.044554</td>\n",
       "      <td>100.054624</td>\n",
       "      <td>2019</td>\n",
       "    </tr>\n",
       "    <tr>\n",
       "      <th>27434</th>\n",
       "      <td>0.0</td>\n",
       "      <td>0.0</td>\n",
       "      <td>0.0</td>\n",
       "      <td>0.0</td>\n",
       "      <td>4228.772487</td>\n",
       "      <td>188029.044554</td>\n",
       "      <td>100.054624</td>\n",
       "      <td>2020</td>\n",
       "    </tr>\n",
       "    <tr>\n",
       "      <th>27435</th>\n",
       "      <td>0.0</td>\n",
       "      <td>0.0</td>\n",
       "      <td>0.0</td>\n",
       "      <td>0.0</td>\n",
       "      <td>4228.772487</td>\n",
       "      <td>188029.044554</td>\n",
       "      <td>100.054624</td>\n",
       "      <td>2020</td>\n",
       "    </tr>\n",
       "    <tr>\n",
       "      <th>27436</th>\n",
       "      <td>0.0</td>\n",
       "      <td>0.0</td>\n",
       "      <td>0.0</td>\n",
       "      <td>0.0</td>\n",
       "      <td>4228.772487</td>\n",
       "      <td>188029.044554</td>\n",
       "      <td>100.054624</td>\n",
       "      <td>2020</td>\n",
       "    </tr>\n",
       "    <tr>\n",
       "      <th>27437</th>\n",
       "      <td>0.0</td>\n",
       "      <td>0.0</td>\n",
       "      <td>0.0</td>\n",
       "      <td>0.0</td>\n",
       "      <td>4228.772487</td>\n",
       "      <td>188029.044554</td>\n",
       "      <td>100.054624</td>\n",
       "      <td>2020</td>\n",
       "    </tr>\n",
       "  </tbody>\n",
       "</table>\n",
       "</div>"
      ],
      "text/plain": [
       "       total_cases  new_cases  total_deaths  new_deaths    new_tests  \\\n",
       "27433          0.0        0.0           0.0         0.0  4228.772487   \n",
       "27434          0.0        0.0           0.0         0.0  4228.772487   \n",
       "27435          0.0        0.0           0.0         0.0  4228.772487   \n",
       "27436          0.0        0.0           0.0         0.0  4228.772487   \n",
       "27437          0.0        0.0           0.0         0.0  4228.772487   \n",
       "\n",
       "         total_tests  tests_per_case  year  \n",
       "27433  188029.044554      100.054624  2019  \n",
       "27434  188029.044554      100.054624  2020  \n",
       "27435  188029.044554      100.054624  2020  \n",
       "27436  188029.044554      100.054624  2020  \n",
       "27437  188029.044554      100.054624  2020  "
      ]
     },
     "execution_count": 118,
     "metadata": {},
     "output_type": "execute_result"
    }
   ],
   "source": [
    "df_2.head()"
   ]
  },
  {
   "cell_type": "code",
   "execution_count": 119,
   "metadata": {},
   "outputs": [
    {
     "data": {
      "text/plain": [
       "{'total_cases': 0.4638311568828807,\n",
       " 'new_cases': 0.20498427002509706,\n",
       " 'total_deaths': 0.014069762383131337,\n",
       " 'new_deaths': 0.12595278960095418,\n",
       " 'new_tests': 0.03564429123006195,\n",
       " 'total_tests': 0.10640675513783045,\n",
       " 'tests_per_case': 0.04639461124752915,\n",
       " 'year': 0.0}"
      ]
     },
     "execution_count": 119,
     "metadata": {},
     "output_type": "execute_result"
    }
   ],
   "source": [
    "feature_dict = dict(zip(df.columns, list(rg.feature_importances_)))\n",
    "feature_dict"
   ]
  },
  {
   "cell_type": "code",
   "execution_count": 120,
   "metadata": {},
   "outputs": [
    {
     "data": {
      "image/png": "[encoded data removed]",
      "text/plain": [
       "<Figure size 432x288 with 1 Axes>"
      ]
     },
     "metadata": {
      "needs_background": "light"
     },
     "output_type": "display_data"
    }
   ],
   "source": [
    "# Visualize feature importance\n",
    "feature_df = pd.DataFrame(feature_dict, index=[0])\n",
    "feature_df.T.plot.bar(title=\"Feature Importance\", legend=False);"
   ]
  },
  {
   "cell_type": "code",
   "execution_count": 121,
   "metadata": {},
   "outputs": [],
   "source": [
    "df_2.drop(labels=['tests_per_case'],axis=1,inplace=True)"
   ]
  },
  {
   "cell_type": "code",
   "execution_count": 122,
   "metadata": {},
   "outputs": [
    {
     "data": {
      "text/html": [
       "<div>\n",
       "<style scoped>\n",
       "    .dataframe tbody tr th:only-of-type {\n",
       "        vertical-align: middle;\n",
       "    }\n",
       "\n",
       "    .dataframe tbody tr th {\n",
       "        vertical-align: top;\n",
       "    }\n",
       "\n",
       "    .dataframe thead th {\n",
       "        text-align: right;\n",
       "    }\n",
       "</style>\n",
       "<table border=\"1\" class=\"dataframe\">\n",
       "  <thead>\n",
       "    <tr style=\"text-align: right;\">\n",
       "      <th></th>\n",
       "      <th>total_cases</th>\n",
       "      <th>new_cases</th>\n",
       "      <th>total_deaths</th>\n",
       "      <th>new_deaths</th>\n",
       "      <th>new_tests</th>\n",
       "      <th>total_tests</th>\n",
       "      <th>year</th>\n",
       "    </tr>\n",
       "  </thead>\n",
       "  <tbody>\n",
       "    <tr>\n",
       "      <th>27433</th>\n",
       "      <td>0.0</td>\n",
       "      <td>0.0</td>\n",
       "      <td>0.0</td>\n",
       "      <td>0.0</td>\n",
       "      <td>4228.772487</td>\n",
       "      <td>188029.044554</td>\n",
       "      <td>2019</td>\n",
       "    </tr>\n",
       "    <tr>\n",
       "      <th>27434</th>\n",
       "      <td>0.0</td>\n",
       "      <td>0.0</td>\n",
       "      <td>0.0</td>\n",
       "      <td>0.0</td>\n",
       "      <td>4228.772487</td>\n",
       "      <td>188029.044554</td>\n",
       "      <td>2020</td>\n",
       "    </tr>\n",
       "    <tr>\n",
       "      <th>27435</th>\n",
       "      <td>0.0</td>\n",
       "      <td>0.0</td>\n",
       "      <td>0.0</td>\n",
       "      <td>0.0</td>\n",
       "      <td>4228.772487</td>\n",
       "      <td>188029.044554</td>\n",
       "      <td>2020</td>\n",
       "    </tr>\n",
       "    <tr>\n",
       "      <th>27436</th>\n",
       "      <td>0.0</td>\n",
       "      <td>0.0</td>\n",
       "      <td>0.0</td>\n",
       "      <td>0.0</td>\n",
       "      <td>4228.772487</td>\n",
       "      <td>188029.044554</td>\n",
       "      <td>2020</td>\n",
       "    </tr>\n",
       "    <tr>\n",
       "      <th>27437</th>\n",
       "      <td>0.0</td>\n",
       "      <td>0.0</td>\n",
       "      <td>0.0</td>\n",
       "      <td>0.0</td>\n",
       "      <td>4228.772487</td>\n",
       "      <td>188029.044554</td>\n",
       "      <td>2020</td>\n",
       "    </tr>\n",
       "  </tbody>\n",
       "</table>\n",
       "</div>"
      ],
      "text/plain": [
       "       total_cases  new_cases  total_deaths  new_deaths    new_tests  \\\n",
       "27433          0.0        0.0           0.0         0.0  4228.772487   \n",
       "27434          0.0        0.0           0.0         0.0  4228.772487   \n",
       "27435          0.0        0.0           0.0         0.0  4228.772487   \n",
       "27436          0.0        0.0           0.0         0.0  4228.772487   \n",
       "27437          0.0        0.0           0.0         0.0  4228.772487   \n",
       "\n",
       "         total_tests  year  \n",
       "27433  188029.044554  2019  \n",
       "27434  188029.044554  2020  \n",
       "27435  188029.044554  2020  \n",
       "27436  188029.044554  2020  \n",
       "27437  188029.044554  2020  "
      ]
     },
     "execution_count": 122,
     "metadata": {},
     "output_type": "execute_result"
    }
   ],
   "source": [
    "df_2.head()"
   ]
  },
  {
   "cell_type": "code",
   "execution_count": 123,
   "metadata": {},
   "outputs": [],
   "source": [
    "X = df_2.drop('new_cases',axis=1)\n",
    "y = df_2['new_cases']"
   ]
  },
  {
   "cell_type": "code",
   "execution_count": 124,
   "metadata": {},
   "outputs": [],
   "source": [
    "np.random.seed(42)\n",
    "X_train,X_test,y_train,y_test = train_test_split(X,y,test_size=0.2)"
   ]
  },
  {
   "cell_type": "code",
   "execution_count": 125,
   "metadata": {},
   "outputs": [],
   "source": [
    "rg_3 = RandomForestRegressor()"
   ]
  },
  {
   "cell_type": "code",
   "execution_count": 126,
   "metadata": {},
   "outputs": [
    {
     "data": {
      "text/plain": [
       "RandomForestRegressor()"
      ]
     },
     "execution_count": 126,
     "metadata": {},
     "output_type": "execute_result"
    }
   ],
   "source": [
    "rg_3.fit(X_train,y_train)"
   ]
  },
  {
   "cell_type": "code",
   "execution_count": 127,
   "metadata": {},
   "outputs": [
    {
     "data": {
      "text/plain": [
       "0.8654167449869029"
      ]
     },
     "execution_count": 127,
     "metadata": {},
     "output_type": "execute_result"
    }
   ],
   "source": [
    "rg_3.score(X_test,y_test)"
   ]
  },
  {
   "cell_type": "code",
   "execution_count": 128,
   "metadata": {},
   "outputs": [
    {
     "data": {
      "text/html": [
       "<div>\n",
       "<style scoped>\n",
       "    .dataframe tbody tr th:only-of-type {\n",
       "        vertical-align: middle;\n",
       "    }\n",
       "\n",
       "    .dataframe tbody tr th {\n",
       "        vertical-align: top;\n",
       "    }\n",
       "\n",
       "    .dataframe thead th {\n",
       "        text-align: right;\n",
       "    }\n",
       "</style>\n",
       "<table border=\"1\" class=\"dataframe\">\n",
       "  <thead>\n",
       "    <tr style=\"text-align: right;\">\n",
       "      <th></th>\n",
       "      <th>total_cases</th>\n",
       "      <th>new_cases</th>\n",
       "      <th>total_deaths</th>\n",
       "      <th>new_deaths</th>\n",
       "      <th>new_tests</th>\n",
       "      <th>total_tests</th>\n",
       "      <th>year</th>\n",
       "    </tr>\n",
       "  </thead>\n",
       "  <tbody>\n",
       "    <tr>\n",
       "      <th>27433</th>\n",
       "      <td>0.0</td>\n",
       "      <td>0.0</td>\n",
       "      <td>0.0</td>\n",
       "      <td>0.0</td>\n",
       "      <td>4228.772487</td>\n",
       "      <td>188029.044554</td>\n",
       "      <td>2019</td>\n",
       "    </tr>\n",
       "    <tr>\n",
       "      <th>27434</th>\n",
       "      <td>0.0</td>\n",
       "      <td>0.0</td>\n",
       "      <td>0.0</td>\n",
       "      <td>0.0</td>\n",
       "      <td>4228.772487</td>\n",
       "      <td>188029.044554</td>\n",
       "      <td>2020</td>\n",
       "    </tr>\n",
       "    <tr>\n",
       "      <th>27435</th>\n",
       "      <td>0.0</td>\n",
       "      <td>0.0</td>\n",
       "      <td>0.0</td>\n",
       "      <td>0.0</td>\n",
       "      <td>4228.772487</td>\n",
       "      <td>188029.044554</td>\n",
       "      <td>2020</td>\n",
       "    </tr>\n",
       "    <tr>\n",
       "      <th>27436</th>\n",
       "      <td>0.0</td>\n",
       "      <td>0.0</td>\n",
       "      <td>0.0</td>\n",
       "      <td>0.0</td>\n",
       "      <td>4228.772487</td>\n",
       "      <td>188029.044554</td>\n",
       "      <td>2020</td>\n",
       "    </tr>\n",
       "    <tr>\n",
       "      <th>27437</th>\n",
       "      <td>0.0</td>\n",
       "      <td>0.0</td>\n",
       "      <td>0.0</td>\n",
       "      <td>0.0</td>\n",
       "      <td>4228.772487</td>\n",
       "      <td>188029.044554</td>\n",
       "      <td>2020</td>\n",
       "    </tr>\n",
       "  </tbody>\n",
       "</table>\n",
       "</div>"
      ],
      "text/plain": [
       "       total_cases  new_cases  total_deaths  new_deaths    new_tests  \\\n",
       "27433          0.0        0.0           0.0         0.0  4228.772487   \n",
       "27434          0.0        0.0           0.0         0.0  4228.772487   \n",
       "27435          0.0        0.0           0.0         0.0  4228.772487   \n",
       "27436          0.0        0.0           0.0         0.0  4228.772487   \n",
       "27437          0.0        0.0           0.0         0.0  4228.772487   \n",
       "\n",
       "         total_tests  year  \n",
       "27433  188029.044554  2019  \n",
       "27434  188029.044554  2020  \n",
       "27435  188029.044554  2020  \n",
       "27436  188029.044554  2020  \n",
       "27437  188029.044554  2020  "
      ]
     },
     "execution_count": 128,
     "metadata": {},
     "output_type": "execute_result"
    }
   ],
   "source": [
    "df_2.head()"
   ]
  },
  {
   "cell_type": "code",
   "execution_count": 129,
   "metadata": {},
   "outputs": [
    {
     "data": {
      "text/plain": [
       "{'total_cases': 0.4638311568828807,\n",
       " 'new_cases': 0.20498427002509706,\n",
       " 'total_deaths': 0.014069762383131337,\n",
       " 'new_deaths': 0.12595278960095418,\n",
       " 'new_tests': 0.03564429123006195,\n",
       " 'total_tests': 0.10640675513783045,\n",
       " 'year': 0.04639461124752915}"
      ]
     },
     "execution_count": 129,
     "metadata": {},
     "output_type": "execute_result"
    }
   ],
   "source": [
    "feature_dict = dict(zip(df_2.columns, list(rg.feature_importances_)))\n",
    "feature_dict"
   ]
  },
  {
   "cell_type": "code",
   "execution_count": 130,
   "metadata": {},
   "outputs": [
    {
     "data": {
      "image/png": "[encoded data removed]",
      "text/plain": [
       "<Figure size 432x288 with 1 Axes>"
      ]
     },
     "metadata": {
      "needs_background": "light"
     },
     "output_type": "display_data"
    }
   ],
   "source": [
    "# Visualize feature importance\n",
    "feature_df = pd.DataFrame(feature_dict, index=[0])\n",
    "feature_df.T.plot.bar(title=\"Feature Importance\", legend=False);"
   ]
  },
  {
   "cell_type": "code",
   "execution_count": 131,
   "metadata": {},
   "outputs": [],
   "source": [
    "df_2.drop('total_tests',axis=1,inplace=True)"
   ]
  },
  {
   "cell_type": "code",
   "execution_count": 132,
   "metadata": {},
   "outputs": [
    {
     "data": {
      "text/html": [
       "<div>\n",
       "<style scoped>\n",
       "    .dataframe tbody tr th:only-of-type {\n",
       "        vertical-align: middle;\n",
       "    }\n",
       "\n",
       "    .dataframe tbody tr th {\n",
       "        vertical-align: top;\n",
       "    }\n",
       "\n",
       "    .dataframe thead th {\n",
       "        text-align: right;\n",
       "    }\n",
       "</style>\n",
       "<table border=\"1\" class=\"dataframe\">\n",
       "  <thead>\n",
       "    <tr style=\"text-align: right;\">\n",
       "      <th></th>\n",
       "      <th>total_cases</th>\n",
       "      <th>new_cases</th>\n",
       "      <th>total_deaths</th>\n",
       "      <th>new_deaths</th>\n",
       "      <th>new_tests</th>\n",
       "      <th>year</th>\n",
       "    </tr>\n",
       "  </thead>\n",
       "  <tbody>\n",
       "    <tr>\n",
       "      <th>total_cases</th>\n",
       "      <td>1.000000</td>\n",
       "      <td>0.852377</td>\n",
       "      <td>0.944553</td>\n",
       "      <td>0.825077</td>\n",
       "      <td>7.683540e-01</td>\n",
       "      <td>4.304322e-02</td>\n",
       "    </tr>\n",
       "    <tr>\n",
       "      <th>new_cases</th>\n",
       "      <td>0.852377</td>\n",
       "      <td>1.000000</td>\n",
       "      <td>0.855403</td>\n",
       "      <td>0.796134</td>\n",
       "      <td>7.297169e-01</td>\n",
       "      <td>4.037090e-02</td>\n",
       "    </tr>\n",
       "    <tr>\n",
       "      <th>total_deaths</th>\n",
       "      <td>0.944553</td>\n",
       "      <td>0.855403</td>\n",
       "      <td>1.000000</td>\n",
       "      <td>0.866489</td>\n",
       "      <td>6.931904e-01</td>\n",
       "      <td>3.280228e-02</td>\n",
       "    </tr>\n",
       "    <tr>\n",
       "      <th>new_deaths</th>\n",
       "      <td>0.825077</td>\n",
       "      <td>0.796134</td>\n",
       "      <td>0.866489</td>\n",
       "      <td>1.000000</td>\n",
       "      <td>7.297199e-01</td>\n",
       "      <td>2.984319e-02</td>\n",
       "    </tr>\n",
       "    <tr>\n",
       "      <th>new_tests</th>\n",
       "      <td>0.768354</td>\n",
       "      <td>0.729717</td>\n",
       "      <td>0.693190</td>\n",
       "      <td>0.729720</td>\n",
       "      <td>1.000000e+00</td>\n",
       "      <td>-2.925919e-17</td>\n",
       "    </tr>\n",
       "    <tr>\n",
       "      <th>year</th>\n",
       "      <td>0.043043</td>\n",
       "      <td>0.040371</td>\n",
       "      <td>0.032802</td>\n",
       "      <td>0.029843</td>\n",
       "      <td>-2.925919e-17</td>\n",
       "      <td>1.000000e+00</td>\n",
       "    </tr>\n",
       "  </tbody>\n",
       "</table>\n",
       "</div>"
      ],
      "text/plain": [
       "              total_cases  new_cases  total_deaths  new_deaths     new_tests  \\\n",
       "total_cases      1.000000   0.852377      0.944553    0.825077  7.683540e-01   \n",
       "new_cases        0.852377   1.000000      0.855403    0.796134  7.297169e-01   \n",
       "total_deaths     0.944553   0.855403      1.000000    0.866489  6.931904e-01   \n",
       "new_deaths       0.825077   0.796134      0.866489    1.000000  7.297199e-01   \n",
       "new_tests        0.768354   0.729717      0.693190    0.729720  1.000000e+00   \n",
       "year             0.043043   0.040371      0.032802    0.029843 -2.925919e-17   \n",
       "\n",
       "                      year  \n",
       "total_cases   4.304322e-02  \n",
       "new_cases     4.037090e-02  \n",
       "total_deaths  3.280228e-02  \n",
       "new_deaths    2.984319e-02  \n",
       "new_tests    -2.925919e-17  \n",
       "year          1.000000e+00  "
      ]
     },
     "execution_count": 132,
     "metadata": {},
     "output_type": "execute_result"
    }
   ],
   "source": [
    "df_2.corr()"
   ]
  },
  {
   "cell_type": "code",
   "execution_count": 133,
   "metadata": {},
   "outputs": [
    {
     "data": {
      "image/png": "[encoded data removed]",
      "text/plain": [
       "<Figure size 432x288 with 1 Axes>"
      ]
     },
     "metadata": {
      "needs_background": "light"
     },
     "output_type": "display_data"
    }
   ],
   "source": [
    "fig, ax = plt.subplots()\n",
    "ax =sns.heatmap(df_2.corr(),annot=True,cbar=False,cmap='flag');"
   ]
  },
  {
   "cell_type": "code",
   "execution_count": 134,
   "metadata": {},
   "outputs": [],
   "source": [
    "fig.savefig('correlation_heatmap.png')"
   ]
  },
  {
   "cell_type": "code",
   "execution_count": 135,
   "metadata": {},
   "outputs": [
    {
     "data": {
      "image/png": "[encoded data removed]",
      "text/plain": [
       "<Figure size 432x288 with 1 Axes>"
      ]
     },
     "metadata": {
      "needs_background": "light"
     },
     "output_type": "display_data"
    }
   ],
   "source": [
    "plt.scatter(df_2['new_cases'],df_2['total_cases']);"
   ]
  },
  {
   "cell_type": "code",
   "execution_count": 136,
   "metadata": {},
   "outputs": [
    {
     "data": {
      "image/png": "[encoded data removed]",
      "text/plain": [
       "<Figure size 432x288 with 1 Axes>"
      ]
     },
     "metadata": {
      "needs_background": "light"
     },
     "output_type": "display_data"
    }
   ],
   "source": [
    "fig, ax = plt.subplots()\n",
    "ax = sns.regplot(df_2['new_cases'],df_2['total_cases'])"
   ]
  },
  {
   "cell_type": "code",
   "execution_count": 137,
   "metadata": {},
   "outputs": [],
   "source": [
    "fig.savefig('newcase_vs_totalcases_linearGraph.png')"
   ]
  },
  {
   "cell_type": "code",
   "execution_count": 138,
   "metadata": {},
   "outputs": [
    {
     "data": {
      "text/html": [
       "<div>\n",
       "<style scoped>\n",
       "    .dataframe tbody tr th:only-of-type {\n",
       "        vertical-align: middle;\n",
       "    }\n",
       "\n",
       "    .dataframe tbody tr th {\n",
       "        vertical-align: top;\n",
       "    }\n",
       "\n",
       "    .dataframe thead th {\n",
       "        text-align: right;\n",
       "    }\n",
       "</style>\n",
       "<table border=\"1\" class=\"dataframe\">\n",
       "  <thead>\n",
       "    <tr style=\"text-align: right;\">\n",
       "      <th></th>\n",
       "      <th>total_cases</th>\n",
       "      <th>new_cases</th>\n",
       "      <th>total_deaths</th>\n",
       "      <th>new_deaths</th>\n",
       "      <th>new_tests</th>\n",
       "      <th>year</th>\n",
       "    </tr>\n",
       "  </thead>\n",
       "  <tbody>\n",
       "    <tr>\n",
       "      <th>27433</th>\n",
       "      <td>0.0</td>\n",
       "      <td>0.0</td>\n",
       "      <td>0.0</td>\n",
       "      <td>0.0</td>\n",
       "      <td>4228.772487</td>\n",
       "      <td>2019</td>\n",
       "    </tr>\n",
       "    <tr>\n",
       "      <th>27434</th>\n",
       "      <td>0.0</td>\n",
       "      <td>0.0</td>\n",
       "      <td>0.0</td>\n",
       "      <td>0.0</td>\n",
       "      <td>4228.772487</td>\n",
       "      <td>2020</td>\n",
       "    </tr>\n",
       "    <tr>\n",
       "      <th>27435</th>\n",
       "      <td>0.0</td>\n",
       "      <td>0.0</td>\n",
       "      <td>0.0</td>\n",
       "      <td>0.0</td>\n",
       "      <td>4228.772487</td>\n",
       "      <td>2020</td>\n",
       "    </tr>\n",
       "    <tr>\n",
       "      <th>27436</th>\n",
       "      <td>0.0</td>\n",
       "      <td>0.0</td>\n",
       "      <td>0.0</td>\n",
       "      <td>0.0</td>\n",
       "      <td>4228.772487</td>\n",
       "      <td>2020</td>\n",
       "    </tr>\n",
       "    <tr>\n",
       "      <th>27437</th>\n",
       "      <td>0.0</td>\n",
       "      <td>0.0</td>\n",
       "      <td>0.0</td>\n",
       "      <td>0.0</td>\n",
       "      <td>4228.772487</td>\n",
       "      <td>2020</td>\n",
       "    </tr>\n",
       "  </tbody>\n",
       "</table>\n",
       "</div>"
      ],
      "text/plain": [
       "       total_cases  new_cases  total_deaths  new_deaths    new_tests  year\n",
       "27433          0.0        0.0           0.0         0.0  4228.772487  2019\n",
       "27434          0.0        0.0           0.0         0.0  4228.772487  2020\n",
       "27435          0.0        0.0           0.0         0.0  4228.772487  2020\n",
       "27436          0.0        0.0           0.0         0.0  4228.772487  2020\n",
       "27437          0.0        0.0           0.0         0.0  4228.772487  2020"
      ]
     },
     "execution_count": 138,
     "metadata": {},
     "output_type": "execute_result"
    }
   ],
   "source": [
    "df_2.head()"
   ]
  },
  {
   "cell_type": "code",
   "execution_count": 139,
   "metadata": {},
   "outputs": [
    {
     "data": {
      "text/html": [
       "<div>\n",
       "<style scoped>\n",
       "    .dataframe tbody tr th:only-of-type {\n",
       "        vertical-align: middle;\n",
       "    }\n",
       "\n",
       "    .dataframe tbody tr th {\n",
       "        vertical-align: top;\n",
       "    }\n",
       "\n",
       "    .dataframe thead th {\n",
       "        text-align: right;\n",
       "    }\n",
       "</style>\n",
       "<table border=\"1\" class=\"dataframe\">\n",
       "  <thead>\n",
       "    <tr style=\"text-align: right;\">\n",
       "      <th></th>\n",
       "      <th>total_cases</th>\n",
       "      <th>new_cases</th>\n",
       "      <th>total_deaths</th>\n",
       "      <th>new_deaths</th>\n",
       "      <th>new_tests</th>\n",
       "      <th>year</th>\n",
       "    </tr>\n",
       "  </thead>\n",
       "  <tbody>\n",
       "    <tr>\n",
       "      <th>27685</th>\n",
       "      <td>47236.0</td>\n",
       "      <td>979.0</td>\n",
       "      <td>300.0</td>\n",
       "      <td>11.0</td>\n",
       "      <td>10611.000000</td>\n",
       "      <td>2020</td>\n",
       "    </tr>\n",
       "    <tr>\n",
       "      <th>27686</th>\n",
       "      <td>48138.0</td>\n",
       "      <td>902.0</td>\n",
       "      <td>306.0</td>\n",
       "      <td>6.0</td>\n",
       "      <td>11167.000000</td>\n",
       "      <td>2020</td>\n",
       "    </tr>\n",
       "    <tr>\n",
       "      <th>27687</th>\n",
       "      <td>49219.0</td>\n",
       "      <td>1081.0</td>\n",
       "      <td>312.0</td>\n",
       "      <td>6.0</td>\n",
       "      <td>4228.772487</td>\n",
       "      <td>2020</td>\n",
       "    </tr>\n",
       "    <tr>\n",
       "      <th>27688</th>\n",
       "      <td>50465.0</td>\n",
       "      <td>1246.0</td>\n",
       "      <td>317.0</td>\n",
       "      <td>5.0</td>\n",
       "      <td>4228.772487</td>\n",
       "      <td>2020</td>\n",
       "    </tr>\n",
       "    <tr>\n",
       "      <th>27689</th>\n",
       "      <td>51919.0</td>\n",
       "      <td>1454.0</td>\n",
       "      <td>322.0</td>\n",
       "      <td>5.0</td>\n",
       "      <td>4228.772487</td>\n",
       "      <td>2020</td>\n",
       "    </tr>\n",
       "  </tbody>\n",
       "</table>\n",
       "</div>"
      ],
      "text/plain": [
       "       total_cases  new_cases  total_deaths  new_deaths     new_tests  year\n",
       "27685      47236.0      979.0         300.0        11.0  10611.000000  2020\n",
       "27686      48138.0      902.0         306.0         6.0  11167.000000  2020\n",
       "27687      49219.0     1081.0         312.0         6.0   4228.772487  2020\n",
       "27688      50465.0     1246.0         317.0         5.0   4228.772487  2020\n",
       "27689      51919.0     1454.0         322.0         5.0   4228.772487  2020"
      ]
     },
     "execution_count": 139,
     "metadata": {},
     "output_type": "execute_result"
    }
   ],
   "source": [
    "df_2.tail()"
   ]
  },
  {
   "cell_type": "code",
   "execution_count": 153,
   "metadata": {},
   "outputs": [],
   "source": [
    "y_predicts = rg_3.predict(X_test)"
   ]
  },
  {
   "cell_type": "code",
   "execution_count": 154,
   "metadata": {},
   "outputs": [
    {
     "data": {
      "text/plain": [
       "-60.3787404994666"
      ]
     },
     "execution_count": 154,
     "metadata": {},
     "output_type": "execute_result"
    }
   ],
   "source": [
    "np.mean(cross_val_score(rg_3,X_train,y_train,cv=3,scoring='neg_mean_absolute_error'))"
   ]
  },
  {
   "cell_type": "code",
   "execution_count": 155,
   "metadata": {},
   "outputs": [
    {
     "data": {
      "text/plain": [
       "0.8654167449869029"
      ]
     },
     "execution_count": 155,
     "metadata": {},
     "output_type": "execute_result"
    }
   ],
   "source": [
    "r2_score(y_test,y_predicts)"
   ]
  },
  {
   "cell_type": "code",
   "execution_count": 156,
   "metadata": {},
   "outputs": [
    {
     "name": "stdout",
     "output_type": "stream",
     "text": [
      "Trying model with 10 estimators...\n",
      "Model accuracy on test set:81.21%\n",
      "Model accuracy on train set:94.76%\n",
      " \n",
      "Trying model with 20 estimators...\n",
      "Model accuracy on test set:79.67%\n",
      "Model accuracy on train set:95.82%\n",
      " \n",
      "Trying model with 30 estimators...\n",
      "Model accuracy on test set:86.32%\n",
      "Model accuracy on train set:96.38%\n",
      " \n",
      "Trying model with 40 estimators...\n",
      "Model accuracy on test set:81.94%\n",
      "Model accuracy on train set:96.69%\n",
      " \n",
      "Trying model with 50 estimators...\n",
      "Model accuracy on test set:85.18%\n",
      "Model accuracy on train set:96.17%\n",
      " \n",
      "Trying model with 60 estimators...\n",
      "Model accuracy on test set:86.31%\n",
      "Model accuracy on train set:97.19%\n",
      " \n",
      "Trying model with 70 estimators...\n",
      "Model accuracy on test set:84.67%\n",
      "Model accuracy on train set:96.07%\n",
      " \n",
      "Trying model with 80 estimators...\n",
      "Model accuracy on test set:86.72%\n",
      "Model accuracy on train set:97.01%\n",
      " \n",
      "Trying model with 90 estimators...\n",
      "Model accuracy on test set:86.22%\n",
      "Model accuracy on train set:96.22%\n",
      " \n"
     ]
    }
   ],
   "source": [
    "np.random.seed(42)\n",
    "for i in range(10,100,10):\n",
    "    print(f'Trying model with {i} estimators...')\n",
    "    rg = RandomForestRegressor(n_estimators=i).fit(X_train,y_train)\n",
    "    print(f'Model accuracy on test set:{rg.score(X_test,y_test)*100:.2f}%')\n",
    "    print(f'Model accuracy on train set:{rg.score(X_train,y_train)*100:.2f}%')\n",
    "    \n",
    "    print(\" \")"
   ]
  },
  {
   "cell_type": "markdown",
   "metadata": {},
   "source": [
    "## Ok from our baseline model we concluded that we can get accuracy around maxmium 97% using this model to predict new cases.\n",
    "> Lets use following features to make predictions further more\n",
    "* Cross-validation\n",
    "* Grid Search\n"
   ]
  },
  {
   "cell_type": "markdown",
   "metadata": {},
   "source": [
    "# Cross Validation"
   ]
  },
  {
   "cell_type": "code",
   "execution_count": 157,
   "metadata": {},
   "outputs": [
    {
     "data": {
      "text/plain": [
       "-58.29441855971896"
      ]
     },
     "execution_count": 157,
     "metadata": {},
     "output_type": "execute_result"
    }
   ],
   "source": [
    "np.mean(cross_val_score(rg_3,X_train,y_train,cv=10,scoring='neg_mean_absolute_error'))"
   ]
  },
  {
   "cell_type": "code",
   "execution_count": 158,
   "metadata": {},
   "outputs": [
    {
     "data": {
      "text/plain": [
       "-60.016518823185"
      ]
     },
     "execution_count": 158,
     "metadata": {},
     "output_type": "execute_result"
    }
   ],
   "source": [
    "np.mean(cross_val_score(rg_2,X_train,y_train,cv=10,scoring='neg_mean_absolute_error'))"
   ]
  },
  {
   "cell_type": "code",
   "execution_count": 159,
   "metadata": {},
   "outputs": [
    {
     "data": {
      "text/plain": [
       "-58.40690387284239"
      ]
     },
     "execution_count": 159,
     "metadata": {},
     "output_type": "execute_result"
    }
   ],
   "source": [
    "np.mean(cross_val_score(rg,X_train,y_train,cv=10,scoring='neg_mean_absolute_error'))"
   ]
  },
  {
   "cell_type": "markdown",
   "metadata": {},
   "source": [
    "# Grid Search CV"
   ]
  },
  {
   "cell_type": "code",
   "execution_count": 160,
   "metadata": {},
   "outputs": [],
   "source": [
    "parameters = {\"n_estimators\":range(10,100,10),\"criterion\":('mae','mse'),'max_features':('auto','sqrt','log2')}"
   ]
  },
  {
   "cell_type": "code",
   "execution_count": 161,
   "metadata": {},
   "outputs": [],
   "source": [
    "gs = GridSearchCV(rg,parameters,cv=3)"
   ]
  },
  {
   "cell_type": "code",
   "execution_count": 162,
   "metadata": {},
   "outputs": [
    {
     "data": {
      "text/plain": [
       "GridSearchCV(cv=3, estimator=RandomForestRegressor(n_estimators=90),\n",
       "             param_grid={'criterion': ('mae', 'mse'),\n",
       "                         'max_features': ('auto', 'sqrt', 'log2'),\n",
       "                         'n_estimators': range(10, 100, 10)})"
      ]
     },
     "execution_count": 162,
     "metadata": {},
     "output_type": "execute_result"
    }
   ],
   "source": [
    "gs.fit(X_train,y_train)"
   ]
  },
  {
   "cell_type": "code",
   "execution_count": 163,
   "metadata": {},
   "outputs": [
    {
     "data": {
      "text/plain": [
       "0.7314720804044276"
      ]
     },
     "execution_count": 163,
     "metadata": {},
     "output_type": "execute_result"
    }
   ],
   "source": [
    "gs.best_score_"
   ]
  },
  {
   "cell_type": "code",
   "execution_count": 164,
   "metadata": {},
   "outputs": [
    {
     "data": {
      "text/plain": [
       "RandomForestRegressor(max_features='log2', n_estimators=60)"
      ]
     },
     "execution_count": 164,
     "metadata": {},
     "output_type": "execute_result"
    }
   ],
   "source": [
    "gs.best_estimator_"
   ]
  },
  {
   "cell_type": "code",
   "execution_count": 165,
   "metadata": {},
   "outputs": [],
   "source": [
    "gs_predict = gs.predict(X_test)"
   ]
  },
  {
   "cell_type": "code",
   "execution_count": 166,
   "metadata": {},
   "outputs": [
    {
     "data": {
      "text/plain": [
       "0.8430339222901242"
      ]
     },
     "execution_count": 166,
     "metadata": {},
     "output_type": "execute_result"
    }
   ],
   "source": [
    "gs.score(X_test,y_test)"
   ]
  },
  {
   "cell_type": "code",
   "execution_count": 167,
   "metadata": {},
   "outputs": [
    {
     "data": {
      "text/plain": [
       "0.8654167449869029"
      ]
     },
     "execution_count": 167,
     "metadata": {},
     "output_type": "execute_result"
    }
   ],
   "source": [
    "r2_score(y_test,y_predicts)"
   ]
  },
  {
   "cell_type": "code",
   "execution_count": 168,
   "metadata": {},
   "outputs": [
    {
     "data": {
      "text/plain": [
       "0.8654253040650021"
      ]
     },
     "execution_count": 168,
     "metadata": {},
     "output_type": "execute_result"
    }
   ],
   "source": [
    "r2_score(y_test,y_predictor_1)"
   ]
  },
  {
   "cell_type": "code",
   "execution_count": 169,
   "metadata": {},
   "outputs": [
    {
     "data": {
      "text/html": [
       "<div>\n",
       "<style scoped>\n",
       "    .dataframe tbody tr th:only-of-type {\n",
       "        vertical-align: middle;\n",
       "    }\n",
       "\n",
       "    .dataframe tbody tr th {\n",
       "        vertical-align: top;\n",
       "    }\n",
       "\n",
       "    .dataframe thead th {\n",
       "        text-align: right;\n",
       "    }\n",
       "</style>\n",
       "<table border=\"1\" class=\"dataframe\">\n",
       "  <thead>\n",
       "    <tr style=\"text-align: right;\">\n",
       "      <th></th>\n",
       "      <th>actual</th>\n",
       "      <th>predicted</th>\n",
       "    </tr>\n",
       "  </thead>\n",
       "  <tbody>\n",
       "    <tr>\n",
       "      <th>0</th>\n",
       "      <td>448.000000</td>\n",
       "      <td>311.270000</td>\n",
       "    </tr>\n",
       "    <tr>\n",
       "      <th>1</th>\n",
       "      <td>740.000000</td>\n",
       "      <td>259.873074</td>\n",
       "    </tr>\n",
       "    <tr>\n",
       "      <th>2</th>\n",
       "      <td>0.000000</td>\n",
       "      <td>0.000000</td>\n",
       "    </tr>\n",
       "    <tr>\n",
       "      <th>3</th>\n",
       "      <td>0.000000</td>\n",
       "      <td>0.000000</td>\n",
       "    </tr>\n",
       "    <tr>\n",
       "      <th>4</th>\n",
       "      <td>0.000000</td>\n",
       "      <td>0.000000</td>\n",
       "    </tr>\n",
       "    <tr>\n",
       "      <th>5</th>\n",
       "      <td>0.000000</td>\n",
       "      <td>0.000000</td>\n",
       "    </tr>\n",
       "    <tr>\n",
       "      <th>6</th>\n",
       "      <td>101.000000</td>\n",
       "      <td>133.673484</td>\n",
       "    </tr>\n",
       "    <tr>\n",
       "      <th>7</th>\n",
       "      <td>0.000000</td>\n",
       "      <td>0.000000</td>\n",
       "    </tr>\n",
       "    <tr>\n",
       "      <th>8</th>\n",
       "      <td>2.000000</td>\n",
       "      <td>1.830000</td>\n",
       "    </tr>\n",
       "    <tr>\n",
       "      <th>9</th>\n",
       "      <td>0.000000</td>\n",
       "      <td>0.000000</td>\n",
       "    </tr>\n",
       "    <tr>\n",
       "      <th>10</th>\n",
       "      <td>3.000000</td>\n",
       "      <td>6.330000</td>\n",
       "    </tr>\n",
       "    <tr>\n",
       "      <th>11</th>\n",
       "      <td>0.000000</td>\n",
       "      <td>0.000000</td>\n",
       "    </tr>\n",
       "    <tr>\n",
       "      <th>12</th>\n",
       "      <td>0.000000</td>\n",
       "      <td>0.000000</td>\n",
       "    </tr>\n",
       "    <tr>\n",
       "      <th>13</th>\n",
       "      <td>323.000000</td>\n",
       "      <td>374.210000</td>\n",
       "    </tr>\n",
       "    <tr>\n",
       "      <th>14</th>\n",
       "      <td>3.000000</td>\n",
       "      <td>0.080000</td>\n",
       "    </tr>\n",
       "    <tr>\n",
       "      <th>15</th>\n",
       "      <td>581.000000</td>\n",
       "      <td>703.250000</td>\n",
       "    </tr>\n",
       "    <tr>\n",
       "      <th>16</th>\n",
       "      <td>0.000000</td>\n",
       "      <td>0.000000</td>\n",
       "    </tr>\n",
       "    <tr>\n",
       "      <th>17</th>\n",
       "      <td>212.782787</td>\n",
       "      <td>212.782787</td>\n",
       "    </tr>\n",
       "    <tr>\n",
       "      <th>18</th>\n",
       "      <td>979.000000</td>\n",
       "      <td>980.750000</td>\n",
       "    </tr>\n",
       "    <tr>\n",
       "      <th>19</th>\n",
       "      <td>638.000000</td>\n",
       "      <td>417.570000</td>\n",
       "    </tr>\n",
       "    <tr>\n",
       "      <th>20</th>\n",
       "      <td>0.000000</td>\n",
       "      <td>0.000000</td>\n",
       "    </tr>\n",
       "    <tr>\n",
       "      <th>21</th>\n",
       "      <td>0.000000</td>\n",
       "      <td>0.210000</td>\n",
       "    </tr>\n",
       "    <tr>\n",
       "      <th>22</th>\n",
       "      <td>380.000000</td>\n",
       "      <td>375.430000</td>\n",
       "    </tr>\n",
       "    <tr>\n",
       "      <th>23</th>\n",
       "      <td>885.000000</td>\n",
       "      <td>870.540000</td>\n",
       "    </tr>\n",
       "    <tr>\n",
       "      <th>24</th>\n",
       "      <td>109.000000</td>\n",
       "      <td>149.895656</td>\n",
       "    </tr>\n",
       "    <tr>\n",
       "      <th>25</th>\n",
       "      <td>0.000000</td>\n",
       "      <td>0.000000</td>\n",
       "    </tr>\n",
       "    <tr>\n",
       "      <th>26</th>\n",
       "      <td>0.000000</td>\n",
       "      <td>236.690000</td>\n",
       "    </tr>\n",
       "    <tr>\n",
       "      <th>27</th>\n",
       "      <td>108.000000</td>\n",
       "      <td>219.700000</td>\n",
       "    </tr>\n",
       "    <tr>\n",
       "      <th>28</th>\n",
       "      <td>1246.000000</td>\n",
       "      <td>1153.455656</td>\n",
       "    </tr>\n",
       "    <tr>\n",
       "      <th>29</th>\n",
       "      <td>1017.000000</td>\n",
       "      <td>610.700000</td>\n",
       "    </tr>\n",
       "    <tr>\n",
       "      <th>30</th>\n",
       "      <td>884.000000</td>\n",
       "      <td>973.500000</td>\n",
       "    </tr>\n",
       "    <tr>\n",
       "      <th>31</th>\n",
       "      <td>476.000000</td>\n",
       "      <td>391.285656</td>\n",
       "    </tr>\n",
       "    <tr>\n",
       "      <th>32</th>\n",
       "      <td>0.000000</td>\n",
       "      <td>0.000000</td>\n",
       "    </tr>\n",
       "    <tr>\n",
       "      <th>33</th>\n",
       "      <td>0.000000</td>\n",
       "      <td>293.370000</td>\n",
       "    </tr>\n",
       "    <tr>\n",
       "      <th>34</th>\n",
       "      <td>212.782787</td>\n",
       "      <td>211.029303</td>\n",
       "    </tr>\n",
       "    <tr>\n",
       "      <th>35</th>\n",
       "      <td>0.000000</td>\n",
       "      <td>0.220000</td>\n",
       "    </tr>\n",
       "    <tr>\n",
       "      <th>36</th>\n",
       "      <td>147.000000</td>\n",
       "      <td>129.915656</td>\n",
       "    </tr>\n",
       "    <tr>\n",
       "      <th>37</th>\n",
       "      <td>1.000000</td>\n",
       "      <td>0.000000</td>\n",
       "    </tr>\n",
       "    <tr>\n",
       "      <th>38</th>\n",
       "      <td>0.000000</td>\n",
       "      <td>11.690000</td>\n",
       "    </tr>\n",
       "    <tr>\n",
       "      <th>39</th>\n",
       "      <td>0.000000</td>\n",
       "      <td>0.000000</td>\n",
       "    </tr>\n",
       "    <tr>\n",
       "      <th>40</th>\n",
       "      <td>1111.000000</td>\n",
       "      <td>870.290000</td>\n",
       "    </tr>\n",
       "    <tr>\n",
       "      <th>41</th>\n",
       "      <td>61.000000</td>\n",
       "      <td>41.530000</td>\n",
       "    </tr>\n",
       "    <tr>\n",
       "      <th>42</th>\n",
       "      <td>246.000000</td>\n",
       "      <td>346.860000</td>\n",
       "    </tr>\n",
       "    <tr>\n",
       "      <th>43</th>\n",
       "      <td>212.782787</td>\n",
       "      <td>211.029303</td>\n",
       "    </tr>\n",
       "    <tr>\n",
       "      <th>44</th>\n",
       "      <td>0.000000</td>\n",
       "      <td>2.950000</td>\n",
       "    </tr>\n",
       "    <tr>\n",
       "      <th>45</th>\n",
       "      <td>1.000000</td>\n",
       "      <td>0.000000</td>\n",
       "    </tr>\n",
       "    <tr>\n",
       "      <th>46</th>\n",
       "      <td>19.000000</td>\n",
       "      <td>48.030000</td>\n",
       "    </tr>\n",
       "    <tr>\n",
       "      <th>47</th>\n",
       "      <td>331.000000</td>\n",
       "      <td>375.770000</td>\n",
       "    </tr>\n",
       "    <tr>\n",
       "      <th>48</th>\n",
       "      <td>0.000000</td>\n",
       "      <td>0.000000</td>\n",
       "    </tr>\n",
       "    <tr>\n",
       "      <th>49</th>\n",
       "      <td>156.000000</td>\n",
       "      <td>114.640000</td>\n",
       "    </tr>\n",
       "    <tr>\n",
       "      <th>50</th>\n",
       "      <td>426.000000</td>\n",
       "      <td>516.150000</td>\n",
       "    </tr>\n",
       "    <tr>\n",
       "      <th>51</th>\n",
       "      <td>0.000000</td>\n",
       "      <td>275.233484</td>\n",
       "    </tr>\n",
       "  </tbody>\n",
       "</table>\n",
       "</div>"
      ],
      "text/plain": [
       "         actual    predicted\n",
       "0    448.000000   311.270000\n",
       "1    740.000000   259.873074\n",
       "2      0.000000     0.000000\n",
       "3      0.000000     0.000000\n",
       "4      0.000000     0.000000\n",
       "5      0.000000     0.000000\n",
       "6    101.000000   133.673484\n",
       "7      0.000000     0.000000\n",
       "8      2.000000     1.830000\n",
       "9      0.000000     0.000000\n",
       "10     3.000000     6.330000\n",
       "11     0.000000     0.000000\n",
       "12     0.000000     0.000000\n",
       "13   323.000000   374.210000\n",
       "14     3.000000     0.080000\n",
       "15   581.000000   703.250000\n",
       "16     0.000000     0.000000\n",
       "17   212.782787   212.782787\n",
       "18   979.000000   980.750000\n",
       "19   638.000000   417.570000\n",
       "20     0.000000     0.000000\n",
       "21     0.000000     0.210000\n",
       "22   380.000000   375.430000\n",
       "23   885.000000   870.540000\n",
       "24   109.000000   149.895656\n",
       "25     0.000000     0.000000\n",
       "26     0.000000   236.690000\n",
       "27   108.000000   219.700000\n",
       "28  1246.000000  1153.455656\n",
       "29  1017.000000   610.700000\n",
       "30   884.000000   973.500000\n",
       "31   476.000000   391.285656\n",
       "32     0.000000     0.000000\n",
       "33     0.000000   293.370000\n",
       "34   212.782787   211.029303\n",
       "35     0.000000     0.220000\n",
       "36   147.000000   129.915656\n",
       "37     1.000000     0.000000\n",
       "38     0.000000    11.690000\n",
       "39     0.000000     0.000000\n",
       "40  1111.000000   870.290000\n",
       "41    61.000000    41.530000\n",
       "42   246.000000   346.860000\n",
       "43   212.782787   211.029303\n",
       "44     0.000000     2.950000\n",
       "45     1.000000     0.000000\n",
       "46    19.000000    48.030000\n",
       "47   331.000000   375.770000\n",
       "48     0.000000     0.000000\n",
       "49   156.000000   114.640000\n",
       "50   426.000000   516.150000\n",
       "51     0.000000   275.233484"
      ]
     },
     "execution_count": 169,
     "metadata": {},
     "output_type": "execute_result"
    }
   ],
   "source": [
    "pd.DataFrame(np.c_[y_test,y_predicts],columns=['actual','predicted'])"
   ]
  },
  {
   "cell_type": "code",
   "execution_count": 170,
   "metadata": {
    "scrolled": true
   },
   "outputs": [
    {
     "data": {
      "text/html": [
       "<div>\n",
       "<style scoped>\n",
       "    .dataframe tbody tr th:only-of-type {\n",
       "        vertical-align: middle;\n",
       "    }\n",
       "\n",
       "    .dataframe tbody tr th {\n",
       "        vertical-align: top;\n",
       "    }\n",
       "\n",
       "    .dataframe thead th {\n",
       "        text-align: right;\n",
       "    }\n",
       "</style>\n",
       "<table border=\"1\" class=\"dataframe\">\n",
       "  <thead>\n",
       "    <tr style=\"text-align: right;\">\n",
       "      <th></th>\n",
       "      <th>total_cases</th>\n",
       "      <th>new_cases</th>\n",
       "      <th>total_deaths</th>\n",
       "      <th>new_deaths</th>\n",
       "      <th>new_tests</th>\n",
       "      <th>total_tests</th>\n",
       "      <th>tests_per_case</th>\n",
       "      <th>year</th>\n",
       "    </tr>\n",
       "  </thead>\n",
       "  <tbody>\n",
       "    <tr>\n",
       "      <th>27685</th>\n",
       "      <td>47236.0</td>\n",
       "      <td>979.0</td>\n",
       "      <td>300.0</td>\n",
       "      <td>11.0</td>\n",
       "      <td>10611.000000</td>\n",
       "      <td>788174.000000</td>\n",
       "      <td>10.624000</td>\n",
       "      <td>2020</td>\n",
       "    </tr>\n",
       "    <tr>\n",
       "      <th>27686</th>\n",
       "      <td>48138.0</td>\n",
       "      <td>902.0</td>\n",
       "      <td>306.0</td>\n",
       "      <td>6.0</td>\n",
       "      <td>11167.000000</td>\n",
       "      <td>799341.000000</td>\n",
       "      <td>10.632000</td>\n",
       "      <td>2020</td>\n",
       "    </tr>\n",
       "    <tr>\n",
       "      <th>27687</th>\n",
       "      <td>49219.0</td>\n",
       "      <td>1081.0</td>\n",
       "      <td>312.0</td>\n",
       "      <td>6.0</td>\n",
       "      <td>4228.772487</td>\n",
       "      <td>188029.044554</td>\n",
       "      <td>100.054624</td>\n",
       "      <td>2020</td>\n",
       "    </tr>\n",
       "    <tr>\n",
       "      <th>27688</th>\n",
       "      <td>50465.0</td>\n",
       "      <td>1246.0</td>\n",
       "      <td>317.0</td>\n",
       "      <td>5.0</td>\n",
       "      <td>4228.772487</td>\n",
       "      <td>188029.044554</td>\n",
       "      <td>100.054624</td>\n",
       "      <td>2020</td>\n",
       "    </tr>\n",
       "    <tr>\n",
       "      <th>27689</th>\n",
       "      <td>51919.0</td>\n",
       "      <td>1454.0</td>\n",
       "      <td>322.0</td>\n",
       "      <td>5.0</td>\n",
       "      <td>4228.772487</td>\n",
       "      <td>188029.044554</td>\n",
       "      <td>100.054624</td>\n",
       "      <td>2020</td>\n",
       "    </tr>\n",
       "  </tbody>\n",
       "</table>\n",
       "</div>"
      ],
      "text/plain": [
       "       total_cases  new_cases  total_deaths  new_deaths     new_tests  \\\n",
       "27685      47236.0      979.0         300.0        11.0  10611.000000   \n",
       "27686      48138.0      902.0         306.0         6.0  11167.000000   \n",
       "27687      49219.0     1081.0         312.0         6.0   4228.772487   \n",
       "27688      50465.0     1246.0         317.0         5.0   4228.772487   \n",
       "27689      51919.0     1454.0         322.0         5.0   4228.772487   \n",
       "\n",
       "         total_tests  tests_per_case  year  \n",
       "27685  788174.000000       10.624000  2020  \n",
       "27686  799341.000000       10.632000  2020  \n",
       "27687  188029.044554      100.054624  2020  \n",
       "27688  188029.044554      100.054624  2020  \n",
       "27689  188029.044554      100.054624  2020  "
      ]
     },
     "execution_count": 170,
     "metadata": {},
     "output_type": "execute_result"
    }
   ],
   "source": [
    "df.tail()"
   ]
  },
  {
   "cell_type": "code",
   "execution_count": 186,
   "metadata": {},
   "outputs": [
    {
     "data": {
      "text/plain": [
       "(257, 6)"
      ]
     },
     "execution_count": 186,
     "metadata": {},
     "output_type": "execute_result"
    }
   ],
   "source": [
    "df_2.shape"
   ]
  },
  {
   "cell_type": "code",
   "execution_count": 187,
   "metadata": {},
   "outputs": [
    {
     "data": {
      "text/html": [
       "<div>\n",
       "<style scoped>\n",
       "    .dataframe tbody tr th:only-of-type {\n",
       "        vertical-align: middle;\n",
       "    }\n",
       "\n",
       "    .dataframe tbody tr th {\n",
       "        vertical-align: top;\n",
       "    }\n",
       "\n",
       "    .dataframe thead th {\n",
       "        text-align: right;\n",
       "    }\n",
       "</style>\n",
       "<table border=\"1\" class=\"dataframe\">\n",
       "  <thead>\n",
       "    <tr style=\"text-align: right;\">\n",
       "      <th></th>\n",
       "      <th>total_cases</th>\n",
       "      <th>total_deaths</th>\n",
       "      <th>new_deaths</th>\n",
       "      <th>new_tests</th>\n",
       "      <th>total_tests</th>\n",
       "      <th>year</th>\n",
       "    </tr>\n",
       "  </thead>\n",
       "  <tbody>\n",
       "    <tr>\n",
       "      <th>27598</th>\n",
       "      <td>5062.0</td>\n",
       "      <td>16.0</td>\n",
       "      <td>1.0</td>\n",
       "      <td>5426.000000</td>\n",
       "      <td>127288.000000</td>\n",
       "      <td>2020</td>\n",
       "    </tr>\n",
       "    <tr>\n",
       "      <th>27619</th>\n",
       "      <td>15259.0</td>\n",
       "      <td>32.0</td>\n",
       "      <td>1.0</td>\n",
       "      <td>4050.000000</td>\n",
       "      <td>246297.000000</td>\n",
       "      <td>2020</td>\n",
       "    </tr>\n",
       "    <tr>\n",
       "      <th>27515</th>\n",
       "      <td>1.0</td>\n",
       "      <td>0.0</td>\n",
       "      <td>0.0</td>\n",
       "      <td>4228.772487</td>\n",
       "      <td>572.000000</td>\n",
       "      <td>2020</td>\n",
       "    </tr>\n",
       "    <tr>\n",
       "      <th>27463</th>\n",
       "      <td>1.0</td>\n",
       "      <td>0.0</td>\n",
       "      <td>0.0</td>\n",
       "      <td>1.000000</td>\n",
       "      <td>5.000000</td>\n",
       "      <td>2020</td>\n",
       "    </tr>\n",
       "    <tr>\n",
       "      <th>27442</th>\n",
       "      <td>0.0</td>\n",
       "      <td>0.0</td>\n",
       "      <td>0.0</td>\n",
       "      <td>4228.772487</td>\n",
       "      <td>188029.044554</td>\n",
       "      <td>2020</td>\n",
       "    </tr>\n",
       "  </tbody>\n",
       "</table>\n",
       "</div>"
      ],
      "text/plain": [
       "       total_cases  total_deaths  new_deaths    new_tests    total_tests  year\n",
       "27598       5062.0          16.0         1.0  5426.000000  127288.000000  2020\n",
       "27619      15259.0          32.0         1.0  4050.000000  246297.000000  2020\n",
       "27515          1.0           0.0         0.0  4228.772487     572.000000  2020\n",
       "27463          1.0           0.0         0.0     1.000000       5.000000  2020\n",
       "27442          0.0           0.0         0.0  4228.772487  188029.044554  2020"
      ]
     },
     "execution_count": 187,
     "metadata": {},
     "output_type": "execute_result"
    }
   ],
   "source": [
    "X_test.head()"
   ]
  },
  {
   "cell_type": "code",
   "execution_count": 188,
   "metadata": {},
   "outputs": [
    {
     "data": {
      "text/plain": [
       "1241.0"
      ]
     },
     "execution_count": 188,
     "metadata": {},
     "output_type": "execute_result"
    }
   ],
   "source": [
    "rg_3.predict([['80000','5000','25','2500','25000','2020']])[0].round(0)"
   ]
  },
  {
   "cell_type": "code",
   "execution_count": 189,
   "metadata": {},
   "outputs": [],
   "source": [
    "from sklearn.linear_model import LinearRegression\n",
    "from sklearn.neighbors import KNeighborsRegressor"
   ]
  },
  {
   "cell_type": "code",
   "execution_count": 190,
   "metadata": {},
   "outputs": [],
   "source": [
    "# Put models in a dictionary\n",
    "models = {\"KNN\": KNeighborsRegressor(),\n",
    "          \"Logistic Regression\": LinearRegression(), \n",
    "          \"Random Forest\": RandomForestRegressor()}\n",
    "\n",
    "# Create function to fit and score models\n",
    "def fit_and_score(models, X_train, X_test, y_train, y_test):\n",
    "    \"\"\"\n",
    "    Fits and evaluates given machine learning models.\n",
    "    models : a dict of different Scikit-Learn machine learning models\n",
    "    X_train : training data\n",
    "    X_test : testing data\n",
    "    y_train : labels assosciated with training data\n",
    "    y_test : labels assosciated with test data\n",
    "    \"\"\"\n",
    "    # Random seed for reproducible results\n",
    "    np.random.seed(42)\n",
    "    # Make a list to keep model scores\n",
    "    model_scores = {}\n",
    "    # Loop through models\n",
    "    for name, model in models.items():\n",
    "        # Fit the model to the data\n",
    "        model.fit(X_train, y_train)\n",
    "        # Evaluate the model and append its score to model_scores\n",
    "        model_scores[name] = model.score(X_test, y_test)\n",
    "    return model_scores"
   ]
  },
  {
   "cell_type": "code",
   "execution_count": 191,
   "metadata": {},
   "outputs": [
    {
     "data": {
      "text/plain": [
       "{'KNN': 0.8239877429844552,\n",
       " 'Logistic Regression': 0.8027418577974639,\n",
       " 'Random Forest': 0.8324428133794856}"
      ]
     },
     "execution_count": 191,
     "metadata": {},
     "output_type": "execute_result"
    }
   ],
   "source": [
    "model_scores = fit_and_score(models=models,\n",
    "                             X_train=X_train,\n",
    "                             X_test=X_test,\n",
    "                             y_train=y_train,\n",
    "                             y_test=y_test)\n",
    "model_scores"
   ]
  },
  {
   "cell_type": "markdown",
   "metadata": {},
   "source": [
    "# Lets compare the Model"
   ]
  },
  {
   "cell_type": "code",
   "execution_count": 192,
   "metadata": {},
   "outputs": [
    {
     "data": {
      "image/png": "[encoded data removed]",
      "text/plain": [
       "<Figure size 432x288 with 1 Axes>"
      ]
     },
     "metadata": {
      "needs_background": "light"
     },
     "output_type": "display_data"
    }
   ],
   "source": [
    "model_compare = pd.DataFrame(model_scores, index=['accuracy'])\n",
    "model_compare.T.plot.bar();"
   ]
  },
  {
   "cell_type": "markdown",
   "metadata": {},
   "source": [
    "### Hence, from the above comparision also we are satisfied that RandomForest performs the best among all"
   ]
  },
  {
   "cell_type": "code",
   "execution_count": 193,
   "metadata": {},
   "outputs": [
    {
     "data": {
      "text/plain": [
       "0.8621669651229449"
      ]
     },
     "execution_count": 193,
     "metadata": {},
     "output_type": "execute_result"
    }
   ],
   "source": [
    "rg.score(X_test,y_test)"
   ]
  },
  {
   "cell_type": "markdown",
   "metadata": {},
   "source": [
    "# Experimentation"
   ]
  },
  {
   "cell_type": "markdown",
   "metadata": {},
   "source": [
    "Hence, we built a model with an accuacy score around 86% accuracy, which is not the perfect model but somehow the good model."
   ]
  },
  {
   "cell_type": "code",
   "execution_count": 194,
   "metadata": {},
   "outputs": [],
   "source": [
    "import pickle"
   ]
  },
  {
   "cell_type": "code",
   "execution_count": 195,
   "metadata": {},
   "outputs": [],
   "source": [
    "pickle.dump(rg,open('nepal_corona_predictor.pkl','wb'))"
   ]
  },
  {
   "cell_type": "code",
   "execution_count": 196,
   "metadata": {},
   "outputs": [
    {
     "data": {
      "text/plain": [
       "array([1253.41980874])"
      ]
     },
     "execution_count": 196,
     "metadata": {},
     "output_type": "execute_result"
    }
   ],
   "source": [
    "rg.predict([[80000,586,16,5000,200000,2020]])"
   ]
  },
  {
   "cell_type": "markdown",
   "metadata": {},
   "source": [
    "> Exporting our model (df_2) as csv"
   ]
  },
  {
   "cell_type": "code",
   "execution_count": 197,
   "metadata": {},
   "outputs": [],
   "source": [
    "df_2.to_csv('Nepal_COVID-19_Predictor.csv',index=False)"
   ]
  },
  {
   "cell_type": "code",
   "execution_count": null,
   "metadata": {},
   "outputs": [],
   "source": []
  },
  {
   "cell_type": "markdown",
   "metadata": {},
   "source": [
    "# THE END"
   ]
  },
  {
   "cell_type": "markdown",
   "metadata": {},
   "source": [
    "### © SantoshThapa 2020"
   ]
  },
  {
   "cell_type": "code",
   "execution_count": null,
   "metadata": {},
   "outputs": [],
   "source": []
  }
 ],
 "metadata": {
  "kernelspec": {
   "display_name": "Python 3",
   "language": "python",
   "name": "python3"
  },
  "language_info": {
   "codemirror_mode": {
    "name": "ipython",
    "version": 3
   },
   "file_extension": ".py",
   "mimetype": "text/x-python",
   "name": "python",
   "nbconvert_exporter": "python",
   "pygments_lexer": "ipython3",
   "version": "3.8.3"
  }
 },
 "nbformat": 4,
 "nbformat_minor": 4
}
